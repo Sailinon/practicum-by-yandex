{
  "nbformat": 4,
  "nbformat_minor": 0,
  "metadata": {
    "ExecuteTimeLog": [
      {
        "duration": 787,
        "start_time": "2021-09-22T10:53:49.472Z"
      },
      {
        "duration": 4,
        "start_time": "2021-09-22T10:53:51.336Z"
      },
      {
        "duration": 501,
        "start_time": "2021-09-22T10:53:52.472Z"
      },
      {
        "duration": 3,
        "start_time": "2021-09-22T10:54:02.554Z"
      },
      {
        "duration": 76,
        "start_time": "2021-09-22T10:54:03.938Z"
      },
      {
        "duration": 3,
        "start_time": "2021-09-22T10:54:05.734Z"
      },
      {
        "duration": 107,
        "start_time": "2021-09-22T10:54:06.626Z"
      },
      {
        "duration": 4,
        "start_time": "2021-09-22T10:54:13.769Z"
      },
      {
        "duration": 70,
        "start_time": "2021-09-22T10:54:14.409Z"
      },
      {
        "duration": 3,
        "start_time": "2021-09-22T10:54:21.107Z"
      },
      {
        "duration": 74,
        "start_time": "2021-09-22T10:54:21.661Z"
      },
      {
        "duration": 3,
        "start_time": "2021-09-22T10:54:28.638Z"
      },
      {
        "duration": 71,
        "start_time": "2021-09-22T10:54:29.909Z"
      },
      {
        "duration": 634,
        "start_time": "2021-09-22T14:47:05.406Z"
      },
      {
        "duration": 3,
        "start_time": "2021-09-22T14:47:06.042Z"
      },
      {
        "duration": 506,
        "start_time": "2021-09-22T14:47:06.050Z"
      },
      {
        "duration": 3,
        "start_time": "2021-09-22T14:47:06.557Z"
      },
      {
        "duration": 84,
        "start_time": "2021-09-22T14:47:06.562Z"
      },
      {
        "duration": 3,
        "start_time": "2021-09-22T14:47:06.648Z"
      },
      {
        "duration": 119,
        "start_time": "2021-09-22T14:47:06.652Z"
      },
      {
        "duration": 3,
        "start_time": "2021-09-22T14:47:06.774Z"
      },
      {
        "duration": 73,
        "start_time": "2021-09-22T14:47:06.779Z"
      },
      {
        "duration": 2,
        "start_time": "2021-09-22T14:47:06.854Z"
      },
      {
        "duration": 87,
        "start_time": "2021-09-22T14:47:06.858Z"
      },
      {
        "duration": 3,
        "start_time": "2021-09-22T14:47:06.947Z"
      },
      {
        "duration": 73,
        "start_time": "2021-09-22T14:47:06.951Z"
      },
      {
        "duration": 3,
        "start_time": "2021-09-22T14:59:03.405Z"
      },
      {
        "duration": 239,
        "start_time": "2021-09-22T14:59:03.779Z"
      },
      {
        "duration": 589,
        "start_time": "2021-09-22T14:59:13.322Z"
      },
      {
        "duration": 2,
        "start_time": "2021-09-22T14:59:14.906Z"
      },
      {
        "duration": 536,
        "start_time": "2021-09-22T14:59:16.527Z"
      },
      {
        "duration": 80,
        "start_time": "2021-09-22T14:59:22.716Z"
      },
      {
        "duration": 2,
        "start_time": "2021-09-22T14:59:27.713Z"
      },
      {
        "duration": 73,
        "start_time": "2021-09-22T14:59:27.942Z"
      },
      {
        "duration": 2,
        "start_time": "2021-09-22T15:00:19.720Z"
      },
      {
        "duration": 73,
        "start_time": "2021-09-22T15:00:20.015Z"
      },
      {
        "duration": 3,
        "start_time": "2021-09-22T15:04:40.905Z"
      },
      {
        "duration": 104,
        "start_time": "2021-09-22T15:04:41.183Z"
      },
      {
        "duration": 96,
        "start_time": "2021-09-22T15:05:22.354Z"
      },
      {
        "duration": 9,
        "start_time": "2021-09-22T15:05:27.581Z"
      },
      {
        "duration": 102,
        "start_time": "2021-09-22T15:05:33.482Z"
      },
      {
        "duration": 2,
        "start_time": "2021-09-22T15:05:54.172Z"
      },
      {
        "duration": 99,
        "start_time": "2021-09-22T15:05:54.468Z"
      },
      {
        "duration": 99,
        "start_time": "2021-09-22T15:06:15.068Z"
      },
      {
        "duration": 2,
        "start_time": "2021-09-22T15:06:18.822Z"
      },
      {
        "duration": 119,
        "start_time": "2021-09-22T15:06:19.028Z"
      },
      {
        "duration": 3,
        "start_time": "2021-09-22T15:07:24.591Z"
      },
      {
        "duration": 104,
        "start_time": "2021-09-22T15:07:26.194Z"
      },
      {
        "duration": 97,
        "start_time": "2021-09-22T15:07:36.761Z"
      },
      {
        "duration": 11,
        "start_time": "2021-09-22T15:07:41.952Z"
      },
      {
        "duration": 6,
        "start_time": "2021-09-22T15:07:54.774Z"
      },
      {
        "duration": 4,
        "start_time": "2021-09-22T15:08:00.389Z"
      },
      {
        "duration": 4,
        "start_time": "2021-09-22T15:08:05.744Z"
      },
      {
        "duration": 3,
        "start_time": "2021-09-22T15:08:46.695Z"
      },
      {
        "duration": 104,
        "start_time": "2021-09-22T15:08:47.061Z"
      },
      {
        "duration": 3,
        "start_time": "2021-09-22T15:10:07.588Z"
      },
      {
        "duration": 155,
        "start_time": "2021-09-22T15:10:08.335Z"
      },
      {
        "duration": 3,
        "start_time": "2021-09-22T15:10:44.307Z"
      },
      {
        "duration": 334,
        "start_time": "2021-09-22T15:10:45.290Z"
      },
      {
        "duration": 2,
        "start_time": "2021-09-22T15:11:08.052Z"
      },
      {
        "duration": 154,
        "start_time": "2021-09-22T15:11:17.789Z"
      },
      {
        "duration": 2,
        "start_time": "2021-09-22T15:11:36.247Z"
      },
      {
        "duration": 299,
        "start_time": "2021-09-22T15:11:37.112Z"
      },
      {
        "duration": 3,
        "start_time": "2021-09-22T15:21:34.357Z"
      },
      {
        "duration": 287,
        "start_time": "2021-09-22T15:21:43.833Z"
      },
      {
        "duration": 3,
        "start_time": "2021-09-22T15:21:49.094Z"
      },
      {
        "duration": 297,
        "start_time": "2021-09-22T15:23:21.302Z"
      },
      {
        "duration": 19,
        "start_time": "2021-09-22T15:23:30.831Z"
      },
      {
        "duration": 3,
        "start_time": "2021-09-22T15:23:38.326Z"
      },
      {
        "duration": 98,
        "start_time": "2021-09-22T15:23:38.679Z"
      },
      {
        "duration": 14,
        "start_time": "2021-09-22T15:23:39.370Z"
      },
      {
        "duration": 5,
        "start_time": "2021-09-22T15:23:56.823Z"
      },
      {
        "duration": 956,
        "start_time": "2021-09-22T15:29:51.482Z"
      },
      {
        "duration": 5,
        "start_time": "2021-09-22T15:29:52.442Z"
      },
      {
        "duration": 433,
        "start_time": "2021-09-22T15:29:52.451Z"
      },
      {
        "duration": 3,
        "start_time": "2021-09-22T15:29:52.887Z"
      },
      {
        "duration": 77,
        "start_time": "2021-09-22T15:29:52.892Z"
      },
      {
        "duration": 3,
        "start_time": "2021-09-22T15:29:52.973Z"
      },
      {
        "duration": 82,
        "start_time": "2021-09-22T15:29:52.980Z"
      },
      {
        "duration": 19,
        "start_time": "2021-09-22T15:29:53.067Z"
      },
      {
        "duration": 8,
        "start_time": "2021-09-22T15:29:53.090Z"
      },
      {
        "duration": 22,
        "start_time": "2021-09-22T15:29:53.100Z"
      },
      {
        "duration": 66,
        "start_time": "2021-09-22T15:29:53.124Z"
      },
      {
        "duration": 4,
        "start_time": "2021-09-22T15:29:53.192Z"
      },
      {
        "duration": 73,
        "start_time": "2021-09-22T15:29:53.198Z"
      },
      {
        "duration": 3,
        "start_time": "2021-09-22T15:29:53.273Z"
      },
      {
        "duration": 68,
        "start_time": "2021-09-22T15:29:53.278Z"
      }
    ],
    "kernelspec": {
      "display_name": "Python 3",
      "language": "python",
      "name": "python3"
    },
    "language_info": {
      "codemirror_mode": {
        "name": "ipython",
        "version": 3
      },
      "file_extension": ".py",
      "mimetype": "text/x-python",
      "name": "python",
      "nbconvert_exporter": "python",
      "pygments_lexer": "ipython3",
      "version": "3.7.8"
    },
    "toc": {
      "base_numbering": 1,
      "nav_menu": {},
      "number_sections": true,
      "sideBar": true,
      "skip_h1_title": true,
      "title_cell": "Table of Contents",
      "title_sidebar": "Contents",
      "toc_cell": false,
      "toc_position": {},
      "toc_section_display": true,
      "toc_window_display": false
    },
    "colab": {
      "name": "SQL_Project_yandex.ipynb",
      "provenance": [],
      "collapsed_sections": []
    }
  },
  "cells": [
    {
      "cell_type": "markdown",
      "metadata": {
        "id": "yRPK7F24k2kO"
      },
      "source": [
        "# Анализ базы данных книжного онлайн-магазина"
      ]
    },
    {
      "cell_type": "markdown",
      "metadata": {
        "id": "Zvbole8y9i3g"
      },
      "source": [
        "## Цель исследования"
      ]
    },
    {
      "cell_type": "markdown",
      "metadata": {
        "id": "uppjKTbU9tPB"
      },
      "source": [
        "Цель исследования: проанализировать базу данных, чтобы в дальнейшем сформулировать ценностное предложение для нового продукта."
      ]
    },
    {
      "cell_type": "markdown",
      "metadata": {
        "id": "ahE8CAjx-Jhp"
      },
      "source": [
        "## Исследование таблиц"
      ]
    },
    {
      "cell_type": "code",
      "metadata": {
        "id": "4CvtwmDaE2O5"
      },
      "source": [
        "# импортируем библиотеки\n",
        "import pandas as pd\n",
        "from sqlalchemy import create_engine\n",
        "# устанавливаем параметры\n",
        "db_config = {'user': 'praktikum_student', # имя пользователя\n",
        " 'pwd': xxxxxxx, # пароль\n",
        " 'host': 'xxxxxxxx.mdb.yandexcloud.net',\n",
        " 'port': 6432, # порт подключения\n",
        " 'db': 'data-analyst-final-project-db'} # название базы данных\n",
        "connection_string = 'postgresql://{}:{}@{}:{}/{}'.format(db_config['user'],\n",
        " db_config['pwd'],\n",
        " db_config['host'],\n",
        " db_config['port'],\n",
        " db_config['db'])\n",
        "# сохраняем коннектор\n",
        "engine = create_engine(connection_string, connect_args={'sslmode':'require'})"
      ],
      "execution_count": null,
      "outputs": []
    },
    {
      "cell_type": "code",
      "metadata": {
        "id": "C0zZi_tQRzOk"
      },
      "source": [
        "pd.set_option('display.max_columns', None)"
      ],
      "execution_count": null,
      "outputs": []
    },
    {
      "cell_type": "code",
      "metadata": {
        "colab": {
          "base_uri": "https://localhost:8080/"
        },
        "id": "HW81SPJNLE3K",
        "scrolled": true,
        "outputId": "585d0b9f-5410-438e-f78b-8056c2cbdd1a"
      },
      "source": [
        "tables = ['books', 'authors', 'ratings', 'reviews', 'publishers']\n",
        "for table in tables:\n",
        "  print(table)\n",
        "  query = 'select * from {} limit 5'.format(table)\n",
        "  x = pd.io.sql.read_sql(query, con = engine) \n",
        "  print(x)\n",
        "  print()"
      ],
      "execution_count": null,
      "outputs": [
        {
          "name": "stdout",
          "output_type": "stream",
          "text": [
            "books\n",
            "   book_id  author_id                                              title  \\\n",
            "0        1        546                                       'Salem's Lot   \n",
            "1        2        465                 1 000 Places to See Before You Die   \n",
            "2        3        407  13 Little Blue Envelopes (Little Blue Envelope...   \n",
            "3        4         82  1491: New Revelations of the Americas Before C...   \n",
            "4        5        125                                               1776   \n",
            "\n",
            "   num_pages publication_date  publisher_id  \n",
            "0        594       2005-11-01            93  \n",
            "1        992       2003-05-22           336  \n",
            "2        322       2010-12-21           135  \n",
            "3        541       2006-10-10           309  \n",
            "4        386       2006-07-04           268  \n",
            "\n",
            "authors\n",
            "   author_id                          author\n",
            "0          1                      A.S. Byatt\n",
            "1          2  Aesop/Laura Harris/Laura Gibbs\n",
            "2          3                 Agatha Christie\n",
            "3          4                   Alan Brennert\n",
            "4          5        Alan Moore/David   Lloyd\n",
            "\n",
            "ratings\n",
            "   rating_id  book_id       username  rating\n",
            "0          1        1     ryanfranco       4\n",
            "1          2        1  grantpatricia       2\n",
            "2          3        1   brandtandrea       5\n",
            "3          4        2       lorichen       3\n",
            "4          5        2    mariokeller       2\n",
            "\n",
            "reviews\n",
            "   review_id  book_id       username  \\\n",
            "0          1        1   brandtandrea   \n",
            "1          2        1     ryanfranco   \n",
            "2          3        2       lorichen   \n",
            "3          4        3  johnsonamanda   \n",
            "4          5        3    scotttamara   \n",
            "\n",
            "                                                text  \n",
            "0  Mention society tell send professor analysis. ...  \n",
            "1  Foot glass pretty audience hit themselves. Amo...  \n",
            "2  Listen treat keep worry. Miss husband tax but ...  \n",
            "3  Finally month interesting blue could nature cu...  \n",
            "4  Nation purpose heavy give wait song will. List...  \n",
            "\n",
            "publishers\n",
            "   publisher_id                          publisher\n",
            "0             1                                Ace\n",
            "1             2                           Ace Book\n",
            "2             3                          Ace Books\n",
            "3             4                      Ace Hardcover\n",
            "4             5  Addison Wesley Publishing Company\n",
            "\n"
          ]
        }
      ]
    },
    {
      "cell_type": "markdown",
      "metadata": {
        "id": "NUTrIKwrQG1D"
      },
      "source": [
        "## Cколько книг вышло после 1 января 2000 года"
      ]
    },
    {
      "cell_type": "code",
      "metadata": {
        "id": "pocnHYwSQ1iB"
      },
      "source": [
        "query = '''SELECT COUNT(book_id)\n",
        "FROM books\n",
        "WHERE publication_date > ('2000-01-01')'''"
      ],
      "execution_count": null,
      "outputs": []
    },
    {
      "cell_type": "code",
      "metadata": {
        "colab": {
          "base_uri": "https://localhost:8080/",
          "height": 80
        },
        "id": "hY30SgF5TR2a",
        "outputId": "3df28dc2-5e20-4468-ce14-03b3de24eb2a"
      },
      "source": [
        "pd.io.sql.read_sql(query, con = engine) "
      ],
      "execution_count": null,
      "outputs": [
        {
          "data": {
            "text/html": [
              "<div>\n",
              "<style scoped>\n",
              "    .dataframe tbody tr th:only-of-type {\n",
              "        vertical-align: middle;\n",
              "    }\n",
              "\n",
              "    .dataframe tbody tr th {\n",
              "        vertical-align: top;\n",
              "    }\n",
              "\n",
              "    .dataframe thead th {\n",
              "        text-align: right;\n",
              "    }\n",
              "</style>\n",
              "<table border=\"1\" class=\"dataframe\">\n",
              "  <thead>\n",
              "    <tr style=\"text-align: right;\">\n",
              "      <th></th>\n",
              "      <th>count</th>\n",
              "    </tr>\n",
              "  </thead>\n",
              "  <tbody>\n",
              "    <tr>\n",
              "      <td>0</td>\n",
              "      <td>819</td>\n",
              "    </tr>\n",
              "  </tbody>\n",
              "</table>\n",
              "</div>"
            ],
            "text/plain": [
              "   count\n",
              "0    819"
            ]
          },
          "execution_count": 5,
          "metadata": {},
          "output_type": "execute_result"
        }
      ]
    },
    {
      "cell_type": "markdown",
      "metadata": {
        "id": "5UWNT1SY6IbQ"
      },
      "source": [
        "После 1 января 2000 года вышло 819 книг"
      ]
    },
    {
      "cell_type": "markdown",
      "metadata": {
        "id": "lAnZKKD_TiAn"
      },
      "source": [
        "## Количество обзоров и средняя оценка для каждой книги"
      ]
    },
    {
      "cell_type": "code",
      "metadata": {
        "id": "4PwW6RrBdMLP"
      },
      "source": [
        "query = '''\n",
        "SELECT  books.book_id AS id, title, ROUND(AVG(rating),2) as rating_average, COUNT(DISTINCT review_id) as reviews_count\n",
        "FROM \n",
        "books\n",
        "LEFT JOIN ratings on books.book_id = ratings.book_id\n",
        "LEFT JOIN reviews on books.book_id = reviews.book_id\n",
        "GROUP BY id\n",
        "'''"
      ],
      "execution_count": null,
      "outputs": []
    },
    {
      "cell_type": "code",
      "metadata": {
        "id": "taZgavC6kh-f"
      },
      "source": [
        "rate_rev = pd.io.sql.read_sql(query, con = engine) "
      ],
      "execution_count": null,
      "outputs": []
    },
    {
      "cell_type": "code",
      "metadata": {
        "id": "K5Lb_ovbkh-f",
        "outputId": "be5b14c9-66e2-4cc7-c1d9-105d6260da9c"
      },
      "source": [
        "rate_rev"
      ],
      "execution_count": null,
      "outputs": [
        {
          "data": {
            "text/html": [
              "<div>\n",
              "<style scoped>\n",
              "    .dataframe tbody tr th:only-of-type {\n",
              "        vertical-align: middle;\n",
              "    }\n",
              "\n",
              "    .dataframe tbody tr th {\n",
              "        vertical-align: top;\n",
              "    }\n",
              "\n",
              "    .dataframe thead th {\n",
              "        text-align: right;\n",
              "    }\n",
              "</style>\n",
              "<table border=\"1\" class=\"dataframe\">\n",
              "  <thead>\n",
              "    <tr style=\"text-align: right;\">\n",
              "      <th></th>\n",
              "      <th>id</th>\n",
              "      <th>title</th>\n",
              "      <th>rating_average</th>\n",
              "      <th>reviews_count</th>\n",
              "    </tr>\n",
              "  </thead>\n",
              "  <tbody>\n",
              "    <tr>\n",
              "      <td>0</td>\n",
              "      <td>1</td>\n",
              "      <td>'Salem's Lot</td>\n",
              "      <td>3.67</td>\n",
              "      <td>2</td>\n",
              "    </tr>\n",
              "    <tr>\n",
              "      <td>1</td>\n",
              "      <td>2</td>\n",
              "      <td>1 000 Places to See Before You Die</td>\n",
              "      <td>2.50</td>\n",
              "      <td>1</td>\n",
              "    </tr>\n",
              "    <tr>\n",
              "      <td>2</td>\n",
              "      <td>3</td>\n",
              "      <td>13 Little Blue Envelopes (Little Blue Envelope...</td>\n",
              "      <td>4.67</td>\n",
              "      <td>3</td>\n",
              "    </tr>\n",
              "    <tr>\n",
              "      <td>3</td>\n",
              "      <td>4</td>\n",
              "      <td>1491: New Revelations of the Americas Before C...</td>\n",
              "      <td>4.50</td>\n",
              "      <td>2</td>\n",
              "    </tr>\n",
              "    <tr>\n",
              "      <td>4</td>\n",
              "      <td>5</td>\n",
              "      <td>1776</td>\n",
              "      <td>4.00</td>\n",
              "      <td>4</td>\n",
              "    </tr>\n",
              "    <tr>\n",
              "      <td>...</td>\n",
              "      <td>...</td>\n",
              "      <td>...</td>\n",
              "      <td>...</td>\n",
              "      <td>...</td>\n",
              "    </tr>\n",
              "    <tr>\n",
              "      <td>995</td>\n",
              "      <td>996</td>\n",
              "      <td>Wyrd Sisters (Discworld  #6; Witches #2)</td>\n",
              "      <td>3.67</td>\n",
              "      <td>3</td>\n",
              "    </tr>\n",
              "    <tr>\n",
              "      <td>996</td>\n",
              "      <td>997</td>\n",
              "      <td>Xenocide (Ender's Saga  #3)</td>\n",
              "      <td>3.40</td>\n",
              "      <td>3</td>\n",
              "    </tr>\n",
              "    <tr>\n",
              "      <td>997</td>\n",
              "      <td>998</td>\n",
              "      <td>Year of Wonders</td>\n",
              "      <td>3.20</td>\n",
              "      <td>4</td>\n",
              "    </tr>\n",
              "    <tr>\n",
              "      <td>998</td>\n",
              "      <td>999</td>\n",
              "      <td>You Suck (A Love Story  #2)</td>\n",
              "      <td>4.50</td>\n",
              "      <td>2</td>\n",
              "    </tr>\n",
              "    <tr>\n",
              "      <td>999</td>\n",
              "      <td>1000</td>\n",
              "      <td>Zen and the Art of Motorcycle Maintenance: An ...</td>\n",
              "      <td>3.83</td>\n",
              "      <td>4</td>\n",
              "    </tr>\n",
              "  </tbody>\n",
              "</table>\n",
              "<p>1000 rows × 4 columns</p>\n",
              "</div>"
            ],
            "text/plain": [
              "       id                                              title  rating_average  \\\n",
              "0       1                                       'Salem's Lot            3.67   \n",
              "1       2                 1 000 Places to See Before You Die            2.50   \n",
              "2       3  13 Little Blue Envelopes (Little Blue Envelope...            4.67   \n",
              "3       4  1491: New Revelations of the Americas Before C...            4.50   \n",
              "4       5                                               1776            4.00   \n",
              "..    ...                                                ...             ...   \n",
              "995   996           Wyrd Sisters (Discworld  #6; Witches #2)            3.67   \n",
              "996   997                        Xenocide (Ender's Saga  #3)            3.40   \n",
              "997   998                                    Year of Wonders            3.20   \n",
              "998   999                        You Suck (A Love Story  #2)            4.50   \n",
              "999  1000  Zen and the Art of Motorcycle Maintenance: An ...            3.83   \n",
              "\n",
              "     reviews_count  \n",
              "0                2  \n",
              "1                1  \n",
              "2                3  \n",
              "3                2  \n",
              "4                4  \n",
              "..             ...  \n",
              "995              3  \n",
              "996              3  \n",
              "997              4  \n",
              "998              2  \n",
              "999              4  \n",
              "\n",
              "[1000 rows x 4 columns]"
            ]
          },
          "execution_count": 8,
          "metadata": {},
          "output_type": "execute_result"
        }
      ]
    },
    {
      "cell_type": "code",
      "metadata": {
        "id": "v1jxoZVrkh-f",
        "outputId": "efb161bd-1d74-46c7-afc2-0269ccceb984"
      },
      "source": [
        "rate_rev['reviews_count'].sum()"
      ],
      "execution_count": null,
      "outputs": [
        {
          "data": {
            "text/plain": [
              "2793"
            ]
          },
          "execution_count": 9,
          "metadata": {},
          "output_type": "execute_result"
        }
      ]
    },
    {
      "cell_type": "markdown",
      "metadata": {
        "id": "xy6h5NWa6bRi"
      },
      "source": [
        "Мы посчитали средние оценки и количество обзоров для всех книг"
      ]
    },
    {
      "cell_type": "markdown",
      "metadata": {
        "id": "HXc_5Caub9Pb"
      },
      "source": [
        "## Издательство, которое выпустило наибольшее число книг толще 50 страниц"
      ]
    },
    {
      "cell_type": "code",
      "metadata": {
        "id": "ay-5-yCLjO43"
      },
      "source": [
        "query = '''\n",
        "SELECT publisher, COUNT(book_id) as book_count\n",
        "FROM \n",
        "(SELECT * FROM books\n",
        "WHERE num_pages > 50) as thick_books\n",
        "JOIN publishers ON thick_books.publisher_id = publishers.publisher_id\n",
        "GROUP BY publisher\n",
        "ORDER BY book_count DESC\n",
        "LIMIT 2\n",
        "'''"
      ],
      "execution_count": null,
      "outputs": []
    },
    {
      "cell_type": "code",
      "metadata": {
        "colab": {
          "base_uri": "https://localhost:8080/",
          "height": 111
        },
        "id": "hHzD__VvknVf",
        "outputId": "3278eb89-9b2b-4990-9fc1-8d92b030ebfe"
      },
      "source": [
        "pd.io.sql.read_sql(query, con = engine) "
      ],
      "execution_count": null,
      "outputs": [
        {
          "data": {
            "text/html": [
              "<div>\n",
              "<style scoped>\n",
              "    .dataframe tbody tr th:only-of-type {\n",
              "        vertical-align: middle;\n",
              "    }\n",
              "\n",
              "    .dataframe tbody tr th {\n",
              "        vertical-align: top;\n",
              "    }\n",
              "\n",
              "    .dataframe thead th {\n",
              "        text-align: right;\n",
              "    }\n",
              "</style>\n",
              "<table border=\"1\" class=\"dataframe\">\n",
              "  <thead>\n",
              "    <tr style=\"text-align: right;\">\n",
              "      <th></th>\n",
              "      <th>publisher</th>\n",
              "      <th>book_count</th>\n",
              "    </tr>\n",
              "  </thead>\n",
              "  <tbody>\n",
              "    <tr>\n",
              "      <td>0</td>\n",
              "      <td>Penguin Books</td>\n",
              "      <td>42</td>\n",
              "    </tr>\n",
              "    <tr>\n",
              "      <td>1</td>\n",
              "      <td>Vintage</td>\n",
              "      <td>31</td>\n",
              "    </tr>\n",
              "  </tbody>\n",
              "</table>\n",
              "</div>"
            ],
            "text/plain": [
              "       publisher  book_count\n",
              "0  Penguin Books          42\n",
              "1        Vintage          31"
            ]
          },
          "execution_count": 11,
          "metadata": {},
          "output_type": "execute_result"
        }
      ]
    },
    {
      "cell_type": "markdown",
      "metadata": {
        "id": "O6GtyM1A6zQv"
      },
      "source": [
        "Больше всего книг объемом свыше 50 страниц выпустило издательство Penguin Books"
      ]
    },
    {
      "cell_type": "markdown",
      "metadata": {
        "id": "bUg7b5Mckrlf"
      },
      "source": [
        "## Автор с самой высокой средней оценкой книг — учитывая только книги с 50 и более оценками"
      ]
    },
    {
      "cell_type": "code",
      "metadata": {
        "id": "VoozGEMvgNVd"
      },
      "source": [
        "query = '''\n",
        "WITH well_rated_books AS (\n",
        "SELECT books.book_id AS id,  books.title, books.author_id, COUNT(rating) AS ratings_cnt\n",
        "FROM books \n",
        "LEFT JOIN ratings on books.book_id = ratings.book_id\n",
        "GROUP BY id\n",
        "HAVING COUNT(rating) > 50)\n",
        "\n",
        "SELECT author, AVG(rating) as average_rating\n",
        "FROM well_rated_books\n",
        "LEFT JOIN authors on well_rated_books.author_id = authors.author_id\n",
        "LEFT JOIN ratings on well_rated_books.id = ratings.book_id\n",
        "GROUP BY author\n",
        "ORDER BY average_rating DESC\n",
        "LIMIT 3\n",
        "'''"
      ],
      "execution_count": null,
      "outputs": []
    },
    {
      "cell_type": "code",
      "metadata": {
        "colab": {
          "base_uri": "https://localhost:8080/",
          "height": 142
        },
        "id": "CXH4K4uATY9e",
        "outputId": "367c4220-3d0c-434e-d0dc-23949f89465c"
      },
      "source": [
        "pd.io.sql.read_sql(query, con = engine) "
      ],
      "execution_count": null,
      "outputs": [
        {
          "data": {
            "text/html": [
              "<div>\n",
              "<style scoped>\n",
              "    .dataframe tbody tr th:only-of-type {\n",
              "        vertical-align: middle;\n",
              "    }\n",
              "\n",
              "    .dataframe tbody tr th {\n",
              "        vertical-align: top;\n",
              "    }\n",
              "\n",
              "    .dataframe thead th {\n",
              "        text-align: right;\n",
              "    }\n",
              "</style>\n",
              "<table border=\"1\" class=\"dataframe\">\n",
              "  <thead>\n",
              "    <tr style=\"text-align: right;\">\n",
              "      <th></th>\n",
              "      <th>author</th>\n",
              "      <th>average_rating</th>\n",
              "    </tr>\n",
              "  </thead>\n",
              "  <tbody>\n",
              "    <tr>\n",
              "      <td>0</td>\n",
              "      <td>J.K. Rowling/Mary GrandPré</td>\n",
              "      <td>4.287097</td>\n",
              "    </tr>\n",
              "    <tr>\n",
              "      <td>1</td>\n",
              "      <td>Markus Zusak/Cao Xuân Việt Khương</td>\n",
              "      <td>4.264151</td>\n",
              "    </tr>\n",
              "    <tr>\n",
              "      <td>2</td>\n",
              "      <td>J.R.R. Tolkien</td>\n",
              "      <td>4.246914</td>\n",
              "    </tr>\n",
              "  </tbody>\n",
              "</table>\n",
              "</div>"
            ],
            "text/plain": [
              "                              author  average_rating\n",
              "0         J.K. Rowling/Mary GrandPré        4.287097\n",
              "1  Markus Zusak/Cao Xuân Việt Khương        4.264151\n",
              "2                     J.R.R. Tolkien        4.246914"
            ]
          },
          "execution_count": 13,
          "metadata": {},
          "output_type": "execute_result"
        }
      ]
    },
    {
      "cell_type": "markdown",
      "metadata": {
        "id": "hMsl_AfBTanq"
      },
      "source": [
        "Самый высокий средний рейтинг у книг J.K. Rowling/Mary GrandPré\n",
        "\n"
      ]
    },
    {
      "cell_type": "markdown",
      "metadata": {
        "id": "uVIjoaonrrHW"
      },
      "source": [
        "## Cреднее количество обзоров от пользователей, которые поставили больше 50 оценок."
      ]
    },
    {
      "cell_type": "code",
      "metadata": {
        "id": "_IFPfnWDr1uZ"
      },
      "source": [
        "query = '''\n",
        "WITH top_raters AS \n",
        "(SELECT username, COUNT(rating) as rating_cnt\n",
        "FROM ratings\n",
        "GROUP BY username\n",
        "HAVING COUNT(rating) > 50), \n",
        "\n",
        "review_counts AS (\n",
        "SELECT top_raters.username AS user, COUNT (review_id) as review_cnt\n",
        "FROM top_raters\n",
        "LEFT JOIN reviews on top_raters.username = reviews.username\n",
        "GROUP BY top_raters.username)\n",
        "\n",
        "SELECT ROUND(AVG(review_cnt), 2)\n",
        "FROM review_counts\n",
        "'''"
      ],
      "execution_count": null,
      "outputs": []
    },
    {
      "cell_type": "code",
      "metadata": {
        "colab": {
          "base_uri": "https://localhost:8080/",
          "height": 80
        },
        "id": "J-AaEinY2U3w",
        "outputId": "9a9647c7-d822-4400-bde3-fab2b4d5e070"
      },
      "source": [
        "pd.io.sql.read_sql(query, con = engine) "
      ],
      "execution_count": null,
      "outputs": [
        {
          "data": {
            "text/html": [
              "<div>\n",
              "<style scoped>\n",
              "    .dataframe tbody tr th:only-of-type {\n",
              "        vertical-align: middle;\n",
              "    }\n",
              "\n",
              "    .dataframe tbody tr th {\n",
              "        vertical-align: top;\n",
              "    }\n",
              "\n",
              "    .dataframe thead th {\n",
              "        text-align: right;\n",
              "    }\n",
              "</style>\n",
              "<table border=\"1\" class=\"dataframe\">\n",
              "  <thead>\n",
              "    <tr style=\"text-align: right;\">\n",
              "      <th></th>\n",
              "      <th>round</th>\n",
              "    </tr>\n",
              "  </thead>\n",
              "  <tbody>\n",
              "    <tr>\n",
              "      <td>0</td>\n",
              "      <td>24.33</td>\n",
              "    </tr>\n",
              "  </tbody>\n",
              "</table>\n",
              "</div>"
            ],
            "text/plain": [
              "   round\n",
              "0  24.33"
            ]
          },
          "execution_count": 15,
          "metadata": {},
          "output_type": "execute_result"
        }
      ]
    },
    {
      "cell_type": "markdown",
      "metadata": {
        "id": "-7xEdFBZ2jFb"
      },
      "source": [
        "Пользователи, которые поставили больше 50 оценок, также в среднем оставили по 24,33 отзыва."
      ]
    }
  ]
}