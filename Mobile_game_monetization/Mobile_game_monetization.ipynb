{
 "cells": [
  {
   "cell_type": "markdown",
   "metadata": {
    "id": "wX3V240d_MjU"
   },
   "source": [
    "# Игры — Формирование модели монетизации"
   ]
  },
  {
   "cell_type": "markdown",
   "metadata": {},
   "source": [
    "Цель данного проекта - предложить модель монетизации для мобильной игры \"Космические братья\".  \n",
    "Подход на данный момент уже определен создателями игры - рекламу будут показывать при создании игровой постройки. При разработке модели нужно учесть, что слишком назойливая реклама может отпугнуть пользователя.  \n",
    "Установленная цель - достичь окупаемости маркетинговых расходов на привлечение игроков за то время, что игроки тратят на прохождение первого уровня.  \n",
    "В нашем распоряжении данные первой когорты игроков: датасет с информацией о времени события, типе события (постройка здания, завершение уровня, завершение проекта), типе здания, user id.  \n",
    "\n",
    "Помимо основного датасета есть два датасета с информацией о рекламных активностях:    \n",
    "\n",
    "Датасет с информацией о переходах пользователей по объявлению и стоимости кликов. \n",
    "\n",
    "Датасет с id пользлователя и информаией об источник, с которого пришел пользователь.   \n",
    "\n",
    "В рамках исследования:  \n",
    "проведем исследовательский анализ данных;  \n",
    "проверим как разные события влияют на совершение целевого события (завершения уровня);  \n",
    "проверим статистические гипотезы"
   ]
  },
  {
   "cell_type": "markdown",
   "metadata": {},
   "source": [
    "## Материалы\n",
    "* [Презентация](https://drive.google.com/file/d/1Wf0uSkARfI3tSqKlpmiGO_iugImwIYkH/view?usp=sharing)\n",
    "* [Дашборд](https://public.tableau.com/views/SpaceBrothers_16317415176740/-2?:language=en-US&publish=yes&:display_count=n&:origin=viz_share_link)"
   ]
  },
  {
   "cell_type": "code",
   "execution_count": 1,
   "metadata": {
    "id": "qSPjJxJImxHO"
   },
   "outputs": [],
   "source": [
    "import pandas as pd\n",
    "import numpy as np\n",
    "import seaborn as sns\n",
    "import matplotlib.pyplot as plt\n",
    "from scipy import stats as st"
   ]
  },
  {
   "cell_type": "code",
   "execution_count": 2,
   "metadata": {},
   "outputs": [
    {
     "name": "stdout",
     "output_type": "stream",
     "text": [
      "Defaulting to user installation because normal site-packages is not writeable\n",
      "Collecting matplotlib\n",
      "  Downloading matplotlib-3.4.3-cp37-cp37m-manylinux1_x86_64.whl (10.3 MB)\n",
      "\u001b[K     |████████████████████████████████| 10.3 MB 1.4 MB/s eta 0:00:01\n",
      "\u001b[?25hRequirement already satisfied, skipping upgrade: numpy>=1.16 in /opt/conda/lib/python3.7/site-packages (from matplotlib) (1.19.5)\n",
      "Requirement already satisfied, skipping upgrade: kiwisolver>=1.0.1 in /opt/conda/lib/python3.7/site-packages (from matplotlib) (1.3.1)\n",
      "Requirement already satisfied, skipping upgrade: cycler>=0.10 in /opt/conda/lib/python3.7/site-packages (from matplotlib) (0.10.0)\n",
      "Requirement already satisfied, skipping upgrade: pillow>=6.2.0 in /opt/conda/lib/python3.7/site-packages (from matplotlib) (7.0.0)\n",
      "Requirement already satisfied, skipping upgrade: pyparsing>=2.2.1 in /opt/conda/lib/python3.7/site-packages (from matplotlib) (2.4.7)\n",
      "Requirement already satisfied, skipping upgrade: python-dateutil>=2.7 in /opt/conda/lib/python3.7/site-packages (from matplotlib) (2.8.1)\n",
      "Requirement already satisfied, skipping upgrade: six in /opt/conda/lib/python3.7/site-packages (from cycler>=0.10->matplotlib) (1.15.0)\n",
      "Installing collected packages: matplotlib\n",
      "Successfully installed matplotlib-3.4.3\n"
     ]
    }
   ],
   "source": [
    "!pip install matplotlib -U"
   ]
  },
  {
   "cell_type": "code",
   "execution_count": 3,
   "metadata": {},
   "outputs": [
    {
     "name": "stdout",
     "output_type": "stream",
     "text": [
      "Defaulting to user installation because normal site-packages is not writeable\n",
      "Collecting seaborn==0.11.2\n",
      "  Downloading seaborn-0.11.2-py3-none-any.whl (292 kB)\n",
      "\u001b[K     |████████████████████████████████| 292 kB 1.3 MB/s eta 0:00:01\n",
      "\u001b[?25hRequirement already satisfied: scipy>=1.0 in /opt/conda/lib/python3.7/site-packages (from seaborn==0.11.2) (1.4.1)\n",
      "Requirement already satisfied: matplotlib>=2.2 in /home/jovyan/.local/lib/python3.7/site-packages (from seaborn==0.11.2) (3.4.3)\n",
      "Requirement already satisfied: numpy>=1.15 in /opt/conda/lib/python3.7/site-packages (from seaborn==0.11.2) (1.19.5)\n",
      "Requirement already satisfied: pandas>=0.23 in /opt/conda/lib/python3.7/site-packages (from seaborn==0.11.2) (0.25.1)\n",
      "Requirement already satisfied: python-dateutil>=2.7 in /opt/conda/lib/python3.7/site-packages (from matplotlib>=2.2->seaborn==0.11.2) (2.8.1)\n",
      "Requirement already satisfied: pillow>=6.2.0 in /opt/conda/lib/python3.7/site-packages (from matplotlib>=2.2->seaborn==0.11.2) (7.0.0)\n",
      "Requirement already satisfied: pyparsing>=2.2.1 in /opt/conda/lib/python3.7/site-packages (from matplotlib>=2.2->seaborn==0.11.2) (2.4.7)\n",
      "Requirement already satisfied: kiwisolver>=1.0.1 in /opt/conda/lib/python3.7/site-packages (from matplotlib>=2.2->seaborn==0.11.2) (1.3.1)\n",
      "Requirement already satisfied: cycler>=0.10 in /opt/conda/lib/python3.7/site-packages (from matplotlib>=2.2->seaborn==0.11.2) (0.10.0)\n",
      "Requirement already satisfied: pytz>=2017.2 in /opt/conda/lib/python3.7/site-packages (from pandas>=0.23->seaborn==0.11.2) (2021.1)\n",
      "Requirement already satisfied: six>=1.5 in /opt/conda/lib/python3.7/site-packages (from python-dateutil>=2.7->matplotlib>=2.2->seaborn==0.11.2) (1.15.0)\n",
      "Installing collected packages: seaborn\n",
      "Successfully installed seaborn-0.11.2\n",
      "Note: you may need to restart the kernel to use updated packages.\n"
     ]
    }
   ],
   "source": [
    "pip install seaborn==0.11.2"
   ]
  },
  {
   "cell_type": "markdown",
   "metadata": {
    "id": "WQ2vDF5e_jps"
   },
   "source": [
    "## Предобработка данных"
   ]
  },
  {
   "cell_type": "markdown",
   "metadata": {
    "id": "wjK1VL4gBjVR"
   },
   "source": [
    "Изучим таблицу с событиями"
   ]
  },
  {
   "cell_type": "code",
   "execution_count": 4,
   "metadata": {},
   "outputs": [],
   "source": [
    "#В проекте использован датасет предоставленный Яндекс.Практикум\n",
    "actions = pd.read_csv('/***/***.csv')"
   ]
  },
  {
   "cell_type": "code",
   "execution_count": 5,
   "metadata": {
    "colab": {
     "base_uri": "https://localhost:8080/",
     "height": 204
    },
    "id": "OjhSbEqpm-R8",
    "outputId": "0cb4009a-60c8-4603-cfcd-ede87d903042"
   },
   "outputs": [
    {
     "data": {
      "text/html": [
       "<div>\n",
       "<style scoped>\n",
       "    .dataframe tbody tr th:only-of-type {\n",
       "        vertical-align: middle;\n",
       "    }\n",
       "\n",
       "    .dataframe tbody tr th {\n",
       "        vertical-align: top;\n",
       "    }\n",
       "\n",
       "    .dataframe thead th {\n",
       "        text-align: right;\n",
       "    }\n",
       "</style>\n",
       "<table border=\"1\" class=\"dataframe\">\n",
       "  <thead>\n",
       "    <tr style=\"text-align: right;\">\n",
       "      <th></th>\n",
       "      <th>event_datetime</th>\n",
       "      <th>event</th>\n",
       "      <th>building_type</th>\n",
       "      <th>user_id</th>\n",
       "      <th>project_type</th>\n",
       "    </tr>\n",
       "  </thead>\n",
       "  <tbody>\n",
       "    <tr>\n",
       "      <td>0</td>\n",
       "      <td>2020-05-04 00:00:01</td>\n",
       "      <td>building</td>\n",
       "      <td>assembly_shop</td>\n",
       "      <td>55e92310-cb8e-4754-b622-597e124b03de</td>\n",
       "      <td>NaN</td>\n",
       "    </tr>\n",
       "    <tr>\n",
       "      <td>1</td>\n",
       "      <td>2020-05-04 00:00:03</td>\n",
       "      <td>building</td>\n",
       "      <td>assembly_shop</td>\n",
       "      <td>c07b1c10-f477-44dc-81dc-ec82254b1347</td>\n",
       "      <td>NaN</td>\n",
       "    </tr>\n",
       "    <tr>\n",
       "      <td>2</td>\n",
       "      <td>2020-05-04 00:00:16</td>\n",
       "      <td>building</td>\n",
       "      <td>assembly_shop</td>\n",
       "      <td>6edd42cc-e753-4ff6-a947-2107cd560710</td>\n",
       "      <td>NaN</td>\n",
       "    </tr>\n",
       "    <tr>\n",
       "      <td>3</td>\n",
       "      <td>2020-05-04 00:00:16</td>\n",
       "      <td>building</td>\n",
       "      <td>assembly_shop</td>\n",
       "      <td>92c69003-d60a-444a-827f-8cc51bf6bf4c</td>\n",
       "      <td>NaN</td>\n",
       "    </tr>\n",
       "    <tr>\n",
       "      <td>4</td>\n",
       "      <td>2020-05-04 00:00:35</td>\n",
       "      <td>building</td>\n",
       "      <td>assembly_shop</td>\n",
       "      <td>cdc6bb92-0ccb-4490-9866-ef142f09139d</td>\n",
       "      <td>NaN</td>\n",
       "    </tr>\n",
       "  </tbody>\n",
       "</table>\n",
       "</div>"
      ],
      "text/plain": [
       "        event_datetime     event  building_type  \\\n",
       "0  2020-05-04 00:00:01  building  assembly_shop   \n",
       "1  2020-05-04 00:00:03  building  assembly_shop   \n",
       "2  2020-05-04 00:00:16  building  assembly_shop   \n",
       "3  2020-05-04 00:00:16  building  assembly_shop   \n",
       "4  2020-05-04 00:00:35  building  assembly_shop   \n",
       "\n",
       "                                user_id project_type  \n",
       "0  55e92310-cb8e-4754-b622-597e124b03de          NaN  \n",
       "1  c07b1c10-f477-44dc-81dc-ec82254b1347          NaN  \n",
       "2  6edd42cc-e753-4ff6-a947-2107cd560710          NaN  \n",
       "3  92c69003-d60a-444a-827f-8cc51bf6bf4c          NaN  \n",
       "4  cdc6bb92-0ccb-4490-9866-ef142f09139d          NaN  "
      ]
     },
     "execution_count": 5,
     "metadata": {},
     "output_type": "execute_result"
    }
   ],
   "source": [
    "actions.head()"
   ]
  },
  {
   "cell_type": "markdown",
   "metadata": {
    "id": "ObdQs7aI_veT"
   },
   "source": [
    "Проверим наличие пропусков в таблице"
   ]
  },
  {
   "cell_type": "code",
   "execution_count": 6,
   "metadata": {
    "colab": {
     "base_uri": "https://localhost:8080/"
    },
    "id": "h6u1-rdOnEpz",
    "outputId": "d6732439-cc3b-4626-f901-ed2418cdcc2e"
   },
   "outputs": [
    {
     "data": {
      "text/plain": [
       "event_datetime    0.000000\n",
       "event             0.000000\n",
       "building_type     0.056643\n",
       "user_id           0.000000\n",
       "project_type      0.986243\n",
       "dtype: float64"
      ]
     },
     "execution_count": 6,
     "metadata": {},
     "output_type": "execute_result"
    }
   ],
   "source": [
    "actions.isna().mean()"
   ]
  },
  {
   "cell_type": "code",
   "execution_count": 7,
   "metadata": {
    "colab": {
     "base_uri": "https://localhost:8080/"
    },
    "id": "ZJQqK_qfqljE",
    "outputId": "6057da16-bccc-4d72-e09d-a34851708f0a"
   },
   "outputs": [
    {
     "name": "stdout",
     "output_type": "stream",
     "text": [
      "<class 'pandas.core.frame.DataFrame'>\n",
      "RangeIndex: 135640 entries, 0 to 135639\n",
      "Data columns (total 5 columns):\n",
      "event_datetime    135640 non-null object\n",
      "event             135640 non-null object\n",
      "building_type     127957 non-null object\n",
      "user_id           135640 non-null object\n",
      "project_type      1866 non-null object\n",
      "dtypes: object(5)\n",
      "memory usage: 5.2+ MB\n"
     ]
    }
   ],
   "source": [
    "actions.info()"
   ]
  },
  {
   "cell_type": "markdown",
   "metadata": {
    "id": "aKqn6YH6FB7M"
   },
   "source": [
    "Есть пропуски в типах зданий и в типах проектов, но это нормально, так как тип здания заполнен только при постройке здания, а тип проекта - при реализации проекта. Обработка пропусков не требуется."
   ]
  },
  {
   "cell_type": "markdown",
   "metadata": {
    "id": "4hP9M1gSOPaY"
   },
   "source": [
    "Тип данных в колонке event_datetime заменим на дату"
   ]
  },
  {
   "cell_type": "code",
   "execution_count": 8,
   "metadata": {
    "id": "xOkML5FdOdlG"
   },
   "outputs": [],
   "source": [
    "actions['event_datetime'] = pd.to_datetime(actions['event_datetime'], format = '%Y-%m-%d %H:%M:%S')"
   ]
  },
  {
   "cell_type": "code",
   "execution_count": 9,
   "metadata": {
    "colab": {
     "base_uri": "https://localhost:8080/"
    },
    "id": "isSikxgFPGtp",
    "outputId": "65190a51-3de2-4d02-de74-ef288c6c6283"
   },
   "outputs": [
    {
     "name": "stdout",
     "output_type": "stream",
     "text": [
      "<class 'pandas.core.frame.DataFrame'>\n",
      "RangeIndex: 135640 entries, 0 to 135639\n",
      "Data columns (total 5 columns):\n",
      "event_datetime    135640 non-null datetime64[ns]\n",
      "event             135640 non-null object\n",
      "building_type     127957 non-null object\n",
      "user_id           135640 non-null object\n",
      "project_type      1866 non-null object\n",
      "dtypes: datetime64[ns](1), object(4)\n",
      "memory usage: 5.2+ MB\n"
     ]
    }
   ],
   "source": [
    "actions.info()"
   ]
  },
  {
   "cell_type": "markdown",
   "metadata": {
    "id": "dCRenvza_2Sv"
   },
   "source": [
    "Проверим, что при постройке здания всегда указан его тип"
   ]
  },
  {
   "cell_type": "code",
   "execution_count": 10,
   "metadata": {
    "colab": {
     "base_uri": "https://localhost:8080/"
    },
    "id": "lOMHSPXinUxp",
    "outputId": "fb892642-c32b-45b9-b15b-693a4b23dc5c"
   },
   "outputs": [
    {
     "data": {
      "text/plain": [
       "event_datetime    0.0\n",
       "event             0.0\n",
       "building_type     0.0\n",
       "user_id           0.0\n",
       "project_type      1.0\n",
       "dtype: float64"
      ]
     },
     "execution_count": 10,
     "metadata": {},
     "output_type": "execute_result"
    }
   ],
   "source": [
    "actions.query('event == \"building\"').isna().mean()"
   ]
  },
  {
   "cell_type": "markdown",
   "metadata": {
    "id": "PLtnVn0FAA5t"
   },
   "source": [
    "Проверим, что при реализации проекта всегда указан тип проекта"
   ]
  },
  {
   "cell_type": "code",
   "execution_count": 11,
   "metadata": {
    "colab": {
     "base_uri": "https://localhost:8080/"
    },
    "id": "cpcmROm0omtd",
    "outputId": "fe0dc279-80aa-4e20-f70c-0b90152114dd"
   },
   "outputs": [
    {
     "data": {
      "text/plain": [
       "event_datetime    0.0\n",
       "event             0.0\n",
       "building_type     1.0\n",
       "user_id           0.0\n",
       "project_type      0.0\n",
       "dtype: float64"
      ]
     },
     "execution_count": 11,
     "metadata": {},
     "output_type": "execute_result"
    }
   ],
   "source": [
    "actions.query('event == \"project\"').isna().mean()"
   ]
  },
  {
   "cell_type": "markdown",
   "metadata": {
    "id": "WpWbWHT0ALAt"
   },
   "source": [
    "Проверим наличие дубликатов"
   ]
  },
  {
   "cell_type": "code",
   "execution_count": 12,
   "metadata": {
    "colab": {
     "base_uri": "https://localhost:8080/"
    },
    "id": "qnh5gPAvo-wm",
    "outputId": "304543dc-a130-452f-f3c6-cc5d00e0e762"
   },
   "outputs": [
    {
     "data": {
      "text/plain": [
       "1"
      ]
     },
     "execution_count": 12,
     "metadata": {},
     "output_type": "execute_result"
    }
   ],
   "source": [
    "actions.duplicated().sum()"
   ]
  },
  {
   "cell_type": "markdown",
   "metadata": {},
   "source": [
    "Обнаружен один дубликат. "
   ]
  },
  {
   "cell_type": "code",
   "execution_count": 13,
   "metadata": {
    "colab": {
     "base_uri": "https://localhost:8080/",
     "height": 80
    },
    "id": "xtzb0-lxprib",
    "outputId": "0552225b-d575-4aa2-8e6b-e7920e573e95"
   },
   "outputs": [
    {
     "data": {
      "text/html": [
       "<div>\n",
       "<style scoped>\n",
       "    .dataframe tbody tr th:only-of-type {\n",
       "        vertical-align: middle;\n",
       "    }\n",
       "\n",
       "    .dataframe tbody tr th {\n",
       "        vertical-align: top;\n",
       "    }\n",
       "\n",
       "    .dataframe thead th {\n",
       "        text-align: right;\n",
       "    }\n",
       "</style>\n",
       "<table border=\"1\" class=\"dataframe\">\n",
       "  <thead>\n",
       "    <tr style=\"text-align: right;\">\n",
       "      <th></th>\n",
       "      <th>event_datetime</th>\n",
       "      <th>event</th>\n",
       "      <th>building_type</th>\n",
       "      <th>user_id</th>\n",
       "      <th>project_type</th>\n",
       "    </tr>\n",
       "  </thead>\n",
       "  <tbody>\n",
       "    <tr>\n",
       "      <td>74891</td>\n",
       "      <td>2020-05-10 18:41:56</td>\n",
       "      <td>building</td>\n",
       "      <td>research_center</td>\n",
       "      <td>c9af55d2-b0ae-4bb4-b3d5-f32aa9ac03af</td>\n",
       "      <td>NaN</td>\n",
       "    </tr>\n",
       "  </tbody>\n",
       "</table>\n",
       "</div>"
      ],
      "text/plain": [
       "           event_datetime     event    building_type  \\\n",
       "74891 2020-05-10 18:41:56  building  research_center   \n",
       "\n",
       "                                    user_id project_type  \n",
       "74891  c9af55d2-b0ae-4bb4-b3d5-f32aa9ac03af          NaN  "
      ]
     },
     "execution_count": 13,
     "metadata": {},
     "output_type": "execute_result"
    }
   ],
   "source": [
    "actions.loc[actions.duplicated(), :]"
   ]
  },
  {
   "cell_type": "markdown",
   "metadata": {
    "id": "tS7az8icAQm8"
   },
   "source": [
    "После получения дополнительной информации, мы выяснили, что постройка двух зданий одним игроком в течении одной секунды технически невозможна - это баг.  \n",
    "О баге сообщим технической команде, а дубликат удаляем. "
   ]
  },
  {
   "cell_type": "code",
   "execution_count": 14,
   "metadata": {
    "id": "BuGvtiR7BD0o"
   },
   "outputs": [],
   "source": [
    "actions = actions.drop_duplicates()"
   ]
  },
  {
   "cell_type": "markdown",
   "metadata": {
    "id": "u831HmowBR6T"
   },
   "source": [
    "Изучим таблицу с источниками прихода пользователей"
   ]
  },
  {
   "cell_type": "code",
   "execution_count": 15,
   "metadata": {
    "id": "l6KNymsuqQpu"
   },
   "outputs": [],
   "source": [
    "#В проекте использован датасет предоставленный Яндекс.Практикум\n",
    "source = pd.read_csv('/***/***.csv')"
   ]
  },
  {
   "cell_type": "code",
   "execution_count": 16,
   "metadata": {
    "colab": {
     "base_uri": "https://localhost:8080/",
     "height": 204
    },
    "id": "Te40e-3hrUSJ",
    "outputId": "61e14a7c-fd41-414c-8667-62486ba0a34f"
   },
   "outputs": [
    {
     "data": {
      "text/html": [
       "<div>\n",
       "<style scoped>\n",
       "    .dataframe tbody tr th:only-of-type {\n",
       "        vertical-align: middle;\n",
       "    }\n",
       "\n",
       "    .dataframe tbody tr th {\n",
       "        vertical-align: top;\n",
       "    }\n",
       "\n",
       "    .dataframe thead th {\n",
       "        text-align: right;\n",
       "    }\n",
       "</style>\n",
       "<table border=\"1\" class=\"dataframe\">\n",
       "  <thead>\n",
       "    <tr style=\"text-align: right;\">\n",
       "      <th></th>\n",
       "      <th>user_id</th>\n",
       "      <th>source</th>\n",
       "    </tr>\n",
       "  </thead>\n",
       "  <tbody>\n",
       "    <tr>\n",
       "      <td>0</td>\n",
       "      <td>0001f83c-c6ac-4621-b7f0-8a28b283ac30</td>\n",
       "      <td>facebook_ads</td>\n",
       "    </tr>\n",
       "    <tr>\n",
       "      <td>1</td>\n",
       "      <td>00151b4f-ba38-44a8-a650-d7cf130a0105</td>\n",
       "      <td>yandex_direct</td>\n",
       "    </tr>\n",
       "    <tr>\n",
       "      <td>2</td>\n",
       "      <td>001aaea6-3d14-43f1-8ca8-7f48820f17aa</td>\n",
       "      <td>youtube_channel_reklama</td>\n",
       "    </tr>\n",
       "    <tr>\n",
       "      <td>3</td>\n",
       "      <td>001d39dc-366c-4021-9604-6a3b9ff01e25</td>\n",
       "      <td>instagram_new_adverts</td>\n",
       "    </tr>\n",
       "    <tr>\n",
       "      <td>4</td>\n",
       "      <td>002f508f-67b6-479f-814b-b05f00d4e995</td>\n",
       "      <td>facebook_ads</td>\n",
       "    </tr>\n",
       "  </tbody>\n",
       "</table>\n",
       "</div>"
      ],
      "text/plain": [
       "                                user_id                   source\n",
       "0  0001f83c-c6ac-4621-b7f0-8a28b283ac30             facebook_ads\n",
       "1  00151b4f-ba38-44a8-a650-d7cf130a0105            yandex_direct\n",
       "2  001aaea6-3d14-43f1-8ca8-7f48820f17aa  youtube_channel_reklama\n",
       "3  001d39dc-366c-4021-9604-6a3b9ff01e25    instagram_new_adverts\n",
       "4  002f508f-67b6-479f-814b-b05f00d4e995             facebook_ads"
      ]
     },
     "execution_count": 16,
     "metadata": {},
     "output_type": "execute_result"
    }
   ],
   "source": [
    "source.head()"
   ]
  },
  {
   "cell_type": "markdown",
   "metadata": {
    "id": "2-oTgkQkBrYy"
   },
   "source": [
    "Проверим наличие пропусков"
   ]
  },
  {
   "cell_type": "code",
   "execution_count": 17,
   "metadata": {
    "colab": {
     "base_uri": "https://localhost:8080/"
    },
    "id": "OR95JJqJrbRE",
    "outputId": "4deee02b-a038-40b6-fbaa-60bee721ffa1"
   },
   "outputs": [
    {
     "data": {
      "text/plain": [
       "user_id    0.0\n",
       "source     0.0\n",
       "dtype: float64"
      ]
     },
     "execution_count": 17,
     "metadata": {},
     "output_type": "execute_result"
    }
   ],
   "source": [
    "source.isna().mean()"
   ]
  },
  {
   "cell_type": "markdown",
   "metadata": {
    "id": "Kg05tII3Bw4k"
   },
   "source": [
    "Проверим наличие дубликатов"
   ]
  },
  {
   "cell_type": "code",
   "execution_count": 18,
   "metadata": {
    "colab": {
     "base_uri": "https://localhost:8080/"
    },
    "id": "dZ_wpw2irWYN",
    "outputId": "eb2687b8-3371-437c-b9d6-4b763b38b25e"
   },
   "outputs": [
    {
     "data": {
      "text/plain": [
       "0"
      ]
     },
     "execution_count": 18,
     "metadata": {},
     "output_type": "execute_result"
    }
   ],
   "source": [
    "source.duplicated().sum()"
   ]
  },
  {
   "cell_type": "markdown",
   "metadata": {
    "id": "jpKp3zp8B1Xc"
   },
   "source": [
    "Убедимся, что для каждого пользователя указан только один источник"
   ]
  },
  {
   "cell_type": "code",
   "execution_count": 19,
   "metadata": {
    "colab": {
     "base_uri": "https://localhost:8080/"
    },
    "id": "y-qkZgptre9H",
    "outputId": "b9a7f39a-0c83-4e59-980f-e744de308151"
   },
   "outputs": [
    {
     "data": {
      "text/plain": [
       "0"
      ]
     },
     "execution_count": 19,
     "metadata": {},
     "output_type": "execute_result"
    }
   ],
   "source": [
    "source.duplicated(subset = ['user_id']).sum()"
   ]
  },
  {
   "cell_type": "code",
   "execution_count": 20,
   "metadata": {
    "colab": {
     "base_uri": "https://localhost:8080/"
    },
    "id": "OsePQPbwrrzO",
    "outputId": "38cd9e37-68f2-416d-d8df-28f9f81411b1"
   },
   "outputs": [
    {
     "data": {
      "text/plain": [
       "array(['facebook_ads', 'yandex_direct', 'youtube_channel_reklama',\n",
       "       'instagram_new_adverts'], dtype=object)"
      ]
     },
     "execution_count": 20,
     "metadata": {},
     "output_type": "execute_result"
    }
   ],
   "source": [
    "source['source'].unique()"
   ]
  },
  {
   "cell_type": "markdown",
   "metadata": {
    "id": "1QLC0mRYB_00"
   },
   "source": [
    "Изучим таблицу с расходами на маркетинг"
   ]
  },
  {
   "cell_type": "code",
   "execution_count": 21,
   "metadata": {
    "id": "7kGd1gE4turI"
   },
   "outputs": [],
   "source": [
    "costs = pd.read_csv('/datasets/ad_costs.csv')"
   ]
  },
  {
   "cell_type": "code",
   "execution_count": 22,
   "metadata": {
    "colab": {
     "base_uri": "https://localhost:8080/",
     "height": 204
    },
    "id": "2j_zExwNt4ND",
    "outputId": "2fa8f00b-d841-4801-9f8f-5aaaf4f49279"
   },
   "outputs": [
    {
     "data": {
      "text/html": [
       "<div>\n",
       "<style scoped>\n",
       "    .dataframe tbody tr th:only-of-type {\n",
       "        vertical-align: middle;\n",
       "    }\n",
       "\n",
       "    .dataframe tbody tr th {\n",
       "        vertical-align: top;\n",
       "    }\n",
       "\n",
       "    .dataframe thead th {\n",
       "        text-align: right;\n",
       "    }\n",
       "</style>\n",
       "<table border=\"1\" class=\"dataframe\">\n",
       "  <thead>\n",
       "    <tr style=\"text-align: right;\">\n",
       "      <th></th>\n",
       "      <th>source</th>\n",
       "      <th>day</th>\n",
       "      <th>cost</th>\n",
       "    </tr>\n",
       "  </thead>\n",
       "  <tbody>\n",
       "    <tr>\n",
       "      <td>0</td>\n",
       "      <td>facebook_ads</td>\n",
       "      <td>2020-05-03</td>\n",
       "      <td>935.882786</td>\n",
       "    </tr>\n",
       "    <tr>\n",
       "      <td>1</td>\n",
       "      <td>facebook_ads</td>\n",
       "      <td>2020-05-04</td>\n",
       "      <td>548.354480</td>\n",
       "    </tr>\n",
       "    <tr>\n",
       "      <td>2</td>\n",
       "      <td>facebook_ads</td>\n",
       "      <td>2020-05-05</td>\n",
       "      <td>260.185754</td>\n",
       "    </tr>\n",
       "    <tr>\n",
       "      <td>3</td>\n",
       "      <td>facebook_ads</td>\n",
       "      <td>2020-05-06</td>\n",
       "      <td>177.982200</td>\n",
       "    </tr>\n",
       "    <tr>\n",
       "      <td>4</td>\n",
       "      <td>facebook_ads</td>\n",
       "      <td>2020-05-07</td>\n",
       "      <td>111.766796</td>\n",
       "    </tr>\n",
       "  </tbody>\n",
       "</table>\n",
       "</div>"
      ],
      "text/plain": [
       "         source         day        cost\n",
       "0  facebook_ads  2020-05-03  935.882786\n",
       "1  facebook_ads  2020-05-04  548.354480\n",
       "2  facebook_ads  2020-05-05  260.185754\n",
       "3  facebook_ads  2020-05-06  177.982200\n",
       "4  facebook_ads  2020-05-07  111.766796"
      ]
     },
     "execution_count": 22,
     "metadata": {},
     "output_type": "execute_result"
    }
   ],
   "source": [
    "costs.head()"
   ]
  },
  {
   "cell_type": "markdown",
   "metadata": {
    "id": "ddO3qqVOCaxq"
   },
   "source": [
    "Проверим наличие пропусков"
   ]
  },
  {
   "cell_type": "code",
   "execution_count": 23,
   "metadata": {
    "colab": {
     "base_uri": "https://localhost:8080/"
    },
    "id": "gmR83w5rt5ig",
    "outputId": "962f2d37-4400-4627-8fca-f4581c59692e"
   },
   "outputs": [
    {
     "data": {
      "text/plain": [
       "source    0.0\n",
       "day       0.0\n",
       "cost      0.0\n",
       "dtype: float64"
      ]
     },
     "execution_count": 23,
     "metadata": {},
     "output_type": "execute_result"
    }
   ],
   "source": [
    "costs.isna().mean()"
   ]
  },
  {
   "cell_type": "markdown",
   "metadata": {
    "id": "Z7siEtePCd-p"
   },
   "source": [
    "Проверим наличие дубликатов"
   ]
  },
  {
   "cell_type": "code",
   "execution_count": 24,
   "metadata": {
    "colab": {
     "base_uri": "https://localhost:8080/"
    },
    "id": "A4pbTqw2t_tb",
    "outputId": "e3d3b061-4132-4fa2-dd35-30eeb8c5da78"
   },
   "outputs": [
    {
     "data": {
      "text/plain": [
       "0"
      ]
     },
     "execution_count": 24,
     "metadata": {},
     "output_type": "execute_result"
    }
   ],
   "source": [
    "costs.duplicated().sum()"
   ]
  },
  {
   "cell_type": "markdown",
   "metadata": {
    "id": "si9k6i3yCgkm"
   },
   "source": [
    "Проверим типы данных"
   ]
  },
  {
   "cell_type": "code",
   "execution_count": 25,
   "metadata": {
    "colab": {
     "base_uri": "https://localhost:8080/"
    },
    "id": "ltuqNWQRuE4F",
    "outputId": "3a2feffd-8758-4add-f4ef-8a4b8ef63115"
   },
   "outputs": [
    {
     "name": "stdout",
     "output_type": "stream",
     "text": [
      "<class 'pandas.core.frame.DataFrame'>\n",
      "RangeIndex: 28 entries, 0 to 27\n",
      "Data columns (total 3 columns):\n",
      "source    28 non-null object\n",
      "day       28 non-null object\n",
      "cost      28 non-null float64\n",
      "dtypes: float64(1), object(2)\n",
      "memory usage: 800.0+ bytes\n"
     ]
    }
   ],
   "source": [
    "costs.info()"
   ]
  },
  {
   "cell_type": "markdown",
   "metadata": {
    "id": "j94AoFWWuQQM"
   },
   "source": [
    "Дату переведем в формат даты"
   ]
  },
  {
   "cell_type": "code",
   "execution_count": 26,
   "metadata": {
    "id": "rphG3RHVCsId"
   },
   "outputs": [],
   "source": [
    "costs['day'] = pd.to_datetime(costs['day'], format = '%Y-%m-%d')"
   ]
  },
  {
   "cell_type": "markdown",
   "metadata": {},
   "source": [
    "В целом вопросов по качеству предоставленных данных почти не возникло: обработка пропусков не потребовалась, обнаружен и удален всего один дубликат, в нескольких местах изменили тип данных на дату для возможности дальнейшей обработки."
   ]
  },
  {
   "cell_type": "markdown",
   "metadata": {
    "id": "Ju--lOTwCOmC"
   },
   "source": [
    "## Исследовательский анализ данных"
   ]
  },
  {
   "cell_type": "markdown",
   "metadata": {
    "id": "k6-DhIpZ-6OF"
   },
   "source": [
    "Проверим, за какой период у нас есть данные по активностям игроков"
   ]
  },
  {
   "cell_type": "code",
   "execution_count": 27,
   "metadata": {
    "colab": {
     "base_uri": "https://localhost:8080/"
    },
    "id": "BL6l4AXD--9x",
    "outputId": "f6874eb6-7112-49fc-a0ab-4496330fadfb"
   },
   "outputs": [
    {
     "data": {
      "text/plain": [
       "Timestamp('2020-05-04 00:00:01')"
      ]
     },
     "execution_count": 27,
     "metadata": {},
     "output_type": "execute_result"
    }
   ],
   "source": [
    "actions['event_datetime'].min()"
   ]
  },
  {
   "cell_type": "code",
   "execution_count": 28,
   "metadata": {
    "colab": {
     "base_uri": "https://localhost:8080/"
    },
    "id": "5pMph8hs_uns",
    "outputId": "ea8ae3f4-029e-422c-ceb5-091296c457f7"
   },
   "outputs": [
    {
     "data": {
      "text/plain": [
       "Timestamp('2020-06-05 12:32:49')"
      ]
     },
     "execution_count": 28,
     "metadata": {},
     "output_type": "execute_result"
    }
   ],
   "source": [
    "actions['event_datetime'].max()"
   ]
  },
  {
   "cell_type": "markdown",
   "metadata": {
    "id": "G_vKsa_hBQTQ"
   },
   "source": [
    "Нам доступны данные о пользовательской активности чуть больше чем за месяц: с 4 мая 2020 по 5 июля 2020"
   ]
  },
  {
   "cell_type": "markdown",
   "metadata": {
    "id": "MTx2wnwYAUlP"
   },
   "source": [
    "Проверим, за какой период у нас есть данные по рекламным расходам;"
   ]
  },
  {
   "cell_type": "code",
   "execution_count": 29,
   "metadata": {
    "colab": {
     "base_uri": "https://localhost:8080/"
    },
    "id": "CwhUutwmATkv",
    "outputId": "a7912fc8-edad-467b-969c-f08585a68673"
   },
   "outputs": [
    {
     "data": {
      "text/plain": [
       "Timestamp('2020-05-03 00:00:00')"
      ]
     },
     "execution_count": 29,
     "metadata": {},
     "output_type": "execute_result"
    }
   ],
   "source": [
    "costs['day'].min()"
   ]
  },
  {
   "cell_type": "code",
   "execution_count": 30,
   "metadata": {
    "colab": {
     "base_uri": "https://localhost:8080/"
    },
    "id": "hgv0-yBcAorM",
    "outputId": "a4b76f0c-3377-4f34-a65a-bcb00613714d"
   },
   "outputs": [
    {
     "data": {
      "text/plain": [
       "Timestamp('2020-05-09 00:00:00')"
      ]
     },
     "execution_count": 30,
     "metadata": {},
     "output_type": "execute_result"
    }
   ],
   "source": [
    "costs['day'].max()"
   ]
  },
  {
   "cell_type": "markdown",
   "metadata": {
    "id": "1Qjy8jdSBOsU"
   },
   "source": [
    "Данные по рекламным расходам приведены за период с 3 мая по 9 мая. При этом мы изучаем когорту пользователей, зарегистрировавшихся с 4 по 10 мая. Нам известно, что реклама закупается на день вперед - поэтому все данные по рекламных расходам относятся к изучаемой когорте. "
   ]
  },
  {
   "cell_type": "markdown",
   "metadata": {
    "id": "lYlVGU8ZCOyH"
   },
   "source": [
    "Проверим, какие события, типы зданий, проектов есть в наборе данных;"
   ]
  },
  {
   "cell_type": "code",
   "execution_count": 31,
   "metadata": {
    "colab": {
     "base_uri": "https://localhost:8080/"
    },
    "id": "rsXqcAPxCUAq",
    "outputId": "6e2afd82-f7db-4f10-e939-5622812aa476"
   },
   "outputs": [
    {
     "data": {
      "text/plain": [
       "array(['building', 'finished_stage_1', 'project'], dtype=object)"
      ]
     },
     "execution_count": 31,
     "metadata": {},
     "output_type": "execute_result"
    }
   ],
   "source": [
    "actions['event'].unique()"
   ]
  },
  {
   "cell_type": "code",
   "execution_count": 32,
   "metadata": {
    "colab": {
     "base_uri": "https://localhost:8080/"
    },
    "id": "_F0bI5CcCoN3",
    "outputId": "511a07a9-deb6-4fc5-eb55-bc13a7f1101a"
   },
   "outputs": [
    {
     "data": {
      "text/plain": [
       "array(['assembly_shop', 'spaceport', nan, 'research_center'], dtype=object)"
      ]
     },
     "execution_count": 32,
     "metadata": {},
     "output_type": "execute_result"
    }
   ],
   "source": [
    "actions['building_type'].unique()"
   ]
  },
  {
   "cell_type": "code",
   "execution_count": 33,
   "metadata": {
    "colab": {
     "base_uri": "https://localhost:8080/"
    },
    "id": "ANQV5qvnCnq2",
    "outputId": "76b9cb8e-3e89-4154-d6ad-b15f9830f10d"
   },
   "outputs": [
    {
     "data": {
      "text/plain": [
       "array([nan, 'satellite_orbital_assembly'], dtype=object)"
      ]
     },
     "execution_count": 33,
     "metadata": {},
     "output_type": "execute_result"
    }
   ],
   "source": [
    "actions['project_type'].unique()"
   ]
  },
  {
   "cell_type": "markdown",
   "metadata": {
    "id": "SXKJG6DgCnuY"
   },
   "source": [
    "Всё соответствует тех. заданию"
   ]
  },
  {
   "cell_type": "markdown",
   "metadata": {
    "id": "DXKZWpcDsSfO"
   },
   "source": [
    "Проверим, что для всех пользователей из actions есть источник в source;"
   ]
  },
  {
   "cell_type": "code",
   "execution_count": 34,
   "metadata": {
    "colab": {
     "base_uri": "https://localhost:8080/"
    },
    "id": "ivpuJVc3E4wP",
    "outputId": "6dd0b852-ae39-4a5e-b6fd-5f4c6bdfa6c7"
   },
   "outputs": [
    {
     "data": {
      "text/plain": [
       "True"
      ]
     },
     "execution_count": 34,
     "metadata": {},
     "output_type": "execute_result"
    }
   ],
   "source": [
    "set(actions['user_id'].unique()).issubset(source['user_id'].unique())"
   ]
  },
  {
   "cell_type": "code",
   "execution_count": 35,
   "metadata": {
    "colab": {
     "base_uri": "https://localhost:8080/"
    },
    "id": "Jp8yCq9QECni",
    "outputId": "23f2d97d-9613-4fe0-eeaa-7463ba37c31e"
   },
   "outputs": [
    {
     "data": {
      "text/plain": [
       "array(['facebook_ads', 'instagram_new_adverts', 'yandex_direct',\n",
       "       'youtube_channel_reklama'], dtype=object)"
      ]
     },
     "execution_count": 35,
     "metadata": {},
     "output_type": "execute_result"
    }
   ],
   "source": [
    "costs['source'].unique()"
   ]
  },
  {
   "cell_type": "code",
   "execution_count": 36,
   "metadata": {
    "colab": {
     "base_uri": "https://localhost:8080/"
    },
    "id": "MjSvduXMFCIW",
    "outputId": "215cd13d-1379-40ab-97e8-df8f5b954be9"
   },
   "outputs": [
    {
     "data": {
      "text/plain": [
       "array(['facebook_ads', 'yandex_direct', 'youtube_channel_reklama',\n",
       "       'instagram_new_adverts'], dtype=object)"
      ]
     },
     "execution_count": 36,
     "metadata": {},
     "output_type": "execute_result"
    }
   ],
   "source": [
    "source['source'].unique()"
   ]
  },
  {
   "cell_type": "markdown",
   "metadata": {
    "id": "ccp3NUTOFK9H"
   },
   "source": [
    "Для всех пользователей заполнен источник из тех, по которым у нас есть данные о расходах"
   ]
  },
  {
   "cell_type": "markdown",
   "metadata": {
    "id": "Fe4xVra3J2wz"
   },
   "source": [
    "## Анализ влияния событий на совершение целевого события"
   ]
  },
  {
   "cell_type": "markdown",
   "metadata": {
    "id": "TXT1disrJ5lm"
   },
   "source": [
    "Целевое событие: завершение уровня. "
   ]
  },
  {
   "cell_type": "markdown",
   "metadata": {
    "id": "MByBwoF8KCuC"
   },
   "source": [
    "Исследуем количество игроков, завершивших уровень победой на врагом, и реализацией проекта;  \n",
    "Мы можем выделить игроков, завершивших уровень победой над врагом - у таких игроков не заполнена информация о реализации проекта. "
   ]
  },
  {
   "cell_type": "code",
   "execution_count": 37,
   "metadata": {
    "id": "Z8kSzjdRFfEc"
   },
   "outputs": [],
   "source": [
    "finished_stage_1 = actions.query('event == \"finished_stage_1\"')"
   ]
  },
  {
   "cell_type": "code",
   "execution_count": 38,
   "metadata": {
    "colab": {
     "base_uri": "https://localhost:8080/",
     "height": 204
    },
    "id": "oVGtXPROMpRD",
    "outputId": "45e3f16f-bc38-4bfc-ba46-9d780ada9a86"
   },
   "outputs": [
    {
     "data": {
      "text/html": [
       "<div>\n",
       "<style scoped>\n",
       "    .dataframe tbody tr th:only-of-type {\n",
       "        vertical-align: middle;\n",
       "    }\n",
       "\n",
       "    .dataframe tbody tr th {\n",
       "        vertical-align: top;\n",
       "    }\n",
       "\n",
       "    .dataframe thead th {\n",
       "        text-align: right;\n",
       "    }\n",
       "</style>\n",
       "<table border=\"1\" class=\"dataframe\">\n",
       "  <thead>\n",
       "    <tr style=\"text-align: right;\">\n",
       "      <th></th>\n",
       "      <th>event_datetime</th>\n",
       "      <th>event</th>\n",
       "      <th>building_type</th>\n",
       "      <th>user_id</th>\n",
       "      <th>project_type</th>\n",
       "    </tr>\n",
       "  </thead>\n",
       "  <tbody>\n",
       "    <tr>\n",
       "      <td>6659</td>\n",
       "      <td>2020-05-04 19:47:29</td>\n",
       "      <td>finished_stage_1</td>\n",
       "      <td>NaN</td>\n",
       "      <td>ced7b368-818f-48f6-9461-2346de0892c5</td>\n",
       "      <td>NaN</td>\n",
       "    </tr>\n",
       "    <tr>\n",
       "      <td>13134</td>\n",
       "      <td>2020-05-05 13:22:09</td>\n",
       "      <td>finished_stage_1</td>\n",
       "      <td>NaN</td>\n",
       "      <td>7ef7fc89-2779-46ea-b328-9e5035b83af5</td>\n",
       "      <td>NaN</td>\n",
       "    </tr>\n",
       "    <tr>\n",
       "      <td>15274</td>\n",
       "      <td>2020-05-05 18:54:37</td>\n",
       "      <td>finished_stage_1</td>\n",
       "      <td>NaN</td>\n",
       "      <td>70db22b3-c2f4-43bc-94ea-51c8d2904a29</td>\n",
       "      <td>NaN</td>\n",
       "    </tr>\n",
       "    <tr>\n",
       "      <td>16284</td>\n",
       "      <td>2020-05-05 21:27:29</td>\n",
       "      <td>finished_stage_1</td>\n",
       "      <td>NaN</td>\n",
       "      <td>903fc9ef-ba97-4b12-9d5c-ac8d602fbd8b</td>\n",
       "      <td>NaN</td>\n",
       "    </tr>\n",
       "    <tr>\n",
       "      <td>19650</td>\n",
       "      <td>2020-05-06 06:02:22</td>\n",
       "      <td>finished_stage_1</td>\n",
       "      <td>NaN</td>\n",
       "      <td>58e077ba-feb1-4556-a5a0-d96bd04efa39</td>\n",
       "      <td>NaN</td>\n",
       "    </tr>\n",
       "  </tbody>\n",
       "</table>\n",
       "</div>"
      ],
      "text/plain": [
       "           event_datetime             event building_type  \\\n",
       "6659  2020-05-04 19:47:29  finished_stage_1           NaN   \n",
       "13134 2020-05-05 13:22:09  finished_stage_1           NaN   \n",
       "15274 2020-05-05 18:54:37  finished_stage_1           NaN   \n",
       "16284 2020-05-05 21:27:29  finished_stage_1           NaN   \n",
       "19650 2020-05-06 06:02:22  finished_stage_1           NaN   \n",
       "\n",
       "                                    user_id project_type  \n",
       "6659   ced7b368-818f-48f6-9461-2346de0892c5          NaN  \n",
       "13134  7ef7fc89-2779-46ea-b328-9e5035b83af5          NaN  \n",
       "15274  70db22b3-c2f4-43bc-94ea-51c8d2904a29          NaN  \n",
       "16284  903fc9ef-ba97-4b12-9d5c-ac8d602fbd8b          NaN  \n",
       "19650  58e077ba-feb1-4556-a5a0-d96bd04efa39          NaN  "
      ]
     },
     "execution_count": 38,
     "metadata": {},
     "output_type": "execute_result"
    }
   ],
   "source": [
    "finished_stage_1.head()"
   ]
  },
  {
   "cell_type": "code",
   "execution_count": 39,
   "metadata": {
    "colab": {
     "base_uri": "https://localhost:8080/"
    },
    "id": "lgvZlgrwN2Fi",
    "outputId": "47df700b-0ac4-48b3-ac92-0ae8808a1c97"
   },
   "outputs": [
    {
     "data": {
      "text/plain": [
       "5817"
      ]
     },
     "execution_count": 39,
     "metadata": {},
     "output_type": "execute_result"
    }
   ],
   "source": [
    "len(finished_stage_1)"
   ]
  },
  {
   "cell_type": "markdown",
   "metadata": {
    "id": "ExbTD6DhN4HJ"
   },
   "source": [
    "5817 игроков из первой когорты завешили 1й уровень к 5 июня 2020 г."
   ]
  },
  {
   "cell_type": "markdown",
   "metadata": {
    "id": "b1GJgP3sP9yd"
   },
   "source": [
    "Найдем игроков, завершивших уровень, но при этом не завершивших проект"
   ]
  },
  {
   "cell_type": "code",
   "execution_count": 40,
   "metadata": {
    "id": "Iox6TogQOIfq"
   },
   "outputs": [],
   "source": [
    "project_completed = actions.query('event == \"project\"')"
   ]
  },
  {
   "cell_type": "code",
   "execution_count": 41,
   "metadata": {
    "colab": {
     "base_uri": "https://localhost:8080/"
    },
    "id": "l9FyJAVQSWvq",
    "outputId": "36176e50-6a47-46a1-efc5-532928cb133f"
   },
   "outputs": [
    {
     "data": {
      "text/plain": [
       "47121     e3c66498-9d45-4000-9392-f81e6796e7da\n",
       "57398     936e7af6-8338-4703-a1df-fc6c3f5b8e34\n",
       "58797     a4491c86-c498-4f74-a56e-65c136d0e9a1\n",
       "61174     85d9e675-562b-4329-8bbd-14d3b39096be\n",
       "63770     1889ca71-3c57-4e61-9ea6-a711971bbf0a\n",
       "                          ...                 \n",
       "135602    9d98001c-7e14-40d7-896e-46b3047365fd\n",
       "135603    df4a1e13-eba9-4928-a7cf-ee303d6f80f9\n",
       "135609    82e46f34-e243-4728-8e20-2e171fc33ea4\n",
       "135617    fe032991-71e0-48c5-889f-4c3805ba4c9b\n",
       "135630    d477dde8-7c22-4f23-9c4f-4ec31a1aa4c8\n",
       "Name: user_id, Length: 1866, dtype: object"
      ]
     },
     "execution_count": 41,
     "metadata": {},
     "output_type": "execute_result"
    }
   ],
   "source": [
    "project_completed['user_id']"
   ]
  },
  {
   "cell_type": "code",
   "execution_count": 42,
   "metadata": {
    "colab": {
     "base_uri": "https://localhost:8080/"
    },
    "id": "tgJSCvxbSuzn",
    "outputId": "3dd5f83d-7663-4e13-c3b2-7f23d7f35c4a"
   },
   "outputs": [
    {
     "data": {
      "text/plain": [
       "6659      ced7b368-818f-48f6-9461-2346de0892c5\n",
       "13134     7ef7fc89-2779-46ea-b328-9e5035b83af5\n",
       "15274     70db22b3-c2f4-43bc-94ea-51c8d2904a29\n",
       "16284     903fc9ef-ba97-4b12-9d5c-ac8d602fbd8b\n",
       "19650     58e077ba-feb1-4556-a5a0-d96bd04efa39\n",
       "                          ...                 \n",
       "135632    22cce310-fe10-41a2-941b-9c3d63327fea\n",
       "135633    d477dde8-7c22-4f23-9c4f-4ec31a1aa4c8\n",
       "135636    515c1952-99aa-4bca-a7ea-d0449eb5385a\n",
       "135638    32572adb-900f-4b5d-a453-1eb1e6d88d8b\n",
       "135639    f21d179f-1c4b-437e-b9c6-ab1976907195\n",
       "Name: user_id, Length: 5817, dtype: object"
      ]
     },
     "execution_count": 42,
     "metadata": {},
     "output_type": "execute_result"
    }
   ],
   "source": [
    "finished_stage_1['user_id']"
   ]
  },
  {
   "cell_type": "code",
   "execution_count": 43,
   "metadata": {
    "id": "DXDy0giySz4Y"
   },
   "outputs": [],
   "source": [
    "win_with_project = set(project_completed['user_id']) & set(finished_stage_1['user_id'])"
   ]
  },
  {
   "cell_type": "code",
   "execution_count": 44,
   "metadata": {
    "colab": {
     "base_uri": "https://localhost:8080/"
    },
    "id": "I4Ido0stTSNi",
    "outputId": "33fada43-005f-4a38-b840-1669eb93b1b0"
   },
   "outputs": [
    {
     "data": {
      "text/plain": [
       "1866"
      ]
     },
     "execution_count": 44,
     "metadata": {},
     "output_type": "execute_result"
    }
   ],
   "source": [
    "len(win_with_project)"
   ]
  },
  {
   "cell_type": "markdown",
   "metadata": {
    "id": "V1LdHHekTknu"
   },
   "source": [
    "Все игроки, реализовавшие проект, завершили первый уровень.  \n",
    "Стало быть оставшиеся игроки завершили уровень победой над другим игроком."
   ]
  },
  {
   "cell_type": "code",
   "execution_count": 45,
   "metadata": {
    "colab": {
     "base_uri": "https://localhost:8080/"
    },
    "id": "6qhtrmie2ASW",
    "outputId": "56136a18-899e-43a5-c808-8322b9000b95"
   },
   "outputs": [
    {
     "data": {
      "text/plain": [
       "3951"
      ]
     },
     "execution_count": 45,
     "metadata": {},
     "output_type": "execute_result"
    }
   ],
   "source": [
    "len(finished_stage_1['user_id']) - len(win_with_project)"
   ]
  },
  {
   "cell_type": "markdown",
   "metadata": {
    "id": "US6S-jsn3ctH"
   },
   "source": [
    "3951 игрок завершил уровень победой над врагом"
   ]
  },
  {
   "cell_type": "markdown",
   "metadata": {
    "id": "byAPs6tm3kLK"
   },
   "source": [
    "Судя по первой когорте примерно в два раза больше игроков завершают уровень победой над врагом, чем реализацией проекта."
   ]
  },
  {
   "cell_type": "code",
   "execution_count": 46,
   "metadata": {
    "id": "xg8mNKZsan9g"
   },
   "outputs": [],
   "source": [
    "finished_stage_1 = finished_stage_1.merge(project_completed[['user_id', 'project_type']], how = 'left', on = 'user_id')"
   ]
  },
  {
   "cell_type": "code",
   "execution_count": 47,
   "metadata": {
    "id": "xK-SMkQ-b5_W"
   },
   "outputs": [],
   "source": [
    "finished_stage_1 = finished_stage_1.rename(columns = {'project_type_y':'win_type'})"
   ]
  },
  {
   "cell_type": "code",
   "execution_count": 48,
   "metadata": {
    "id": "5tlAKCe6ZtEX"
   },
   "outputs": [],
   "source": [
    "finished_stage_1['win_type'] = finished_stage_1['win_type'].fillna('enemy_defeat')"
   ]
  },
  {
   "cell_type": "code",
   "execution_count": 49,
   "metadata": {
    "id": "FUBVBSXsejeF"
   },
   "outputs": [],
   "source": [
    "win_types = finished_stage_1.groupby('win_type')['user_id'].count().reset_index()"
   ]
  },
  {
   "cell_type": "code",
   "execution_count": 50,
   "metadata": {
    "colab": {
     "base_uri": "https://localhost:8080/",
     "height": 111
    },
    "id": "DkWpFg8mfzOe",
    "outputId": "2cb9f6f6-db76-40fd-ad43-1faa206a61c7"
   },
   "outputs": [
    {
     "data": {
      "text/html": [
       "<div>\n",
       "<style scoped>\n",
       "    .dataframe tbody tr th:only-of-type {\n",
       "        vertical-align: middle;\n",
       "    }\n",
       "\n",
       "    .dataframe tbody tr th {\n",
       "        vertical-align: top;\n",
       "    }\n",
       "\n",
       "    .dataframe thead th {\n",
       "        text-align: right;\n",
       "    }\n",
       "</style>\n",
       "<table border=\"1\" class=\"dataframe\">\n",
       "  <thead>\n",
       "    <tr style=\"text-align: right;\">\n",
       "      <th></th>\n",
       "      <th>win_type</th>\n",
       "      <th>user_id</th>\n",
       "    </tr>\n",
       "  </thead>\n",
       "  <tbody>\n",
       "    <tr>\n",
       "      <td>0</td>\n",
       "      <td>enemy_defeat</td>\n",
       "      <td>3951</td>\n",
       "    </tr>\n",
       "    <tr>\n",
       "      <td>1</td>\n",
       "      <td>satellite_orbital_assembly</td>\n",
       "      <td>1866</td>\n",
       "    </tr>\n",
       "  </tbody>\n",
       "</table>\n",
       "</div>"
      ],
      "text/plain": [
       "                     win_type  user_id\n",
       "0                enemy_defeat     3951\n",
       "1  satellite_orbital_assembly     1866"
      ]
     },
     "execution_count": 50,
     "metadata": {},
     "output_type": "execute_result"
    }
   ],
   "source": [
    "win_types"
   ]
  },
  {
   "cell_type": "code",
   "execution_count": 51,
   "metadata": {
    "colab": {
     "base_uri": "https://localhost:8080/",
     "height": 318
    },
    "id": "pic2SD3ucu1w",
    "outputId": "4d5d927d-b95e-4f64-ebd8-bbc10984ea76"
   },
   "outputs": [
    {
     "data": {
      "image/png": "[encoded data removed]",
      "text/plain": [
       "<Figure size 432x288 with 1 Axes>"
      ]
     },
     "metadata": {},
     "output_type": "display_data"
    }
   ],
   "source": [
    "labels = ['Победа над противником', 'Реализация проекта']\n",
    "wins = win_types['user_id']\n",
    "\n",
    "fig1, ax1 = plt.subplots()\n",
    "ax1.pie(wins, labels=labels, autopct='%1.1f%%',shadow=False,\n",
    "         startangle=90)\n",
    "plt.title(\"Доли завершения уровня через реализацию проекта и через победу над противником\")\n",
    "\n",
    "plt.show()"
   ]
  },
  {
   "cell_type": "markdown",
   "metadata": {
    "id": "E4HoQBpt4sPT"
   },
   "source": [
    "Посмотрим сколько и каких зданий строили игроки на первом уровне"
   ]
  },
  {
   "cell_type": "code",
   "execution_count": 52,
   "metadata": {
    "id": "7zivLuzb5oDK"
   },
   "outputs": [],
   "source": [
    "buildings = actions.groupby('building_type')['event'].count().reset_index().sort_values(by = 'event', ascending = False)"
   ]
  },
  {
   "cell_type": "code",
   "execution_count": 53,
   "metadata": {
    "id": "jLO_pb0D5-fy"
   },
   "outputs": [],
   "source": [
    "buildings = buildings.rename(columns = {'event':'build_number'})"
   ]
  },
  {
   "cell_type": "code",
   "execution_count": 54,
   "metadata": {
    "colab": {
     "base_uri": "https://localhost:8080/",
     "height": 142
    },
    "id": "LxSM22Fy-mvE",
    "outputId": "58d219b7-5ffb-43d9-934a-16bbb599da70"
   },
   "outputs": [
    {
     "data": {
      "text/html": [
       "<div>\n",
       "<style scoped>\n",
       "    .dataframe tbody tr th:only-of-type {\n",
       "        vertical-align: middle;\n",
       "    }\n",
       "\n",
       "    .dataframe tbody tr th {\n",
       "        vertical-align: top;\n",
       "    }\n",
       "\n",
       "    .dataframe thead th {\n",
       "        text-align: right;\n",
       "    }\n",
       "</style>\n",
       "<table border=\"1\" class=\"dataframe\">\n",
       "  <thead>\n",
       "    <tr style=\"text-align: right;\">\n",
       "      <th></th>\n",
       "      <th>building_type</th>\n",
       "      <th>build_number</th>\n",
       "    </tr>\n",
       "  </thead>\n",
       "  <tbody>\n",
       "    <tr>\n",
       "      <td>2</td>\n",
       "      <td>spaceport</td>\n",
       "      <td>59325</td>\n",
       "    </tr>\n",
       "    <tr>\n",
       "      <td>0</td>\n",
       "      <td>assembly_shop</td>\n",
       "      <td>54494</td>\n",
       "    </tr>\n",
       "    <tr>\n",
       "      <td>1</td>\n",
       "      <td>research_center</td>\n",
       "      <td>14137</td>\n",
       "    </tr>\n",
       "  </tbody>\n",
       "</table>\n",
       "</div>"
      ],
      "text/plain": [
       "     building_type  build_number\n",
       "2        spaceport         59325\n",
       "0    assembly_shop         54494\n",
       "1  research_center         14137"
      ]
     },
     "execution_count": 54,
     "metadata": {},
     "output_type": "execute_result"
    }
   ],
   "source": [
    "buildings"
   ]
  },
  {
   "cell_type": "code",
   "execution_count": 55,
   "metadata": {
    "colab": {
     "base_uri": "https://localhost:8080/",
     "height": 302
    },
    "id": "zf5JQW2n6Ypr",
    "outputId": "8022db16-76b9-4a1d-af5b-4a156b74b1b8"
   },
   "outputs": [
    {
     "data": {
      "image/png": "[encoded data removed]",
      "text/plain": [
       "<Figure size 432x288 with 1 Axes>"
      ]
     },
     "metadata": {},
     "output_type": "display_data"
    }
   ],
   "source": [
    "sns.set_style(\"whitegrid\") \n",
    "ax = sns.barplot(data = buildings, x = 'building_type', y = 'build_number')\n",
    "plt.title('Распределение количества зданий по типам')\n",
    "plt.show()"
   ]
  },
  {
   "cell_type": "markdown",
   "metadata": {
    "id": "-0eXP8_q6e4N"
   },
   "source": [
    "Самое востребованное здание - космопорт (построено 59325 штук), немного отстает сборочный цех (54494), на последнем месте исследовательский центр (14137)"
   ]
  },
  {
   "cell_type": "markdown",
   "metadata": {
    "id": "NuvB8n7mAVcb"
   },
   "source": [
    "Посмотрим какое распределение построенных зданий среди игроков завершивших уровень"
   ]
  },
  {
   "cell_type": "code",
   "execution_count": 56,
   "metadata": {
    "id": "WJOYqzNM9r_p"
   },
   "outputs": [],
   "source": [
    "finished_user_id = finished_stage_1['user_id']"
   ]
  },
  {
   "cell_type": "code",
   "execution_count": 57,
   "metadata": {
    "id": "43m6h4Vk_9ls"
   },
   "outputs": [],
   "source": [
    "buildings_finished_stage = actions.query('user_id in @finished_user_id').groupby('building_type')['event'].count().reset_index().sort_values(by = 'event', ascending = False)"
   ]
  },
  {
   "cell_type": "code",
   "execution_count": 58,
   "metadata": {
    "id": "BGqGaiWL7ELw"
   },
   "outputs": [],
   "source": [
    "buildings_finished_stage = buildings_finished_stage.rename(columns = {'event':'build_number'})"
   ]
  },
  {
   "cell_type": "code",
   "execution_count": 59,
   "metadata": {
    "colab": {
     "base_uri": "https://localhost:8080/",
     "height": 142
    },
    "id": "AqD4paDLCkOA",
    "outputId": "96a082c7-7b4a-445d-f3ef-3f96a90b5323"
   },
   "outputs": [
    {
     "data": {
      "text/html": [
       "<div>\n",
       "<style scoped>\n",
       "    .dataframe tbody tr th:only-of-type {\n",
       "        vertical-align: middle;\n",
       "    }\n",
       "\n",
       "    .dataframe tbody tr th {\n",
       "        vertical-align: top;\n",
       "    }\n",
       "\n",
       "    .dataframe thead th {\n",
       "        text-align: right;\n",
       "    }\n",
       "</style>\n",
       "<table border=\"1\" class=\"dataframe\">\n",
       "  <thead>\n",
       "    <tr style=\"text-align: right;\">\n",
       "      <th></th>\n",
       "      <th>building_type</th>\n",
       "      <th>build_number</th>\n",
       "    </tr>\n",
       "  </thead>\n",
       "  <tbody>\n",
       "    <tr>\n",
       "      <td>2</td>\n",
       "      <td>spaceport</td>\n",
       "      <td>27920</td>\n",
       "    </tr>\n",
       "    <tr>\n",
       "      <td>0</td>\n",
       "      <td>assembly_shop</td>\n",
       "      <td>25414</td>\n",
       "    </tr>\n",
       "    <tr>\n",
       "      <td>1</td>\n",
       "      <td>research_center</td>\n",
       "      <td>7452</td>\n",
       "    </tr>\n",
       "  </tbody>\n",
       "</table>\n",
       "</div>"
      ],
      "text/plain": [
       "     building_type  build_number\n",
       "2        spaceport         27920\n",
       "0    assembly_shop         25414\n",
       "1  research_center          7452"
      ]
     },
     "execution_count": 59,
     "metadata": {},
     "output_type": "execute_result"
    }
   ],
   "source": [
    "buildings_finished_stage"
   ]
  },
  {
   "cell_type": "markdown",
   "metadata": {
    "id": "1JCm3GpOALhN"
   },
   "source": [
    "Лидируют по прежнему космопорт и сборочный цех, и в целом пропорции распределения типов зданий те же.  \n",
    "Космопорт (построено 27920 штук), немного отстает сборочный цех (25414), на последнем месте исследовательский центр (7452)"
   ]
  },
  {
   "cell_type": "code",
   "execution_count": 60,
   "metadata": {
    "colab": {
     "base_uri": "https://localhost:8080/",
     "height": 302
    },
    "id": "dGKkqLxb65W1",
    "outputId": "cade225a-c48b-40d8-c179-ff033c7cb8b4"
   },
   "outputs": [
    {
     "data": {
      "image/png": "[encoded data removed]",
      "text/plain": [
       "<Figure size 432x288 with 1 Axes>"
      ]
     },
     "metadata": {},
     "output_type": "display_data"
    }
   ],
   "source": [
    "sns.set_style(\"whitegrid\") \n",
    "ax = sns.barplot(data = buildings_finished_stage, x = 'building_type', y = 'build_number').set(xlabel = 'Тип здания', ylabel = 'Построено, шт')\n",
    "plt.title('Распределение количества зданий по типам')\n",
    "plt.show()"
   ]
  },
  {
   "cell_type": "markdown",
   "metadata": {
    "id": "I2kzBPbNOLdK"
   },
   "source": [
    "Посчитаем сколько зданий построил каждый игрок за время прохождения уровня"
   ]
  },
  {
   "cell_type": "code",
   "execution_count": 61,
   "metadata": {
    "id": "5i9ZRH1_hxb1"
   },
   "outputs": [],
   "source": [
    "finished_actions = actions.query('user_id in @finished_user_id')"
   ]
  },
  {
   "cell_type": "code",
   "execution_count": 62,
   "metadata": {
    "colab": {
     "base_uri": "https://localhost:8080/",
     "height": 204
    },
    "id": "iXs6nqCdiWSP",
    "outputId": "22f236bc-efbb-4c81-8379-1241e3f76114"
   },
   "outputs": [
    {
     "data": {
      "text/html": [
       "<div>\n",
       "<style scoped>\n",
       "    .dataframe tbody tr th:only-of-type {\n",
       "        vertical-align: middle;\n",
       "    }\n",
       "\n",
       "    .dataframe tbody tr th {\n",
       "        vertical-align: top;\n",
       "    }\n",
       "\n",
       "    .dataframe thead th {\n",
       "        text-align: right;\n",
       "    }\n",
       "</style>\n",
       "<table border=\"1\" class=\"dataframe\">\n",
       "  <thead>\n",
       "    <tr style=\"text-align: right;\">\n",
       "      <th></th>\n",
       "      <th>event_datetime</th>\n",
       "      <th>event</th>\n",
       "      <th>building_type</th>\n",
       "      <th>user_id</th>\n",
       "      <th>project_type</th>\n",
       "    </tr>\n",
       "  </thead>\n",
       "  <tbody>\n",
       "    <tr>\n",
       "      <td>1</td>\n",
       "      <td>2020-05-04 00:00:03</td>\n",
       "      <td>building</td>\n",
       "      <td>assembly_shop</td>\n",
       "      <td>c07b1c10-f477-44dc-81dc-ec82254b1347</td>\n",
       "      <td>NaN</td>\n",
       "    </tr>\n",
       "    <tr>\n",
       "      <td>2</td>\n",
       "      <td>2020-05-04 00:00:16</td>\n",
       "      <td>building</td>\n",
       "      <td>assembly_shop</td>\n",
       "      <td>6edd42cc-e753-4ff6-a947-2107cd560710</td>\n",
       "      <td>NaN</td>\n",
       "    </tr>\n",
       "    <tr>\n",
       "      <td>4</td>\n",
       "      <td>2020-05-04 00:00:35</td>\n",
       "      <td>building</td>\n",
       "      <td>assembly_shop</td>\n",
       "      <td>cdc6bb92-0ccb-4490-9866-ef142f09139d</td>\n",
       "      <td>NaN</td>\n",
       "    </tr>\n",
       "    <tr>\n",
       "      <td>6</td>\n",
       "      <td>2020-05-04 00:00:36</td>\n",
       "      <td>building</td>\n",
       "      <td>assembly_shop</td>\n",
       "      <td>4fe0f101-694b-4e31-9740-d1d87f7208ea</td>\n",
       "      <td>NaN</td>\n",
       "    </tr>\n",
       "    <tr>\n",
       "      <td>8</td>\n",
       "      <td>2020-05-04 00:00:44</td>\n",
       "      <td>building</td>\n",
       "      <td>assembly_shop</td>\n",
       "      <td>65a92713-5969-48b1-8945-bfefa5063887</td>\n",
       "      <td>NaN</td>\n",
       "    </tr>\n",
       "  </tbody>\n",
       "</table>\n",
       "</div>"
      ],
      "text/plain": [
       "       event_datetime     event  building_type  \\\n",
       "1 2020-05-04 00:00:03  building  assembly_shop   \n",
       "2 2020-05-04 00:00:16  building  assembly_shop   \n",
       "4 2020-05-04 00:00:35  building  assembly_shop   \n",
       "6 2020-05-04 00:00:36  building  assembly_shop   \n",
       "8 2020-05-04 00:00:44  building  assembly_shop   \n",
       "\n",
       "                                user_id project_type  \n",
       "1  c07b1c10-f477-44dc-81dc-ec82254b1347          NaN  \n",
       "2  6edd42cc-e753-4ff6-a947-2107cd560710          NaN  \n",
       "4  cdc6bb92-0ccb-4490-9866-ef142f09139d          NaN  \n",
       "6  4fe0f101-694b-4e31-9740-d1d87f7208ea          NaN  \n",
       "8  65a92713-5969-48b1-8945-bfefa5063887          NaN  "
      ]
     },
     "execution_count": 62,
     "metadata": {},
     "output_type": "execute_result"
    }
   ],
   "source": [
    "finished_actions.head()"
   ]
  },
  {
   "cell_type": "code",
   "execution_count": 63,
   "metadata": {
    "id": "ng8YUvLePWfh"
   },
   "outputs": [],
   "source": [
    "finished_buildings = finished_actions.query('event == \"building\"').groupby('user_id')['event'].count().reset_index()"
   ]
  },
  {
   "cell_type": "code",
   "execution_count": 64,
   "metadata": {
    "id": "qSJvoFX0PaWE"
   },
   "outputs": [],
   "source": [
    "finished_buildings.columns = ['user_id', 'built_cnt']"
   ]
  },
  {
   "cell_type": "code",
   "execution_count": 65,
   "metadata": {
    "colab": {
     "base_uri": "https://localhost:8080/",
     "height": 204
    },
    "id": "Y_cK8xHjQTLt",
    "outputId": "c19bc7cc-4d57-4de9-bb11-b32fed1e83db"
   },
   "outputs": [
    {
     "data": {
      "text/html": [
       "<div>\n",
       "<style scoped>\n",
       "    .dataframe tbody tr th:only-of-type {\n",
       "        vertical-align: middle;\n",
       "    }\n",
       "\n",
       "    .dataframe tbody tr th {\n",
       "        vertical-align: top;\n",
       "    }\n",
       "\n",
       "    .dataframe thead th {\n",
       "        text-align: right;\n",
       "    }\n",
       "</style>\n",
       "<table border=\"1\" class=\"dataframe\">\n",
       "  <thead>\n",
       "    <tr style=\"text-align: right;\">\n",
       "      <th></th>\n",
       "      <th>user_id</th>\n",
       "      <th>built_cnt</th>\n",
       "    </tr>\n",
       "  </thead>\n",
       "  <tbody>\n",
       "    <tr>\n",
       "      <td>0</td>\n",
       "      <td>001d39dc-366c-4021-9604-6a3b9ff01e25</td>\n",
       "      <td>8</td>\n",
       "    </tr>\n",
       "    <tr>\n",
       "      <td>1</td>\n",
       "      <td>003ee7e8-6356-4286-a715-62f22a18d2a1</td>\n",
       "      <td>8</td>\n",
       "    </tr>\n",
       "    <tr>\n",
       "      <td>2</td>\n",
       "      <td>004074f8-251a-4776-922c-8348dca1a2f6</td>\n",
       "      <td>12</td>\n",
       "    </tr>\n",
       "    <tr>\n",
       "      <td>3</td>\n",
       "      <td>00464e5e-28ed-4be6-bf44-517ef7b3937b</td>\n",
       "      <td>8</td>\n",
       "    </tr>\n",
       "    <tr>\n",
       "      <td>4</td>\n",
       "      <td>0056c007-c082-43cc-bdef-afc49bca4cb9</td>\n",
       "      <td>3</td>\n",
       "    </tr>\n",
       "  </tbody>\n",
       "</table>\n",
       "</div>"
      ],
      "text/plain": [
       "                                user_id  built_cnt\n",
       "0  001d39dc-366c-4021-9604-6a3b9ff01e25          8\n",
       "1  003ee7e8-6356-4286-a715-62f22a18d2a1          8\n",
       "2  004074f8-251a-4776-922c-8348dca1a2f6         12\n",
       "3  00464e5e-28ed-4be6-bf44-517ef7b3937b          8\n",
       "4  0056c007-c082-43cc-bdef-afc49bca4cb9          3"
      ]
     },
     "execution_count": 65,
     "metadata": {},
     "output_type": "execute_result"
    }
   ],
   "source": [
    "finished_buildings.head()"
   ]
  },
  {
   "cell_type": "code",
   "execution_count": 66,
   "metadata": {
    "id": "IkOurz8WQh6b"
   },
   "outputs": [],
   "source": [
    "finished_stage_1 = finished_stage_1.merge(finished_buildings, how = 'left', on = 'user_id')"
   ]
  },
  {
   "cell_type": "code",
   "execution_count": 67,
   "metadata": {
    "colab": {
     "base_uri": "https://localhost:8080/",
     "height": 204
    },
    "id": "V96iaK2sQnhp",
    "outputId": "1c3e3fa6-dc13-41d9-85be-25f6ec9b6ca2"
   },
   "outputs": [
    {
     "data": {
      "text/html": [
       "<div>\n",
       "<style scoped>\n",
       "    .dataframe tbody tr th:only-of-type {\n",
       "        vertical-align: middle;\n",
       "    }\n",
       "\n",
       "    .dataframe tbody tr th {\n",
       "        vertical-align: top;\n",
       "    }\n",
       "\n",
       "    .dataframe thead th {\n",
       "        text-align: right;\n",
       "    }\n",
       "</style>\n",
       "<table border=\"1\" class=\"dataframe\">\n",
       "  <thead>\n",
       "    <tr style=\"text-align: right;\">\n",
       "      <th></th>\n",
       "      <th>event_datetime</th>\n",
       "      <th>event</th>\n",
       "      <th>building_type</th>\n",
       "      <th>user_id</th>\n",
       "      <th>project_type_x</th>\n",
       "      <th>win_type</th>\n",
       "      <th>built_cnt</th>\n",
       "    </tr>\n",
       "  </thead>\n",
       "  <tbody>\n",
       "    <tr>\n",
       "      <td>0</td>\n",
       "      <td>2020-05-04 19:47:29</td>\n",
       "      <td>finished_stage_1</td>\n",
       "      <td>NaN</td>\n",
       "      <td>ced7b368-818f-48f6-9461-2346de0892c5</td>\n",
       "      <td>NaN</td>\n",
       "      <td>enemy_defeat</td>\n",
       "      <td>2</td>\n",
       "    </tr>\n",
       "    <tr>\n",
       "      <td>1</td>\n",
       "      <td>2020-05-05 13:22:09</td>\n",
       "      <td>finished_stage_1</td>\n",
       "      <td>NaN</td>\n",
       "      <td>7ef7fc89-2779-46ea-b328-9e5035b83af5</td>\n",
       "      <td>NaN</td>\n",
       "      <td>enemy_defeat</td>\n",
       "      <td>2</td>\n",
       "    </tr>\n",
       "    <tr>\n",
       "      <td>2</td>\n",
       "      <td>2020-05-05 18:54:37</td>\n",
       "      <td>finished_stage_1</td>\n",
       "      <td>NaN</td>\n",
       "      <td>70db22b3-c2f4-43bc-94ea-51c8d2904a29</td>\n",
       "      <td>NaN</td>\n",
       "      <td>enemy_defeat</td>\n",
       "      <td>2</td>\n",
       "    </tr>\n",
       "    <tr>\n",
       "      <td>3</td>\n",
       "      <td>2020-05-05 21:27:29</td>\n",
       "      <td>finished_stage_1</td>\n",
       "      <td>NaN</td>\n",
       "      <td>903fc9ef-ba97-4b12-9d5c-ac8d602fbd8b</td>\n",
       "      <td>NaN</td>\n",
       "      <td>enemy_defeat</td>\n",
       "      <td>3</td>\n",
       "    </tr>\n",
       "    <tr>\n",
       "      <td>4</td>\n",
       "      <td>2020-05-06 06:02:22</td>\n",
       "      <td>finished_stage_1</td>\n",
       "      <td>NaN</td>\n",
       "      <td>58e077ba-feb1-4556-a5a0-d96bd04efa39</td>\n",
       "      <td>NaN</td>\n",
       "      <td>enemy_defeat</td>\n",
       "      <td>2</td>\n",
       "    </tr>\n",
       "  </tbody>\n",
       "</table>\n",
       "</div>"
      ],
      "text/plain": [
       "       event_datetime             event building_type  \\\n",
       "0 2020-05-04 19:47:29  finished_stage_1           NaN   \n",
       "1 2020-05-05 13:22:09  finished_stage_1           NaN   \n",
       "2 2020-05-05 18:54:37  finished_stage_1           NaN   \n",
       "3 2020-05-05 21:27:29  finished_stage_1           NaN   \n",
       "4 2020-05-06 06:02:22  finished_stage_1           NaN   \n",
       "\n",
       "                                user_id project_type_x      win_type  \\\n",
       "0  ced7b368-818f-48f6-9461-2346de0892c5            NaN  enemy_defeat   \n",
       "1  7ef7fc89-2779-46ea-b328-9e5035b83af5            NaN  enemy_defeat   \n",
       "2  70db22b3-c2f4-43bc-94ea-51c8d2904a29            NaN  enemy_defeat   \n",
       "3  903fc9ef-ba97-4b12-9d5c-ac8d602fbd8b            NaN  enemy_defeat   \n",
       "4  58e077ba-feb1-4556-a5a0-d96bd04efa39            NaN  enemy_defeat   \n",
       "\n",
       "   built_cnt  \n",
       "0          2  \n",
       "1          2  \n",
       "2          2  \n",
       "3          3  \n",
       "4          2  "
      ]
     },
     "execution_count": 67,
     "metadata": {},
     "output_type": "execute_result"
    }
   ],
   "source": [
    "finished_stage_1.head()"
   ]
  },
  {
   "cell_type": "code",
   "execution_count": 68,
   "metadata": {
    "colab": {
     "base_uri": "https://localhost:8080/"
    },
    "id": "BCtfr6d-Cmid",
    "outputId": "c9e12f54-d584-44df-a630-a6de4bf2ddf3"
   },
   "outputs": [
    {
     "data": {
      "text/plain": [
       "2"
      ]
     },
     "execution_count": 68,
     "metadata": {},
     "output_type": "execute_result"
    }
   ],
   "source": [
    "finished_stage_1['built_cnt'].min()"
   ]
  },
  {
   "cell_type": "code",
   "execution_count": 69,
   "metadata": {},
   "outputs": [
    {
     "data": {
      "text/plain": [
       "20"
      ]
     },
     "execution_count": 69,
     "metadata": {},
     "output_type": "execute_result"
    }
   ],
   "source": [
    "finished_stage_1['built_cnt'].max()"
   ]
  },
  {
   "cell_type": "markdown",
   "metadata": {},
   "source": [
    "Игроки построили от 2 до 20 зданий"
   ]
  },
  {
   "cell_type": "code",
   "execution_count": 70,
   "metadata": {
    "colab": {
     "base_uri": "https://localhost:8080/",
     "height": 301
    },
    "id": "PQvyXYu486cf",
    "outputId": "dfdf8d1e-53c5-4071-9333-3b69741ed033"
   },
   "outputs": [
    {
     "ename": "AttributeError",
     "evalue": "module 'seaborn' has no attribute 'histplot'",
     "output_type": "error",
     "traceback": [
      "\u001b[0;31m---------------------------------------------------------------------------\u001b[0m",
      "\u001b[0;31mAttributeError\u001b[0m                            Traceback (most recent call last)",
      "\u001b[0;32m<ipython-input-70-cc89ca8631f8>\u001b[0m in \u001b[0;36m<module>\u001b[0;34m\u001b[0m\n\u001b[0;32m----> 1\u001b[0;31m sns.histplot(data=finished_stage_1, x=\"built_cnt\", bins = 19).set(title = 'Распределение количества построенных зданий', \n\u001b[0m\u001b[1;32m      2\u001b[0m                                                                   xlabel='Количество зданий', ylabel='Количество игроков')\n\u001b[1;32m      3\u001b[0m \u001b[0mplt\u001b[0m\u001b[0;34m.\u001b[0m\u001b[0mshow\u001b[0m\u001b[0;34m(\u001b[0m\u001b[0;34m)\u001b[0m\u001b[0;34m\u001b[0m\u001b[0;34m\u001b[0m\u001b[0m\n",
      "\u001b[0;31mAttributeError\u001b[0m: module 'seaborn' has no attribute 'histplot'"
     ]
    }
   ],
   "source": [
    "sns.histplot(data=finished_stage_1, x=\"built_cnt\", bins = 19).set(title = 'Распределение количества построенных зданий', \n",
    "                                                                  xlabel='Количество зданий', ylabel='Количество игроков')\n",
    "plt.show()"
   ]
  },
  {
   "cell_type": "code",
   "execution_count": null,
   "metadata": {
    "colab": {
     "base_uri": "https://localhost:8080/"
    },
    "id": "1YajGU8YBAgY",
    "outputId": "7cff4452-081e-4c5a-cf6b-dd412009afc6"
   },
   "outputs": [],
   "source": [
    "buildings_finished_stage['build_number'].sum() / len(finished_user_id)"
   ]
  },
  {
   "cell_type": "markdown",
   "metadata": {
    "id": "IkQyJRvfA67z"
   },
   "source": [
    "Игроки, завершившие первый уровень, построили в среднем по 10,5 зданий.  \n",
    "В районе 7 построек наблюдается провал. Возможно, это влияние каких-то игровых механик, например после постройки семи зданий типа космопорт/сборочный цех открывается возможность строить иследовательский центр? В таком случае мало игроков останавливаются на семи зданиях и решают попробовать новое здание"
   ]
  },
  {
   "cell_type": "markdown",
   "metadata": {
    "id": "0uDUFZEMDRQn"
   },
   "source": [
    "### Выводы"
   ]
  },
  {
   "cell_type": "markdown",
   "metadata": {
    "id": "Y4Bik5CYD4yc"
   },
   "source": [
    "Судя по первой когорте примерно в два раза больше игроков завершают уровень победой над врагом, чем реализацией проекта. 3951 игрок завершил уровень победой над врагом, 1866 - реализацией проекта.  \n",
    "\n",
    "Самое востребованное здание у завершивших уровень - космопорт (построено 27920 штук), немного отстает сборочный цех (25414), на последнем месте исследовательский центр (7452).  \n",
    "Игроки, завершившие первый уровень, построили от 2 до 20 зданий, в среднем по 10,5 зданий. "
   ]
  },
  {
   "cell_type": "markdown",
   "metadata": {
    "id": "uvCLAR7XXcZb"
   },
   "source": [
    "## Проверка статистических гипотез"
   ]
  },
  {
   "cell_type": "markdown",
   "metadata": {
    "id": "zYXjEgJwXhur"
   },
   "source": [
    "1я гипотеза: о различии времени прохождения уровня между пользователями, которые заканчивают уровень через реализацию проекта, и пользователями, которые заканчивают уровень победой над другим игроком. "
   ]
  },
  {
   "cell_type": "markdown",
   "metadata": {
    "id": "BpkGt5U3Et3T"
   },
   "source": [
    "Найдем id игроков завершивших уровень победой над врагом и тех кто реализовал проект"
   ]
  },
  {
   "cell_type": "code",
   "execution_count": null,
   "metadata": {
    "id": "2madCJY1Zk3h"
   },
   "outputs": [],
   "source": [
    "defeat_user_id  = set(finished_stage_1['user_id']) - set(project_completed['user_id'])"
   ]
  },
  {
   "cell_type": "code",
   "execution_count": null,
   "metadata": {
    "id": "MlZaJJPUcM8M"
   },
   "outputs": [],
   "source": [
    "project_user_id = project_completed['user_id']"
   ]
  },
  {
   "cell_type": "markdown",
   "metadata": {
    "id": "Vvp6IdF7gw9h"
   },
   "source": [
    "Рассчитаем время прохождения уровня.  \n",
    "Найдем время первого события для завершивших первый уровень игроков"
   ]
  },
  {
   "cell_type": "code",
   "execution_count": null,
   "metadata": {
    "id": "-xj8Zyf3hj6K"
   },
   "outputs": [],
   "source": [
    "first_event = finished_actions.groupby('user_id')['event_datetime'].min().reset_index()"
   ]
  },
  {
   "cell_type": "code",
   "execution_count": null,
   "metadata": {
    "id": "84mvF6kJjd6Y"
   },
   "outputs": [],
   "source": [
    "first_event.columns = ['user_id', 'first_event_time']"
   ]
  },
  {
   "cell_type": "code",
   "execution_count": null,
   "metadata": {
    "colab": {
     "base_uri": "https://localhost:8080/",
     "height": 204
    },
    "id": "Z2UHjQkphj-j",
    "outputId": "6897f82a-74bd-4cc2-de72-cb2f268a10cf"
   },
   "outputs": [],
   "source": [
    "first_event.head()"
   ]
  },
  {
   "cell_type": "code",
   "execution_count": null,
   "metadata": {
    "id": "CH-RHo1-iuKp"
   },
   "outputs": [],
   "source": [
    "finished_stage_1 = finished_stage_1.merge(first_event, on = 'user_id', how = 'left')\n"
   ]
  },
  {
   "cell_type": "code",
   "execution_count": null,
   "metadata": {
    "colab": {
     "base_uri": "https://localhost:8080/",
     "height": 289
    },
    "id": "38SEd6Fp3EfV",
    "outputId": "380b5171-2680-4f64-8be6-94e666b2d1f9"
   },
   "outputs": [],
   "source": [
    "finished_stage_1.head()"
   ]
  },
  {
   "cell_type": "markdown",
   "metadata": {
    "id": "jGymZsQM7WPr"
   },
   "source": [
    "Рассчитаем время от первого события до завершения уровня"
   ]
  },
  {
   "cell_type": "code",
   "execution_count": null,
   "metadata": {
    "id": "yjn5ioLn4B55"
   },
   "outputs": [],
   "source": [
    "finished_stage_1['time_to_finish'] = finished_stage_1['event_datetime'] - finished_stage_1['first_event_time']"
   ]
  },
  {
   "cell_type": "code",
   "execution_count": null,
   "metadata": {
    "colab": {
     "base_uri": "https://localhost:8080/",
     "height": 374
    },
    "id": "OVpmqATm4sUX",
    "outputId": "6489b37a-5bd2-4b3d-b6c9-b0a9affa9296"
   },
   "outputs": [],
   "source": [
    "finished_stage_1.head()"
   ]
  },
  {
   "cell_type": "markdown",
   "metadata": {
    "id": "0GWK7FWCkTqg"
   },
   "source": [
    "Добавим время прохождения уровня в секундах, чтобы по этим данным можно было проводить сравнение с помощью t-теста"
   ]
  },
  {
   "cell_type": "code",
   "execution_count": null,
   "metadata": {
    "id": "6xysNlOikFXx"
   },
   "outputs": [],
   "source": [
    "finished_stage_1['time_to_finish_sec'] = finished_stage_1['time_to_finish'].dt.total_seconds()"
   ]
  },
  {
   "cell_type": "markdown",
   "metadata": {
    "id": "YTIHp_Pccc5x"
   },
   "source": [
    "Выделим две группы, по которым нужно сравнить время прохождения уровня"
   ]
  },
  {
   "cell_type": "code",
   "execution_count": null,
   "metadata": {
    "id": "9x_TTkJjce9K"
   },
   "outputs": [],
   "source": [
    "finished_def = finished_stage_1.query('user_id in @defeat_user_id')"
   ]
  },
  {
   "cell_type": "code",
   "execution_count": null,
   "metadata": {
    "colab": {
     "base_uri": "https://localhost:8080/",
     "height": 479
    },
    "id": "8uj4FPFu5F4w",
    "outputId": "c73a3ed8-8009-4c1d-ca03-75939708a78f"
   },
   "outputs": [],
   "source": [
    "finished_def.tail()"
   ]
  },
  {
   "cell_type": "code",
   "execution_count": null,
   "metadata": {
    "id": "8_Bbq2kjgN5e"
   },
   "outputs": [],
   "source": [
    "finished_proj = finished_stage_1.query('user_id in @project_user_id')"
   ]
  },
  {
   "cell_type": "code",
   "execution_count": null,
   "metadata": {
    "colab": {
     "base_uri": "https://localhost:8080/",
     "height": 479
    },
    "id": "mEVvbgQpgPGS",
    "outputId": "b53bd54d-7f38-4a1a-d512-6af135f1617e"
   },
   "outputs": [],
   "source": [
    "finished_proj.head()"
   ]
  },
  {
   "cell_type": "code",
   "execution_count": null,
   "metadata": {
    "colab": {
     "base_uri": "https://localhost:8080/"
    },
    "id": "MRdtczDDIL6t",
    "outputId": "653c6202-11fd-4183-f872-762fa9cea26c"
   },
   "outputs": [],
   "source": [
    "finished_def['time_to_finish'].mean()"
   ]
  },
  {
   "cell_type": "code",
   "execution_count": null,
   "metadata": {
    "colab": {
     "base_uri": "https://localhost:8080/"
    },
    "id": "BUxTme05ISJX",
    "outputId": "e080915c-9b2c-4426-daf9-b0765dc43e6c"
   },
   "outputs": [],
   "source": [
    "finished_proj['time_to_finish'].mean()"
   ]
  },
  {
   "cell_type": "markdown",
   "metadata": {
    "id": "KMIWSP2mIXSY"
   },
   "source": [
    "Судя по средним, у игроков, завершивших уровень реализацией проекта, уходит больше времени - 13,5 дней. У одолевших противника на прохождение уровня уходит в среднем 11 дней."
   ]
  },
  {
   "cell_type": "markdown",
   "metadata": {
    "id": "5heBsbcagcfz"
   },
   "source": [
    "Проверим гипотезу о равенстве средних двух полученных совокупностей.  \n",
    "H0: Среднее время прохождения уровня у группы победивших противника и группы завершивших проект не отличается.  \n",
    "H1: Среднее время прохождения уровня у группы победивших противника и группы завершивших проект различаются.  "
   ]
  },
  {
   "cell_type": "code",
   "execution_count": null,
   "metadata": {
    "colab": {
     "base_uri": "https://localhost:8080/"
    },
    "id": "Kgtl-cNXDVoc",
    "outputId": "ee6117b0-1931-42ff-e691-e5352aeff0f1"
   },
   "outputs": [],
   "source": [
    "alpha = 0.05  # критический уровень статистической значимости\n",
    "# если p-value окажется меньше него - отвергнем гипотезу\n",
    "\n",
    "results = st.ttest_ind(finished_def['time_to_finish_sec'], finished_proj['time_to_finish_sec'], equal_var = True)\n",
    "\n",
    "print('p-значение:', results.pvalue)\n",
    "\n",
    "if results.pvalue < alpha:\n",
    "    print('Отвергаем нулевую гипотезу')\n",
    "else:\n",
    "    print('Не получилось отвергнуть нулевую гипотезу')"
   ]
  },
  {
   "cell_type": "markdown",
   "metadata": {
    "id": "amMU9nX2Enva"
   },
   "source": [
    "Между двумя группами действительно есть статистически значимая разница во времени прохождения уровня.  \n"
   ]
  },
  {
   "cell_type": "markdown",
   "metadata": {
    "id": "MrMbBPiyMWEN"
   },
   "source": [
    "Чтобы оценить какая из двух групп потенциально приносит больше выручки, проверим **гипотезу о разнице в количестве построенных зданий за время прохождения уровня**.  "
   ]
  },
  {
   "cell_type": "markdown",
   "metadata": {
    "id": "03f4kl7WRR8T"
   },
   "source": [
    "Переопределим наши группы чтобы добавить в них данные о построенных зданиях"
   ]
  },
  {
   "cell_type": "code",
   "execution_count": null,
   "metadata": {
    "id": "jovdpD3gQ0j_"
   },
   "outputs": [],
   "source": [
    "finished_def = finished_stage_1.query('user_id in @defeat_user_id')"
   ]
  },
  {
   "cell_type": "code",
   "execution_count": null,
   "metadata": {
    "id": "jXohh9svRImc"
   },
   "outputs": [],
   "source": [
    "finished_proj = finished_stage_1.query('user_id in @project_user_id')"
   ]
  },
  {
   "cell_type": "code",
   "execution_count": null,
   "metadata": {
    "colab": {
     "base_uri": "https://localhost:8080/"
    },
    "id": "MlQMk2fKRKD5",
    "outputId": "8916eb36-6412-4838-86e8-14fa0b8f24aa"
   },
   "outputs": [],
   "source": [
    "finished_def['built_cnt'].mean()"
   ]
  },
  {
   "cell_type": "code",
   "execution_count": null,
   "metadata": {
    "colab": {
     "base_uri": "https://localhost:8080/"
    },
    "id": "vep66sWQRhLI",
    "outputId": "a0ea0c49-2f09-44f9-8821-b84a85613dce"
   },
   "outputs": [],
   "source": [
    "finished_proj['built_cnt'].mean()"
   ]
  },
  {
   "cell_type": "markdown",
   "metadata": {
    "id": "ipgCNG3ARneE"
   },
   "source": [
    "Судя по средним, игроки завершившие проект, построили больше зданий."
   ]
  },
  {
   "cell_type": "markdown",
   "metadata": {
    "id": "t4iK69nwRzRg"
   },
   "source": [
    "Проверим статистическую гипотезу о равенсте средних по количеству построенных зданий между двумя группами.  \n",
    "H0: Среднее количество построенных зданий прохождения уровня у группы победивших противника и группы завершивших проект не отличается.  \n",
    "H1: Среднее количество построенных зданий прохождения уровня у группы победивших противника и группы завершивших проект различаются.\n"
   ]
  },
  {
   "cell_type": "code",
   "execution_count": null,
   "metadata": {
    "colab": {
     "base_uri": "https://localhost:8080/"
    },
    "id": "gmwgSJa1Rk6u",
    "outputId": "3396f3cf-e3a8-4e75-92f8-5fd634f16233"
   },
   "outputs": [],
   "source": [
    "alpha = 0.05  # критический уровень статистической значимости\n",
    "# если p-value окажется меньше него - отвергнем гипотезу\n",
    "\n",
    "results = st.ttest_ind(finished_def['built_cnt'], finished_proj['built_cnt'], equal_var = True)\n",
    "\n",
    "print('p-значение:', results.pvalue)\n",
    "\n",
    "if results.pvalue < alpha:\n",
    "    print('Отвергаем нулевую гипотезу')\n",
    "else:\n",
    "    print('Не получилось отвергнуть нулевую гипотезу')"
   ]
  },
  {
   "cell_type": "markdown",
   "metadata": {
    "id": "TBCuCXE9S9YG"
   },
   "source": [
    "В количестве построенных зданий между двумя группами есть статистически значимая разница.  \n",
    "Игроки, завершившие уровень реализацией проекта, строят больше зданий за время прохождения уровня.  "
   ]
  },
  {
   "cell_type": "markdown",
   "metadata": {
    "id": "Vx1cxtfsTafW"
   },
   "source": [
    "### Выводы"
   ]
  },
  {
   "cell_type": "markdown",
   "metadata": {
    "id": "0_dLSJfJSO9I"
   },
   "source": [
    "Судя по средним значениям, у игроков, завершивших уровень реализацией проекта, уходит больше времени - 13,5 дней. У одолевших противника на прохождение уровня уходит в среднем 11 дней.  \n",
    "По результатам проведения t-етста между двумя группами действительно есть статистически значимая разница во времени прохождения уровня.  \n",
    "\n",
    "\n",
    "Игроки реализовавшие проект, также построили больше зданий, чем те кто завершил уровень победой над противником. В среднем при прохождении с проектом 12,6 зданий, при победе над врагом - 9,4 здания. Т-тест также подтверждает, что разница в количестве построенных зданий между двумя группами статистически значима.  \n",
    "При показе рекламы во время строительств зданий, игроки реализующие проект потенциально могут принести больший доход, так как строят примерно на 35% больше зданий."
   ]
  },
  {
   "cell_type": "markdown",
   "metadata": {
    "id": "oTkvroHwd8sA"
   },
   "source": [
    "## Разработка рекомендаций для модели монетизации"
   ]
  },
  {
   "cell_type": "markdown",
   "metadata": {
    "id": "4pYXOH4kf817"
   },
   "source": [
    "Рассчитаем расходы на привлечение одного игрока"
   ]
  },
  {
   "cell_type": "code",
   "execution_count": null,
   "metadata": {
    "colab": {
     "base_uri": "https://localhost:8080/",
     "height": 917
    },
    "id": "x1i2r4OdgEOp",
    "outputId": "320a5394-8bd4-4849-c9d7-f353a6471968"
   },
   "outputs": [],
   "source": [
    "costs"
   ]
  },
  {
   "cell_type": "code",
   "execution_count": null,
   "metadata": {
    "id": "JiYwfZN5BqJP"
   },
   "outputs": [],
   "source": [
    "cac = costs['cost'].sum() / len(actions['user_id'].unique())"
   ]
  },
  {
   "cell_type": "code",
   "execution_count": null,
   "metadata": {
    "colab": {
     "base_uri": "https://localhost:8080/"
    },
    "id": "TL5QR82FvoUN",
    "outputId": "0c8350ba-7ed3-4d23-8be0-c468247c0d6f"
   },
   "outputs": [],
   "source": [
    "cac"
   ]
  },
  {
   "cell_type": "markdown",
   "metadata": {
    "id": "f3UV8tZwCt22"
   },
   "source": [
    "На привлечение одного пользователя потратили  56 центов"
   ]
  },
  {
   "cell_type": "markdown",
   "metadata": {},
   "source": [
    "Проверим динамику количества событий по дням"
   ]
  },
  {
   "cell_type": "code",
   "execution_count": null,
   "metadata": {},
   "outputs": [],
   "source": [
    "actions['event_date'] = actions['event_datetime'].dt.date"
   ]
  },
  {
   "cell_type": "code",
   "execution_count": null,
   "metadata": {},
   "outputs": [],
   "source": [
    "actions.groupby('event_date')['event'].count()"
   ]
  },
  {
   "cell_type": "markdown",
   "metadata": {},
   "source": [
    "На пике 9 мая было более 13000 событий. К 6 июня регистрировались уже только единичные события. Видимо к этому времени абсолютное большинство игроков первой когорты либо завершили уровень, либо забросили игру.  \n",
    "Это означает, что нам известна окончательная модель поведения игроков (те кто еще не завершил уровень, больше не будут генерировать события). Соответственно можем рассчитывать окупаемость с учетом и тех, кто завершил уровень, и тех, кто ушел из игры. "
   ]
  },
  {
   "cell_type": "markdown",
   "metadata": {},
   "source": [
    "Посчитаем сколько зданий построили игроки"
   ]
  },
  {
   "cell_type": "code",
   "execution_count": null,
   "metadata": {},
   "outputs": [],
   "source": [
    "buildings = actions.query('event == \"building\"').groupby('user_id')['event'].count().reset_index()"
   ]
  },
  {
   "cell_type": "code",
   "execution_count": null,
   "metadata": {},
   "outputs": [],
   "source": [
    "buildings"
   ]
  },
  {
   "cell_type": "markdown",
   "metadata": {},
   "source": [
    "Посчитаем среднее количество построенных зданий"
   ]
  },
  {
   "cell_type": "code",
   "execution_count": null,
   "metadata": {},
   "outputs": [],
   "source": [
    "buildings['event'].mean()"
   ]
  },
  {
   "cell_type": "markdown",
   "metadata": {},
   "source": [
    "В среднем игроки построили по 9,42 здания"
   ]
  },
  {
   "cell_type": "markdown",
   "metadata": {},
   "source": [
    "Посчитаем, сколько показов рекламы нужно для покрытия стоимости привлечения одного игрока.  \n",
    "Стоимость одного показа рекламы в нашей игре - 7 центов.  "
   ]
  },
  {
   "cell_type": "code",
   "execution_count": null,
   "metadata": {},
   "outputs": [],
   "source": [
    "ad_price = 0.07"
   ]
  },
  {
   "cell_type": "code",
   "execution_count": null,
   "metadata": {
    "colab": {
     "base_uri": "https://localhost:8080/"
    },
    "id": "OhprsRG0JWub",
    "outputId": "fb82f85e-e157-4bfb-da6f-4986dc36ecc0"
   },
   "outputs": [],
   "source": [
    "cac/ad_price"
   ]
  },
  {
   "cell_type": "markdown",
   "metadata": {
    "id": "0qPzeIZ9L_U1"
   },
   "source": [
    "Для окупаемости привлечения одного игрока нужно показать ему рекламу 8 раз"
   ]
  },
  {
   "cell_type": "markdown",
   "metadata": {
    "id": "RWm6W3LJMWG1"
   },
   "source": [
    "Можно попробовать показывать рекламу начиная со второй постройки.  \n",
    "Либо показывать рекламу для определенной доли событий (без учета активноси конкретного игрока), например 6 раз из 7 при постройке зданий в игре показывается реклама. "
   ]
  },
  {
   "cell_type": "markdown",
   "metadata": {
    "id": "q7bg4QKwuZ0v"
   },
   "source": [
    "Проверим, какой доход мы получили бы от игроков на первом уровне, при модели показа рекламы начиная с 2-го здания. "
   ]
  },
  {
   "cell_type": "code",
   "execution_count": null,
   "metadata": {
    "id": "mlHXq7WjuqmB"
   },
   "outputs": [],
   "source": [
    "buildings['income'] = ((buildings['event'] - 1).clip(0))*ad_price"
   ]
  },
  {
   "cell_type": "code",
   "execution_count": null,
   "metadata": {},
   "outputs": [],
   "source": [
    "buildings.head()"
   ]
  },
  {
   "cell_type": "code",
   "execution_count": null,
   "metadata": {},
   "outputs": [],
   "source": [
    "income  = buildings['income'].sum()"
   ]
  },
  {
   "cell_type": "code",
   "execution_count": null,
   "metadata": {},
   "outputs": [],
   "source": [
    "income"
   ]
  },
  {
   "cell_type": "markdown",
   "metadata": {},
   "source": [
    "Если показывать рекламу начиная со второго здания - доход составит 8006,6 долларов"
   ]
  },
  {
   "cell_type": "markdown",
   "metadata": {},
   "source": [
    "Посчитаем суммарные расходы на привлечение игроков"
   ]
  },
  {
   "cell_type": "code",
   "execution_count": null,
   "metadata": {},
   "outputs": [],
   "source": [
    "cost = costs['cost'].sum()"
   ]
  },
  {
   "cell_type": "code",
   "execution_count": null,
   "metadata": {},
   "outputs": [],
   "source": [
    "cost"
   ]
  },
  {
   "cell_type": "markdown",
   "metadata": {},
   "source": [
    "На привлечение игроков потратили 7603,6 долларов.  \n",
    "Оценим прибыль при применении нашей модели"
   ]
  },
  {
   "cell_type": "code",
   "execution_count": null,
   "metadata": {},
   "outputs": [],
   "source": [
    "(income - cost)/cost"
   ]
  },
  {
   "cell_type": "markdown",
   "metadata": {},
   "source": [
    "Получилась прибыль в 5,3%"
   ]
  },
  {
   "cell_type": "markdown",
   "metadata": {
    "id": "7IGovDoY11hu"
   },
   "source": [
    "Посмотрим, что получится, если показывать рекламу 6 раз из 7 (в целом по всем игрокам)\n"
   ]
  },
  {
   "cell_type": "code",
   "execution_count": null,
   "metadata": {},
   "outputs": [],
   "source": [
    "ad_display_ratio = 6/7"
   ]
  },
  {
   "cell_type": "code",
   "execution_count": null,
   "metadata": {},
   "outputs": [],
   "source": [
    "buildings['event'].sum() * ad_display_ratio * ad_price"
   ]
  },
  {
   "cell_type": "markdown",
   "metadata": {
    "id": "rGuWa1kR0ru3"
   },
   "source": [
    "При такой модели маркетинговые расходы также окупились. Однако при этой модели многие игроки будут видеть рекламу начиная с первой постройки, некоторым реклама может попадать при каждой постройке здания. Первая модель выглядит предпочтительнее"
   ]
  },
  {
   "cell_type": "markdown",
   "metadata": {
    "id": "-7JfeXsJ3coJ"
   },
   "source": [
    "### Выводы\n",
    "Рекомендуемая модель монетизации: показывать игрокам рекламу при постройке зданий начиная с третьего здания.  \n",
    "При такой модели расходы на привлечение игроков первой когорты окупились бы и принесли небольшую прибыль. "
   ]
  },
  {
   "cell_type": "markdown",
   "metadata": {
    "id": "IddtKK2H5cyg"
   },
   "source": [
    "## Выводы и рекомендации"
   ]
  },
  {
   "cell_type": "markdown",
   "metadata": {
    "id": "vFRCJsYf_6Ji"
   },
   "source": [
    "Судя по первой когорте примерно в два раза больше игроков завершают уровень победой над врагом, чем реализацией проекта. 3951 игрок завершил уровень победой над врагом, 1866 - реализацией проекта.\n",
    "\n",
    "Самое востребованное здание у завершивших уровень - космопорт (построено 27920 штук), немного отстает сборочный цех (25414), на последнем месте исследовательский центр (7452).\n",
    "Игроки, завершившие первый уровень, построили от 2 до 20 зданий, в среднем по 10,5 зданий.  \n",
    "\n",
    "Судя по средним значениям, у игроков, завершивших уровень реализацией проекта, уходит больше времени - 13,5 дней. У одолевших противника на прохождение уровня уходит в среднем 11 дней.\n",
    "По результатам проведения t-етста между двумя группами действительно есть статистически значимая разница во времени прохождения уровня.\n",
    "\n",
    "Игроки реализовавшие проект, также построили больше зданий, чем те кто завершил уровень победой над противником. В среднем при прохождении с проектом 12,6 зданий, при победе над врагом - 9,4 здания. Т-тест также подтверждает, что разница в количестве построенных зданий между двумя группами статистически значима.\n",
    "При показе рекламы во время строительств зданий, игроки реализующие проект потенциально могут принести больший доход, так как строят примерно на 35% больше зданий.  \n",
    "\n",
    "Рекомендуемая модель монетизации: показывать игрокам рекламу при постройке зданий начиная со второго здания.\n",
    "При такой модели расходы на привлечение игроков первой когорты окупились бы и принесли прибыль в 5,3%.  \n",
    "Однако для окупаемости рекламу нужно будет показывать практически при каждой постройке здания. Возможно, стоит рассмотреть вариант переноса части показов на другие экраны/события, например показывать рекламу при завершении уровня. "
   ]
  }
 ],
 "metadata": {
  "ExecuteTimeLog": [
   {
    "duration": 795,
    "start_time": "2021-09-13T19:18:47.612Z"
   },
   {
    "duration": 791,
    "start_time": "2021-09-13T19:18:51.261Z"
   },
   {
    "duration": 789,
    "start_time": "2021-09-13T19:18:53.069Z"
   },
   {
    "duration": 1368,
    "start_time": "2021-09-13T19:19:02.500Z"
   },
   {
    "duration": 3,
    "start_time": "2021-09-13T19:34:23.432Z"
   },
   {
    "duration": 4,
    "start_time": "2021-09-13T19:34:28.094Z"
   },
   {
    "duration": 55,
    "start_time": "2021-09-13T19:34:35.552Z"
   },
   {
    "duration": 17,
    "start_time": "2021-09-13T19:34:37.575Z"
   },
   {
    "duration": 14780,
    "start_time": "2021-09-13T19:34:43.387Z"
   },
   {
    "duration": -30,
    "start_time": "2021-09-13T19:34:58.202Z"
   },
   {
    "duration": -32,
    "start_time": "2021-09-13T19:34:58.205Z"
   },
   {
    "duration": 51,
    "start_time": "2021-09-13T19:35:08.872Z"
   },
   {
    "duration": 12,
    "start_time": "2021-09-13T19:35:10.728Z"
   },
   {
    "duration": 4,
    "start_time": "2021-09-13T19:36:31.676Z"
   },
   {
    "duration": 61,
    "start_time": "2021-09-13T19:36:31.682Z"
   },
   {
    "duration": 38,
    "start_time": "2021-09-13T19:36:31.746Z"
   },
   {
    "duration": 15,
    "start_time": "2021-09-13T19:36:31.787Z"
   },
   {
    "duration": 14,
    "start_time": "2021-09-13T19:36:31.804Z"
   },
   {
    "duration": 45415,
    "start_time": "2021-09-13T19:36:31.820Z"
   },
   {
    "duration": -91,
    "start_time": "2021-09-13T19:37:17.334Z"
   },
   {
    "duration": -93,
    "start_time": "2021-09-13T19:37:17.338Z"
   },
   {
    "duration": -94,
    "start_time": "2021-09-13T19:37:17.340Z"
   },
   {
    "duration": -96,
    "start_time": "2021-09-13T19:37:17.343Z"
   },
   {
    "duration": -96,
    "start_time": "2021-09-13T19:37:17.345Z"
   },
   {
    "duration": -97,
    "start_time": "2021-09-13T19:37:17.347Z"
   },
   {
    "duration": -98,
    "start_time": "2021-09-13T19:37:17.349Z"
   },
   {
    "duration": -100,
    "start_time": "2021-09-13T19:37:17.352Z"
   },
   {
    "duration": -100,
    "start_time": "2021-09-13T19:37:17.354Z"
   },
   {
    "duration": -101,
    "start_time": "2021-09-13T19:37:17.356Z"
   },
   {
    "duration": -102,
    "start_time": "2021-09-13T19:37:17.359Z"
   },
   {
    "duration": -102,
    "start_time": "2021-09-13T19:37:17.360Z"
   },
   {
    "duration": -102,
    "start_time": "2021-09-13T19:37:17.362Z"
   },
   {
    "duration": -103,
    "start_time": "2021-09-13T19:37:17.364Z"
   },
   {
    "duration": -103,
    "start_time": "2021-09-13T19:37:17.365Z"
   },
   {
    "duration": -103,
    "start_time": "2021-09-13T19:37:17.367Z"
   },
   {
    "duration": -104,
    "start_time": "2021-09-13T19:37:17.369Z"
   },
   {
    "duration": -104,
    "start_time": "2021-09-13T19:37:17.370Z"
   },
   {
    "duration": -103,
    "start_time": "2021-09-13T19:37:17.371Z"
   },
   {
    "duration": -104,
    "start_time": "2021-09-13T19:37:17.373Z"
   },
   {
    "duration": -109,
    "start_time": "2021-09-13T19:37:17.379Z"
   },
   {
    "duration": -110,
    "start_time": "2021-09-13T19:37:17.382Z"
   },
   {
    "duration": -111,
    "start_time": "2021-09-13T19:37:17.384Z"
   },
   {
    "duration": -111,
    "start_time": "2021-09-13T19:37:17.386Z"
   },
   {
    "duration": -111,
    "start_time": "2021-09-13T19:37:17.387Z"
   },
   {
    "duration": -112,
    "start_time": "2021-09-13T19:37:17.389Z"
   },
   {
    "duration": -108,
    "start_time": "2021-09-13T19:37:17.390Z"
   },
   {
    "duration": -109,
    "start_time": "2021-09-13T19:37:17.392Z"
   },
   {
    "duration": -108,
    "start_time": "2021-09-13T19:37:17.393Z"
   },
   {
    "duration": -108,
    "start_time": "2021-09-13T19:37:17.394Z"
   },
   {
    "duration": -108,
    "start_time": "2021-09-13T19:37:17.396Z"
   },
   {
    "duration": -108,
    "start_time": "2021-09-13T19:37:17.397Z"
   },
   {
    "duration": -109,
    "start_time": "2021-09-13T19:37:17.399Z"
   },
   {
    "duration": -108,
    "start_time": "2021-09-13T19:37:17.400Z"
   },
   {
    "duration": -108,
    "start_time": "2021-09-13T19:37:17.402Z"
   },
   {
    "duration": -107,
    "start_time": "2021-09-13T19:37:17.403Z"
   },
   {
    "duration": -107,
    "start_time": "2021-09-13T19:37:17.404Z"
   },
   {
    "duration": -108,
    "start_time": "2021-09-13T19:37:17.406Z"
   },
   {
    "duration": -108,
    "start_time": "2021-09-13T19:37:17.407Z"
   },
   {
    "duration": -109,
    "start_time": "2021-09-13T19:37:17.409Z"
   },
   {
    "duration": -108,
    "start_time": "2021-09-13T19:37:17.410Z"
   },
   {
    "duration": -108,
    "start_time": "2021-09-13T19:37:17.411Z"
   },
   {
    "duration": -109,
    "start_time": "2021-09-13T19:37:17.413Z"
   },
   {
    "duration": -108,
    "start_time": "2021-09-13T19:37:17.414Z"
   },
   {
    "duration": -108,
    "start_time": "2021-09-13T19:37:17.415Z"
   },
   {
    "duration": -108,
    "start_time": "2021-09-13T19:37:17.416Z"
   },
   {
    "duration": -108,
    "start_time": "2021-09-13T19:37:17.418Z"
   },
   {
    "duration": -108,
    "start_time": "2021-09-13T19:37:17.419Z"
   },
   {
    "duration": -107,
    "start_time": "2021-09-13T19:37:17.420Z"
   },
   {
    "duration": -112,
    "start_time": "2021-09-13T19:37:17.426Z"
   },
   {
    "duration": -114,
    "start_time": "2021-09-13T19:37:17.429Z"
   },
   {
    "duration": -114,
    "start_time": "2021-09-13T19:37:17.430Z"
   },
   {
    "duration": -113,
    "start_time": "2021-09-13T19:37:17.431Z"
   },
   {
    "duration": -114,
    "start_time": "2021-09-13T19:37:17.433Z"
   },
   {
    "duration": -114,
    "start_time": "2021-09-13T19:37:17.434Z"
   },
   {
    "duration": -137,
    "start_time": "2021-09-13T19:37:17.519Z"
   },
   {
    "duration": -205,
    "start_time": "2021-09-13T19:37:17.588Z"
   },
   {
    "duration": -206,
    "start_time": "2021-09-13T19:37:17.590Z"
   },
   {
    "duration": -205,
    "start_time": "2021-09-13T19:37:17.591Z"
   },
   {
    "duration": -206,
    "start_time": "2021-09-13T19:37:17.593Z"
   },
   {
    "duration": -206,
    "start_time": "2021-09-13T19:37:17.594Z"
   },
   {
    "duration": -205,
    "start_time": "2021-09-13T19:37:17.595Z"
   },
   {
    "duration": -206,
    "start_time": "2021-09-13T19:37:17.597Z"
   },
   {
    "duration": -206,
    "start_time": "2021-09-13T19:37:17.598Z"
   },
   {
    "duration": -206,
    "start_time": "2021-09-13T19:37:17.600Z"
   },
   {
    "duration": -206,
    "start_time": "2021-09-13T19:37:17.601Z"
   },
   {
    "duration": -205,
    "start_time": "2021-09-13T19:37:17.602Z"
   },
   {
    "duration": -205,
    "start_time": "2021-09-13T19:37:17.603Z"
   },
   {
    "duration": -206,
    "start_time": "2021-09-13T19:37:17.605Z"
   },
   {
    "duration": -205,
    "start_time": "2021-09-13T19:37:17.606Z"
   },
   {
    "duration": -206,
    "start_time": "2021-09-13T19:37:17.608Z"
   },
   {
    "duration": -256,
    "start_time": "2021-09-13T19:37:17.659Z"
   },
   {
    "duration": -283,
    "start_time": "2021-09-13T19:37:17.687Z"
   },
   {
    "duration": -307,
    "start_time": "2021-09-13T19:37:17.712Z"
   },
   {
    "duration": -317,
    "start_time": "2021-09-13T19:37:17.724Z"
   },
   {
    "duration": -318,
    "start_time": "2021-09-13T19:37:17.726Z"
   },
   {
    "duration": -318,
    "start_time": "2021-09-13T19:37:17.727Z"
   },
   {
    "duration": -318,
    "start_time": "2021-09-13T19:37:17.729Z"
   },
   {
    "duration": -319,
    "start_time": "2021-09-13T19:37:17.731Z"
   },
   {
    "duration": -319,
    "start_time": "2021-09-13T19:37:17.732Z"
   },
   {
    "duration": -318,
    "start_time": "2021-09-13T19:37:17.733Z"
   },
   {
    "duration": -319,
    "start_time": "2021-09-13T19:37:17.735Z"
   },
   {
    "duration": -319,
    "start_time": "2021-09-13T19:37:17.736Z"
   },
   {
    "duration": -325,
    "start_time": "2021-09-13T19:37:17.744Z"
   },
   {
    "duration": -275,
    "start_time": "2021-09-13T19:37:17.760Z"
   },
   {
    "duration": -276,
    "start_time": "2021-09-13T19:37:17.762Z"
   },
   {
    "duration": -275,
    "start_time": "2021-09-13T19:37:17.763Z"
   },
   {
    "duration": -276,
    "start_time": "2021-09-13T19:37:17.765Z"
   },
   {
    "duration": -275,
    "start_time": "2021-09-13T19:37:17.766Z"
   },
   {
    "duration": -275,
    "start_time": "2021-09-13T19:37:17.767Z"
   },
   {
    "duration": -275,
    "start_time": "2021-09-13T19:37:17.769Z"
   },
   {
    "duration": -275,
    "start_time": "2021-09-13T19:37:17.770Z"
   },
   {
    "duration": -276,
    "start_time": "2021-09-13T19:37:17.772Z"
   },
   {
    "duration": -275,
    "start_time": "2021-09-13T19:37:17.773Z"
   },
   {
    "duration": -276,
    "start_time": "2021-09-13T19:37:17.775Z"
   },
   {
    "duration": -275,
    "start_time": "2021-09-13T19:37:17.776Z"
   },
   {
    "duration": 4,
    "start_time": "2021-09-13T19:40:08.969Z"
   },
   {
    "duration": 52,
    "start_time": "2021-09-13T19:40:12.017Z"
   },
   {
    "duration": 13,
    "start_time": "2021-09-13T19:40:12.881Z"
   },
   {
    "duration": 12,
    "start_time": "2021-09-13T19:40:14.255Z"
   },
   {
    "duration": 12,
    "start_time": "2021-09-13T19:40:15.060Z"
   },
   {
    "duration": 8191,
    "start_time": "2021-09-13T19:40:20.095Z"
   },
   {
    "duration": 232,
    "start_time": "2021-09-13T19:41:43.557Z"
   },
   {
    "duration": 13,
    "start_time": "2021-09-13T19:41:44.933Z"
   },
   {
    "duration": 41,
    "start_time": "2021-09-13T19:41:46.553Z"
   },
   {
    "duration": 35,
    "start_time": "2021-09-13T19:41:47.238Z"
   },
   {
    "duration": 47,
    "start_time": "2021-09-13T19:41:51.427Z"
   },
   {
    "duration": 32,
    "start_time": "2021-09-13T19:41:55.012Z"
   },
   {
    "duration": 53,
    "start_time": "2021-09-13T19:41:56.920Z"
   },
   {
    "duration": 4,
    "start_time": "2021-09-13T19:42:05.358Z"
   },
   {
    "duration": 306,
    "start_time": "2021-09-13T19:42:05.366Z"
   },
   {
    "duration": 17,
    "start_time": "2021-09-13T19:42:05.676Z"
   },
   {
    "duration": 46,
    "start_time": "2021-09-13T19:42:05.695Z"
   },
   {
    "duration": 52,
    "start_time": "2021-09-13T19:42:05.744Z"
   },
   {
    "duration": 48,
    "start_time": "2021-09-13T19:42:05.798Z"
   },
   {
    "duration": 47,
    "start_time": "2021-09-13T19:42:05.848Z"
   },
   {
    "duration": 48,
    "start_time": "2021-09-13T19:42:05.897Z"
   },
   {
    "duration": 34,
    "start_time": "2021-09-13T19:42:05.949Z"
   },
   {
    "duration": 70,
    "start_time": "2021-09-13T19:42:05.987Z"
   },
   {
    "duration": 89,
    "start_time": "2021-09-13T19:42:06.059Z"
   },
   {
    "duration": 94,
    "start_time": "2021-09-13T19:42:06.150Z"
   },
   {
    "duration": 82,
    "start_time": "2021-09-13T19:42:06.246Z"
   },
   {
    "duration": 9,
    "start_time": "2021-09-13T19:42:06.330Z"
   },
   {
    "duration": 12,
    "start_time": "2021-09-13T19:42:06.341Z"
   },
   {
    "duration": 14,
    "start_time": "2021-09-13T19:42:06.356Z"
   },
   {
    "duration": 11,
    "start_time": "2021-09-13T19:42:06.372Z"
   },
   {
    "duration": 6,
    "start_time": "2021-09-13T19:42:06.385Z"
   },
   {
    "duration": 16,
    "start_time": "2021-09-13T19:42:06.393Z"
   },
   {
    "duration": 10,
    "start_time": "2021-09-13T19:42:06.411Z"
   },
   {
    "duration": 7,
    "start_time": "2021-09-13T19:42:06.423Z"
   },
   {
    "duration": 11,
    "start_time": "2021-09-13T19:42:06.432Z"
   },
   {
    "duration": 38,
    "start_time": "2021-09-13T19:42:06.445Z"
   },
   {
    "duration": 5,
    "start_time": "2021-09-13T19:42:06.486Z"
   },
   {
    "duration": 9,
    "start_time": "2021-09-13T19:42:06.494Z"
   },
   {
    "duration": 6,
    "start_time": "2021-09-13T19:42:06.506Z"
   },
   {
    "duration": 5,
    "start_time": "2021-09-13T19:42:06.519Z"
   },
   {
    "duration": 6,
    "start_time": "2021-09-13T19:42:06.528Z"
   },
   {
    "duration": 59,
    "start_time": "2021-09-13T19:42:06.537Z"
   },
   {
    "duration": 12,
    "start_time": "2021-09-13T19:42:06.598Z"
   },
   {
    "duration": 14,
    "start_time": "2021-09-13T19:42:06.613Z"
   },
   {
    "duration": 57,
    "start_time": "2021-09-13T19:42:06.629Z"
   },
   {
    "duration": 6,
    "start_time": "2021-09-13T19:42:06.689Z"
   },
   {
    "duration": 9,
    "start_time": "2021-09-13T19:42:06.697Z"
   },
   {
    "duration": 12,
    "start_time": "2021-09-13T19:42:06.708Z"
   },
   {
    "duration": 13,
    "start_time": "2021-09-13T19:42:06.723Z"
   },
   {
    "duration": 46,
    "start_time": "2021-09-13T19:42:06.738Z"
   },
   {
    "duration": 11,
    "start_time": "2021-09-13T19:42:06.786Z"
   },
   {
    "duration": 7,
    "start_time": "2021-09-13T19:42:06.800Z"
   },
   {
    "duration": 7,
    "start_time": "2021-09-13T19:42:06.809Z"
   },
   {
    "duration": 12,
    "start_time": "2021-09-13T19:42:06.819Z"
   },
   {
    "duration": 10,
    "start_time": "2021-09-13T19:42:06.833Z"
   },
   {
    "duration": 41,
    "start_time": "2021-09-13T19:42:06.845Z"
   },
   {
    "duration": 20,
    "start_time": "2021-09-13T19:42:06.888Z"
   },
   {
    "duration": 7,
    "start_time": "2021-09-13T19:42:06.910Z"
   },
   {
    "duration": 6,
    "start_time": "2021-09-13T19:42:06.919Z"
   },
   {
    "duration": 11,
    "start_time": "2021-09-13T19:42:06.928Z"
   },
   {
    "duration": 41,
    "start_time": "2021-09-13T19:42:06.941Z"
   },
   {
    "duration": 148,
    "start_time": "2021-09-13T19:42:06.985Z"
   },
   {
    "duration": 22,
    "start_time": "2021-09-13T19:42:07.135Z"
   },
   {
    "duration": 4,
    "start_time": "2021-09-13T19:42:07.159Z"
   },
   {
    "duration": 9,
    "start_time": "2021-09-13T19:42:07.182Z"
   },
   {
    "duration": 353,
    "start_time": "2021-09-13T19:42:07.194Z"
   },
   {
    "duration": -74,
    "start_time": "2021-09-13T19:42:07.625Z"
   },
   {
    "duration": -76,
    "start_time": "2021-09-13T19:42:07.628Z"
   },
   {
    "duration": -76,
    "start_time": "2021-09-13T19:42:07.630Z"
   },
   {
    "duration": -77,
    "start_time": "2021-09-13T19:42:07.632Z"
   },
   {
    "duration": -77,
    "start_time": "2021-09-13T19:42:07.634Z"
   },
   {
    "duration": -78,
    "start_time": "2021-09-13T19:42:07.636Z"
   },
   {
    "duration": -78,
    "start_time": "2021-09-13T19:42:07.637Z"
   },
   {
    "duration": -81,
    "start_time": "2021-09-13T19:42:07.642Z"
   },
   {
    "duration": -83,
    "start_time": "2021-09-13T19:42:07.645Z"
   },
   {
    "duration": -83,
    "start_time": "2021-09-13T19:42:07.647Z"
   },
   {
    "duration": -83,
    "start_time": "2021-09-13T19:42:07.649Z"
   },
   {
    "duration": -84,
    "start_time": "2021-09-13T19:42:07.651Z"
   },
   {
    "duration": -86,
    "start_time": "2021-09-13T19:42:07.654Z"
   },
   {
    "duration": -85,
    "start_time": "2021-09-13T19:42:07.655Z"
   },
   {
    "duration": -85,
    "start_time": "2021-09-13T19:42:07.657Z"
   },
   {
    "duration": -84,
    "start_time": "2021-09-13T19:42:07.658Z"
   },
   {
    "duration": -85,
    "start_time": "2021-09-13T19:42:07.660Z"
   },
   {
    "duration": -85,
    "start_time": "2021-09-13T19:42:07.662Z"
   },
   {
    "duration": -86,
    "start_time": "2021-09-13T19:42:07.664Z"
   },
   {
    "duration": -85,
    "start_time": "2021-09-13T19:42:07.665Z"
   },
   {
    "duration": -86,
    "start_time": "2021-09-13T19:42:07.667Z"
   },
   {
    "duration": -86,
    "start_time": "2021-09-13T19:42:07.668Z"
   },
   {
    "duration": -85,
    "start_time": "2021-09-13T19:42:07.669Z"
   },
   {
    "duration": -85,
    "start_time": "2021-09-13T19:42:07.670Z"
   },
   {
    "duration": -85,
    "start_time": "2021-09-13T19:42:07.672Z"
   },
   {
    "duration": -85,
    "start_time": "2021-09-13T19:42:07.673Z"
   },
   {
    "duration": -84,
    "start_time": "2021-09-13T19:42:07.674Z"
   },
   {
    "duration": -84,
    "start_time": "2021-09-13T19:42:07.675Z"
   },
   {
    "duration": -84,
    "start_time": "2021-09-13T19:42:07.677Z"
   },
   {
    "duration": -84,
    "start_time": "2021-09-13T19:42:07.678Z"
   },
   {
    "duration": -83,
    "start_time": "2021-09-13T19:42:07.679Z"
   },
   {
    "duration": -84,
    "start_time": "2021-09-13T19:42:07.681Z"
   },
   {
    "duration": -87,
    "start_time": "2021-09-13T19:42:07.686Z"
   },
   {
    "duration": -87,
    "start_time": "2021-09-13T19:42:07.687Z"
   },
   {
    "duration": -87,
    "start_time": "2021-09-13T19:42:07.689Z"
   },
   {
    "duration": -87,
    "start_time": "2021-09-13T19:42:07.690Z"
   },
   {
    "duration": -86,
    "start_time": "2021-09-13T19:42:07.691Z"
   },
   {
    "duration": -86,
    "start_time": "2021-09-13T19:42:07.692Z"
   },
   {
    "duration": -86,
    "start_time": "2021-09-13T19:42:07.694Z"
   },
   {
    "duration": -86,
    "start_time": "2021-09-13T19:42:07.695Z"
   },
   {
    "duration": -85,
    "start_time": "2021-09-13T19:42:07.696Z"
   },
   {
    "duration": -85,
    "start_time": "2021-09-13T19:42:07.697Z"
   },
   {
    "duration": -84,
    "start_time": "2021-09-13T19:42:07.698Z"
   },
   {
    "duration": -85,
    "start_time": "2021-09-13T19:42:07.700Z"
   },
   {
    "duration": -84,
    "start_time": "2021-09-13T19:42:07.701Z"
   },
   {
    "duration": -84,
    "start_time": "2021-09-13T19:42:07.702Z"
   },
   {
    "duration": -84,
    "start_time": "2021-09-13T19:42:07.703Z"
   },
   {
    "duration": -83,
    "start_time": "2021-09-13T19:42:07.704Z"
   },
   {
    "duration": -83,
    "start_time": "2021-09-13T19:42:07.705Z"
   },
   {
    "duration": 237,
    "start_time": "2021-09-13T19:48:20.938Z"
   },
   {
    "duration": 267,
    "start_time": "2021-09-13T19:48:40.600Z"
   },
   {
    "duration": 3,
    "start_time": "2021-09-13T19:48:40.869Z"
   },
   {
    "duration": 45,
    "start_time": "2021-09-13T19:48:40.882Z"
   },
   {
    "duration": 4,
    "start_time": "2021-09-13T19:48:40.930Z"
   },
   {
    "duration": 11,
    "start_time": "2021-09-13T19:48:40.937Z"
   },
   {
    "duration": 347,
    "start_time": "2021-09-13T19:48:40.950Z"
   },
   {
    "duration": 12,
    "start_time": "2021-09-13T19:48:41.291Z"
   },
   {
    "duration": 12,
    "start_time": "2021-09-13T19:48:41.293Z"
   },
   {
    "duration": 12,
    "start_time": "2021-09-13T19:48:41.295Z"
   },
   {
    "duration": 12,
    "start_time": "2021-09-13T19:48:41.297Z"
   },
   {
    "duration": 10,
    "start_time": "2021-09-13T19:48:41.301Z"
   },
   {
    "duration": 10,
    "start_time": "2021-09-13T19:48:41.303Z"
   },
   {
    "duration": -5,
    "start_time": "2021-09-13T19:48:41.320Z"
   },
   {
    "duration": -5,
    "start_time": "2021-09-13T19:48:41.322Z"
   },
   {
    "duration": -5,
    "start_time": "2021-09-13T19:48:41.324Z"
   },
   {
    "duration": -7,
    "start_time": "2021-09-13T19:48:41.329Z"
   },
   {
    "duration": -7,
    "start_time": "2021-09-13T19:48:41.331Z"
   },
   {
    "duration": -6,
    "start_time": "2021-09-13T19:48:41.332Z"
   },
   {
    "duration": -7,
    "start_time": "2021-09-13T19:48:41.334Z"
   },
   {
    "duration": -6,
    "start_time": "2021-09-13T19:48:41.335Z"
   },
   {
    "duration": -7,
    "start_time": "2021-09-13T19:48:41.337Z"
   },
   {
    "duration": -7,
    "start_time": "2021-09-13T19:48:41.338Z"
   },
   {
    "duration": -21,
    "start_time": "2021-09-13T19:48:41.354Z"
   },
   {
    "duration": -22,
    "start_time": "2021-09-13T19:48:41.356Z"
   },
   {
    "duration": -21,
    "start_time": "2021-09-13T19:48:41.357Z"
   },
   {
    "duration": -22,
    "start_time": "2021-09-13T19:48:41.359Z"
   },
   {
    "duration": -23,
    "start_time": "2021-09-13T19:48:41.361Z"
   },
   {
    "duration": 15,
    "start_time": "2021-09-13T19:48:41.367Z"
   },
   {
    "duration": 14,
    "start_time": "2021-09-13T19:48:41.369Z"
   },
   {
    "duration": 15,
    "start_time": "2021-09-13T19:48:41.370Z"
   },
   {
    "duration": 14,
    "start_time": "2021-09-13T19:48:41.372Z"
   },
   {
    "duration": 14,
    "start_time": "2021-09-13T19:48:41.373Z"
   },
   {
    "duration": 14,
    "start_time": "2021-09-13T19:48:41.375Z"
   },
   {
    "duration": 13,
    "start_time": "2021-09-13T19:48:41.377Z"
   },
   {
    "duration": 5,
    "start_time": "2021-09-13T19:48:41.386Z"
   },
   {
    "duration": 5,
    "start_time": "2021-09-13T19:48:41.388Z"
   },
   {
    "duration": 5,
    "start_time": "2021-09-13T19:48:41.389Z"
   },
   {
    "duration": 5,
    "start_time": "2021-09-13T19:48:41.391Z"
   },
   {
    "duration": 5,
    "start_time": "2021-09-13T19:48:41.392Z"
   },
   {
    "duration": 1,
    "start_time": "2021-09-13T19:48:41.398Z"
   },
   {
    "duration": 1,
    "start_time": "2021-09-13T19:48:41.399Z"
   },
   {
    "duration": -7,
    "start_time": "2021-09-13T19:48:41.409Z"
   },
   {
    "duration": -49,
    "start_time": "2021-09-13T19:48:41.452Z"
   },
   {
    "duration": -53,
    "start_time": "2021-09-13T19:48:41.458Z"
   },
   {
    "duration": -57,
    "start_time": "2021-09-13T19:48:41.463Z"
   },
   {
    "duration": -61,
    "start_time": "2021-09-13T19:48:41.469Z"
   },
   {
    "duration": -62,
    "start_time": "2021-09-13T19:48:41.471Z"
   },
   {
    "duration": -62,
    "start_time": "2021-09-13T19:48:41.473Z"
   },
   {
    "duration": -62,
    "start_time": "2021-09-13T19:48:41.474Z"
   },
   {
    "duration": -62,
    "start_time": "2021-09-13T19:48:41.476Z"
   },
   {
    "duration": 268,
    "start_time": "2021-09-13T19:48:52.436Z"
   },
   {
    "duration": 30,
    "start_time": "2021-09-13T19:48:58.667Z"
   },
   {
    "duration": 12,
    "start_time": "2021-09-13T19:48:58.699Z"
   },
   {
    "duration": 70,
    "start_time": "2021-09-13T19:48:58.715Z"
   },
   {
    "duration": 4,
    "start_time": "2021-09-13T19:48:58.787Z"
   },
   {
    "duration": 13,
    "start_time": "2021-09-13T19:48:58.793Z"
   },
   {
    "duration": 12,
    "start_time": "2021-09-13T19:48:58.809Z"
   },
   {
    "duration": 13,
    "start_time": "2021-09-13T19:48:58.824Z"
   },
   {
    "duration": 339,
    "start_time": "2021-09-13T19:48:58.840Z"
   },
   {
    "duration": -92,
    "start_time": "2021-09-13T19:48:59.276Z"
   },
   {
    "duration": -93,
    "start_time": "2021-09-13T19:48:59.278Z"
   },
   {
    "duration": -93,
    "start_time": "2021-09-13T19:48:59.280Z"
   },
   {
    "duration": -94,
    "start_time": "2021-09-13T19:48:59.282Z"
   },
   {
    "duration": -99,
    "start_time": "2021-09-13T19:48:59.288Z"
   },
   {
    "duration": -101,
    "start_time": "2021-09-13T19:48:59.291Z"
   },
   {
    "duration": -100,
    "start_time": "2021-09-13T19:48:59.292Z"
   },
   {
    "duration": -101,
    "start_time": "2021-09-13T19:48:59.294Z"
   },
   {
    "duration": -102,
    "start_time": "2021-09-13T19:48:59.296Z"
   },
   {
    "duration": -101,
    "start_time": "2021-09-13T19:48:59.297Z"
   },
   {
    "duration": -102,
    "start_time": "2021-09-13T19:48:59.299Z"
   },
   {
    "duration": -102,
    "start_time": "2021-09-13T19:48:59.300Z"
   },
   {
    "duration": -102,
    "start_time": "2021-09-13T19:48:59.302Z"
   },
   {
    "duration": -102,
    "start_time": "2021-09-13T19:48:59.303Z"
   },
   {
    "duration": -103,
    "start_time": "2021-09-13T19:48:59.305Z"
   },
   {
    "duration": -103,
    "start_time": "2021-09-13T19:48:59.306Z"
   },
   {
    "duration": -104,
    "start_time": "2021-09-13T19:48:59.308Z"
   },
   {
    "duration": -103,
    "start_time": "2021-09-13T19:48:59.309Z"
   },
   {
    "duration": -103,
    "start_time": "2021-09-13T19:48:59.310Z"
   },
   {
    "duration": -104,
    "start_time": "2021-09-13T19:48:59.312Z"
   },
   {
    "duration": -103,
    "start_time": "2021-09-13T19:48:59.313Z"
   },
   {
    "duration": -104,
    "start_time": "2021-09-13T19:48:59.315Z"
   },
   {
    "duration": -104,
    "start_time": "2021-09-13T19:48:59.316Z"
   },
   {
    "duration": -105,
    "start_time": "2021-09-13T19:48:59.318Z"
   },
   {
    "duration": -104,
    "start_time": "2021-09-13T19:48:59.319Z"
   },
   {
    "duration": -104,
    "start_time": "2021-09-13T19:48:59.320Z"
   },
   {
    "duration": -103,
    "start_time": "2021-09-13T19:48:59.321Z"
   },
   {
    "duration": -104,
    "start_time": "2021-09-13T19:48:59.323Z"
   },
   {
    "duration": -104,
    "start_time": "2021-09-13T19:48:59.324Z"
   },
   {
    "duration": -104,
    "start_time": "2021-09-13T19:48:59.325Z"
   },
   {
    "duration": -45,
    "start_time": "2021-09-13T19:48:59.327Z"
   },
   {
    "duration": -48,
    "start_time": "2021-09-13T19:48:59.332Z"
   },
   {
    "duration": -49,
    "start_time": "2021-09-13T19:48:59.334Z"
   },
   {
    "duration": -50,
    "start_time": "2021-09-13T19:48:59.336Z"
   },
   {
    "duration": -49,
    "start_time": "2021-09-13T19:48:59.337Z"
   },
   {
    "duration": -49,
    "start_time": "2021-09-13T19:48:59.338Z"
   },
   {
    "duration": 3780,
    "start_time": "2021-09-13T19:50:48.983Z"
   },
   {
    "duration": 306,
    "start_time": "2021-09-13T19:51:27.143Z"
   },
   {
    "duration": 428,
    "start_time": "2021-09-13T19:52:04.385Z"
   },
   {
    "duration": 1423,
    "start_time": "2021-09-13T19:52:09.490Z"
   },
   {
    "duration": 228,
    "start_time": "2021-09-13T19:52:10.916Z"
   },
   {
    "duration": 16,
    "start_time": "2021-09-13T19:52:11.147Z"
   },
   {
    "duration": 52,
    "start_time": "2021-09-13T19:52:11.165Z"
   },
   {
    "duration": 49,
    "start_time": "2021-09-13T19:52:11.220Z"
   },
   {
    "duration": 58,
    "start_time": "2021-09-13T19:52:11.271Z"
   },
   {
    "duration": 61,
    "start_time": "2021-09-13T19:52:11.331Z"
   },
   {
    "duration": 51,
    "start_time": "2021-09-13T19:52:11.394Z"
   },
   {
    "duration": 34,
    "start_time": "2021-09-13T19:52:11.449Z"
   },
   {
    "duration": 82,
    "start_time": "2021-09-13T19:52:11.488Z"
   },
   {
    "duration": 79,
    "start_time": "2021-09-13T19:52:11.572Z"
   },
   {
    "duration": 96,
    "start_time": "2021-09-13T19:52:11.654Z"
   },
   {
    "duration": 170,
    "start_time": "2021-09-13T19:52:11.752Z"
   },
   {
    "duration": 10,
    "start_time": "2021-09-13T19:52:11.925Z"
   },
   {
    "duration": 67,
    "start_time": "2021-09-13T19:52:11.938Z"
   },
   {
    "duration": 16,
    "start_time": "2021-09-13T19:52:12.009Z"
   },
   {
    "duration": 14,
    "start_time": "2021-09-13T19:52:12.027Z"
   },
   {
    "duration": 6,
    "start_time": "2021-09-13T19:52:12.043Z"
   },
   {
    "duration": 25,
    "start_time": "2021-09-13T19:52:12.051Z"
   },
   {
    "duration": 10,
    "start_time": "2021-09-13T19:52:12.083Z"
   },
   {
    "duration": 11,
    "start_time": "2021-09-13T19:52:12.097Z"
   },
   {
    "duration": 9,
    "start_time": "2021-09-13T19:52:12.111Z"
   },
   {
    "duration": 9,
    "start_time": "2021-09-13T19:52:12.122Z"
   },
   {
    "duration": 50,
    "start_time": "2021-09-13T19:52:12.133Z"
   },
   {
    "duration": 11,
    "start_time": "2021-09-13T19:52:12.185Z"
   },
   {
    "duration": 6,
    "start_time": "2021-09-13T19:52:12.198Z"
   },
   {
    "duration": 6,
    "start_time": "2021-09-13T19:52:12.211Z"
   },
   {
    "duration": 8,
    "start_time": "2021-09-13T19:52:12.220Z"
   },
   {
    "duration": 53,
    "start_time": "2021-09-13T19:52:12.231Z"
   },
   {
    "duration": 13,
    "start_time": "2021-09-13T19:52:12.287Z"
   },
   {
    "duration": 15,
    "start_time": "2021-09-13T19:52:12.303Z"
   },
   {
    "duration": 57,
    "start_time": "2021-09-13T19:52:12.320Z"
   },
   {
    "duration": 6,
    "start_time": "2021-09-13T19:52:12.383Z"
   },
   {
    "duration": 11,
    "start_time": "2021-09-13T19:52:12.391Z"
   },
   {
    "duration": 21,
    "start_time": "2021-09-13T19:52:12.404Z"
   },
   {
    "duration": 12,
    "start_time": "2021-09-13T19:52:12.427Z"
   },
   {
    "duration": 10,
    "start_time": "2021-09-13T19:52:12.441Z"
   },
   {
    "duration": 32,
    "start_time": "2021-09-13T19:52:12.454Z"
   },
   {
    "duration": 7,
    "start_time": "2021-09-13T19:52:12.488Z"
   },
   {
    "duration": 18,
    "start_time": "2021-09-13T19:52:12.498Z"
   },
   {
    "duration": 13,
    "start_time": "2021-09-13T19:52:12.518Z"
   },
   {
    "duration": 11,
    "start_time": "2021-09-13T19:52:12.533Z"
   },
   {
    "duration": 23,
    "start_time": "2021-09-13T19:52:12.547Z"
   },
   {
    "duration": 21,
    "start_time": "2021-09-13T19:52:12.573Z"
   },
   {
    "duration": 8,
    "start_time": "2021-09-13T19:52:12.597Z"
   },
   {
    "duration": 9,
    "start_time": "2021-09-13T19:52:12.607Z"
   },
   {
    "duration": 13,
    "start_time": "2021-09-13T19:52:12.619Z"
   },
   {
    "duration": 9,
    "start_time": "2021-09-13T19:52:12.634Z"
   },
   {
    "duration": 211,
    "start_time": "2021-09-13T19:52:12.646Z"
   },
   {
    "duration": 33,
    "start_time": "2021-09-13T19:52:12.860Z"
   },
   {
    "duration": 4,
    "start_time": "2021-09-13T19:52:12.896Z"
   },
   {
    "duration": 14,
    "start_time": "2021-09-13T19:52:12.903Z"
   },
   {
    "duration": 258,
    "start_time": "2021-09-13T19:52:12.919Z"
   },
   {
    "duration": 4,
    "start_time": "2021-09-13T19:52:13.183Z"
   },
   {
    "duration": 53,
    "start_time": "2021-09-13T19:52:13.189Z"
   },
   {
    "duration": 4,
    "start_time": "2021-09-13T19:52:13.244Z"
   },
   {
    "duration": 26,
    "start_time": "2021-09-13T19:52:13.250Z"
   },
   {
    "duration": 261,
    "start_time": "2021-09-13T19:52:13.278Z"
   },
   {
    "duration": 27,
    "start_time": "2021-09-13T19:52:13.542Z"
   },
   {
    "duration": 12,
    "start_time": "2021-09-13T19:52:13.583Z"
   },
   {
    "duration": 40,
    "start_time": "2021-09-13T19:52:13.598Z"
   },
   {
    "duration": 4,
    "start_time": "2021-09-13T19:52:13.640Z"
   },
   {
    "duration": 37,
    "start_time": "2021-09-13T19:52:13.646Z"
   },
   {
    "duration": 17,
    "start_time": "2021-09-13T19:52:13.685Z"
   },
   {
    "duration": 22,
    "start_time": "2021-09-13T19:52:13.704Z"
   },
   {
    "duration": 20,
    "start_time": "2021-09-13T19:52:13.728Z"
   },
   {
    "duration": 428,
    "start_time": "2021-09-13T19:52:13.750Z"
   },
   {
    "duration": 342,
    "start_time": "2021-09-13T19:52:21.212Z"
   },
   {
    "duration": 3727,
    "start_time": "2021-09-13T19:52:30.654Z"
   },
   {
    "duration": 101452,
    "start_time": "2021-09-13T19:53:21.868Z"
   },
   {
    "duration": 4358,
    "start_time": "2021-09-13T19:55:11.705Z"
   },
   {
    "duration": 334,
    "start_time": "2021-09-13T19:55:22.496Z"
   },
   {
    "duration": 1597,
    "start_time": "2021-09-13T19:56:04.623Z"
   },
   {
    "duration": 245,
    "start_time": "2021-09-13T19:56:06.223Z"
   },
   {
    "duration": 20,
    "start_time": "2021-09-13T19:56:06.471Z"
   },
   {
    "duration": 51,
    "start_time": "2021-09-13T19:56:06.493Z"
   },
   {
    "duration": 56,
    "start_time": "2021-09-13T19:56:06.546Z"
   },
   {
    "duration": 46,
    "start_time": "2021-09-13T19:56:06.604Z"
   },
   {
    "duration": 47,
    "start_time": "2021-09-13T19:56:06.652Z"
   },
   {
    "duration": 61,
    "start_time": "2021-09-13T19:56:06.703Z"
   },
   {
    "duration": 21,
    "start_time": "2021-09-13T19:56:06.767Z"
   },
   {
    "duration": 67,
    "start_time": "2021-09-13T19:56:06.790Z"
   },
   {
    "duration": 74,
    "start_time": "2021-09-13T19:56:06.883Z"
   },
   {
    "duration": 98,
    "start_time": "2021-09-13T19:56:06.960Z"
   },
   {
    "duration": 37,
    "start_time": "2021-09-13T19:56:07.060Z"
   },
   {
    "duration": 9,
    "start_time": "2021-09-13T19:56:07.100Z"
   },
   {
    "duration": 12,
    "start_time": "2021-09-13T19:56:07.111Z"
   },
   {
    "duration": 14,
    "start_time": "2021-09-13T19:56:07.125Z"
   },
   {
    "duration": 41,
    "start_time": "2021-09-13T19:56:07.142Z"
   },
   {
    "duration": 7,
    "start_time": "2021-09-13T19:56:07.186Z"
   },
   {
    "duration": 22,
    "start_time": "2021-09-13T19:56:07.196Z"
   },
   {
    "duration": 23,
    "start_time": "2021-09-13T19:56:07.220Z"
   },
   {
    "duration": 8,
    "start_time": "2021-09-13T19:56:07.246Z"
   },
   {
    "duration": 28,
    "start_time": "2021-09-13T19:56:07.256Z"
   },
   {
    "duration": 9,
    "start_time": "2021-09-13T19:56:07.292Z"
   },
   {
    "duration": 15,
    "start_time": "2021-09-13T19:56:07.305Z"
   },
   {
    "duration": 13,
    "start_time": "2021-09-13T19:56:07.322Z"
   },
   {
    "duration": 12,
    "start_time": "2021-09-13T19:56:07.337Z"
   },
   {
    "duration": 10,
    "start_time": "2021-09-13T19:56:07.351Z"
   },
   {
    "duration": 5,
    "start_time": "2021-09-13T19:56:07.383Z"
   },
   {
    "duration": 15,
    "start_time": "2021-09-13T19:56:07.390Z"
   },
   {
    "duration": 11,
    "start_time": "2021-09-13T19:56:07.408Z"
   },
   {
    "duration": 15,
    "start_time": "2021-09-13T19:56:07.421Z"
   },
   {
    "duration": 67,
    "start_time": "2021-09-13T19:56:07.438Z"
   },
   {
    "duration": 5,
    "start_time": "2021-09-13T19:56:07.508Z"
   },
   {
    "duration": 11,
    "start_time": "2021-09-13T19:56:07.515Z"
   },
   {
    "duration": 11,
    "start_time": "2021-09-13T19:56:07.528Z"
   },
   {
    "duration": 12,
    "start_time": "2021-09-13T19:56:07.541Z"
   },
   {
    "duration": 6,
    "start_time": "2021-09-13T19:56:07.583Z"
   },
   {
    "duration": 11,
    "start_time": "2021-09-13T19:56:07.591Z"
   },
   {
    "duration": 8,
    "start_time": "2021-09-13T19:56:07.604Z"
   },
   {
    "duration": 10,
    "start_time": "2021-09-13T19:56:07.615Z"
   },
   {
    "duration": 12,
    "start_time": "2021-09-13T19:56:07.628Z"
   },
   {
    "duration": 6,
    "start_time": "2021-09-13T19:56:07.683Z"
   },
   {
    "duration": 7,
    "start_time": "2021-09-13T19:56:07.692Z"
   },
   {
    "duration": 23,
    "start_time": "2021-09-13T19:56:07.702Z"
   },
   {
    "duration": 8,
    "start_time": "2021-09-13T19:56:07.728Z"
   },
   {
    "duration": 44,
    "start_time": "2021-09-13T19:56:07.739Z"
   },
   {
    "duration": 8,
    "start_time": "2021-09-13T19:56:07.786Z"
   },
   {
    "duration": 11,
    "start_time": "2021-09-13T19:56:07.796Z"
   },
   {
    "duration": 152,
    "start_time": "2021-09-13T19:56:07.809Z"
   },
   {
    "duration": 33,
    "start_time": "2021-09-13T19:56:07.963Z"
   },
   {
    "duration": 6,
    "start_time": "2021-09-13T19:56:07.999Z"
   },
   {
    "duration": 11,
    "start_time": "2021-09-13T19:56:08.008Z"
   },
   {
    "duration": 263,
    "start_time": "2021-09-13T19:56:08.022Z"
   },
   {
    "duration": 4,
    "start_time": "2021-09-13T19:56:08.288Z"
   },
   {
    "duration": 41,
    "start_time": "2021-09-13T19:56:08.295Z"
   },
   {
    "duration": 5,
    "start_time": "2021-09-13T19:56:08.338Z"
   },
   {
    "duration": 39,
    "start_time": "2021-09-13T19:56:08.345Z"
   },
   {
    "duration": 245,
    "start_time": "2021-09-13T19:56:08.386Z"
   },
   {
    "duration": 28,
    "start_time": "2021-09-13T19:56:08.634Z"
   },
   {
    "duration": 25,
    "start_time": "2021-09-13T19:56:08.664Z"
   },
   {
    "duration": 35,
    "start_time": "2021-09-13T19:56:08.691Z"
   },
   {
    "duration": 3,
    "start_time": "2021-09-13T19:56:08.728Z"
   },
   {
    "duration": 13,
    "start_time": "2021-09-13T19:56:08.734Z"
   },
   {
    "duration": 12,
    "start_time": "2021-09-13T19:56:08.781Z"
   },
   {
    "duration": 13,
    "start_time": "2021-09-13T19:56:08.795Z"
   },
   {
    "duration": 7,
    "start_time": "2021-09-13T19:56:08.811Z"
   },
   {
    "duration": 9,
    "start_time": "2021-09-13T19:56:08.820Z"
   },
   {
    "duration": 6,
    "start_time": "2021-09-13T19:56:08.837Z"
   },
   {
    "duration": 491,
    "start_time": "2021-09-13T19:56:08.845Z"
   },
   {
    "duration": 6,
    "start_time": "2021-09-13T19:56:09.338Z"
   },
   {
    "duration": 20,
    "start_time": "2021-09-13T19:56:09.346Z"
   },
   {
    "duration": 59,
    "start_time": "2021-09-13T19:56:09.368Z"
   },
   {
    "duration": 38,
    "start_time": "2021-09-13T19:56:09.429Z"
   },
   {
    "duration": 3,
    "start_time": "2021-09-13T19:56:09.470Z"
   },
   {
    "duration": 52,
    "start_time": "2021-09-13T19:56:09.475Z"
   },
   {
    "duration": 57,
    "start_time": "2021-09-13T19:56:09.530Z"
   },
   {
    "duration": 21,
    "start_time": "2021-09-13T19:56:09.589Z"
   },
   {
    "duration": 6,
    "start_time": "2021-09-13T19:56:09.612Z"
   },
   {
    "duration": 21,
    "start_time": "2021-09-13T19:56:09.620Z"
   },
   {
    "duration": 6,
    "start_time": "2021-09-13T19:56:09.643Z"
   },
   {
    "duration": 38,
    "start_time": "2021-09-13T19:56:09.651Z"
   },
   {
    "duration": 75,
    "start_time": "2021-09-13T19:56:09.691Z"
   },
   {
    "duration": 45,
    "start_time": "2021-09-13T19:56:09.769Z"
   },
   {
    "duration": 42,
    "start_time": "2021-09-13T19:56:09.816Z"
   },
   {
    "duration": 18,
    "start_time": "2021-09-13T19:56:09.860Z"
   },
   {
    "duration": 13,
    "start_time": "2021-09-13T19:56:09.880Z"
   },
   {
    "duration": 14,
    "start_time": "2021-09-13T19:56:09.895Z"
   },
   {
    "duration": 28,
    "start_time": "2021-09-13T19:56:09.911Z"
   },
   {
    "duration": 31,
    "start_time": "2021-09-13T19:56:09.941Z"
   },
   {
    "duration": 22,
    "start_time": "2021-09-13T19:56:09.975Z"
   },
   {
    "duration": 26,
    "start_time": "2021-09-13T19:56:09.999Z"
   },
   {
    "duration": 64,
    "start_time": "2021-09-13T19:56:10.028Z"
   },
   {
    "duration": 72,
    "start_time": "2021-09-13T19:56:10.094Z"
   },
   {
    "duration": 32,
    "start_time": "2021-09-13T19:56:10.168Z"
   },
   {
    "duration": 11,
    "start_time": "2021-09-13T19:56:10.203Z"
   },
   {
    "duration": 26,
    "start_time": "2021-09-13T19:56:10.217Z"
   },
   {
    "duration": 33,
    "start_time": "2021-09-13T19:56:10.245Z"
   },
   {
    "duration": 6,
    "start_time": "2021-09-13T19:56:10.282Z"
   },
   {
    "duration": 20,
    "start_time": "2021-09-13T19:56:10.290Z"
   },
   {
    "duration": 18,
    "start_time": "2021-09-13T19:56:10.312Z"
   },
   {
    "duration": 27,
    "start_time": "2021-09-13T19:56:10.333Z"
   },
   {
    "duration": 7,
    "start_time": "2021-09-13T19:56:10.363Z"
   },
   {
    "duration": 16,
    "start_time": "2021-09-13T19:56:10.372Z"
   },
   {
    "duration": 10,
    "start_time": "2021-09-13T19:56:10.391Z"
   },
   {
    "duration": 15,
    "start_time": "2021-09-13T19:56:10.404Z"
   },
   {
    "duration": 1509,
    "start_time": "2021-09-14T07:27:55.371Z"
   },
   {
    "duration": 255,
    "start_time": "2021-09-14T07:27:56.883Z"
   },
   {
    "duration": 17,
    "start_time": "2021-09-14T07:27:57.141Z"
   },
   {
    "duration": 58,
    "start_time": "2021-09-14T07:27:57.161Z"
   },
   {
    "duration": 39,
    "start_time": "2021-09-14T07:27:57.221Z"
   },
   {
    "duration": 66,
    "start_time": "2021-09-14T07:27:57.263Z"
   },
   {
    "duration": 32,
    "start_time": "2021-09-14T07:27:57.332Z"
   },
   {
    "duration": 76,
    "start_time": "2021-09-14T07:27:57.368Z"
   },
   {
    "duration": 14,
    "start_time": "2021-09-14T07:27:57.447Z"
   },
   {
    "duration": 95,
    "start_time": "2021-09-14T07:27:57.463Z"
   },
   {
    "duration": 86,
    "start_time": "2021-09-14T07:27:57.561Z"
   },
   {
    "duration": 100,
    "start_time": "2021-09-14T07:27:57.651Z"
   },
   {
    "duration": 35,
    "start_time": "2021-09-14T07:27:57.754Z"
   },
   {
    "duration": 10,
    "start_time": "2021-09-14T07:27:57.792Z"
   },
   {
    "duration": 8,
    "start_time": "2021-09-14T07:27:57.817Z"
   },
   {
    "duration": 23,
    "start_time": "2021-09-14T07:27:57.827Z"
   },
   {
    "duration": 12,
    "start_time": "2021-09-14T07:27:57.852Z"
   },
   {
    "duration": 6,
    "start_time": "2021-09-14T07:27:57.866Z"
   },
   {
    "duration": 42,
    "start_time": "2021-09-14T07:27:57.875Z"
   },
   {
    "duration": 10,
    "start_time": "2021-09-14T07:27:57.919Z"
   },
   {
    "duration": 10,
    "start_time": "2021-09-14T07:27:57.931Z"
   },
   {
    "duration": 7,
    "start_time": "2021-09-14T07:27:57.944Z"
   },
   {
    "duration": 9,
    "start_time": "2021-09-14T07:27:57.957Z"
   },
   {
    "duration": 47,
    "start_time": "2021-09-14T07:27:57.970Z"
   },
   {
    "duration": 16,
    "start_time": "2021-09-14T07:27:58.020Z"
   },
   {
    "duration": 7,
    "start_time": "2021-09-14T07:27:58.038Z"
   },
   {
    "duration": 9,
    "start_time": "2021-09-14T07:27:58.047Z"
   },
   {
    "duration": 8,
    "start_time": "2021-09-14T07:27:58.058Z"
   },
   {
    "duration": 51,
    "start_time": "2021-09-14T07:27:58.069Z"
   },
   {
    "duration": 12,
    "start_time": "2021-09-14T07:27:58.123Z"
   },
   {
    "duration": 16,
    "start_time": "2021-09-14T07:27:58.139Z"
   },
   {
    "duration": 73,
    "start_time": "2021-09-14T07:27:58.158Z"
   },
   {
    "duration": 5,
    "start_time": "2021-09-14T07:27:58.233Z"
   },
   {
    "duration": 8,
    "start_time": "2021-09-14T07:27:58.241Z"
   },
   {
    "duration": 11,
    "start_time": "2021-09-14T07:27:58.251Z"
   },
   {
    "duration": 13,
    "start_time": "2021-09-14T07:27:58.264Z"
   },
   {
    "duration": 6,
    "start_time": "2021-09-14T07:27:58.315Z"
   },
   {
    "duration": 13,
    "start_time": "2021-09-14T07:27:58.324Z"
   },
   {
    "duration": 8,
    "start_time": "2021-09-14T07:27:58.340Z"
   },
   {
    "duration": 10,
    "start_time": "2021-09-14T07:27:58.351Z"
   },
   {
    "duration": 54,
    "start_time": "2021-09-14T07:27:58.363Z"
   },
   {
    "duration": 10,
    "start_time": "2021-09-14T07:27:58.419Z"
   },
   {
    "duration": 6,
    "start_time": "2021-09-14T07:27:58.431Z"
   },
   {
    "duration": 16,
    "start_time": "2021-09-14T07:27:58.439Z"
   },
   {
    "duration": 7,
    "start_time": "2021-09-14T07:27:58.457Z"
   },
   {
    "duration": 6,
    "start_time": "2021-09-14T07:27:58.466Z"
   },
   {
    "duration": 50,
    "start_time": "2021-09-14T07:27:58.474Z"
   },
   {
    "duration": 8,
    "start_time": "2021-09-14T07:27:58.526Z"
   },
   {
    "duration": 653,
    "start_time": "2021-09-14T07:27:58.537Z"
   },
   {
    "duration": -111,
    "start_time": "2021-09-14T07:27:59.305Z"
   },
   {
    "duration": -102,
    "start_time": "2021-09-14T07:27:59.318Z"
   },
   {
    "duration": -114,
    "start_time": "2021-09-14T07:27:59.331Z"
   },
   {
    "duration": -126,
    "start_time": "2021-09-14T07:27:59.345Z"
   },
   {
    "duration": -133,
    "start_time": "2021-09-14T07:27:59.353Z"
   },
   {
    "duration": -139,
    "start_time": "2021-09-14T07:27:59.361Z"
   },
   {
    "duration": -146,
    "start_time": "2021-09-14T07:27:59.369Z"
   },
   {
    "duration": -153,
    "start_time": "2021-09-14T07:27:59.378Z"
   },
   {
    "duration": -160,
    "start_time": "2021-09-14T07:27:59.386Z"
   },
   {
    "duration": -178,
    "start_time": "2021-09-14T07:27:59.406Z"
   },
   {
    "duration": -181,
    "start_time": "2021-09-14T07:27:59.410Z"
   },
   {
    "duration": -183,
    "start_time": "2021-09-14T07:27:59.413Z"
   },
   {
    "duration": -184,
    "start_time": "2021-09-14T07:27:59.416Z"
   },
   {
    "duration": -186,
    "start_time": "2021-09-14T07:27:59.419Z"
   },
   {
    "duration": -189,
    "start_time": "2021-09-14T07:27:59.423Z"
   },
   {
    "duration": -190,
    "start_time": "2021-09-14T07:27:59.426Z"
   },
   {
    "duration": -192,
    "start_time": "2021-09-14T07:27:59.429Z"
   },
   {
    "duration": -193,
    "start_time": "2021-09-14T07:27:59.432Z"
   },
   {
    "duration": -196,
    "start_time": "2021-09-14T07:27:59.436Z"
   },
   {
    "duration": -198,
    "start_time": "2021-09-14T07:27:59.439Z"
   },
   {
    "duration": -208,
    "start_time": "2021-09-14T07:27:59.451Z"
   },
   {
    "duration": -209,
    "start_time": "2021-09-14T07:27:59.453Z"
   },
   {
    "duration": -211,
    "start_time": "2021-09-14T07:27:59.456Z"
   },
   {
    "duration": -211,
    "start_time": "2021-09-14T07:27:59.458Z"
   },
   {
    "duration": -213,
    "start_time": "2021-09-14T07:27:59.461Z"
   },
   {
    "duration": -214,
    "start_time": "2021-09-14T07:27:59.463Z"
   },
   {
    "duration": -214,
    "start_time": "2021-09-14T07:27:59.465Z"
   },
   {
    "duration": -216,
    "start_time": "2021-09-14T07:27:59.468Z"
   },
   {
    "duration": -217,
    "start_time": "2021-09-14T07:27:59.470Z"
   },
   {
    "duration": -217,
    "start_time": "2021-09-14T07:27:59.472Z"
   },
   {
    "duration": -159,
    "start_time": "2021-09-14T07:27:59.475Z"
   },
   {
    "duration": -159,
    "start_time": "2021-09-14T07:27:59.477Z"
   },
   {
    "duration": -161,
    "start_time": "2021-09-14T07:27:59.480Z"
   },
   {
    "duration": -162,
    "start_time": "2021-09-14T07:27:59.482Z"
   },
   {
    "duration": -163,
    "start_time": "2021-09-14T07:27:59.485Z"
   },
   {
    "duration": -163,
    "start_time": "2021-09-14T07:27:59.487Z"
   },
   {
    "duration": -165,
    "start_time": "2021-09-14T07:27:59.490Z"
   },
   {
    "duration": -188,
    "start_time": "2021-09-14T07:27:59.514Z"
   },
   {
    "duration": -194,
    "start_time": "2021-09-14T07:27:59.522Z"
   },
   {
    "duration": -199,
    "start_time": "2021-09-14T07:27:59.529Z"
   },
   {
    "duration": -205,
    "start_time": "2021-09-14T07:27:59.536Z"
   },
   {
    "duration": -211,
    "start_time": "2021-09-14T07:27:59.543Z"
   },
   {
    "duration": -212,
    "start_time": "2021-09-14T07:27:59.546Z"
   },
   {
    "duration": -213,
    "start_time": "2021-09-14T07:27:59.548Z"
   },
   {
    "duration": -214,
    "start_time": "2021-09-14T07:27:59.551Z"
   },
   {
    "duration": -215,
    "start_time": "2021-09-14T07:27:59.553Z"
   },
   {
    "duration": -220,
    "start_time": "2021-09-14T07:27:59.559Z"
   },
   {
    "duration": -221,
    "start_time": "2021-09-14T07:27:59.562Z"
   },
   {
    "duration": -224,
    "start_time": "2021-09-14T07:27:59.566Z"
   },
   {
    "duration": -225,
    "start_time": "2021-09-14T07:27:59.569Z"
   },
   {
    "duration": -231,
    "start_time": "2021-09-14T07:27:59.576Z"
   },
   {
    "duration": -233,
    "start_time": "2021-09-14T07:27:59.579Z"
   },
   {
    "duration": -233,
    "start_time": "2021-09-14T07:27:59.581Z"
   },
   {
    "duration": 24,
    "start_time": "2021-09-14T07:44:18.422Z"
   },
   {
    "duration": 5,
    "start_time": "2021-09-14T07:44:18.680Z"
   },
   {
    "duration": 9,
    "start_time": "2021-09-14T07:44:18.871Z"
   },
   {
    "duration": 311,
    "start_time": "2021-09-14T07:44:19.071Z"
   },
   {
    "duration": 4,
    "start_time": "2021-09-14T07:44:28.254Z"
   },
   {
    "duration": 46,
    "start_time": "2021-09-14T07:44:28.438Z"
   },
   {
    "duration": 5,
    "start_time": "2021-09-14T07:44:28.607Z"
   },
   {
    "duration": 10,
    "start_time": "2021-09-14T07:44:28.751Z"
   },
   {
    "duration": 283,
    "start_time": "2021-09-14T07:44:29.015Z"
   },
   {
    "duration": 32,
    "start_time": "2021-09-14T07:44:29.318Z"
   },
   {
    "duration": 14,
    "start_time": "2021-09-14T07:44:29.384Z"
   },
   {
    "duration": 40,
    "start_time": "2021-09-14T07:44:29.502Z"
   },
   {
    "duration": 5,
    "start_time": "2021-09-14T07:44:29.645Z"
   },
   {
    "duration": 10,
    "start_time": "2021-09-14T07:44:29.902Z"
   },
   {
    "duration": 13,
    "start_time": "2021-09-14T07:44:30.255Z"
   },
   {
    "duration": 15,
    "start_time": "2021-09-14T07:44:30.440Z"
   },
   {
    "duration": 496,
    "start_time": "2021-09-14T07:44:30.626Z"
   },
   {
    "duration": 5,
    "start_time": "2021-09-14T07:44:31.124Z"
   },
   {
    "duration": 8,
    "start_time": "2021-09-14T07:44:31.950Z"
   },
   {
    "duration": 3,
    "start_time": "2021-09-14T07:44:32.159Z"
   },
   {
    "duration": 24,
    "start_time": "2021-09-14T07:44:32.447Z"
   },
   {
    "duration": 4,
    "start_time": "2021-09-14T07:44:32.616Z"
   },
   {
    "duration": 10,
    "start_time": "2021-09-14T07:44:32.735Z"
   },
   {
    "duration": 12,
    "start_time": "2021-09-14T07:44:32.935Z"
   },
   {
    "duration": 17,
    "start_time": "2021-09-14T07:44:33.086Z"
   },
   {
    "duration": 7,
    "start_time": "2021-09-14T07:44:33.617Z"
   },
   {
    "duration": 18,
    "start_time": "2021-09-14T07:44:33.783Z"
   },
   {
    "duration": 6,
    "start_time": "2021-09-14T07:44:34.143Z"
   },
   {
    "duration": 12,
    "start_time": "2021-09-14T07:44:34.454Z"
   },
   {
    "duration": 20,
    "start_time": "2021-09-14T07:44:34.815Z"
   },
   {
    "duration": 11,
    "start_time": "2021-09-14T07:44:35.102Z"
   },
   {
    "duration": 19,
    "start_time": "2021-09-14T07:44:35.302Z"
   },
   {
    "duration": 7,
    "start_time": "2021-09-14T07:44:35.486Z"
   },
   {
    "duration": 6,
    "start_time": "2021-09-14T07:44:35.657Z"
   },
   {
    "duration": 8,
    "start_time": "2021-09-14T07:44:36.168Z"
   },
   {
    "duration": 9,
    "start_time": "2021-09-14T07:44:37.006Z"
   },
   {
    "duration": 10,
    "start_time": "2021-09-14T07:44:37.198Z"
   },
   {
    "duration": 6,
    "start_time": "2021-09-14T07:44:37.391Z"
   },
   {
    "duration": 6,
    "start_time": "2021-09-14T07:44:37.527Z"
   },
   {
    "duration": 8,
    "start_time": "2021-09-14T07:44:38.006Z"
   },
   {
    "duration": 14,
    "start_time": "2021-09-14T07:44:38.950Z"
   },
   {
    "duration": 22,
    "start_time": "2021-09-14T07:44:39.095Z"
   },
   {
    "duration": 5,
    "start_time": "2021-09-14T07:44:39.464Z"
   },
   {
    "duration": 6,
    "start_time": "2021-09-14T07:44:39.998Z"
   },
   {
    "duration": 30,
    "start_time": "2021-09-14T07:44:40.310Z"
   },
   {
    "duration": 7,
    "start_time": "2021-09-14T07:44:40.478Z"
   },
   {
    "duration": 6,
    "start_time": "2021-09-14T07:44:40.606Z"
   },
   {
    "duration": 7,
    "start_time": "2021-09-14T07:44:41.310Z"
   },
   {
    "duration": 20,
    "start_time": "2021-09-14T07:44:41.494Z"
   },
   {
    "duration": 6,
    "start_time": "2021-09-14T07:44:41.606Z"
   },
   {
    "duration": 7,
    "start_time": "2021-09-14T07:44:42.079Z"
   },
   {
    "duration": 5,
    "start_time": "2021-09-14T07:44:42.422Z"
   },
   {
    "duration": 7,
    "start_time": "2021-09-14T07:44:42.886Z"
   },
   {
    "duration": 6,
    "start_time": "2021-09-14T07:55:45.866Z"
   },
   {
    "duration": 662,
    "start_time": "2021-09-14T08:26:08.976Z"
   },
   {
    "duration": 128,
    "start_time": "2021-09-14T08:26:12.072Z"
   },
   {
    "duration": 686,
    "start_time": "2021-09-14T08:26:33.671Z"
   },
   {
    "duration": 1666,
    "start_time": "2021-09-14T08:32:03.028Z"
   },
   {
    "duration": 264,
    "start_time": "2021-09-14T08:32:04.697Z"
   },
   {
    "duration": 19,
    "start_time": "2021-09-14T08:32:04.964Z"
   },
   {
    "duration": 61,
    "start_time": "2021-09-14T08:32:04.986Z"
   },
   {
    "duration": 39,
    "start_time": "2021-09-14T08:32:05.050Z"
   },
   {
    "duration": 71,
    "start_time": "2021-09-14T08:32:05.091Z"
   },
   {
    "duration": 35,
    "start_time": "2021-09-14T08:32:05.164Z"
   },
   {
    "duration": 58,
    "start_time": "2021-09-14T08:32:05.218Z"
   },
   {
    "duration": 16,
    "start_time": "2021-09-14T08:32:05.279Z"
   },
   {
    "duration": 92,
    "start_time": "2021-09-14T08:32:05.298Z"
   },
   {
    "duration": 100,
    "start_time": "2021-09-14T08:32:05.393Z"
   },
   {
    "duration": 95,
    "start_time": "2021-09-14T08:32:05.495Z"
   },
   {
    "duration": 36,
    "start_time": "2021-09-14T08:32:05.593Z"
   },
   {
    "duration": 10,
    "start_time": "2021-09-14T08:32:05.632Z"
   },
   {
    "duration": 9,
    "start_time": "2021-09-14T08:32:05.646Z"
   },
   {
    "duration": 15,
    "start_time": "2021-09-14T08:32:05.657Z"
   },
   {
    "duration": 45,
    "start_time": "2021-09-14T08:32:05.674Z"
   },
   {
    "duration": 22,
    "start_time": "2021-09-14T08:32:05.721Z"
   },
   {
    "duration": 21,
    "start_time": "2021-09-14T08:32:05.745Z"
   },
   {
    "duration": 20,
    "start_time": "2021-09-14T08:32:05.769Z"
   },
   {
    "duration": 23,
    "start_time": "2021-09-14T08:32:05.792Z"
   },
   {
    "duration": 10,
    "start_time": "2021-09-14T08:32:05.818Z"
   },
   {
    "duration": 9,
    "start_time": "2021-09-14T08:32:05.836Z"
   },
   {
    "duration": 10,
    "start_time": "2021-09-14T08:32:05.848Z"
   },
   {
    "duration": 18,
    "start_time": "2021-09-14T08:32:05.860Z"
   },
   {
    "duration": 8,
    "start_time": "2021-09-14T08:32:05.880Z"
   },
   {
    "duration": 6,
    "start_time": "2021-09-14T08:32:05.917Z"
   },
   {
    "duration": 9,
    "start_time": "2021-09-14T08:32:05.926Z"
   },
   {
    "duration": 21,
    "start_time": "2021-09-14T08:32:05.937Z"
   },
   {
    "duration": 16,
    "start_time": "2021-09-14T08:32:05.960Z"
   },
   {
    "duration": 40,
    "start_time": "2021-09-14T08:32:05.978Z"
   },
   {
    "duration": 45,
    "start_time": "2021-09-14T08:32:06.020Z"
   },
   {
    "duration": 5,
    "start_time": "2021-09-14T08:32:06.068Z"
   },
   {
    "duration": 16,
    "start_time": "2021-09-14T08:32:06.076Z"
   },
   {
    "duration": 31,
    "start_time": "2021-09-14T08:32:06.094Z"
   },
   {
    "duration": 35,
    "start_time": "2021-09-14T08:32:06.128Z"
   },
   {
    "duration": 12,
    "start_time": "2021-09-14T08:32:06.165Z"
   },
   {
    "duration": 25,
    "start_time": "2021-09-14T08:32:06.180Z"
   },
   {
    "duration": 13,
    "start_time": "2021-09-14T08:32:06.207Z"
   },
   {
    "duration": 14,
    "start_time": "2021-09-14T08:32:06.222Z"
   },
   {
    "duration": 26,
    "start_time": "2021-09-14T08:32:06.239Z"
   },
   {
    "duration": 22,
    "start_time": "2021-09-14T08:32:06.267Z"
   },
   {
    "duration": 16,
    "start_time": "2021-09-14T08:32:06.291Z"
   },
   {
    "duration": 23,
    "start_time": "2021-09-14T08:32:06.310Z"
   },
   {
    "duration": 22,
    "start_time": "2021-09-14T08:32:06.335Z"
   },
   {
    "duration": 14,
    "start_time": "2021-09-14T08:32:06.360Z"
   },
   {
    "duration": 22,
    "start_time": "2021-09-14T08:32:06.376Z"
   },
   {
    "duration": 24,
    "start_time": "2021-09-14T08:32:06.401Z"
   },
   {
    "duration": 866,
    "start_time": "2021-09-14T08:32:06.428Z"
   },
   {
    "duration": -79,
    "start_time": "2021-09-14T08:32:07.377Z"
   },
   {
    "duration": -85,
    "start_time": "2021-09-14T08:32:07.386Z"
   },
   {
    "duration": -88,
    "start_time": "2021-09-14T08:32:07.390Z"
   },
   {
    "duration": -89,
    "start_time": "2021-09-14T08:32:07.393Z"
   },
   {
    "duration": -81,
    "start_time": "2021-09-14T08:32:07.397Z"
   },
   {
    "duration": -83,
    "start_time": "2021-09-14T08:32:07.400Z"
   },
   {
    "duration": -89,
    "start_time": "2021-09-14T08:32:07.408Z"
   },
   {
    "duration": -91,
    "start_time": "2021-09-14T08:32:07.411Z"
   },
   {
    "duration": -94,
    "start_time": "2021-09-14T08:32:07.415Z"
   },
   {
    "duration": -96,
    "start_time": "2021-09-14T08:32:07.418Z"
   },
   {
    "duration": -96,
    "start_time": "2021-09-14T08:32:07.420Z"
   },
   {
    "duration": -98,
    "start_time": "2021-09-14T08:32:07.423Z"
   },
   {
    "duration": -100,
    "start_time": "2021-09-14T08:32:07.426Z"
   },
   {
    "duration": -100,
    "start_time": "2021-09-14T08:32:07.428Z"
   },
   {
    "duration": -102,
    "start_time": "2021-09-14T08:32:07.431Z"
   },
   {
    "duration": -103,
    "start_time": "2021-09-14T08:32:07.433Z"
   },
   {
    "duration": -104,
    "start_time": "2021-09-14T08:32:07.435Z"
   },
   {
    "duration": -105,
    "start_time": "2021-09-14T08:32:07.438Z"
   },
   {
    "duration": -106,
    "start_time": "2021-09-14T08:32:07.440Z"
   },
   {
    "duration": -116,
    "start_time": "2021-09-14T08:32:07.451Z"
   },
   {
    "duration": -118,
    "start_time": "2021-09-14T08:32:07.454Z"
   },
   {
    "duration": -123,
    "start_time": "2021-09-14T08:32:07.460Z"
   },
   {
    "duration": -124,
    "start_time": "2021-09-14T08:32:07.463Z"
   },
   {
    "duration": -126,
    "start_time": "2021-09-14T08:32:07.466Z"
   },
   {
    "duration": -127,
    "start_time": "2021-09-14T08:32:07.468Z"
   },
   {
    "duration": -140,
    "start_time": "2021-09-14T08:32:07.482Z"
   },
   {
    "duration": -141,
    "start_time": "2021-09-14T08:32:07.484Z"
   },
   {
    "duration": -154,
    "start_time": "2021-09-14T08:32:07.499Z"
   },
   {
    "duration": -156,
    "start_time": "2021-09-14T08:32:07.502Z"
   },
   {
    "duration": -157,
    "start_time": "2021-09-14T08:32:07.504Z"
   },
   {
    "duration": -158,
    "start_time": "2021-09-14T08:32:07.507Z"
   },
   {
    "duration": -162,
    "start_time": "2021-09-14T08:32:07.512Z"
   },
   {
    "duration": -180,
    "start_time": "2021-09-14T08:32:07.531Z"
   },
   {
    "duration": -144,
    "start_time": "2021-09-14T08:32:07.560Z"
   },
   {
    "duration": -240,
    "start_time": "2021-09-14T08:32:07.660Z"
   },
   {
    "duration": -290,
    "start_time": "2021-09-14T08:32:07.712Z"
   },
   {
    "duration": -291,
    "start_time": "2021-09-14T08:32:07.715Z"
   },
   {
    "duration": -292,
    "start_time": "2021-09-14T08:32:07.717Z"
   },
   {
    "duration": -293,
    "start_time": "2021-09-14T08:32:07.720Z"
   },
   {
    "duration": -294,
    "start_time": "2021-09-14T08:32:07.722Z"
   },
   {
    "duration": -339,
    "start_time": "2021-09-14T08:32:07.768Z"
   },
   {
    "duration": -354,
    "start_time": "2021-09-14T08:32:07.784Z"
   },
   {
    "duration": -354,
    "start_time": "2021-09-14T08:32:07.786Z"
   },
   {
    "duration": -356,
    "start_time": "2021-09-14T08:32:07.789Z"
   },
   {
    "duration": -358,
    "start_time": "2021-09-14T08:32:07.792Z"
   },
   {
    "duration": -359,
    "start_time": "2021-09-14T08:32:07.795Z"
   },
   {
    "duration": -360,
    "start_time": "2021-09-14T08:32:07.797Z"
   },
   {
    "duration": -361,
    "start_time": "2021-09-14T08:32:07.800Z"
   },
   {
    "duration": -362,
    "start_time": "2021-09-14T08:32:07.802Z"
   },
   {
    "duration": -363,
    "start_time": "2021-09-14T08:32:07.804Z"
   },
   {
    "duration": -364,
    "start_time": "2021-09-14T08:32:07.807Z"
   },
   {
    "duration": -365,
    "start_time": "2021-09-14T08:32:07.809Z"
   },
   {
    "duration": -368,
    "start_time": "2021-09-14T08:32:07.813Z"
   },
   {
    "duration": 1120,
    "start_time": "2021-09-14T20:50:43.189Z"
   },
   {
    "duration": 5428,
    "start_time": "2021-09-14T20:50:44.311Z"
   },
   {
    "duration": 3393,
    "start_time": "2021-09-14T20:50:49.741Z"
   },
   {
    "duration": 192,
    "start_time": "2021-09-14T20:50:53.136Z"
   },
   {
    "duration": 12,
    "start_time": "2021-09-14T20:50:53.330Z"
   },
   {
    "duration": 35,
    "start_time": "2021-09-14T20:50:53.344Z"
   },
   {
    "duration": 38,
    "start_time": "2021-09-14T20:50:53.380Z"
   },
   {
    "duration": 45,
    "start_time": "2021-09-14T20:50:53.419Z"
   },
   {
    "duration": 25,
    "start_time": "2021-09-14T20:50:53.468Z"
   },
   {
    "duration": 39,
    "start_time": "2021-09-14T20:50:53.495Z"
   },
   {
    "duration": 9,
    "start_time": "2021-09-14T20:50:53.536Z"
   },
   {
    "duration": 68,
    "start_time": "2021-09-14T20:50:53.547Z"
   },
   {
    "duration": 61,
    "start_time": "2021-09-14T20:50:53.616Z"
   },
   {
    "duration": 56,
    "start_time": "2021-09-14T20:50:53.679Z"
   },
   {
    "duration": 30,
    "start_time": "2021-09-14T20:50:53.737Z"
   },
   {
    "duration": 12,
    "start_time": "2021-09-14T20:50:53.769Z"
   },
   {
    "duration": 12,
    "start_time": "2021-09-14T20:50:53.783Z"
   },
   {
    "duration": 14,
    "start_time": "2021-09-14T20:50:53.797Z"
   },
   {
    "duration": 9,
    "start_time": "2021-09-14T20:50:53.813Z"
   },
   {
    "duration": 6,
    "start_time": "2021-09-14T20:50:53.824Z"
   },
   {
    "duration": 20,
    "start_time": "2021-09-14T20:50:53.831Z"
   },
   {
    "duration": 24,
    "start_time": "2021-09-14T20:50:53.853Z"
   },
   {
    "duration": 8,
    "start_time": "2021-09-14T20:50:53.879Z"
   },
   {
    "duration": 9,
    "start_time": "2021-09-14T20:50:53.888Z"
   },
   {
    "duration": 14,
    "start_time": "2021-09-14T20:50:53.899Z"
   },
   {
    "duration": 10,
    "start_time": "2021-09-14T20:50:53.915Z"
   },
   {
    "duration": 7,
    "start_time": "2021-09-14T20:50:53.929Z"
   },
   {
    "duration": 5,
    "start_time": "2021-09-14T20:50:53.938Z"
   },
   {
    "duration": 6,
    "start_time": "2021-09-14T20:50:53.945Z"
   },
   {
    "duration": 10,
    "start_time": "2021-09-14T20:50:53.953Z"
   },
   {
    "duration": 18,
    "start_time": "2021-09-14T20:50:53.965Z"
   },
   {
    "duration": 9,
    "start_time": "2021-09-14T20:50:53.985Z"
   },
   {
    "duration": 11,
    "start_time": "2021-09-14T20:50:53.996Z"
   },
   {
    "duration": 27,
    "start_time": "2021-09-14T20:50:54.009Z"
   },
   {
    "duration": 5,
    "start_time": "2021-09-14T20:50:54.037Z"
   },
   {
    "duration": 33,
    "start_time": "2021-09-14T20:50:54.043Z"
   },
   {
    "duration": 8,
    "start_time": "2021-09-14T20:50:54.078Z"
   },
   {
    "duration": 15,
    "start_time": "2021-09-14T20:50:54.087Z"
   },
   {
    "duration": 11,
    "start_time": "2021-09-14T20:50:54.103Z"
   },
   {
    "duration": 12,
    "start_time": "2021-09-14T20:50:54.115Z"
   },
   {
    "duration": 10,
    "start_time": "2021-09-14T20:50:54.128Z"
   },
   {
    "duration": 12,
    "start_time": "2021-09-14T20:50:54.139Z"
   },
   {
    "duration": 11,
    "start_time": "2021-09-14T20:50:54.153Z"
   },
   {
    "duration": 13,
    "start_time": "2021-09-14T20:50:54.165Z"
   },
   {
    "duration": 8,
    "start_time": "2021-09-14T20:50:54.179Z"
   },
   {
    "duration": 14,
    "start_time": "2021-09-14T20:50:54.188Z"
   },
   {
    "duration": 7,
    "start_time": "2021-09-14T20:50:54.204Z"
   },
   {
    "duration": 10,
    "start_time": "2021-09-14T20:50:54.212Z"
   },
   {
    "duration": 8,
    "start_time": "2021-09-14T20:50:54.224Z"
   },
   {
    "duration": 6,
    "start_time": "2021-09-14T20:50:59.456Z"
   },
   {
    "duration": 92,
    "start_time": "2021-09-14T20:51:03.299Z"
   },
   {
    "duration": 18,
    "start_time": "2021-09-14T20:51:47.298Z"
   },
   {
    "duration": 4,
    "start_time": "2021-09-14T20:51:47.798Z"
   },
   {
    "duration": 7,
    "start_time": "2021-09-14T20:51:48.098Z"
   },
   {
    "duration": 154,
    "start_time": "2021-09-14T20:51:48.387Z"
   },
   {
    "duration": 3,
    "start_time": "2021-09-14T20:51:50.859Z"
   },
   {
    "duration": 29,
    "start_time": "2021-09-14T20:51:51.037Z"
   },
   {
    "duration": 4,
    "start_time": "2021-09-14T20:51:51.265Z"
   },
   {
    "duration": 7,
    "start_time": "2021-09-14T20:51:51.724Z"
   },
   {
    "duration": 153,
    "start_time": "2021-09-14T20:51:53.358Z"
   },
   {
    "duration": 19,
    "start_time": "2021-09-14T20:51:59.207Z"
   },
   {
    "duration": 9,
    "start_time": "2021-09-14T20:51:59.339Z"
   },
   {
    "duration": 25,
    "start_time": "2021-09-14T20:51:59.506Z"
   },
   {
    "duration": 3,
    "start_time": "2021-09-14T20:51:59.697Z"
   },
   {
    "duration": 7,
    "start_time": "2021-09-14T20:51:59.888Z"
   },
   {
    "duration": 9,
    "start_time": "2021-09-14T20:52:00.023Z"
   },
   {
    "duration": 10,
    "start_time": "2021-09-14T20:52:00.224Z"
   },
   {
    "duration": 358,
    "start_time": "2021-09-14T20:52:00.666Z"
   },
   {
    "duration": 5,
    "start_time": "2021-09-14T20:52:01.097Z"
   },
   {
    "duration": 259,
    "start_time": "2021-09-14T20:52:11.377Z"
   },
   {
    "duration": 3489,
    "start_time": "2021-09-14T20:52:59.476Z"
   },
   {
    "duration": 277,
    "start_time": "2021-09-14T20:53:44.648Z"
   },
   {
    "duration": 1722,
    "start_time": "2021-09-14T20:54:09.464Z"
   },
   {
    "duration": 3195,
    "start_time": "2021-09-14T20:54:11.188Z"
   },
   {
    "duration": 2151,
    "start_time": "2021-09-14T20:54:14.385Z"
   },
   {
    "duration": 196,
    "start_time": "2021-09-14T20:54:16.539Z"
   },
   {
    "duration": 12,
    "start_time": "2021-09-14T20:54:16.737Z"
   },
   {
    "duration": 34,
    "start_time": "2021-09-14T20:54:16.751Z"
   },
   {
    "duration": 32,
    "start_time": "2021-09-14T20:54:16.787Z"
   },
   {
    "duration": 71,
    "start_time": "2021-09-14T20:54:16.822Z"
   },
   {
    "duration": 30,
    "start_time": "2021-09-14T20:54:16.896Z"
   },
   {
    "duration": 38,
    "start_time": "2021-09-14T20:54:16.928Z"
   },
   {
    "duration": 16,
    "start_time": "2021-09-14T20:54:16.968Z"
   },
   {
    "duration": 48,
    "start_time": "2021-09-14T20:54:16.986Z"
   },
   {
    "duration": 74,
    "start_time": "2021-09-14T20:54:17.036Z"
   },
   {
    "duration": 55,
    "start_time": "2021-09-14T20:54:17.112Z"
   },
   {
    "duration": 29,
    "start_time": "2021-09-14T20:54:17.168Z"
   },
   {
    "duration": 6,
    "start_time": "2021-09-14T20:54:17.198Z"
   },
   {
    "duration": 9,
    "start_time": "2021-09-14T20:54:17.206Z"
   },
   {
    "duration": 12,
    "start_time": "2021-09-14T20:54:17.216Z"
   },
   {
    "duration": 8,
    "start_time": "2021-09-14T20:54:17.230Z"
   },
   {
    "duration": 4,
    "start_time": "2021-09-14T20:54:17.240Z"
   },
   {
    "duration": 33,
    "start_time": "2021-09-14T20:54:17.246Z"
   },
   {
    "duration": 7,
    "start_time": "2021-09-14T20:54:17.280Z"
   },
   {
    "duration": 6,
    "start_time": "2021-09-14T20:54:17.291Z"
   },
   {
    "duration": 5,
    "start_time": "2021-09-14T20:54:17.299Z"
   },
   {
    "duration": 7,
    "start_time": "2021-09-14T20:54:17.306Z"
   },
   {
    "duration": 5,
    "start_time": "2021-09-14T20:54:17.315Z"
   },
   {
    "duration": 11,
    "start_time": "2021-09-14T20:54:17.322Z"
   },
   {
    "duration": 7,
    "start_time": "2021-09-14T20:54:17.335Z"
   },
   {
    "duration": 4,
    "start_time": "2021-09-14T20:54:17.377Z"
   },
   {
    "duration": 6,
    "start_time": "2021-09-14T20:54:17.383Z"
   },
   {
    "duration": 9,
    "start_time": "2021-09-14T20:54:17.391Z"
   },
   {
    "duration": 9,
    "start_time": "2021-09-14T20:54:17.402Z"
   },
   {
    "duration": 13,
    "start_time": "2021-09-14T20:54:17.413Z"
   },
   {
    "duration": 56,
    "start_time": "2021-09-14T20:54:17.428Z"
   },
   {
    "duration": 5,
    "start_time": "2021-09-14T20:54:17.486Z"
   },
   {
    "duration": 5,
    "start_time": "2021-09-14T20:54:17.494Z"
   },
   {
    "duration": 9,
    "start_time": "2021-09-14T20:54:17.501Z"
   },
   {
    "duration": 9,
    "start_time": "2021-09-14T20:54:17.511Z"
   },
   {
    "duration": 6,
    "start_time": "2021-09-14T20:54:17.522Z"
   },
   {
    "duration": 9,
    "start_time": "2021-09-14T20:54:17.530Z"
   },
   {
    "duration": 40,
    "start_time": "2021-09-14T20:54:17.540Z"
   },
   {
    "duration": 6,
    "start_time": "2021-09-14T20:54:17.581Z"
   },
   {
    "duration": 5,
    "start_time": "2021-09-14T20:54:17.589Z"
   },
   {
    "duration": 5,
    "start_time": "2021-09-14T20:54:17.596Z"
   },
   {
    "duration": 5,
    "start_time": "2021-09-14T20:54:17.602Z"
   },
   {
    "duration": 11,
    "start_time": "2021-09-14T20:54:17.608Z"
   },
   {
    "duration": 7,
    "start_time": "2021-09-14T20:54:17.620Z"
   },
   {
    "duration": 5,
    "start_time": "2021-09-14T20:54:17.628Z"
   },
   {
    "duration": 45,
    "start_time": "2021-09-14T20:54:17.635Z"
   },
   {
    "duration": 7,
    "start_time": "2021-09-14T20:54:17.681Z"
   },
   {
    "duration": 2118,
    "start_time": "2021-09-14T20:54:17.689Z"
   },
   {
    "duration": -12,
    "start_time": "2021-09-14T20:54:19.822Z"
   },
   {
    "duration": -13,
    "start_time": "2021-09-14T20:54:19.824Z"
   },
   {
    "duration": -13,
    "start_time": "2021-09-14T20:54:19.825Z"
   },
   {
    "duration": -14,
    "start_time": "2021-09-14T20:54:19.827Z"
   },
   {
    "duration": -14,
    "start_time": "2021-09-14T20:54:19.828Z"
   },
   {
    "duration": -15,
    "start_time": "2021-09-14T20:54:19.830Z"
   },
   {
    "duration": -18,
    "start_time": "2021-09-14T20:54:19.834Z"
   },
   {
    "duration": -19,
    "start_time": "2021-09-14T20:54:19.836Z"
   },
   {
    "duration": -20,
    "start_time": "2021-09-14T20:54:19.838Z"
   },
   {
    "duration": -20,
    "start_time": "2021-09-14T20:54:19.839Z"
   },
   {
    "duration": -21,
    "start_time": "2021-09-14T20:54:19.841Z"
   },
   {
    "duration": -21,
    "start_time": "2021-09-14T20:54:19.842Z"
   },
   {
    "duration": -21,
    "start_time": "2021-09-14T20:54:19.843Z"
   },
   {
    "duration": -22,
    "start_time": "2021-09-14T20:54:19.845Z"
   },
   {
    "duration": -22,
    "start_time": "2021-09-14T20:54:19.846Z"
   },
   {
    "duration": -22,
    "start_time": "2021-09-14T20:54:19.847Z"
   },
   {
    "duration": -23,
    "start_time": "2021-09-14T20:54:19.849Z"
   },
   {
    "duration": -25,
    "start_time": "2021-09-14T20:54:19.851Z"
   },
   {
    "duration": -25,
    "start_time": "2021-09-14T20:54:19.852Z"
   },
   {
    "duration": -26,
    "start_time": "2021-09-14T20:54:19.854Z"
   },
   {
    "duration": -26,
    "start_time": "2021-09-14T20:54:19.855Z"
   },
   {
    "duration": -27,
    "start_time": "2021-09-14T20:54:19.857Z"
   },
   {
    "duration": -28,
    "start_time": "2021-09-14T20:54:19.859Z"
   },
   {
    "duration": -28,
    "start_time": "2021-09-14T20:54:19.860Z"
   },
   {
    "duration": -33,
    "start_time": "2021-09-14T20:54:19.866Z"
   },
   {
    "duration": -36,
    "start_time": "2021-09-14T20:54:19.870Z"
   },
   {
    "duration": -37,
    "start_time": "2021-09-14T20:54:19.872Z"
   },
   {
    "duration": 2,
    "start_time": "2021-09-14T20:54:19.874Z"
   },
   {
    "duration": 3,
    "start_time": "2021-09-14T20:54:19.875Z"
   },
   {
    "duration": 2,
    "start_time": "2021-09-14T20:54:19.876Z"
   },
   {
    "duration": 2,
    "start_time": "2021-09-14T20:54:19.877Z"
   },
   {
    "duration": 2,
    "start_time": "2021-09-14T20:54:19.879Z"
   },
   {
    "duration": 1,
    "start_time": "2021-09-14T20:54:19.880Z"
   },
   {
    "duration": -3,
    "start_time": "2021-09-14T20:54:19.885Z"
   },
   {
    "duration": -4,
    "start_time": "2021-09-14T20:54:19.887Z"
   },
   {
    "duration": -4,
    "start_time": "2021-09-14T20:54:19.888Z"
   },
   {
    "duration": -4,
    "start_time": "2021-09-14T20:54:19.889Z"
   },
   {
    "duration": -5,
    "start_time": "2021-09-14T20:54:19.891Z"
   },
   {
    "duration": -5,
    "start_time": "2021-09-14T20:54:19.892Z"
   },
   {
    "duration": -6,
    "start_time": "2021-09-14T20:54:19.894Z"
   },
   {
    "duration": -6,
    "start_time": "2021-09-14T20:54:19.895Z"
   },
   {
    "duration": -7,
    "start_time": "2021-09-14T20:54:19.897Z"
   },
   {
    "duration": -10,
    "start_time": "2021-09-14T20:54:19.901Z"
   },
   {
    "duration": -11,
    "start_time": "2021-09-14T20:54:19.903Z"
   },
   {
    "duration": -12,
    "start_time": "2021-09-14T20:54:19.905Z"
   },
   {
    "duration": -12,
    "start_time": "2021-09-14T20:54:19.906Z"
   },
   {
    "duration": -12,
    "start_time": "2021-09-14T20:54:19.907Z"
   },
   {
    "duration": -12,
    "start_time": "2021-09-14T20:54:19.908Z"
   },
   {
    "duration": -14,
    "start_time": "2021-09-14T20:54:19.911Z"
   },
   {
    "duration": -14,
    "start_time": "2021-09-14T20:54:19.912Z"
   },
   {
    "duration": -14,
    "start_time": "2021-09-14T20:54:19.913Z"
   },
   {
    "duration": -18,
    "start_time": "2021-09-14T20:54:19.918Z"
   },
   {
    "duration": -19,
    "start_time": "2021-09-14T20:54:19.920Z"
   },
   {
    "duration": 440,
    "start_time": "2021-09-14T20:54:55.441Z"
   },
   {
    "duration": 2927,
    "start_time": "2021-09-14T20:55:07.210Z"
   },
   {
    "duration": 543,
    "start_time": "2021-09-14T20:55:27.864Z"
   },
   {
    "duration": 700,
    "start_time": "2021-09-14T20:56:31.084Z"
   },
   {
    "duration": 83,
    "start_time": "2021-09-14T20:58:29.915Z"
   },
   {
    "duration": 145,
    "start_time": "2021-09-14T20:59:08.190Z"
   },
   {
    "duration": 79,
    "start_time": "2021-09-14T20:59:46.966Z"
   },
   {
    "duration": 18,
    "start_time": "2021-09-14T20:59:48.797Z"
   },
   {
    "duration": 4,
    "start_time": "2021-09-14T20:59:49.136Z"
   },
   {
    "duration": 6,
    "start_time": "2021-09-14T20:59:49.384Z"
   },
   {
    "duration": 219,
    "start_time": "2021-09-14T20:59:49.585Z"
   },
   {
    "duration": 2,
    "start_time": "2021-09-14T20:59:50.830Z"
   },
   {
    "duration": 29,
    "start_time": "2021-09-14T20:59:51.055Z"
   },
   {
    "duration": 4,
    "start_time": "2021-09-14T20:59:51.250Z"
   },
   {
    "duration": 6,
    "start_time": "2021-09-14T20:59:51.435Z"
   },
   {
    "duration": 194,
    "start_time": "2021-09-14T20:59:51.808Z"
   },
   {
    "duration": 19,
    "start_time": "2021-09-14T20:59:52.229Z"
   },
   {
    "duration": 9,
    "start_time": "2021-09-14T20:59:52.435Z"
   },
   {
    "duration": 26,
    "start_time": "2021-09-14T20:59:52.675Z"
   },
   {
    "duration": 3,
    "start_time": "2021-09-14T20:59:52.896Z"
   },
   {
    "duration": 7,
    "start_time": "2021-09-14T20:59:53.130Z"
   },
   {
    "duration": 9,
    "start_time": "2021-09-14T20:59:53.376Z"
   },
   {
    "duration": 10,
    "start_time": "2021-09-14T20:59:53.608Z"
   },
   {
    "duration": 304,
    "start_time": "2021-09-14T20:59:54.302Z"
   },
   {
    "duration": 4,
    "start_time": "2021-09-14T20:59:54.650Z"
   },
   {
    "duration": 340,
    "start_time": "2021-09-14T21:00:15.247Z"
   },
   {
    "duration": 443,
    "start_time": "2021-09-14T21:00:28.700Z"
   },
   {
    "duration": 325,
    "start_time": "2021-09-14T21:00:51.956Z"
   },
   {
    "duration": 315,
    "start_time": "2021-09-14T21:01:01.474Z"
   },
   {
    "duration": 313,
    "start_time": "2021-09-14T21:01:06.282Z"
   },
   {
    "duration": 393,
    "start_time": "2021-09-14T21:07:20.596Z"
   },
   {
    "duration": 104,
    "start_time": "2021-09-14T21:07:33.529Z"
   },
   {
    "duration": 344,
    "start_time": "2021-09-14T21:07:41.047Z"
   },
   {
    "duration": 349,
    "start_time": "2021-09-14T21:08:34.116Z"
   },
   {
    "duration": 280,
    "start_time": "2021-09-14T21:11:13.033Z"
   },
   {
    "duration": 619,
    "start_time": "2021-09-14T21:13:56.642Z"
   },
   {
    "duration": 342,
    "start_time": "2021-09-14T21:14:17.937Z"
   },
   {
    "duration": 103,
    "start_time": "2021-09-14T21:28:08.736Z"
   },
   {
    "duration": 18,
    "start_time": "2021-09-14T21:38:40.980Z"
   },
   {
    "duration": 4,
    "start_time": "2021-09-14T21:38:41.206Z"
   },
   {
    "duration": 6,
    "start_time": "2021-09-14T21:39:20.504Z"
   },
   {
    "duration": 13,
    "start_time": "2021-09-14T21:39:21.310Z"
   },
   {
    "duration": 4,
    "start_time": "2021-09-14T21:39:37.226Z"
   },
   {
    "duration": 4,
    "start_time": "2021-09-14T21:39:51.991Z"
   },
   {
    "duration": 261,
    "start_time": "2021-09-14T21:39:57.765Z"
   },
   {
    "duration": 4,
    "start_time": "2021-09-14T21:40:08.738Z"
   },
   {
    "duration": 4,
    "start_time": "2021-09-14T21:40:42.910Z"
   },
   {
    "duration": 2,
    "start_time": "2021-09-14T21:44:29.774Z"
   },
   {
    "duration": 4,
    "start_time": "2021-09-14T21:44:35.574Z"
   },
   {
    "duration": 266,
    "start_time": "2021-09-14T21:54:55.204Z"
   },
   {
    "duration": 10,
    "start_time": "2021-09-14T21:55:01.030Z"
   },
   {
    "duration": 5,
    "start_time": "2021-09-14T22:02:26.033Z"
   },
   {
    "duration": 11,
    "start_time": "2021-09-14T22:02:26.348Z"
   },
   {
    "duration": 6,
    "start_time": "2021-09-14T22:02:26.633Z"
   },
   {
    "duration": 3,
    "start_time": "2021-09-14T22:09:28.329Z"
   },
   {
    "duration": 4,
    "start_time": "2021-09-14T22:09:34.455Z"
   },
   {
    "duration": 4,
    "start_time": "2021-09-14T22:09:58.147Z"
   },
   {
    "duration": 4,
    "start_time": "2021-09-14T22:10:11.329Z"
   },
   {
    "duration": 3,
    "start_time": "2021-09-14T22:10:32.778Z"
   },
   {
    "duration": 4,
    "start_time": "2021-09-14T22:10:34.914Z"
   },
   {
    "duration": 4,
    "start_time": "2021-09-14T22:10:51.599Z"
   },
   {
    "duration": 5,
    "start_time": "2021-09-14T22:11:14.047Z"
   },
   {
    "duration": 5,
    "start_time": "2021-09-14T22:11:30.457Z"
   },
   {
    "duration": 3,
    "start_time": "2021-09-14T22:12:12.625Z"
   },
   {
    "duration": 4,
    "start_time": "2021-09-14T22:12:25.205Z"
   },
   {
    "duration": 1158,
    "start_time": "2021-09-16T19:23:11.509Z"
   },
   {
    "duration": 5186,
    "start_time": "2021-09-16T19:23:12.669Z"
   },
   {
    "duration": 2973,
    "start_time": "2021-09-16T19:23:17.857Z"
   },
   {
    "duration": 200,
    "start_time": "2021-09-16T19:23:20.832Z"
   },
   {
    "duration": 16,
    "start_time": "2021-09-16T19:23:21.034Z"
   },
   {
    "duration": 26,
    "start_time": "2021-09-16T19:23:21.052Z"
   },
   {
    "duration": 26,
    "start_time": "2021-09-16T19:23:21.079Z"
   },
   {
    "duration": 50,
    "start_time": "2021-09-16T19:23:21.107Z"
   },
   {
    "duration": 23,
    "start_time": "2021-09-16T19:23:21.160Z"
   },
   {
    "duration": 36,
    "start_time": "2021-09-16T19:23:21.185Z"
   },
   {
    "duration": 30,
    "start_time": "2021-09-16T19:23:21.223Z"
   },
   {
    "duration": 46,
    "start_time": "2021-09-16T19:23:21.254Z"
   },
   {
    "duration": 64,
    "start_time": "2021-09-16T19:23:21.302Z"
   },
   {
    "duration": 60,
    "start_time": "2021-09-16T19:23:21.368Z"
   },
   {
    "duration": 28,
    "start_time": "2021-09-16T19:23:21.430Z"
   },
   {
    "duration": 7,
    "start_time": "2021-09-16T19:23:21.460Z"
   },
   {
    "duration": 7,
    "start_time": "2021-09-16T19:23:21.469Z"
   },
   {
    "duration": 15,
    "start_time": "2021-09-16T19:23:21.478Z"
   },
   {
    "duration": 9,
    "start_time": "2021-09-16T19:23:21.495Z"
   },
   {
    "duration": 4,
    "start_time": "2021-09-16T19:23:21.506Z"
   },
   {
    "duration": 38,
    "start_time": "2021-09-16T19:23:21.511Z"
   },
   {
    "duration": 17,
    "start_time": "2021-09-16T19:23:21.551Z"
   },
   {
    "duration": 7,
    "start_time": "2021-09-16T19:23:21.570Z"
   },
   {
    "duration": 8,
    "start_time": "2021-09-16T19:23:21.579Z"
   },
   {
    "duration": 8,
    "start_time": "2021-09-16T19:23:21.588Z"
   },
   {
    "duration": 5,
    "start_time": "2021-09-16T19:23:21.598Z"
   },
   {
    "duration": 4,
    "start_time": "2021-09-16T19:23:21.608Z"
   },
   {
    "duration": 6,
    "start_time": "2021-09-16T19:23:21.615Z"
   },
   {
    "duration": 5,
    "start_time": "2021-09-16T19:23:21.623Z"
   },
   {
    "duration": 4,
    "start_time": "2021-09-16T19:23:21.649Z"
   },
   {
    "duration": 9,
    "start_time": "2021-09-16T19:23:21.655Z"
   },
   {
    "duration": 9,
    "start_time": "2021-09-16T19:23:21.666Z"
   },
   {
    "duration": 11,
    "start_time": "2021-09-16T19:23:21.677Z"
   },
   {
    "duration": 24,
    "start_time": "2021-09-16T19:23:21.690Z"
   },
   {
    "duration": 4,
    "start_time": "2021-09-16T19:23:21.715Z"
   },
   {
    "duration": 32,
    "start_time": "2021-09-16T19:23:21.720Z"
   },
   {
    "duration": 10,
    "start_time": "2021-09-16T19:23:21.754Z"
   },
   {
    "duration": 10,
    "start_time": "2021-09-16T19:23:21.766Z"
   },
   {
    "duration": 8,
    "start_time": "2021-09-16T19:23:21.778Z"
   },
   {
    "duration": 9,
    "start_time": "2021-09-16T19:23:21.788Z"
   },
   {
    "duration": 5,
    "start_time": "2021-09-16T19:23:21.799Z"
   },
   {
    "duration": 7,
    "start_time": "2021-09-16T19:23:21.806Z"
   },
   {
    "duration": 8,
    "start_time": "2021-09-16T19:23:21.815Z"
   },
   {
    "duration": 26,
    "start_time": "2021-09-16T19:23:21.824Z"
   },
   {
    "duration": 6,
    "start_time": "2021-09-16T19:23:21.851Z"
   },
   {
    "duration": 12,
    "start_time": "2021-09-16T19:23:21.859Z"
   },
   {
    "duration": 6,
    "start_time": "2021-09-16T19:23:21.872Z"
   },
   {
    "duration": 10,
    "start_time": "2021-09-16T19:23:21.879Z"
   },
   {
    "duration": 12,
    "start_time": "2021-09-16T19:23:21.890Z"
   },
   {
    "duration": 10,
    "start_time": "2021-09-16T19:23:21.903Z"
   },
   {
    "duration": 100,
    "start_time": "2021-09-16T19:23:21.914Z"
   },
   {
    "duration": 16,
    "start_time": "2021-09-16T19:23:22.016Z"
   },
   {
    "duration": 3,
    "start_time": "2021-09-16T19:23:22.034Z"
   },
   {
    "duration": 14,
    "start_time": "2021-09-16T19:23:22.039Z"
   },
   {
    "duration": 162,
    "start_time": "2021-09-16T19:23:22.055Z"
   },
   {
    "duration": 2,
    "start_time": "2021-09-16T19:23:22.218Z"
   },
   {
    "duration": 42,
    "start_time": "2021-09-16T19:23:22.222Z"
   },
   {
    "duration": 3,
    "start_time": "2021-09-16T19:23:22.265Z"
   },
   {
    "duration": 9,
    "start_time": "2021-09-16T19:23:22.270Z"
   },
   {
    "duration": 157,
    "start_time": "2021-09-16T19:23:22.280Z"
   },
   {
    "duration": 24,
    "start_time": "2021-09-16T19:23:22.439Z"
   },
   {
    "duration": 9,
    "start_time": "2021-09-16T19:23:22.464Z"
   },
   {
    "duration": 25,
    "start_time": "2021-09-16T19:23:22.474Z"
   },
   {
    "duration": 2,
    "start_time": "2021-09-16T19:23:22.501Z"
   },
   {
    "duration": 10,
    "start_time": "2021-09-16T19:23:22.505Z"
   },
   {
    "duration": 9,
    "start_time": "2021-09-16T19:23:22.517Z"
   },
   {
    "duration": 23,
    "start_time": "2021-09-16T19:23:22.528Z"
   },
   {
    "duration": 1488,
    "start_time": "2021-09-16T19:23:22.552Z"
   },
   {
    "duration": 38,
    "start_time": "2021-09-16T19:23:24.004Z"
   },
   {
    "duration": 31,
    "start_time": "2021-09-16T19:23:24.012Z"
   },
   {
    "duration": 30,
    "start_time": "2021-09-16T19:23:24.014Z"
   },
   {
    "duration": 29,
    "start_time": "2021-09-16T19:23:24.016Z"
   },
   {
    "duration": 28,
    "start_time": "2021-09-16T19:23:24.018Z"
   },
   {
    "duration": 26,
    "start_time": "2021-09-16T19:23:24.021Z"
   },
   {
    "duration": 24,
    "start_time": "2021-09-16T19:23:24.023Z"
   },
   {
    "duration": 24,
    "start_time": "2021-09-16T19:23:24.024Z"
   },
   {
    "duration": 23,
    "start_time": "2021-09-16T19:23:24.026Z"
   },
   {
    "duration": 22,
    "start_time": "2021-09-16T19:23:24.028Z"
   },
   {
    "duration": 21,
    "start_time": "2021-09-16T19:23:24.030Z"
   },
   {
    "duration": 20,
    "start_time": "2021-09-16T19:23:24.032Z"
   },
   {
    "duration": 19,
    "start_time": "2021-09-16T19:23:24.034Z"
   },
   {
    "duration": 9,
    "start_time": "2021-09-16T19:23:24.044Z"
   },
   {
    "duration": 9,
    "start_time": "2021-09-16T19:23:24.046Z"
   },
   {
    "duration": 7,
    "start_time": "2021-09-16T19:23:24.048Z"
   },
   {
    "duration": 7,
    "start_time": "2021-09-16T19:23:24.049Z"
   },
   {
    "duration": 2,
    "start_time": "2021-09-16T19:23:24.055Z"
   },
   {
    "duration": 1,
    "start_time": "2021-09-16T19:23:24.057Z"
   },
   {
    "duration": 0,
    "start_time": "2021-09-16T19:23:24.059Z"
   },
   {
    "duration": 0,
    "start_time": "2021-09-16T19:23:24.060Z"
   },
   {
    "duration": -1,
    "start_time": "2021-09-16T19:23:24.062Z"
   },
   {
    "duration": -1,
    "start_time": "2021-09-16T19:23:24.063Z"
   },
   {
    "duration": -2,
    "start_time": "2021-09-16T19:23:24.065Z"
   },
   {
    "duration": -4,
    "start_time": "2021-09-16T19:23:24.067Z"
   },
   {
    "duration": -13,
    "start_time": "2021-09-16T19:23:24.077Z"
   },
   {
    "duration": -13,
    "start_time": "2021-09-16T19:23:24.078Z"
   },
   {
    "duration": -14,
    "start_time": "2021-09-16T19:23:24.080Z"
   },
   {
    "duration": -15,
    "start_time": "2021-09-16T19:23:24.082Z"
   },
   {
    "duration": -16,
    "start_time": "2021-09-16T19:23:24.084Z"
   },
   {
    "duration": -24,
    "start_time": "2021-09-16T19:23:24.092Z"
   },
   {
    "duration": -26,
    "start_time": "2021-09-16T19:23:24.095Z"
   },
   {
    "duration": -27,
    "start_time": "2021-09-16T19:23:24.097Z"
   },
   {
    "duration": -28,
    "start_time": "2021-09-16T19:23:24.099Z"
   },
   {
    "duration": -33,
    "start_time": "2021-09-16T19:23:24.105Z"
   },
   {
    "duration": -34,
    "start_time": "2021-09-16T19:23:24.107Z"
   },
   {
    "duration": -35,
    "start_time": "2021-09-16T19:23:24.108Z"
   },
   {
    "duration": -36,
    "start_time": "2021-09-16T19:23:24.110Z"
   },
   {
    "duration": -36,
    "start_time": "2021-09-16T19:23:24.111Z"
   },
   {
    "duration": -37,
    "start_time": "2021-09-16T19:23:24.113Z"
   },
   {
    "duration": -37,
    "start_time": "2021-09-16T19:23:24.114Z"
   },
   {
    "duration": 1246,
    "start_time": "2021-09-16T19:41:57.499Z"
   },
   {
    "duration": 207,
    "start_time": "2021-09-16T19:42:08.459Z"
   },
   {
    "duration": 10,
    "start_time": "2021-09-16T19:42:08.668Z"
   },
   {
    "duration": 28,
    "start_time": "2021-09-16T19:42:08.680Z"
   },
   {
    "duration": 45,
    "start_time": "2021-09-16T19:42:08.710Z"
   },
   {
    "duration": 41,
    "start_time": "2021-09-16T19:42:08.757Z"
   },
   {
    "duration": 24,
    "start_time": "2021-09-16T19:42:08.799Z"
   },
   {
    "duration": 47,
    "start_time": "2021-09-16T19:42:08.825Z"
   },
   {
    "duration": 9,
    "start_time": "2021-09-16T19:42:08.874Z"
   },
   {
    "duration": 53,
    "start_time": "2021-09-16T19:42:08.885Z"
   },
   {
    "duration": 51,
    "start_time": "2021-09-16T19:42:08.950Z"
   },
   {
    "duration": 71,
    "start_time": "2021-09-16T19:42:09.003Z"
   },
   {
    "duration": 26,
    "start_time": "2021-09-16T19:42:09.076Z"
   },
   {
    "duration": 6,
    "start_time": "2021-09-16T19:42:09.104Z"
   },
   {
    "duration": 9,
    "start_time": "2021-09-16T19:42:09.112Z"
   },
   {
    "duration": 16,
    "start_time": "2021-09-16T19:42:09.122Z"
   },
   {
    "duration": 13,
    "start_time": "2021-09-16T19:42:09.140Z"
   },
   {
    "duration": 5,
    "start_time": "2021-09-16T19:42:09.154Z"
   },
   {
    "duration": 22,
    "start_time": "2021-09-16T19:42:09.160Z"
   },
   {
    "duration": 13,
    "start_time": "2021-09-16T19:42:09.183Z"
   },
   {
    "duration": 15,
    "start_time": "2021-09-16T19:42:09.198Z"
   },
   {
    "duration": 13,
    "start_time": "2021-09-16T19:42:09.215Z"
   },
   {
    "duration": 9,
    "start_time": "2021-09-16T19:42:09.230Z"
   },
   {
    "duration": 20,
    "start_time": "2021-09-16T19:42:09.241Z"
   },
   {
    "duration": 13,
    "start_time": "2021-09-16T19:42:09.262Z"
   },
   {
    "duration": 8,
    "start_time": "2021-09-16T19:42:09.276Z"
   },
   {
    "duration": 15,
    "start_time": "2021-09-16T19:42:09.285Z"
   },
   {
    "duration": 8,
    "start_time": "2021-09-16T19:42:09.304Z"
   },
   {
    "duration": 12,
    "start_time": "2021-09-16T19:42:09.315Z"
   },
   {
    "duration": 22,
    "start_time": "2021-09-16T19:42:09.329Z"
   },
   {
    "duration": 18,
    "start_time": "2021-09-16T19:42:09.352Z"
   },
   {
    "duration": 40,
    "start_time": "2021-09-16T19:42:09.372Z"
   },
   {
    "duration": 5,
    "start_time": "2021-09-16T19:42:09.414Z"
   },
   {
    "duration": 12,
    "start_time": "2021-09-16T19:42:09.421Z"
   },
   {
    "duration": 20,
    "start_time": "2021-09-16T19:42:09.435Z"
   },
   {
    "duration": 22,
    "start_time": "2021-09-16T19:42:09.457Z"
   },
   {
    "duration": 13,
    "start_time": "2021-09-16T19:42:09.480Z"
   },
   {
    "duration": 14,
    "start_time": "2021-09-16T19:42:09.495Z"
   },
   {
    "duration": 13,
    "start_time": "2021-09-16T19:42:09.511Z"
   },
   {
    "duration": 11,
    "start_time": "2021-09-16T19:42:09.526Z"
   },
   {
    "duration": 11,
    "start_time": "2021-09-16T19:42:09.539Z"
   },
   {
    "duration": 8,
    "start_time": "2021-09-16T19:42:09.552Z"
   },
   {
    "duration": 9,
    "start_time": "2021-09-16T19:42:09.562Z"
   },
   {
    "duration": 20,
    "start_time": "2021-09-16T19:42:09.572Z"
   },
   {
    "duration": 12,
    "start_time": "2021-09-16T19:42:09.594Z"
   },
   {
    "duration": 8,
    "start_time": "2021-09-16T19:42:09.608Z"
   },
   {
    "duration": 19,
    "start_time": "2021-09-16T19:42:09.617Z"
   },
   {
    "duration": 22,
    "start_time": "2021-09-16T19:42:09.637Z"
   },
   {
    "duration": 85,
    "start_time": "2021-09-16T19:42:09.660Z"
   },
   {
    "duration": 16,
    "start_time": "2021-09-16T19:42:09.747Z"
   },
   {
    "duration": 3,
    "start_time": "2021-09-16T19:42:09.765Z"
   },
   {
    "duration": 16,
    "start_time": "2021-09-16T19:42:09.770Z"
   },
   {
    "duration": 315,
    "start_time": "2021-09-16T19:42:09.788Z"
   },
   {
    "duration": 3,
    "start_time": "2021-09-16T19:42:10.105Z"
   },
   {
    "duration": 46,
    "start_time": "2021-09-16T19:42:10.110Z"
   },
   {
    "duration": 4,
    "start_time": "2021-09-16T19:42:10.157Z"
   },
   {
    "duration": 17,
    "start_time": "2021-09-16T19:42:10.162Z"
   },
   {
    "duration": 198,
    "start_time": "2021-09-16T19:42:10.180Z"
   },
   {
    "duration": 70,
    "start_time": "2021-09-16T19:42:10.380Z"
   },
   {
    "duration": 9,
    "start_time": "2021-09-16T19:42:10.453Z"
   },
   {
    "duration": 26,
    "start_time": "2021-09-16T19:42:10.464Z"
   },
   {
    "duration": 3,
    "start_time": "2021-09-16T19:42:10.492Z"
   },
   {
    "duration": 23,
    "start_time": "2021-09-16T19:42:10.496Z"
   },
   {
    "duration": 18,
    "start_time": "2021-09-16T19:42:10.521Z"
   },
   {
    "duration": 14,
    "start_time": "2021-09-16T19:42:10.540Z"
   },
   {
    "duration": 301,
    "start_time": "2021-09-16T19:42:10.555Z"
   },
   {
    "duration": 4,
    "start_time": "2021-09-16T19:42:10.858Z"
   },
   {
    "duration": 14,
    "start_time": "2021-09-16T19:42:10.864Z"
   },
   {
    "duration": 15,
    "start_time": "2021-09-16T19:42:10.879Z"
   },
   {
    "duration": 23,
    "start_time": "2021-09-16T19:42:10.895Z"
   },
   {
    "duration": 3,
    "start_time": "2021-09-16T19:42:10.920Z"
   },
   {
    "duration": 15,
    "start_time": "2021-09-16T19:42:10.924Z"
   },
   {
    "duration": 20,
    "start_time": "2021-09-16T19:42:10.940Z"
   },
   {
    "duration": 15,
    "start_time": "2021-09-16T19:42:10.962Z"
   },
   {
    "duration": 7,
    "start_time": "2021-09-16T19:42:10.978Z"
   },
   {
    "duration": 21,
    "start_time": "2021-09-16T19:42:10.987Z"
   },
   {
    "duration": 9,
    "start_time": "2021-09-16T19:42:11.009Z"
   },
   {
    "duration": 21,
    "start_time": "2021-09-16T19:42:11.019Z"
   },
   {
    "duration": 23,
    "start_time": "2021-09-16T19:42:11.041Z"
   },
   {
    "duration": 15,
    "start_time": "2021-09-16T19:42:11.065Z"
   },
   {
    "duration": 14,
    "start_time": "2021-09-16T19:42:11.081Z"
   },
   {
    "duration": 17,
    "start_time": "2021-09-16T19:42:11.100Z"
   },
   {
    "duration": 19,
    "start_time": "2021-09-16T19:42:11.119Z"
   },
   {
    "duration": 14,
    "start_time": "2021-09-16T19:42:11.139Z"
   },
   {
    "duration": 14,
    "start_time": "2021-09-16T19:42:11.155Z"
   },
   {
    "duration": 9,
    "start_time": "2021-09-16T19:42:11.171Z"
   },
   {
    "duration": 21,
    "start_time": "2021-09-16T19:42:11.182Z"
   },
   {
    "duration": 13,
    "start_time": "2021-09-16T19:42:11.204Z"
   },
   {
    "duration": 9,
    "start_time": "2021-09-16T19:42:11.219Z"
   },
   {
    "duration": 41,
    "start_time": "2021-09-16T19:42:11.229Z"
   },
   {
    "duration": 32,
    "start_time": "2021-09-16T19:42:11.271Z"
   },
   {
    "duration": 5,
    "start_time": "2021-09-16T19:42:11.305Z"
   },
   {
    "duration": 16,
    "start_time": "2021-09-16T19:42:11.312Z"
   },
   {
    "duration": 28,
    "start_time": "2021-09-16T19:42:11.330Z"
   },
   {
    "duration": 25,
    "start_time": "2021-09-16T19:42:11.360Z"
   },
   {
    "duration": 20,
    "start_time": "2021-09-16T19:42:11.387Z"
   },
   {
    "duration": 13,
    "start_time": "2021-09-16T19:42:11.409Z"
   },
   {
    "duration": 21,
    "start_time": "2021-09-16T19:42:11.424Z"
   },
   {
    "duration": 18,
    "start_time": "2021-09-16T19:42:11.447Z"
   },
   {
    "duration": 24,
    "start_time": "2021-09-16T19:42:11.467Z"
   },
   {
    "duration": 10,
    "start_time": "2021-09-16T19:42:11.493Z"
   },
   {
    "duration": 13,
    "start_time": "2021-09-16T19:42:11.504Z"
   },
   {
    "duration": 17,
    "start_time": "2021-09-16T19:42:11.518Z"
   },
   {
    "duration": 16,
    "start_time": "2021-09-16T19:42:11.536Z"
   },
   {
    "duration": 9,
    "start_time": "2021-09-16T19:42:11.554Z"
   },
   {
    "duration": 10,
    "start_time": "2021-09-16T19:42:11.564Z"
   },
   {
    "duration": 21,
    "start_time": "2021-09-16T19:42:11.575Z"
   },
   {
    "duration": 1522,
    "start_time": "2021-09-17T08:51:55.034Z"
   },
   {
    "duration": 6840,
    "start_time": "2021-09-17T08:51:56.558Z"
   },
   {
    "duration": 4423,
    "start_time": "2021-09-17T08:52:03.402Z"
   },
   {
    "duration": 260,
    "start_time": "2021-09-17T08:52:07.828Z"
   },
   {
    "duration": 19,
    "start_time": "2021-09-17T08:52:08.091Z"
   },
   {
    "duration": 46,
    "start_time": "2021-09-17T08:52:08.113Z"
   },
   {
    "duration": 60,
    "start_time": "2021-09-17T08:52:08.161Z"
   },
   {
    "duration": 79,
    "start_time": "2021-09-17T08:52:08.225Z"
   },
   {
    "duration": 34,
    "start_time": "2021-09-17T08:52:08.307Z"
   },
   {
    "duration": 90,
    "start_time": "2021-09-17T08:52:08.344Z"
   },
   {
    "duration": 17,
    "start_time": "2021-09-17T08:52:08.437Z"
   },
   {
    "duration": 104,
    "start_time": "2021-09-17T08:52:08.457Z"
   },
   {
    "duration": 96,
    "start_time": "2021-09-17T08:52:08.564Z"
   },
   {
    "duration": 88,
    "start_time": "2021-09-17T08:52:08.662Z"
   },
   {
    "duration": 35,
    "start_time": "2021-09-17T08:52:08.753Z"
   },
   {
    "duration": 10,
    "start_time": "2021-09-17T08:52:08.791Z"
   },
   {
    "duration": 13,
    "start_time": "2021-09-17T08:52:08.803Z"
   },
   {
    "duration": 19,
    "start_time": "2021-09-17T08:52:08.818Z"
   },
   {
    "duration": 12,
    "start_time": "2021-09-17T08:52:08.840Z"
   },
   {
    "duration": 7,
    "start_time": "2021-09-17T08:52:08.883Z"
   },
   {
    "duration": 23,
    "start_time": "2021-09-17T08:52:08.892Z"
   },
   {
    "duration": 18,
    "start_time": "2021-09-17T08:52:08.917Z"
   },
   {
    "duration": 7,
    "start_time": "2021-09-17T08:52:08.941Z"
   },
   {
    "duration": 17,
    "start_time": "2021-09-17T08:52:08.952Z"
   },
   {
    "duration": 8,
    "start_time": "2021-09-17T08:52:08.983Z"
   },
   {
    "duration": 16,
    "start_time": "2021-09-17T08:52:08.994Z"
   },
   {
    "duration": 9,
    "start_time": "2021-09-17T08:52:09.013Z"
   },
   {
    "duration": 14,
    "start_time": "2021-09-17T08:52:09.025Z"
   },
   {
    "duration": 14,
    "start_time": "2021-09-17T08:52:09.041Z"
   },
   {
    "duration": 27,
    "start_time": "2021-09-17T08:52:09.057Z"
   },
   {
    "duration": 19,
    "start_time": "2021-09-17T08:52:09.087Z"
   },
   {
    "duration": 12,
    "start_time": "2021-09-17T08:52:09.109Z"
   },
   {
    "duration": 22,
    "start_time": "2021-09-17T08:52:09.123Z"
   },
   {
    "duration": 60,
    "start_time": "2021-09-17T08:52:09.148Z"
   },
   {
    "duration": 5,
    "start_time": "2021-09-17T08:52:09.211Z"
   },
   {
    "duration": 11,
    "start_time": "2021-09-17T08:52:09.219Z"
   },
   {
    "duration": 13,
    "start_time": "2021-09-17T08:52:09.232Z"
   },
   {
    "duration": 38,
    "start_time": "2021-09-17T08:52:09.248Z"
   },
   {
    "duration": 19,
    "start_time": "2021-09-17T08:52:09.288Z"
   },
   {
    "duration": 29,
    "start_time": "2021-09-17T08:52:09.309Z"
   },
   {
    "duration": 12,
    "start_time": "2021-09-17T08:52:09.340Z"
   },
   {
    "duration": 12,
    "start_time": "2021-09-17T08:52:09.355Z"
   },
   {
    "duration": 14,
    "start_time": "2021-09-17T08:52:09.369Z"
   },
   {
    "duration": 15,
    "start_time": "2021-09-17T08:52:09.385Z"
   },
   {
    "duration": 9,
    "start_time": "2021-09-17T08:52:09.403Z"
   },
   {
    "duration": 20,
    "start_time": "2021-09-17T08:52:09.414Z"
   },
   {
    "duration": 6,
    "start_time": "2021-09-17T08:52:09.437Z"
   },
   {
    "duration": 9,
    "start_time": "2021-09-17T08:52:09.445Z"
   },
   {
    "duration": 35,
    "start_time": "2021-09-17T08:52:09.456Z"
   },
   {
    "duration": 17,
    "start_time": "2021-09-17T08:52:09.493Z"
   },
   {
    "duration": 146,
    "start_time": "2021-09-17T08:52:09.513Z"
   },
   {
    "duration": 32,
    "start_time": "2021-09-17T08:52:09.661Z"
   },
   {
    "duration": 12,
    "start_time": "2021-09-17T08:52:09.696Z"
   },
   {
    "duration": 35,
    "start_time": "2021-09-17T08:52:09.711Z"
   },
   {
    "duration": 256,
    "start_time": "2021-09-17T08:52:09.749Z"
   },
   {
    "duration": 4,
    "start_time": "2021-09-17T08:52:10.007Z"
   },
   {
    "duration": 51,
    "start_time": "2021-09-17T08:52:10.013Z"
   },
   {
    "duration": 19,
    "start_time": "2021-09-17T08:52:10.066Z"
   },
   {
    "duration": 16,
    "start_time": "2021-09-17T08:52:10.087Z"
   },
   {
    "duration": 266,
    "start_time": "2021-09-17T08:52:10.106Z"
   },
   {
    "duration": 35,
    "start_time": "2021-09-17T08:52:10.374Z"
   },
   {
    "duration": 14,
    "start_time": "2021-09-17T08:52:10.412Z"
   },
   {
    "duration": 63,
    "start_time": "2021-09-17T08:52:10.429Z"
   },
   {
    "duration": 4,
    "start_time": "2021-09-17T08:52:10.495Z"
   },
   {
    "duration": 12,
    "start_time": "2021-09-17T08:52:10.502Z"
   },
   {
    "duration": 17,
    "start_time": "2021-09-17T08:52:10.516Z"
   },
   {
    "duration": 15,
    "start_time": "2021-09-17T08:52:10.535Z"
   },
   {
    "duration": 623,
    "start_time": "2021-09-17T08:52:10.590Z"
   },
   {
    "duration": -170,
    "start_time": "2021-09-17T08:52:11.386Z"
   },
   {
    "duration": -175,
    "start_time": "2021-09-17T08:52:11.393Z"
   },
   {
    "duration": -178,
    "start_time": "2021-09-17T08:52:11.397Z"
   },
   {
    "duration": -181,
    "start_time": "2021-09-17T08:52:11.402Z"
   },
   {
    "duration": -184,
    "start_time": "2021-09-17T08:52:11.406Z"
   },
   {
    "duration": -187,
    "start_time": "2021-09-17T08:52:11.411Z"
   },
   {
    "duration": -190,
    "start_time": "2021-09-17T08:52:11.415Z"
   },
   {
    "duration": -193,
    "start_time": "2021-09-17T08:52:11.420Z"
   },
   {
    "duration": -196,
    "start_time": "2021-09-17T08:52:11.424Z"
   },
   {
    "duration": -199,
    "start_time": "2021-09-17T08:52:11.428Z"
   },
   {
    "duration": -202,
    "start_time": "2021-09-17T08:52:11.432Z"
   },
   {
    "duration": -204,
    "start_time": "2021-09-17T08:52:11.436Z"
   },
   {
    "duration": -208,
    "start_time": "2021-09-17T08:52:11.441Z"
   },
   {
    "duration": -210,
    "start_time": "2021-09-17T08:52:11.445Z"
   },
   {
    "duration": -213,
    "start_time": "2021-09-17T08:52:11.449Z"
   },
   {
    "duration": -216,
    "start_time": "2021-09-17T08:52:11.453Z"
   },
   {
    "duration": -223,
    "start_time": "2021-09-17T08:52:11.462Z"
   },
   {
    "duration": -226,
    "start_time": "2021-09-17T08:52:11.466Z"
   },
   {
    "duration": -229,
    "start_time": "2021-09-17T08:52:11.470Z"
   },
   {
    "duration": -232,
    "start_time": "2021-09-17T08:52:11.474Z"
   },
   {
    "duration": -233,
    "start_time": "2021-09-17T08:52:11.476Z"
   },
   {
    "duration": -234,
    "start_time": "2021-09-17T08:52:11.479Z"
   },
   {
    "duration": -236,
    "start_time": "2021-09-17T08:52:11.482Z"
   },
   {
    "duration": -239,
    "start_time": "2021-09-17T08:52:11.486Z"
   },
   {
    "duration": -241,
    "start_time": "2021-09-17T08:52:11.489Z"
   },
   {
    "duration": -244,
    "start_time": "2021-09-17T08:52:11.494Z"
   },
   {
    "duration": -246,
    "start_time": "2021-09-17T08:52:11.497Z"
   },
   {
    "duration": -248,
    "start_time": "2021-09-17T08:52:11.501Z"
   },
   {
    "duration": -251,
    "start_time": "2021-09-17T08:52:11.505Z"
   },
   {
    "duration": -253,
    "start_time": "2021-09-17T08:52:11.508Z"
   },
   {
    "duration": -254,
    "start_time": "2021-09-17T08:52:11.511Z"
   },
   {
    "duration": -232,
    "start_time": "2021-09-17T08:52:11.514Z"
   },
   {
    "duration": -234,
    "start_time": "2021-09-17T08:52:11.517Z"
   },
   {
    "duration": -236,
    "start_time": "2021-09-17T08:52:11.521Z"
   },
   {
    "duration": -238,
    "start_time": "2021-09-17T08:52:11.524Z"
   },
   {
    "duration": -241,
    "start_time": "2021-09-17T08:52:11.528Z"
   },
   {
    "duration": -242,
    "start_time": "2021-09-17T08:52:11.531Z"
   },
   {
    "duration": -244,
    "start_time": "2021-09-17T08:52:11.534Z"
   },
   {
    "duration": -247,
    "start_time": "2021-09-17T08:52:11.538Z"
   },
   {
    "duration": -248,
    "start_time": "2021-09-17T08:52:11.541Z"
   },
   {
    "duration": -250,
    "start_time": "2021-09-17T08:52:11.544Z"
   },
   {
    "duration": 1826,
    "start_time": "2021-09-17T08:56:17.936Z"
   },
   {
    "duration": 4036,
    "start_time": "2021-09-17T08:56:19.765Z"
   },
   {
    "duration": 4429,
    "start_time": "2021-09-17T08:56:23.805Z"
   },
   {
    "duration": 329,
    "start_time": "2021-09-17T08:56:28.238Z"
   },
   {
    "duration": 40,
    "start_time": "2021-09-17T08:56:28.570Z"
   },
   {
    "duration": 74,
    "start_time": "2021-09-17T08:56:28.614Z"
   },
   {
    "duration": 87,
    "start_time": "2021-09-17T08:56:28.692Z"
   },
   {
    "duration": 60,
    "start_time": "2021-09-17T08:56:28.782Z"
   },
   {
    "duration": 39,
    "start_time": "2021-09-17T08:56:28.847Z"
   },
   {
    "duration": 55,
    "start_time": "2021-09-17T08:56:28.890Z"
   },
   {
    "duration": 42,
    "start_time": "2021-09-17T08:56:28.948Z"
   },
   {
    "duration": 75,
    "start_time": "2021-09-17T08:56:28.993Z"
   },
   {
    "duration": 91,
    "start_time": "2021-09-17T08:56:29.070Z"
   },
   {
    "duration": 87,
    "start_time": "2021-09-17T08:56:29.183Z"
   },
   {
    "duration": 39,
    "start_time": "2021-09-17T08:56:29.272Z"
   },
   {
    "duration": 9,
    "start_time": "2021-09-17T08:56:29.313Z"
   },
   {
    "duration": 13,
    "start_time": "2021-09-17T08:56:29.325Z"
   },
   {
    "duration": 17,
    "start_time": "2021-09-17T08:56:29.340Z"
   },
   {
    "duration": 13,
    "start_time": "2021-09-17T08:56:29.383Z"
   },
   {
    "duration": 8,
    "start_time": "2021-09-17T08:56:29.399Z"
   },
   {
    "duration": 18,
    "start_time": "2021-09-17T08:56:29.410Z"
   },
   {
    "duration": 13,
    "start_time": "2021-09-17T08:56:29.430Z"
   },
   {
    "duration": 36,
    "start_time": "2021-09-17T08:56:29.446Z"
   },
   {
    "duration": 8,
    "start_time": "2021-09-17T08:56:29.485Z"
   },
   {
    "duration": 16,
    "start_time": "2021-09-17T08:56:29.495Z"
   },
   {
    "duration": 14,
    "start_time": "2021-09-17T08:56:29.513Z"
   },
   {
    "duration": 37,
    "start_time": "2021-09-17T08:56:29.534Z"
   },
   {
    "duration": 34,
    "start_time": "2021-09-17T08:56:29.575Z"
   },
   {
    "duration": 10,
    "start_time": "2021-09-17T08:56:29.612Z"
   },
   {
    "duration": 11,
    "start_time": "2021-09-17T08:56:29.624Z"
   },
   {
    "duration": 32,
    "start_time": "2021-09-17T08:56:29.637Z"
   },
   {
    "duration": 87,
    "start_time": "2021-09-17T08:56:29.672Z"
   },
   {
    "duration": 59,
    "start_time": "2021-09-17T08:56:29.761Z"
   },
   {
    "duration": 66,
    "start_time": "2021-09-17T08:56:29.822Z"
   },
   {
    "duration": 7,
    "start_time": "2021-09-17T08:56:29.891Z"
   },
   {
    "duration": 9,
    "start_time": "2021-09-17T08:56:29.901Z"
   },
   {
    "duration": 14,
    "start_time": "2021-09-17T08:56:29.913Z"
   },
   {
    "duration": 52,
    "start_time": "2021-09-17T08:56:29.930Z"
   },
   {
    "duration": 6,
    "start_time": "2021-09-17T08:56:29.986Z"
   },
   {
    "duration": 14,
    "start_time": "2021-09-17T08:56:29.995Z"
   },
   {
    "duration": 8,
    "start_time": "2021-09-17T08:56:30.011Z"
   },
   {
    "duration": 29,
    "start_time": "2021-09-17T08:56:30.021Z"
   },
   {
    "duration": 34,
    "start_time": "2021-09-17T08:56:30.053Z"
   },
   {
    "duration": 15,
    "start_time": "2021-09-17T08:56:30.090Z"
   },
   {
    "duration": 19,
    "start_time": "2021-09-17T08:56:30.107Z"
   },
   {
    "duration": 23,
    "start_time": "2021-09-17T08:56:30.128Z"
   },
   {
    "duration": 20,
    "start_time": "2021-09-17T08:56:30.154Z"
   },
   {
    "duration": 26,
    "start_time": "2021-09-17T08:56:30.176Z"
   },
   {
    "duration": 34,
    "start_time": "2021-09-17T08:56:30.205Z"
   },
   {
    "duration": 52,
    "start_time": "2021-09-17T08:56:30.242Z"
   },
   {
    "duration": 156,
    "start_time": "2021-09-17T08:56:30.297Z"
   },
   {
    "duration": 36,
    "start_time": "2021-09-17T08:56:30.456Z"
   },
   {
    "duration": 28,
    "start_time": "2021-09-17T08:56:30.494Z"
   },
   {
    "duration": 30,
    "start_time": "2021-09-17T08:56:30.524Z"
   },
   {
    "duration": 357,
    "start_time": "2021-09-17T08:56:30.556Z"
   },
   {
    "duration": 4,
    "start_time": "2021-09-17T08:56:30.916Z"
   },
   {
    "duration": 71,
    "start_time": "2021-09-17T08:56:30.922Z"
   },
   {
    "duration": 6,
    "start_time": "2021-09-17T08:56:30.996Z"
   },
   {
    "duration": 22,
    "start_time": "2021-09-17T08:56:31.004Z"
   },
   {
    "duration": 325,
    "start_time": "2021-09-17T08:56:31.029Z"
   },
   {
    "duration": 44,
    "start_time": "2021-09-17T08:56:31.356Z"
   },
   {
    "duration": 14,
    "start_time": "2021-09-17T08:56:31.403Z"
   },
   {
    "duration": 62,
    "start_time": "2021-09-17T08:56:31.419Z"
   },
   {
    "duration": 3,
    "start_time": "2021-09-17T08:56:31.484Z"
   },
   {
    "duration": 27,
    "start_time": "2021-09-17T08:56:31.490Z"
   },
   {
    "duration": 18,
    "start_time": "2021-09-17T08:56:31.520Z"
   },
   {
    "duration": 17,
    "start_time": "2021-09-17T08:56:31.541Z"
   },
   {
    "duration": 494,
    "start_time": "2021-09-17T08:56:31.561Z"
   },
   {
    "duration": 7,
    "start_time": "2021-09-17T08:56:32.057Z"
   },
   {
    "duration": 7,
    "start_time": "2021-09-17T08:56:32.082Z"
   },
   {
    "duration": 21,
    "start_time": "2021-09-17T08:56:32.092Z"
   },
   {
    "duration": 33,
    "start_time": "2021-09-17T08:56:32.115Z"
   },
   {
    "duration": 3,
    "start_time": "2021-09-17T08:56:32.150Z"
   },
   {
    "duration": 26,
    "start_time": "2021-09-17T08:56:32.156Z"
   },
   {
    "duration": 13,
    "start_time": "2021-09-17T08:56:32.185Z"
   },
   {
    "duration": 22,
    "start_time": "2021-09-17T08:56:32.201Z"
   },
   {
    "duration": 17,
    "start_time": "2021-09-17T08:56:32.226Z"
   },
   {
    "duration": 38,
    "start_time": "2021-09-17T08:56:32.246Z"
   },
   {
    "duration": 16,
    "start_time": "2021-09-17T08:56:32.287Z"
   },
   {
    "duration": 24,
    "start_time": "2021-09-17T08:56:32.305Z"
   },
   {
    "duration": 21,
    "start_time": "2021-09-17T08:56:32.339Z"
   },
   {
    "duration": 18,
    "start_time": "2021-09-17T08:56:32.363Z"
   },
   {
    "duration": 33,
    "start_time": "2021-09-17T08:56:32.384Z"
   },
   {
    "duration": 18,
    "start_time": "2021-09-17T08:56:32.419Z"
   },
   {
    "duration": 25,
    "start_time": "2021-09-17T08:56:32.440Z"
   },
   {
    "duration": 18,
    "start_time": "2021-09-17T08:56:32.468Z"
   },
   {
    "duration": 35,
    "start_time": "2021-09-17T08:56:32.489Z"
   },
   {
    "duration": 23,
    "start_time": "2021-09-17T08:56:32.527Z"
   },
   {
    "duration": 17,
    "start_time": "2021-09-17T08:56:32.553Z"
   },
   {
    "duration": 52,
    "start_time": "2021-09-17T08:56:32.572Z"
   },
   {
    "duration": 73,
    "start_time": "2021-09-17T08:56:32.627Z"
   },
   {
    "duration": 63,
    "start_time": "2021-09-17T08:56:32.703Z"
   },
   {
    "duration": 119,
    "start_time": "2021-09-17T08:56:32.768Z"
   },
   {
    "duration": 44,
    "start_time": "2021-09-17T08:56:32.890Z"
   },
   {
    "duration": 10,
    "start_time": "2021-09-17T08:56:32.937Z"
   },
   {
    "duration": 33,
    "start_time": "2021-09-17T08:56:32.949Z"
   },
   {
    "duration": 14,
    "start_time": "2021-09-17T08:56:32.985Z"
   },
   {
    "duration": 25,
    "start_time": "2021-09-17T08:56:33.001Z"
   },
   {
    "duration": 12,
    "start_time": "2021-09-17T08:56:33.029Z"
   },
   {
    "duration": 20,
    "start_time": "2021-09-17T08:56:33.044Z"
   },
   {
    "duration": 21,
    "start_time": "2021-09-17T08:56:33.066Z"
   },
   {
    "duration": 27,
    "start_time": "2021-09-17T08:56:33.089Z"
   },
   {
    "duration": 9,
    "start_time": "2021-09-17T08:56:33.119Z"
   },
   {
    "duration": 18,
    "start_time": "2021-09-17T08:56:33.130Z"
   },
   {
    "duration": 18,
    "start_time": "2021-09-17T08:56:33.150Z"
   },
   {
    "duration": 18,
    "start_time": "2021-09-17T08:56:33.171Z"
   },
   {
    "duration": 14,
    "start_time": "2021-09-17T08:56:33.192Z"
   },
   {
    "duration": 16,
    "start_time": "2021-09-17T08:56:33.209Z"
   },
   {
    "duration": 19,
    "start_time": "2021-09-17T08:56:33.228Z"
   },
   {
    "duration": 1483,
    "start_time": "2021-09-17T20:14:14.635Z"
   },
   {
    "duration": 7029,
    "start_time": "2021-09-17T20:14:16.121Z"
   },
   {
    "duration": 4200,
    "start_time": "2021-09-17T20:14:23.153Z"
   },
   {
    "duration": 712,
    "start_time": "2021-09-17T20:14:27.357Z"
   },
   {
    "duration": 28,
    "start_time": "2021-09-17T20:14:28.074Z"
   },
   {
    "duration": 67,
    "start_time": "2021-09-17T20:14:28.105Z"
   },
   {
    "duration": 55,
    "start_time": "2021-09-17T20:14:28.175Z"
   },
   {
    "duration": 48,
    "start_time": "2021-09-17T20:14:28.234Z"
   },
   {
    "duration": 33,
    "start_time": "2021-09-17T20:14:28.285Z"
   },
   {
    "duration": 73,
    "start_time": "2021-09-17T20:14:28.321Z"
   },
   {
    "duration": 14,
    "start_time": "2021-09-17T20:14:28.396Z"
   },
   {
    "duration": 94,
    "start_time": "2021-09-17T20:14:28.413Z"
   },
   {
    "duration": 92,
    "start_time": "2021-09-17T20:14:28.510Z"
   },
   {
    "duration": 95,
    "start_time": "2021-09-17T20:14:28.605Z"
   },
   {
    "duration": 42,
    "start_time": "2021-09-17T20:14:28.704Z"
   },
   {
    "duration": 10,
    "start_time": "2021-09-17T20:14:28.749Z"
   },
   {
    "duration": 20,
    "start_time": "2021-09-17T20:14:28.761Z"
   },
   {
    "duration": 40,
    "start_time": "2021-09-17T20:14:28.783Z"
   },
   {
    "duration": 27,
    "start_time": "2021-09-17T20:14:28.825Z"
   },
   {
    "duration": 16,
    "start_time": "2021-09-17T20:14:28.855Z"
   },
   {
    "duration": 42,
    "start_time": "2021-09-17T20:14:28.874Z"
   },
   {
    "duration": 23,
    "start_time": "2021-09-17T20:14:28.919Z"
   },
   {
    "duration": 17,
    "start_time": "2021-09-17T20:14:28.949Z"
   },
   {
    "duration": 33,
    "start_time": "2021-09-17T20:14:28.970Z"
   },
   {
    "duration": 35,
    "start_time": "2021-09-17T20:14:29.006Z"
   },
   {
    "duration": 34,
    "start_time": "2021-09-17T20:14:29.044Z"
   },
   {
    "duration": 32,
    "start_time": "2021-09-17T20:14:29.080Z"
   },
   {
    "duration": 22,
    "start_time": "2021-09-17T20:14:29.114Z"
   },
   {
    "duration": 29,
    "start_time": "2021-09-17T20:14:29.139Z"
   },
   {
    "duration": 35,
    "start_time": "2021-09-17T20:14:29.171Z"
   },
   {
    "duration": 34,
    "start_time": "2021-09-17T20:14:29.208Z"
   },
   {
    "duration": 24,
    "start_time": "2021-09-17T20:14:29.244Z"
   },
   {
    "duration": 42,
    "start_time": "2021-09-17T20:14:29.270Z"
   },
   {
    "duration": 55,
    "start_time": "2021-09-17T20:14:29.315Z"
   },
   {
    "duration": 7,
    "start_time": "2021-09-17T20:14:29.373Z"
   },
   {
    "duration": 34,
    "start_time": "2021-09-17T20:14:29.382Z"
   },
   {
    "duration": 22,
    "start_time": "2021-09-17T20:14:29.418Z"
   },
   {
    "duration": 35,
    "start_time": "2021-09-17T20:14:29.442Z"
   },
   {
    "duration": 21,
    "start_time": "2021-09-17T20:14:29.480Z"
   },
   {
    "duration": 28,
    "start_time": "2021-09-17T20:14:29.504Z"
   },
   {
    "duration": 27,
    "start_time": "2021-09-17T20:14:29.534Z"
   },
   {
    "duration": 33,
    "start_time": "2021-09-17T20:14:29.564Z"
   },
   {
    "duration": 22,
    "start_time": "2021-09-17T20:14:29.599Z"
   },
   {
    "duration": 21,
    "start_time": "2021-09-17T20:14:29.624Z"
   },
   {
    "duration": 32,
    "start_time": "2021-09-17T20:14:29.648Z"
   },
   {
    "duration": 24,
    "start_time": "2021-09-17T20:14:29.683Z"
   },
   {
    "duration": 22,
    "start_time": "2021-09-17T20:14:29.709Z"
   },
   {
    "duration": 29,
    "start_time": "2021-09-17T20:14:29.734Z"
   },
   {
    "duration": 33,
    "start_time": "2021-09-17T20:14:29.765Z"
   },
   {
    "duration": 21,
    "start_time": "2021-09-17T20:14:29.800Z"
   },
   {
    "duration": 162,
    "start_time": "2021-09-17T20:14:29.824Z"
   },
   {
    "duration": 23,
    "start_time": "2021-09-17T20:14:29.989Z"
   },
   {
    "duration": 8,
    "start_time": "2021-09-17T20:14:30.015Z"
   },
   {
    "duration": 49,
    "start_time": "2021-09-17T20:14:30.025Z"
   },
   {
    "duration": 262,
    "start_time": "2021-09-17T20:14:30.076Z"
   },
   {
    "duration": 4,
    "start_time": "2021-09-17T20:14:30.340Z"
   },
   {
    "duration": 58,
    "start_time": "2021-09-17T20:14:30.346Z"
   },
   {
    "duration": 5,
    "start_time": "2021-09-17T20:14:30.407Z"
   },
   {
    "duration": 29,
    "start_time": "2021-09-17T20:14:30.415Z"
   },
   {
    "duration": 256,
    "start_time": "2021-09-17T20:14:30.446Z"
   },
   {
    "duration": 28,
    "start_time": "2021-09-17T20:14:30.705Z"
   },
   {
    "duration": 29,
    "start_time": "2021-09-17T20:14:30.736Z"
   },
   {
    "duration": 62,
    "start_time": "2021-09-17T20:14:30.767Z"
   },
   {
    "duration": 3,
    "start_time": "2021-09-17T20:14:30.832Z"
   },
   {
    "duration": 52,
    "start_time": "2021-09-17T20:14:30.838Z"
   },
   {
    "duration": 30,
    "start_time": "2021-09-17T20:14:30.892Z"
   },
   {
    "duration": 31,
    "start_time": "2021-09-17T20:14:30.924Z"
   },
   {
    "duration": 527,
    "start_time": "2021-09-17T20:14:30.963Z"
   },
   {
    "duration": 2,
    "start_time": "2021-09-17T20:14:31.492Z"
   },
   {
    "duration": -29,
    "start_time": "2021-09-17T20:14:31.525Z"
   },
   {
    "duration": -29,
    "start_time": "2021-09-17T20:14:31.527Z"
   },
   {
    "duration": -29,
    "start_time": "2021-09-17T20:14:31.529Z"
   },
   {
    "duration": -30,
    "start_time": "2021-09-17T20:14:31.531Z"
   },
   {
    "duration": -35,
    "start_time": "2021-09-17T20:14:31.537Z"
   },
   {
    "duration": -36,
    "start_time": "2021-09-17T20:14:31.539Z"
   },
   {
    "duration": -36,
    "start_time": "2021-09-17T20:14:31.541Z"
   },
   {
    "duration": -36,
    "start_time": "2021-09-17T20:14:31.542Z"
   },
   {
    "duration": -37,
    "start_time": "2021-09-17T20:14:31.544Z"
   },
   {
    "duration": -37,
    "start_time": "2021-09-17T20:14:31.545Z"
   },
   {
    "duration": -37,
    "start_time": "2021-09-17T20:14:31.547Z"
   },
   {
    "duration": -37,
    "start_time": "2021-09-17T20:14:31.548Z"
   },
   {
    "duration": -41,
    "start_time": "2021-09-17T20:14:31.554Z"
   },
   {
    "duration": -42,
    "start_time": "2021-09-17T20:14:31.557Z"
   },
   {
    "duration": -42,
    "start_time": "2021-09-17T20:14:31.559Z"
   },
   {
    "duration": -42,
    "start_time": "2021-09-17T20:14:31.560Z"
   },
   {
    "duration": -91,
    "start_time": "2021-09-17T20:14:31.611Z"
   },
   {
    "duration": -92,
    "start_time": "2021-09-17T20:14:31.613Z"
   },
   {
    "duration": -102,
    "start_time": "2021-09-17T20:14:31.624Z"
   },
   {
    "duration": -102,
    "start_time": "2021-09-17T20:14:31.626Z"
   },
   {
    "duration": -103,
    "start_time": "2021-09-17T20:14:31.628Z"
   },
   {
    "duration": -102,
    "start_time": "2021-09-17T20:14:31.629Z"
   },
   {
    "duration": -103,
    "start_time": "2021-09-17T20:14:31.631Z"
   },
   {
    "duration": -104,
    "start_time": "2021-09-17T20:14:31.633Z"
   },
   {
    "duration": -89,
    "start_time": "2021-09-17T20:14:31.643Z"
   },
   {
    "duration": 2129,
    "start_time": "2021-09-17T20:14:53.349Z"
   },
   {
    "duration": 4295,
    "start_time": "2021-09-17T20:14:55.481Z"
   },
   {
    "duration": 4538,
    "start_time": "2021-09-17T20:14:59.780Z"
   },
   {
    "duration": 325,
    "start_time": "2021-09-17T20:15:04.321Z"
   },
   {
    "duration": 25,
    "start_time": "2021-09-17T20:15:04.649Z"
   },
   {
    "duration": 44,
    "start_time": "2021-09-17T20:15:04.678Z"
   },
   {
    "duration": 60,
    "start_time": "2021-09-17T20:15:04.725Z"
   },
   {
    "duration": 55,
    "start_time": "2021-09-17T20:15:04.787Z"
   },
   {
    "duration": 38,
    "start_time": "2021-09-17T20:15:04.845Z"
   },
   {
    "duration": 77,
    "start_time": "2021-09-17T20:15:04.887Z"
   },
   {
    "duration": 16,
    "start_time": "2021-09-17T20:15:04.967Z"
   },
   {
    "duration": 102,
    "start_time": "2021-09-17T20:15:04.986Z"
   },
   {
    "duration": 94,
    "start_time": "2021-09-17T20:15:05.091Z"
   },
   {
    "duration": 97,
    "start_time": "2021-09-17T20:15:05.187Z"
   },
   {
    "duration": 33,
    "start_time": "2021-09-17T20:15:05.286Z"
   },
   {
    "duration": 10,
    "start_time": "2021-09-17T20:15:05.321Z"
   },
   {
    "duration": 26,
    "start_time": "2021-09-17T20:15:05.333Z"
   },
   {
    "duration": 26,
    "start_time": "2021-09-17T20:15:05.361Z"
   },
   {
    "duration": 12,
    "start_time": "2021-09-17T20:15:05.389Z"
   },
   {
    "duration": 28,
    "start_time": "2021-09-17T20:15:05.403Z"
   },
   {
    "duration": 38,
    "start_time": "2021-09-17T20:15:05.433Z"
   },
   {
    "duration": 16,
    "start_time": "2021-09-17T20:15:05.473Z"
   },
   {
    "duration": 19,
    "start_time": "2021-09-17T20:15:05.492Z"
   },
   {
    "duration": 24,
    "start_time": "2021-09-17T20:15:05.513Z"
   },
   {
    "duration": 25,
    "start_time": "2021-09-17T20:15:05.539Z"
   },
   {
    "duration": 17,
    "start_time": "2021-09-17T20:15:05.567Z"
   },
   {
    "duration": 12,
    "start_time": "2021-09-17T20:15:05.590Z"
   },
   {
    "duration": 6,
    "start_time": "2021-09-17T20:15:05.606Z"
   },
   {
    "duration": 13,
    "start_time": "2021-09-17T20:15:05.614Z"
   },
   {
    "duration": 30,
    "start_time": "2021-09-17T20:15:05.629Z"
   },
   {
    "duration": 17,
    "start_time": "2021-09-17T20:15:05.662Z"
   },
   {
    "duration": 23,
    "start_time": "2021-09-17T20:15:05.681Z"
   },
   {
    "duration": 23,
    "start_time": "2021-09-17T20:15:05.706Z"
   },
   {
    "duration": 43,
    "start_time": "2021-09-17T20:15:05.731Z"
   },
   {
    "duration": 6,
    "start_time": "2021-09-17T20:15:05.776Z"
   },
   {
    "duration": 14,
    "start_time": "2021-09-17T20:15:05.784Z"
   },
   {
    "duration": 25,
    "start_time": "2021-09-17T20:15:05.801Z"
   },
   {
    "duration": 26,
    "start_time": "2021-09-17T20:15:05.829Z"
   },
   {
    "duration": 19,
    "start_time": "2021-09-17T20:15:05.858Z"
   },
   {
    "duration": 25,
    "start_time": "2021-09-17T20:15:05.879Z"
   },
   {
    "duration": 8,
    "start_time": "2021-09-17T20:15:05.907Z"
   },
   {
    "duration": 8,
    "start_time": "2021-09-17T20:15:05.917Z"
   },
   {
    "duration": 27,
    "start_time": "2021-09-17T20:15:05.928Z"
   },
   {
    "duration": 6,
    "start_time": "2021-09-17T20:15:05.958Z"
   },
   {
    "duration": 8,
    "start_time": "2021-09-17T20:15:05.966Z"
   },
   {
    "duration": 16,
    "start_time": "2021-09-17T20:15:05.976Z"
   },
   {
    "duration": 10,
    "start_time": "2021-09-17T20:15:05.995Z"
   },
   {
    "duration": 12,
    "start_time": "2021-09-17T20:15:06.008Z"
   },
   {
    "duration": 12,
    "start_time": "2021-09-17T20:15:06.055Z"
   },
   {
    "duration": 11,
    "start_time": "2021-09-17T20:15:06.069Z"
   },
   {
    "duration": 174,
    "start_time": "2021-09-17T20:15:06.083Z"
   },
   {
    "duration": 23,
    "start_time": "2021-09-17T20:15:06.259Z"
   },
   {
    "duration": 5,
    "start_time": "2021-09-17T20:15:06.285Z"
   },
   {
    "duration": 12,
    "start_time": "2021-09-17T20:15:06.292Z"
   },
   {
    "duration": 366,
    "start_time": "2021-09-17T20:15:06.307Z"
   },
   {
    "duration": 3,
    "start_time": "2021-09-17T20:15:06.676Z"
   },
   {
    "duration": 47,
    "start_time": "2021-09-17T20:15:06.682Z"
   },
   {
    "duration": 23,
    "start_time": "2021-09-17T20:15:06.731Z"
   },
   {
    "duration": 30,
    "start_time": "2021-09-17T20:15:06.757Z"
   },
   {
    "duration": 385,
    "start_time": "2021-09-17T20:15:06.790Z"
   },
   {
    "duration": 51,
    "start_time": "2021-09-17T20:15:07.187Z"
   },
   {
    "duration": 71,
    "start_time": "2021-09-17T20:15:07.248Z"
   },
   {
    "duration": 116,
    "start_time": "2021-09-17T20:15:07.322Z"
   },
   {
    "duration": 22,
    "start_time": "2021-09-17T20:15:07.442Z"
   },
   {
    "duration": 21,
    "start_time": "2021-09-17T20:15:07.468Z"
   },
   {
    "duration": 22,
    "start_time": "2021-09-17T20:15:07.492Z"
   },
   {
    "duration": 38,
    "start_time": "2021-09-17T20:15:07.517Z"
   },
   {
    "duration": 489,
    "start_time": "2021-09-17T20:15:07.558Z"
   },
   {
    "duration": 7,
    "start_time": "2021-09-17T20:15:08.050Z"
   },
   {
    "duration": 13,
    "start_time": "2021-09-17T20:15:08.059Z"
   },
   {
    "duration": 21,
    "start_time": "2021-09-17T20:15:08.075Z"
   },
   {
    "duration": 33,
    "start_time": "2021-09-17T20:15:08.098Z"
   },
   {
    "duration": 4,
    "start_time": "2021-09-17T20:15:08.133Z"
   },
   {
    "duration": 11,
    "start_time": "2021-09-17T20:15:08.155Z"
   },
   {
    "duration": 16,
    "start_time": "2021-09-17T20:15:08.168Z"
   },
   {
    "duration": 16,
    "start_time": "2021-09-17T20:15:08.187Z"
   },
   {
    "duration": 13,
    "start_time": "2021-09-17T20:15:08.206Z"
   },
   {
    "duration": 44,
    "start_time": "2021-09-17T20:15:08.222Z"
   },
   {
    "duration": 9,
    "start_time": "2021-09-17T20:15:08.268Z"
   },
   {
    "duration": 15,
    "start_time": "2021-09-17T20:15:08.279Z"
   },
   {
    "duration": 18,
    "start_time": "2021-09-17T20:15:08.303Z"
   },
   {
    "duration": 37,
    "start_time": "2021-09-17T20:15:08.324Z"
   },
   {
    "duration": 21,
    "start_time": "2021-09-17T20:15:08.364Z"
   },
   {
    "duration": 15,
    "start_time": "2021-09-17T20:15:08.388Z"
   },
   {
    "duration": 9,
    "start_time": "2021-09-17T20:15:08.406Z"
   },
   {
    "duration": 36,
    "start_time": "2021-09-17T20:15:08.418Z"
   },
   {
    "duration": 9,
    "start_time": "2021-09-17T20:15:08.457Z"
   },
   {
    "duration": 15,
    "start_time": "2021-09-17T20:15:08.468Z"
   },
   {
    "duration": 10,
    "start_time": "2021-09-17T20:15:08.485Z"
   },
   {
    "duration": 11,
    "start_time": "2021-09-17T20:15:08.498Z"
   },
   {
    "duration": 11,
    "start_time": "2021-09-17T20:15:08.512Z"
   },
   {
    "duration": 15,
    "start_time": "2021-09-17T20:15:08.556Z"
   },
   {
    "duration": 26,
    "start_time": "2021-09-17T20:15:08.574Z"
   },
   {
    "duration": 6,
    "start_time": "2021-09-17T20:15:08.603Z"
   },
   {
    "duration": 44,
    "start_time": "2021-09-17T20:15:08.612Z"
   },
   {
    "duration": 27,
    "start_time": "2021-09-17T20:15:08.659Z"
   },
   {
    "duration": 5,
    "start_time": "2021-09-17T20:15:08.688Z"
   },
   {
    "duration": 7,
    "start_time": "2021-09-17T20:15:08.696Z"
   },
   {
    "duration": 6,
    "start_time": "2021-09-17T20:15:08.705Z"
   },
   {
    "duration": 43,
    "start_time": "2021-09-17T20:15:08.713Z"
   },
   {
    "duration": 9,
    "start_time": "2021-09-17T20:15:08.758Z"
   },
   {
    "duration": 26,
    "start_time": "2021-09-17T20:15:08.770Z"
   },
   {
    "duration": 8,
    "start_time": "2021-09-17T20:15:08.798Z"
   },
   {
    "duration": 8,
    "start_time": "2021-09-17T20:15:08.808Z"
   },
   {
    "duration": 36,
    "start_time": "2021-09-17T20:15:08.819Z"
   },
   {
    "duration": 9,
    "start_time": "2021-09-17T20:15:08.858Z"
   },
   {
    "duration": 15,
    "start_time": "2021-09-17T20:15:08.870Z"
   },
   {
    "duration": 9,
    "start_time": "2021-09-17T20:15:08.887Z"
   },
   {
    "duration": 18,
    "start_time": "2021-09-17T20:15:08.899Z"
   },
   {
    "duration": 470,
    "start_time": "2021-09-17T20:17:50.798Z"
   },
   {
    "duration": 66,
    "start_time": "2021-09-17T20:21:05.483Z"
   },
   {
    "duration": 12,
    "start_time": "2021-09-17T20:21:17.566Z"
   },
   {
    "duration": 6,
    "start_time": "2021-09-17T20:21:50.191Z"
   },
   {
    "duration": 6,
    "start_time": "2021-09-17T20:25:40.494Z"
   },
   {
    "duration": 5,
    "start_time": "2021-09-17T20:26:16.563Z"
   },
   {
    "duration": 5,
    "start_time": "2021-09-17T20:26:17.067Z"
   },
   {
    "duration": 4,
    "start_time": "2021-09-17T20:27:35.144Z"
   },
   {
    "duration": 5,
    "start_time": "2021-09-17T20:27:35.647Z"
   },
   {
    "duration": 6,
    "start_time": "2021-09-17T20:28:04.055Z"
   },
   {
    "duration": 16,
    "start_time": "2021-09-17T20:28:53.757Z"
   },
   {
    "duration": 62,
    "start_time": "2021-09-17T20:29:47.805Z"
   },
   {
    "duration": 19,
    "start_time": "2021-09-17T20:29:56.150Z"
   },
   {
    "duration": 60,
    "start_time": "2021-09-17T20:30:43.309Z"
   },
   {
    "duration": 3,
    "start_time": "2021-09-17T20:38:20.374Z"
   },
   {
    "duration": 4,
    "start_time": "2021-09-17T20:42:35.207Z"
   },
   {
    "duration": 6,
    "start_time": "2021-09-17T20:43:30.376Z"
   },
   {
    "duration": 10,
    "start_time": "2021-09-17T20:43:50.402Z"
   },
   {
    "duration": 5,
    "start_time": "2021-09-17T20:44:27.445Z"
   },
   {
    "duration": 6,
    "start_time": "2021-09-17T20:44:45.571Z"
   },
   {
    "duration": 13,
    "start_time": "2021-09-17T20:45:52.674Z"
   },
   {
    "duration": 4,
    "start_time": "2021-09-17T20:46:14.323Z"
   },
   {
    "duration": 5,
    "start_time": "2021-09-17T20:46:19.776Z"
   },
   {
    "duration": 82,
    "start_time": "2021-09-17T20:46:47.979Z"
   },
   {
    "duration": 5,
    "start_time": "2021-09-17T20:46:57.640Z"
   },
   {
    "duration": 5,
    "start_time": "2021-09-17T20:46:57.941Z"
   },
   {
    "duration": 5,
    "start_time": "2021-09-17T20:47:00.339Z"
   },
   {
    "duration": 6,
    "start_time": "2021-09-17T20:47:00.595Z"
   },
   {
    "duration": 5,
    "start_time": "2021-09-17T20:48:03.286Z"
   },
   {
    "duration": 4,
    "start_time": "2021-09-17T20:53:27.243Z"
   },
   {
    "duration": 4,
    "start_time": "2021-09-17T20:53:27.476Z"
   },
   {
    "duration": 6,
    "start_time": "2021-09-17T20:59:41.578Z"
   },
   {
    "duration": 3,
    "start_time": "2021-09-17T21:00:47.347Z"
   },
   {
    "duration": 6,
    "start_time": "2021-09-17T21:00:50.585Z"
   },
   {
    "duration": 4,
    "start_time": "2021-09-17T21:00:59.946Z"
   },
   {
    "duration": 6,
    "start_time": "2021-09-17T21:01:01.948Z"
   },
   {
    "duration": 3,
    "start_time": "2021-09-17T21:03:50.557Z"
   },
   {
    "duration": 4,
    "start_time": "2021-09-17T21:20:50.364Z"
   },
   {
    "duration": 84,
    "start_time": "2021-09-17T21:21:22.620Z"
   },
   {
    "duration": 4,
    "start_time": "2021-09-17T21:30:01.317Z"
   },
   {
    "duration": 6327,
    "start_time": "2021-09-17T21:30:01.323Z"
   },
   {
    "duration": 3118,
    "start_time": "2021-09-17T21:30:07.654Z"
   },
   {
    "duration": 272,
    "start_time": "2021-09-17T21:30:10.775Z"
   },
   {
    "duration": 13,
    "start_time": "2021-09-17T21:30:11.050Z"
   },
   {
    "duration": 42,
    "start_time": "2021-09-17T21:30:11.066Z"
   },
   {
    "duration": 71,
    "start_time": "2021-09-17T21:30:11.111Z"
   },
   {
    "duration": 56,
    "start_time": "2021-09-17T21:30:11.184Z"
   },
   {
    "duration": 40,
    "start_time": "2021-09-17T21:30:11.244Z"
   },
   {
    "duration": 86,
    "start_time": "2021-09-17T21:30:11.288Z"
   },
   {
    "duration": 20,
    "start_time": "2021-09-17T21:30:11.377Z"
   },
   {
    "duration": 117,
    "start_time": "2021-09-17T21:30:11.400Z"
   },
   {
    "duration": 98,
    "start_time": "2021-09-17T21:30:11.520Z"
   },
   {
    "duration": 108,
    "start_time": "2021-09-17T21:30:11.621Z"
   },
   {
    "duration": 34,
    "start_time": "2021-09-17T21:30:11.731Z"
   },
   {
    "duration": 12,
    "start_time": "2021-09-17T21:30:11.767Z"
   },
   {
    "duration": 16,
    "start_time": "2021-09-17T21:30:11.782Z"
   },
   {
    "duration": 62,
    "start_time": "2021-09-17T21:30:11.801Z"
   },
   {
    "duration": 15,
    "start_time": "2021-09-17T21:30:11.867Z"
   },
   {
    "duration": 8,
    "start_time": "2021-09-17T21:30:11.885Z"
   },
   {
    "duration": 59,
    "start_time": "2021-09-17T21:30:11.896Z"
   },
   {
    "duration": 17,
    "start_time": "2021-09-17T21:30:11.958Z"
   },
   {
    "duration": 10,
    "start_time": "2021-09-17T21:30:11.977Z"
   },
   {
    "duration": 13,
    "start_time": "2021-09-17T21:30:11.989Z"
   },
   {
    "duration": 12,
    "start_time": "2021-09-17T21:30:12.004Z"
   },
   {
    "duration": 37,
    "start_time": "2021-09-17T21:30:12.018Z"
   },
   {
    "duration": 10,
    "start_time": "2021-09-17T21:30:12.062Z"
   },
   {
    "duration": 11,
    "start_time": "2021-09-17T21:30:12.075Z"
   },
   {
    "duration": 12,
    "start_time": "2021-09-17T21:30:12.089Z"
   },
   {
    "duration": 10,
    "start_time": "2021-09-17T21:30:12.103Z"
   },
   {
    "duration": 13,
    "start_time": "2021-09-17T21:30:12.155Z"
   },
   {
    "duration": 11,
    "start_time": "2021-09-17T21:30:12.170Z"
   },
   {
    "duration": 16,
    "start_time": "2021-09-17T21:30:12.184Z"
   },
   {
    "duration": 78,
    "start_time": "2021-09-17T21:30:12.202Z"
   },
   {
    "duration": 6,
    "start_time": "2021-09-17T21:30:12.282Z"
   },
   {
    "duration": 12,
    "start_time": "2021-09-17T21:30:12.290Z"
   },
   {
    "duration": 16,
    "start_time": "2021-09-17T21:30:12.304Z"
   },
   {
    "duration": 39,
    "start_time": "2021-09-17T21:30:12.322Z"
   },
   {
    "duration": 7,
    "start_time": "2021-09-17T21:30:12.364Z"
   },
   {
    "duration": 15,
    "start_time": "2021-09-17T21:30:12.373Z"
   },
   {
    "duration": 7,
    "start_time": "2021-09-17T21:30:12.390Z"
   },
   {
    "duration": 56,
    "start_time": "2021-09-17T21:30:12.400Z"
   },
   {
    "duration": 12,
    "start_time": "2021-09-17T21:30:12.459Z"
   },
   {
    "duration": 9,
    "start_time": "2021-09-17T21:30:12.473Z"
   },
   {
    "duration": 16,
    "start_time": "2021-09-17T21:30:12.485Z"
   },
   {
    "duration": 22,
    "start_time": "2021-09-17T21:30:12.503Z"
   },
   {
    "duration": 7,
    "start_time": "2021-09-17T21:30:12.555Z"
   },
   {
    "duration": 6,
    "start_time": "2021-09-17T21:30:12.565Z"
   },
   {
    "duration": 18,
    "start_time": "2021-09-17T21:30:12.573Z"
   },
   {
    "duration": 10,
    "start_time": "2021-09-17T21:30:12.593Z"
   },
   {
    "duration": 184,
    "start_time": "2021-09-17T21:30:12.606Z"
   },
   {
    "duration": 26,
    "start_time": "2021-09-17T21:30:12.794Z"
   },
   {
    "duration": 33,
    "start_time": "2021-09-17T21:30:12.822Z"
   },
   {
    "duration": 15,
    "start_time": "2021-09-17T21:30:12.858Z"
   },
   {
    "duration": 404,
    "start_time": "2021-09-17T21:30:12.876Z"
   },
   {
    "duration": 5,
    "start_time": "2021-09-17T21:30:13.283Z"
   },
   {
    "duration": 74,
    "start_time": "2021-09-17T21:30:13.291Z"
   },
   {
    "duration": 7,
    "start_time": "2021-09-17T21:30:13.367Z"
   },
   {
    "duration": 14,
    "start_time": "2021-09-17T21:30:13.377Z"
   },
   {
    "duration": 344,
    "start_time": "2021-09-17T21:30:13.394Z"
   },
   {
    "duration": 42,
    "start_time": "2021-09-17T21:30:13.741Z"
   },
   {
    "duration": 14,
    "start_time": "2021-09-17T21:30:13.786Z"
   },
   {
    "duration": 71,
    "start_time": "2021-09-17T21:30:13.803Z"
   },
   {
    "duration": 4,
    "start_time": "2021-09-17T21:30:13.876Z"
   },
   {
    "duration": 14,
    "start_time": "2021-09-17T21:30:13.882Z"
   },
   {
    "duration": 16,
    "start_time": "2021-09-17T21:30:13.899Z"
   },
   {
    "duration": 45,
    "start_time": "2021-09-17T21:30:13.918Z"
   },
   {
    "duration": 6,
    "start_time": "2021-09-17T21:30:13.965Z"
   },
   {
    "duration": 7,
    "start_time": "2021-09-17T21:30:13.973Z"
   },
   {
    "duration": 527,
    "start_time": "2021-09-17T21:30:13.983Z"
   },
   {
    "duration": 6,
    "start_time": "2021-09-17T21:30:14.512Z"
   },
   {
    "duration": 9,
    "start_time": "2021-09-17T21:30:14.521Z"
   },
   {
    "duration": 6,
    "start_time": "2021-09-17T21:30:14.556Z"
   },
   {
    "duration": 32,
    "start_time": "2021-09-17T21:30:14.564Z"
   },
   {
    "duration": 4,
    "start_time": "2021-09-17T21:30:14.599Z"
   },
   {
    "duration": 14,
    "start_time": "2021-09-17T21:30:14.606Z"
   },
   {
    "duration": 43,
    "start_time": "2021-09-17T21:30:14.623Z"
   },
   {
    "duration": 22,
    "start_time": "2021-09-17T21:30:14.669Z"
   },
   {
    "duration": 12,
    "start_time": "2021-09-17T21:30:14.693Z"
   },
   {
    "duration": 55,
    "start_time": "2021-09-17T21:30:14.708Z"
   },
   {
    "duration": 6,
    "start_time": "2021-09-17T21:30:14.773Z"
   },
   {
    "duration": 20,
    "start_time": "2021-09-17T21:30:14.782Z"
   },
   {
    "duration": 30,
    "start_time": "2021-09-17T21:30:14.804Z"
   },
   {
    "duration": 30,
    "start_time": "2021-09-17T21:30:14.836Z"
   },
   {
    "duration": 27,
    "start_time": "2021-09-17T21:30:14.869Z"
   },
   {
    "duration": 8,
    "start_time": "2021-09-17T21:30:14.899Z"
   },
   {
    "duration": 51,
    "start_time": "2021-09-17T21:30:14.909Z"
   },
   {
    "duration": 13,
    "start_time": "2021-09-17T21:30:14.962Z"
   },
   {
    "duration": 18,
    "start_time": "2021-09-17T21:30:14.978Z"
   },
   {
    "duration": 30,
    "start_time": "2021-09-17T21:30:14.999Z"
   },
   {
    "duration": 34,
    "start_time": "2021-09-17T21:30:15.032Z"
   },
   {
    "duration": 26,
    "start_time": "2021-09-17T21:30:15.069Z"
   },
   {
    "duration": 15,
    "start_time": "2021-09-17T21:30:15.098Z"
   },
   {
    "duration": 16,
    "start_time": "2021-09-17T21:30:15.116Z"
   },
   {
    "duration": 39,
    "start_time": "2021-09-17T21:30:15.134Z"
   },
   {
    "duration": 5,
    "start_time": "2021-09-17T21:30:15.176Z"
   },
   {
    "duration": 90,
    "start_time": "2021-09-17T21:30:15.183Z"
   },
   {
    "duration": 54,
    "start_time": "2021-09-17T21:30:15.276Z"
   },
   {
    "duration": 86,
    "start_time": "2021-09-17T21:30:15.333Z"
   },
   {
    "duration": 12,
    "start_time": "2021-09-17T21:30:15.421Z"
   },
   {
    "duration": 7,
    "start_time": "2021-09-17T21:30:15.455Z"
   },
   {
    "duration": 6,
    "start_time": "2021-09-17T21:30:15.464Z"
   },
   {
    "duration": 6,
    "start_time": "2021-09-17T21:30:15.472Z"
   },
   {
    "duration": 8,
    "start_time": "2021-09-17T21:30:15.481Z"
   },
   {
    "duration": 11,
    "start_time": "2021-09-17T21:30:15.491Z"
   },
   {
    "duration": 56,
    "start_time": "2021-09-17T21:30:15.504Z"
   },
   {
    "duration": 24,
    "start_time": "2021-09-17T21:30:15.563Z"
   },
   {
    "duration": 8,
    "start_time": "2021-09-17T21:30:15.590Z"
   },
   {
    "duration": 13,
    "start_time": "2021-09-17T21:30:15.601Z"
   },
   {
    "duration": 38,
    "start_time": "2021-09-17T21:30:15.618Z"
   },
   {
    "duration": 11,
    "start_time": "2021-09-17T21:30:15.659Z"
   },
   {
    "duration": 10,
    "start_time": "2021-09-17T21:30:15.673Z"
   },
   {
    "duration": 10,
    "start_time": "2021-09-17T21:30:15.686Z"
   },
   {
    "duration": 16,
    "start_time": "2021-09-17T21:30:15.699Z"
   },
   {
    "duration": 11,
    "start_time": "2021-09-17T21:30:15.717Z"
   },
   {
    "duration": 24,
    "start_time": "2021-09-17T21:30:15.731Z"
   },
   {
    "duration": 9,
    "start_time": "2021-09-17T21:30:15.758Z"
   },
   {
    "duration": 11,
    "start_time": "2021-09-17T21:30:15.769Z"
   },
   {
    "duration": 9,
    "start_time": "2021-09-17T21:30:15.782Z"
   },
   {
    "duration": 11,
    "start_time": "2021-09-17T21:30:15.793Z"
   },
   {
    "duration": 12,
    "start_time": "2021-09-17T21:30:15.806Z"
   },
   {
    "duration": 1622,
    "start_time": "2021-09-18T08:02:52.046Z"
   },
   {
    "duration": 8364,
    "start_time": "2021-09-18T08:02:53.670Z"
   },
   {
    "duration": 4567,
    "start_time": "2021-09-18T08:03:02.038Z"
   },
   {
    "duration": 268,
    "start_time": "2021-09-18T08:03:06.609Z"
   },
   {
    "duration": 19,
    "start_time": "2021-09-18T08:03:06.879Z"
   },
   {
    "duration": 48,
    "start_time": "2021-09-18T08:03:06.901Z"
   },
   {
    "duration": 58,
    "start_time": "2021-09-18T08:03:06.952Z"
   },
   {
    "duration": 64,
    "start_time": "2021-09-18T08:03:07.014Z"
   },
   {
    "duration": 35,
    "start_time": "2021-09-18T08:03:07.081Z"
   },
   {
    "duration": 75,
    "start_time": "2021-09-18T08:03:07.119Z"
   },
   {
    "duration": 16,
    "start_time": "2021-09-18T08:03:07.197Z"
   },
   {
    "duration": 103,
    "start_time": "2021-09-18T08:03:07.216Z"
   },
   {
    "duration": 88,
    "start_time": "2021-09-18T08:03:07.322Z"
   },
   {
    "duration": 95,
    "start_time": "2021-09-18T08:03:07.413Z"
   },
   {
    "duration": 30,
    "start_time": "2021-09-18T08:03:07.511Z"
   },
   {
    "duration": 9,
    "start_time": "2021-09-18T08:03:07.543Z"
   },
   {
    "duration": 20,
    "start_time": "2021-09-18T08:03:07.554Z"
   },
   {
    "duration": 19,
    "start_time": "2021-09-18T08:03:07.576Z"
   },
   {
    "duration": 15,
    "start_time": "2021-09-18T08:03:07.597Z"
   },
   {
    "duration": 6,
    "start_time": "2021-09-18T08:03:07.614Z"
   },
   {
    "duration": 16,
    "start_time": "2021-09-18T08:03:07.622Z"
   },
   {
    "duration": 10,
    "start_time": "2021-09-18T08:03:07.668Z"
   },
   {
    "duration": 7,
    "start_time": "2021-09-18T08:03:07.685Z"
   },
   {
    "duration": 8,
    "start_time": "2021-09-18T08:03:07.697Z"
   },
   {
    "duration": 9,
    "start_time": "2021-09-18T08:03:07.708Z"
   },
   {
    "duration": 48,
    "start_time": "2021-09-18T08:03:07.719Z"
   },
   {
    "duration": 6,
    "start_time": "2021-09-18T08:03:07.770Z"
   },
   {
    "duration": 10,
    "start_time": "2021-09-18T08:03:07.778Z"
   },
   {
    "duration": 5,
    "start_time": "2021-09-18T08:03:07.790Z"
   },
   {
    "duration": 9,
    "start_time": "2021-09-18T08:03:07.798Z"
   },
   {
    "duration": 15,
    "start_time": "2021-09-18T08:03:07.810Z"
   },
   {
    "duration": 45,
    "start_time": "2021-09-18T08:03:07.828Z"
   },
   {
    "duration": 16,
    "start_time": "2021-09-18T08:03:07.876Z"
   },
   {
    "duration": 38,
    "start_time": "2021-09-18T08:03:07.896Z"
   },
   {
    "duration": 32,
    "start_time": "2021-09-18T08:03:07.936Z"
   },
   {
    "duration": 5,
    "start_time": "2021-09-18T08:03:07.971Z"
   },
   {
    "duration": 12,
    "start_time": "2021-09-18T08:03:07.978Z"
   },
   {
    "duration": 13,
    "start_time": "2021-09-18T08:03:07.992Z"
   },
   {
    "duration": 8,
    "start_time": "2021-09-18T08:03:08.007Z"
   },
   {
    "duration": 50,
    "start_time": "2021-09-18T08:03:08.017Z"
   },
   {
    "duration": 8,
    "start_time": "2021-09-18T08:03:08.069Z"
   },
   {
    "duration": 9,
    "start_time": "2021-09-18T08:03:08.079Z"
   },
   {
    "duration": 7,
    "start_time": "2021-09-18T08:03:08.091Z"
   },
   {
    "duration": 8,
    "start_time": "2021-09-18T08:03:08.101Z"
   },
   {
    "duration": 8,
    "start_time": "2021-09-18T08:03:08.111Z"
   },
   {
    "duration": 55,
    "start_time": "2021-09-18T08:03:08.121Z"
   },
   {
    "duration": 11,
    "start_time": "2021-09-18T08:03:08.179Z"
   },
   {
    "duration": 18,
    "start_time": "2021-09-18T08:03:08.193Z"
   },
   {
    "duration": 13,
    "start_time": "2021-09-18T08:03:08.213Z"
   },
   {
    "duration": 9,
    "start_time": "2021-09-18T08:03:08.228Z"
   },
   {
    "duration": 166,
    "start_time": "2021-09-18T08:03:08.239Z"
   },
   {
    "duration": 23,
    "start_time": "2021-09-18T08:03:08.407Z"
   },
   {
    "duration": 4,
    "start_time": "2021-09-18T08:03:08.433Z"
   },
   {
    "duration": 31,
    "start_time": "2021-09-18T08:03:08.439Z"
   },
   {
    "duration": 280,
    "start_time": "2021-09-18T08:03:08.472Z"
   },
   {
    "duration": 12,
    "start_time": "2021-09-18T08:03:08.755Z"
   },
   {
    "duration": 44,
    "start_time": "2021-09-18T08:03:08.769Z"
   },
   {
    "duration": 5,
    "start_time": "2021-09-18T08:03:08.815Z"
   },
   {
    "duration": 12,
    "start_time": "2021-09-18T08:03:08.822Z"
   },
   {
    "duration": 315,
    "start_time": "2021-09-18T08:03:08.836Z"
   },
   {
    "duration": 37,
    "start_time": "2021-09-18T08:03:09.153Z"
   },
   {
    "duration": 12,
    "start_time": "2021-09-18T08:03:09.193Z"
   },
   {
    "duration": 60,
    "start_time": "2021-09-18T08:03:09.207Z"
   },
   {
    "duration": 4,
    "start_time": "2021-09-18T08:03:09.269Z"
   },
   {
    "duration": 16,
    "start_time": "2021-09-18T08:03:09.275Z"
   },
   {
    "duration": 12,
    "start_time": "2021-09-18T08:03:09.294Z"
   },
   {
    "duration": 15,
    "start_time": "2021-09-18T08:03:09.309Z"
   },
   {
    "duration": 36,
    "start_time": "2021-09-18T08:03:09.334Z"
   },
   {
    "duration": 6,
    "start_time": "2021-09-18T08:03:09.373Z"
   },
   {
    "duration": 484,
    "start_time": "2021-09-18T08:03:09.381Z"
   },
   {
    "duration": -47,
    "start_time": "2021-09-18T08:03:09.914Z"
   },
   {
    "duration": -50,
    "start_time": "2021-09-18T08:03:09.919Z"
   },
   {
    "duration": -55,
    "start_time": "2021-09-18T08:03:09.925Z"
   },
   {
    "duration": -60,
    "start_time": "2021-09-18T08:03:09.931Z"
   },
   {
    "duration": -62,
    "start_time": "2021-09-18T08:03:09.935Z"
   },
   {
    "duration": -64,
    "start_time": "2021-09-18T08:03:09.938Z"
   },
   {
    "duration": -66,
    "start_time": "2021-09-18T08:03:09.942Z"
   },
   {
    "duration": -69,
    "start_time": "2021-09-18T08:03:09.946Z"
   },
   {
    "duration": -72,
    "start_time": "2021-09-18T08:03:09.950Z"
   },
   {
    "duration": -74,
    "start_time": "2021-09-18T08:03:09.953Z"
   },
   {
    "duration": -76,
    "start_time": "2021-09-18T08:03:09.957Z"
   },
   {
    "duration": -78,
    "start_time": "2021-09-18T08:03:09.960Z"
   },
   {
    "duration": -80,
    "start_time": "2021-09-18T08:03:09.963Z"
   },
   {
    "duration": -87,
    "start_time": "2021-09-18T08:03:09.972Z"
   },
   {
    "duration": -89,
    "start_time": "2021-09-18T08:03:09.975Z"
   },
   {
    "duration": -91,
    "start_time": "2021-09-18T08:03:09.978Z"
   },
   {
    "duration": -94,
    "start_time": "2021-09-18T08:03:09.982Z"
   },
   {
    "duration": -96,
    "start_time": "2021-09-18T08:03:09.985Z"
   },
   {
    "duration": -98,
    "start_time": "2021-09-18T08:03:09.988Z"
   },
   {
    "duration": -101,
    "start_time": "2021-09-18T08:03:09.992Z"
   },
   {
    "duration": -103,
    "start_time": "2021-09-18T08:03:09.996Z"
   },
   {
    "duration": -115,
    "start_time": "2021-09-18T08:03:10.009Z"
   },
   {
    "duration": -117,
    "start_time": "2021-09-18T08:03:10.013Z"
   },
   {
    "duration": -120,
    "start_time": "2021-09-18T08:03:10.017Z"
   },
   {
    "duration": -123,
    "start_time": "2021-09-18T08:03:10.021Z"
   },
   {
    "duration": -126,
    "start_time": "2021-09-18T08:03:10.025Z"
   },
   {
    "duration": -127,
    "start_time": "2021-09-18T08:03:10.028Z"
   },
   {
    "duration": -142,
    "start_time": "2021-09-18T08:03:10.044Z"
   },
   {
    "duration": -144,
    "start_time": "2021-09-18T08:03:10.047Z"
   },
   {
    "duration": -146,
    "start_time": "2021-09-18T08:03:10.050Z"
   },
   {
    "duration": -148,
    "start_time": "2021-09-18T08:03:10.054Z"
   },
   {
    "duration": -150,
    "start_time": "2021-09-18T08:03:10.057Z"
   },
   {
    "duration": -161,
    "start_time": "2021-09-18T08:03:10.069Z"
   },
   {
    "duration": -163,
    "start_time": "2021-09-18T08:03:10.073Z"
   },
   {
    "duration": -122,
    "start_time": "2021-09-18T08:03:10.089Z"
   },
   {
    "duration": -125,
    "start_time": "2021-09-18T08:03:10.093Z"
   },
   {
    "duration": -134,
    "start_time": "2021-09-18T08:03:10.104Z"
   },
   {
    "duration": -137,
    "start_time": "2021-09-18T08:03:10.108Z"
   },
   {
    "duration": -138,
    "start_time": "2021-09-18T08:03:10.111Z"
   },
   {
    "duration": -166,
    "start_time": "2021-09-18T08:03:10.140Z"
   },
   {
    "duration": -168,
    "start_time": "2021-09-18T08:03:10.144Z"
   },
   {
    "duration": -171,
    "start_time": "2021-09-18T08:03:10.148Z"
   },
   {
    "duration": -172,
    "start_time": "2021-09-18T08:03:10.151Z"
   },
   {
    "duration": -214,
    "start_time": "2021-09-18T08:03:10.194Z"
   },
   {
    "duration": -232,
    "start_time": "2021-09-18T08:03:10.214Z"
   },
   {
    "duration": -234,
    "start_time": "2021-09-18T08:03:10.217Z"
   },
   {
    "duration": -238,
    "start_time": "2021-09-18T08:03:10.222Z"
   },
   {
    "duration": -240,
    "start_time": "2021-09-18T08:03:10.226Z"
   },
   {
    "duration": -240,
    "start_time": "2021-09-18T08:03:10.228Z"
   },
   {
    "duration": -242,
    "start_time": "2021-09-18T08:03:10.231Z"
   },
   {
    "duration": -243,
    "start_time": "2021-09-18T08:03:10.234Z"
   },
   {
    "duration": 4180,
    "start_time": "2021-09-18T08:03:33.460Z"
   },
   {
    "duration": 318,
    "start_time": "2021-09-18T08:03:53.973Z"
   },
   {
    "duration": 4854,
    "start_time": "2021-09-18T08:04:03.997Z"
   },
   {
    "duration": 4210,
    "start_time": "2021-09-18T08:04:12.764Z"
   },
   {
    "duration": 1872,
    "start_time": "2021-09-18T08:04:46.692Z"
   },
   {
    "duration": 4184,
    "start_time": "2021-09-18T08:04:48.568Z"
   },
   {
    "duration": 3343,
    "start_time": "2021-09-18T08:04:52.755Z"
   },
   {
    "duration": 261,
    "start_time": "2021-09-18T08:04:56.101Z"
   },
   {
    "duration": 19,
    "start_time": "2021-09-18T08:04:56.364Z"
   },
   {
    "duration": 40,
    "start_time": "2021-09-18T08:04:56.385Z"
   },
   {
    "duration": 64,
    "start_time": "2021-09-18T08:04:56.428Z"
   },
   {
    "duration": 48,
    "start_time": "2021-09-18T08:04:56.495Z"
   },
   {
    "duration": 50,
    "start_time": "2021-09-18T08:04:56.548Z"
   },
   {
    "duration": 76,
    "start_time": "2021-09-18T08:04:56.601Z"
   },
   {
    "duration": 15,
    "start_time": "2021-09-18T08:04:56.680Z"
   },
   {
    "duration": 98,
    "start_time": "2021-09-18T08:04:56.697Z"
   },
   {
    "duration": 94,
    "start_time": "2021-09-18T08:04:56.797Z"
   },
   {
    "duration": 104,
    "start_time": "2021-09-18T08:04:56.894Z"
   },
   {
    "duration": 32,
    "start_time": "2021-09-18T08:04:57.000Z"
   },
   {
    "duration": 10,
    "start_time": "2021-09-18T08:04:57.034Z"
   },
   {
    "duration": 24,
    "start_time": "2021-09-18T08:04:57.047Z"
   },
   {
    "duration": 14,
    "start_time": "2021-09-18T08:04:57.073Z"
   },
   {
    "duration": 12,
    "start_time": "2021-09-18T08:04:57.090Z"
   },
   {
    "duration": 6,
    "start_time": "2021-09-18T08:04:57.104Z"
   },
   {
    "duration": 56,
    "start_time": "2021-09-18T08:04:57.112Z"
   },
   {
    "duration": 23,
    "start_time": "2021-09-18T08:04:57.170Z"
   },
   {
    "duration": 13,
    "start_time": "2021-09-18T08:04:57.195Z"
   },
   {
    "duration": 14,
    "start_time": "2021-09-18T08:04:57.211Z"
   },
   {
    "duration": 10,
    "start_time": "2021-09-18T08:04:57.227Z"
   },
   {
    "duration": 27,
    "start_time": "2021-09-18T08:04:57.240Z"
   },
   {
    "duration": 6,
    "start_time": "2021-09-18T08:04:57.274Z"
   },
   {
    "duration": 6,
    "start_time": "2021-09-18T08:04:57.285Z"
   },
   {
    "duration": 8,
    "start_time": "2021-09-18T08:04:57.293Z"
   },
   {
    "duration": 8,
    "start_time": "2021-09-18T08:04:57.303Z"
   },
   {
    "duration": 58,
    "start_time": "2021-09-18T08:04:57.313Z"
   },
   {
    "duration": 12,
    "start_time": "2021-09-18T08:04:57.373Z"
   },
   {
    "duration": 18,
    "start_time": "2021-09-18T08:04:57.389Z"
   },
   {
    "duration": 65,
    "start_time": "2021-09-18T08:04:57.410Z"
   },
   {
    "duration": 5,
    "start_time": "2021-09-18T08:04:57.478Z"
   },
   {
    "duration": 9,
    "start_time": "2021-09-18T08:04:57.485Z"
   },
   {
    "duration": 19,
    "start_time": "2021-09-18T08:04:57.496Z"
   },
   {
    "duration": 13,
    "start_time": "2021-09-18T08:04:57.518Z"
   },
   {
    "duration": 35,
    "start_time": "2021-09-18T08:04:57.533Z"
   },
   {
    "duration": 9,
    "start_time": "2021-09-18T08:04:57.571Z"
   },
   {
    "duration": 14,
    "start_time": "2021-09-18T08:04:57.582Z"
   },
   {
    "duration": 11,
    "start_time": "2021-09-18T08:04:57.599Z"
   },
   {
    "duration": 13,
    "start_time": "2021-09-18T08:04:57.612Z"
   },
   {
    "duration": 41,
    "start_time": "2021-09-18T08:04:57.628Z"
   },
   {
    "duration": 11,
    "start_time": "2021-09-18T08:04:57.671Z"
   },
   {
    "duration": 19,
    "start_time": "2021-09-18T08:04:57.684Z"
   },
   {
    "duration": 15,
    "start_time": "2021-09-18T08:04:57.705Z"
   },
   {
    "duration": 11,
    "start_time": "2021-09-18T08:04:57.722Z"
   },
   {
    "duration": 19,
    "start_time": "2021-09-18T08:04:57.735Z"
   },
   {
    "duration": 9,
    "start_time": "2021-09-18T08:04:57.768Z"
   },
   {
    "duration": 163,
    "start_time": "2021-09-18T08:04:57.779Z"
   },
   {
    "duration": 33,
    "start_time": "2021-09-18T08:04:57.945Z"
   },
   {
    "duration": 4,
    "start_time": "2021-09-18T08:04:57.981Z"
   },
   {
    "duration": 21,
    "start_time": "2021-09-18T08:04:57.987Z"
   },
   {
    "duration": 387,
    "start_time": "2021-09-18T08:04:58.010Z"
   },
   {
    "duration": 3,
    "start_time": "2021-09-18T08:04:58.400Z"
   },
   {
    "duration": 61,
    "start_time": "2021-09-18T08:04:58.406Z"
   },
   {
    "duration": 5,
    "start_time": "2021-09-18T08:04:58.469Z"
   },
   {
    "duration": 15,
    "start_time": "2021-09-18T08:04:58.477Z"
   },
   {
    "duration": 333,
    "start_time": "2021-09-18T08:04:58.495Z"
   },
   {
    "duration": 44,
    "start_time": "2021-09-18T08:04:58.831Z"
   },
   {
    "duration": 14,
    "start_time": "2021-09-18T08:04:58.877Z"
   },
   {
    "duration": 39,
    "start_time": "2021-09-18T08:04:58.893Z"
   },
   {
    "duration": 3,
    "start_time": "2021-09-18T08:04:58.935Z"
   },
   {
    "duration": 33,
    "start_time": "2021-09-18T08:04:58.941Z"
   },
   {
    "duration": 15,
    "start_time": "2021-09-18T08:04:58.977Z"
   },
   {
    "duration": 16,
    "start_time": "2021-09-18T08:04:58.994Z"
   },
   {
    "duration": 7,
    "start_time": "2021-09-18T08:04:59.013Z"
   },
   {
    "duration": 47,
    "start_time": "2021-09-18T08:04:59.022Z"
   },
   {
    "duration": 473,
    "start_time": "2021-09-18T08:04:59.072Z"
   },
   {
    "duration": 6,
    "start_time": "2021-09-18T08:04:59.547Z"
   },
   {
    "duration": 6,
    "start_time": "2021-09-18T08:04:59.568Z"
   },
   {
    "duration": 13,
    "start_time": "2021-09-18T08:04:59.577Z"
   },
   {
    "duration": 32,
    "start_time": "2021-09-18T08:04:59.592Z"
   },
   {
    "duration": 3,
    "start_time": "2021-09-18T08:04:59.627Z"
   },
   {
    "duration": 17,
    "start_time": "2021-09-18T08:04:59.632Z"
   },
   {
    "duration": 12,
    "start_time": "2021-09-18T08:04:59.667Z"
   },
   {
    "duration": 17,
    "start_time": "2021-09-18T08:04:59.681Z"
   },
   {
    "duration": 11,
    "start_time": "2021-09-18T08:04:59.700Z"
   },
   {
    "duration": 21,
    "start_time": "2021-09-18T08:04:59.713Z"
   },
   {
    "duration": 6,
    "start_time": "2021-09-18T08:04:59.774Z"
   },
   {
    "duration": 20,
    "start_time": "2021-09-18T08:04:59.783Z"
   },
   {
    "duration": 29,
    "start_time": "2021-09-18T08:04:59.806Z"
   },
   {
    "duration": 31,
    "start_time": "2021-09-18T08:04:59.837Z"
   },
   {
    "duration": 24,
    "start_time": "2021-09-18T08:04:59.870Z"
   },
   {
    "duration": 10,
    "start_time": "2021-09-18T08:04:59.897Z"
   },
   {
    "duration": 11,
    "start_time": "2021-09-18T08:04:59.909Z"
   },
   {
    "duration": 15,
    "start_time": "2021-09-18T08:04:59.923Z"
   },
   {
    "duration": 35,
    "start_time": "2021-09-18T08:04:59.941Z"
   },
   {
    "duration": 17,
    "start_time": "2021-09-18T08:04:59.979Z"
   },
   {
    "duration": 23,
    "start_time": "2021-09-18T08:04:59.999Z"
   },
   {
    "duration": 26,
    "start_time": "2021-09-18T08:05:00.025Z"
   },
   {
    "duration": 25,
    "start_time": "2021-09-18T08:05:00.055Z"
   },
   {
    "duration": 50,
    "start_time": "2021-09-18T08:05:00.084Z"
   },
   {
    "duration": 43,
    "start_time": "2021-09-18T08:05:00.137Z"
   },
   {
    "duration": 9,
    "start_time": "2021-09-18T08:05:00.183Z"
   },
   {
    "duration": 92,
    "start_time": "2021-09-18T08:05:00.194Z"
   },
   {
    "duration": 80,
    "start_time": "2021-09-18T08:05:00.289Z"
   },
   {
    "duration": 72,
    "start_time": "2021-09-18T08:05:00.372Z"
   },
   {
    "duration": 30,
    "start_time": "2021-09-18T08:05:00.446Z"
   },
   {
    "duration": 23,
    "start_time": "2021-09-18T08:05:00.479Z"
   },
   {
    "duration": 28,
    "start_time": "2021-09-18T08:05:00.504Z"
   },
   {
    "duration": 35,
    "start_time": "2021-09-18T08:05:00.534Z"
   },
   {
    "duration": 38,
    "start_time": "2021-09-18T08:05:00.571Z"
   },
   {
    "duration": 34,
    "start_time": "2021-09-18T08:05:00.612Z"
   },
   {
    "duration": 25,
    "start_time": "2021-09-18T08:05:00.649Z"
   },
   {
    "duration": 54,
    "start_time": "2021-09-18T08:05:00.676Z"
   },
   {
    "duration": 32,
    "start_time": "2021-09-18T08:05:00.733Z"
   },
   {
    "duration": 21,
    "start_time": "2021-09-18T08:05:00.768Z"
   },
   {
    "duration": 30,
    "start_time": "2021-09-18T08:05:00.791Z"
   },
   {
    "duration": 29,
    "start_time": "2021-09-18T08:05:00.823Z"
   },
   {
    "duration": 17,
    "start_time": "2021-09-18T08:05:00.854Z"
   },
   {
    "duration": 23,
    "start_time": "2021-09-18T08:05:00.873Z"
   },
   {
    "duration": 44,
    "start_time": "2021-09-18T08:05:00.898Z"
   },
   {
    "duration": 43,
    "start_time": "2021-09-18T08:05:00.945Z"
   },
   {
    "duration": 43,
    "start_time": "2021-09-18T08:05:00.990Z"
   },
   {
    "duration": 21,
    "start_time": "2021-09-18T08:05:01.036Z"
   },
   {
    "duration": 20,
    "start_time": "2021-09-18T08:05:01.059Z"
   },
   {
    "duration": 45,
    "start_time": "2021-09-18T08:05:01.081Z"
   },
   {
    "duration": 43,
    "start_time": "2021-09-18T08:05:01.128Z"
   },
   {
    "duration": 31,
    "start_time": "2021-09-18T08:05:01.174Z"
   },
   {
    "duration": 1624,
    "start_time": "2021-10-16T21:41:31.719Z"
   },
   {
    "duration": 7490,
    "start_time": "2021-10-16T21:41:33.346Z"
   },
   {
    "duration": 4181,
    "start_time": "2021-10-16T21:41:40.839Z"
   },
   {
    "duration": 262,
    "start_time": "2021-10-16T21:41:45.024Z"
   },
   {
    "duration": 21,
    "start_time": "2021-10-16T21:41:45.289Z"
   },
   {
    "duration": 56,
    "start_time": "2021-10-16T21:41:45.312Z"
   },
   {
    "duration": 41,
    "start_time": "2021-10-16T21:41:45.371Z"
   },
   {
    "duration": 81,
    "start_time": "2021-10-16T21:41:45.414Z"
   },
   {
    "duration": 36,
    "start_time": "2021-10-16T21:41:45.501Z"
   },
   {
    "duration": 75,
    "start_time": "2021-10-16T21:41:45.541Z"
   },
   {
    "duration": 44,
    "start_time": "2021-10-16T21:41:45.619Z"
   },
   {
    "duration": 76,
    "start_time": "2021-10-16T21:41:45.666Z"
   },
   {
    "duration": 80,
    "start_time": "2021-10-16T21:41:45.761Z"
   },
   {
    "duration": 96,
    "start_time": "2021-10-16T21:41:45.844Z"
   },
   {
    "duration": 38,
    "start_time": "2021-10-16T21:41:45.942Z"
   },
   {
    "duration": 11,
    "start_time": "2021-10-16T21:41:45.982Z"
   },
   {
    "duration": 19,
    "start_time": "2021-10-16T21:41:45.996Z"
   },
   {
    "duration": 45,
    "start_time": "2021-10-16T21:41:46.018Z"
   },
   {
    "duration": 12,
    "start_time": "2021-10-16T21:41:46.066Z"
   },
   {
    "duration": 6,
    "start_time": "2021-10-16T21:41:46.080Z"
   },
   {
    "duration": 16,
    "start_time": "2021-10-16T21:41:46.088Z"
   },
   {
    "duration": 14,
    "start_time": "2021-10-16T21:41:46.107Z"
   },
   {
    "duration": 42,
    "start_time": "2021-10-16T21:41:46.123Z"
   },
   {
    "duration": 10,
    "start_time": "2021-10-16T21:41:46.167Z"
   },
   {
    "duration": 11,
    "start_time": "2021-10-16T21:41:46.179Z"
   },
   {
    "duration": 6,
    "start_time": "2021-10-16T21:41:46.192Z"
   },
   {
    "duration": 6,
    "start_time": "2021-10-16T21:41:46.205Z"
   },
   {
    "duration": 46,
    "start_time": "2021-10-16T21:41:46.215Z"
   },
   {
    "duration": 6,
    "start_time": "2021-10-16T21:41:46.264Z"
   },
   {
    "duration": 7,
    "start_time": "2021-10-16T21:41:46.273Z"
   },
   {
    "duration": 14,
    "start_time": "2021-10-16T21:41:46.282Z"
   },
   {
    "duration": 12,
    "start_time": "2021-10-16T21:41:46.298Z"
   },
   {
    "duration": 57,
    "start_time": "2021-10-16T21:41:46.312Z"
   },
   {
    "duration": 37,
    "start_time": "2021-10-16T21:41:46.371Z"
   },
   {
    "duration": 5,
    "start_time": "2021-10-16T21:41:46.411Z"
   },
   {
    "duration": 44,
    "start_time": "2021-10-16T21:41:46.418Z"
   },
   {
    "duration": 10,
    "start_time": "2021-10-16T21:41:46.465Z"
   },
   {
    "duration": 16,
    "start_time": "2021-10-16T21:41:46.477Z"
   },
   {
    "duration": 7,
    "start_time": "2021-10-16T21:41:46.495Z"
   },
   {
    "duration": 16,
    "start_time": "2021-10-16T21:41:46.505Z"
   },
   {
    "duration": 40,
    "start_time": "2021-10-16T21:41:46.523Z"
   },
   {
    "duration": 7,
    "start_time": "2021-10-16T21:41:46.566Z"
   },
   {
    "duration": 10,
    "start_time": "2021-10-16T21:41:46.575Z"
   },
   {
    "duration": 7,
    "start_time": "2021-10-16T21:41:46.587Z"
   },
   {
    "duration": 7,
    "start_time": "2021-10-16T21:41:46.597Z"
   },
   {
    "duration": 57,
    "start_time": "2021-10-16T21:41:46.607Z"
   },
   {
    "duration": 7,
    "start_time": "2021-10-16T21:41:46.666Z"
   },
   {
    "duration": 10,
    "start_time": "2021-10-16T21:41:46.676Z"
   },
   {
    "duration": 12,
    "start_time": "2021-10-16T21:41:46.688Z"
   },
   {
    "duration": 10,
    "start_time": "2021-10-16T21:41:46.702Z"
   },
   {
    "duration": 229,
    "start_time": "2021-10-16T21:41:46.714Z"
   },
   {
    "duration": 39,
    "start_time": "2021-10-16T21:41:46.946Z"
   },
   {
    "duration": 4,
    "start_time": "2021-10-16T21:41:46.989Z"
   },
   {
    "duration": 11,
    "start_time": "2021-10-16T21:41:46.996Z"
   },
   {
    "duration": 306,
    "start_time": "2021-10-16T21:41:47.010Z"
   },
   {
    "duration": 3,
    "start_time": "2021-10-16T21:41:47.319Z"
   },
   {
    "duration": 61,
    "start_time": "2021-10-16T21:41:47.325Z"
   },
   {
    "duration": 5,
    "start_time": "2021-10-16T21:41:47.389Z"
   },
   {
    "duration": 16,
    "start_time": "2021-10-16T21:41:47.396Z"
   },
   {
    "duration": 281,
    "start_time": "2021-10-16T21:41:47.414Z"
   },
   {
    "duration": 28,
    "start_time": "2021-10-16T21:41:47.697Z"
   },
   {
    "duration": 34,
    "start_time": "2021-10-16T21:41:47.728Z"
   },
   {
    "duration": 35,
    "start_time": "2021-10-16T21:41:47.764Z"
   },
   {
    "duration": 5,
    "start_time": "2021-10-16T21:41:47.802Z"
   },
   {
    "duration": 13,
    "start_time": "2021-10-16T21:41:47.810Z"
   },
   {
    "duration": 44,
    "start_time": "2021-10-16T21:41:47.825Z"
   },
   {
    "duration": 16,
    "start_time": "2021-10-16T21:41:47.872Z"
   },
   {
    "duration": 7,
    "start_time": "2021-10-16T21:41:47.891Z"
   },
   {
    "duration": 7,
    "start_time": "2021-10-16T21:41:47.901Z"
   },
   {
    "duration": 381,
    "start_time": "2021-10-16T21:41:47.963Z"
   },
   {
    "duration": 37,
    "start_time": "2021-10-16T21:41:48.313Z"
   },
   {
    "duration": 34,
    "start_time": "2021-10-16T21:41:48.317Z"
   },
   {
    "duration": 26,
    "start_time": "2021-10-16T21:41:48.328Z"
   },
   {
    "duration": 25,
    "start_time": "2021-10-16T21:41:48.331Z"
   },
   {
    "duration": 25,
    "start_time": "2021-10-16T21:41:48.333Z"
   },
   {
    "duration": 25,
    "start_time": "2021-10-16T21:41:48.335Z"
   },
   {
    "duration": 25,
    "start_time": "2021-10-16T21:41:48.338Z"
   },
   {
    "duration": 25,
    "start_time": "2021-10-16T21:41:48.340Z"
   },
   {
    "duration": 24,
    "start_time": "2021-10-16T21:41:48.343Z"
   },
   {
    "duration": 25,
    "start_time": "2021-10-16T21:41:48.345Z"
   },
   {
    "duration": 19,
    "start_time": "2021-10-16T21:41:48.353Z"
   },
   {
    "duration": 19,
    "start_time": "2021-10-16T21:41:48.355Z"
   },
   {
    "duration": 20,
    "start_time": "2021-10-16T21:41:48.357Z"
   },
   {
    "duration": 20,
    "start_time": "2021-10-16T21:41:48.359Z"
   },
   {
    "duration": 21,
    "start_time": "2021-10-16T21:41:48.360Z"
   },
   {
    "duration": 21,
    "start_time": "2021-10-16T21:41:48.362Z"
   },
   {
    "duration": 21,
    "start_time": "2021-10-16T21:41:48.364Z"
   },
   {
    "duration": -32,
    "start_time": "2021-10-16T21:41:48.419Z"
   },
   {
    "duration": -33,
    "start_time": "2021-10-16T21:41:48.421Z"
   },
   {
    "duration": -35,
    "start_time": "2021-10-16T21:41:48.425Z"
   },
   {
    "duration": -36,
    "start_time": "2021-10-16T21:41:48.427Z"
   },
   {
    "duration": -37,
    "start_time": "2021-10-16T21:41:48.429Z"
   },
   {
    "duration": -40,
    "start_time": "2021-10-16T21:41:48.433Z"
   },
   {
    "duration": -40,
    "start_time": "2021-10-16T21:41:48.435Z"
   },
   {
    "duration": -40,
    "start_time": "2021-10-16T21:41:48.436Z"
   },
   {
    "duration": -41,
    "start_time": "2021-10-16T21:41:48.438Z"
   },
   {
    "duration": -44,
    "start_time": "2021-10-16T21:41:48.443Z"
   },
   {
    "duration": -45,
    "start_time": "2021-10-16T21:41:48.445Z"
   },
   {
    "duration": -46,
    "start_time": "2021-10-16T21:41:48.447Z"
   },
   {
    "duration": 14,
    "start_time": "2021-10-16T21:41:48.448Z"
   },
   {
    "duration": 13,
    "start_time": "2021-10-16T21:41:48.450Z"
   },
   {
    "duration": 13,
    "start_time": "2021-10-16T21:41:48.452Z"
   },
   {
    "duration": 12,
    "start_time": "2021-10-16T21:41:48.454Z"
   },
   {
    "duration": 12,
    "start_time": "2021-10-16T21:41:48.455Z"
   },
   {
    "duration": 12,
    "start_time": "2021-10-16T21:41:48.457Z"
   },
   {
    "duration": 12,
    "start_time": "2021-10-16T21:41:48.458Z"
   },
   {
    "duration": 3,
    "start_time": "2021-10-16T21:41:48.468Z"
   },
   {
    "duration": 3,
    "start_time": "2021-10-16T21:41:48.470Z"
   },
   {
    "duration": 3,
    "start_time": "2021-10-16T21:41:48.471Z"
   },
   {
    "duration": 2,
    "start_time": "2021-10-16T21:41:48.473Z"
   },
   {
    "duration": 3,
    "start_time": "2021-10-16T21:41:48.474Z"
   },
   {
    "duration": 2,
    "start_time": "2021-10-16T21:41:48.476Z"
   }
  ],
  "kernelspec": {
   "display_name": "Python 3",
   "language": "python",
   "name": "python3"
  },
  "language_info": {
   "codemirror_mode": {
    "name": "ipython",
    "version": 3
   },
   "file_extension": ".py",
   "mimetype": "text/x-python",
   "name": "python",
   "nbconvert_exporter": "python",
   "pygments_lexer": "ipython3",
   "version": "3.7.8"
  },
  "toc": {
   "base_numbering": 1,
   "nav_menu": {},
   "number_sections": true,
   "sideBar": true,
   "skip_h1_title": true,
   "title_cell": "Table of Contents",
   "title_sidebar": "Contents",
   "toc_cell": false,
   "toc_position": {},
   "toc_section_display": true,
   "toc_window_display": true
  }
 },
 "nbformat": 4,
 "nbformat_minor": 2
}
