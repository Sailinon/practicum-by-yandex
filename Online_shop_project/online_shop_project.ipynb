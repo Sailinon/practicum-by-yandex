{
 "cells": [
  {
   "cell_type": "markdown",
   "metadata": {
    "id": "uAgxsbx8cv10"
   },
   "source": [
    "# Анализ данных для интерент-магазина"
   ]
  },
  {
   "cell_type": "markdown",
   "metadata": {
    "id": "JPkIXOg6dG_e"
   },
   "source": [
    "В данном проекте мы анализируем показатели крупного интернет-магазина.  \n",
    "Нам предстои приоритизировать имеющиеся гиоптезы, а также провести анализ результатов A/B теста.  \n",
    "\n",
    "Для анализа нам доступны следующие данные:  \n",
    "Данные для приоритизации гипотез:   \n",
    "Файл /datasets/hypothesis.csv  \n",
    "* Hypothesis — краткое описание гипотезы;  \n",
    "* Reach — охват пользователей по 10-балльной шкале;  \n",
    "* Impact — влияние на пользователей по 10-балльной шкале;  \n",
    "* Confidence — уверенность в гипотезе по 10-балльной шкале;  \n",
    "* Efforts — затраты ресурсов на проверку гипотезы по 10-балльной шкале. Чем больше значение Efforts, тем дороже проверка гипотезы.  \n",
    "\n",
    "Данные для анализа A/B теста:  \n",
    "Файл /datasets/orders.csv  \n",
    "* transactionId — идентификатор заказа;  \n",
    "* visitorId — идентификатор пользователя, совершившего заказ;  \n",
    "* date — дата, когда был совершён заказ;  \n",
    "* revenue — выручка заказа;  \n",
    "* group — группа A/B-теста, в которую попал заказ.  \n",
    "\n",
    "Файл /datasets/visitors.csv   \n",
    "* date — дата;  \n",
    "* group — группа A/B-теста;  \n",
    "* visitors — количество пользователей в указанную дату в указанной группе A/B-теста  "
   ]
  },
  {
   "cell_type": "code",
   "execution_count": 55,
   "metadata": {
    "id": "F-wPszM0dkJi"
   },
   "outputs": [],
   "source": [
    "import pandas as pd\n",
    "import numpy as np\n",
    "import scipy.stats as stats\n",
    "import datetime as dt\n",
    "import matplotlib.pyplot as plt\n",
    "import seaborn as sns"
   ]
  },
  {
   "cell_type": "code",
   "execution_count": 56,
   "metadata": {},
   "outputs": [],
   "source": [
    "from pandas.plotting import register_matplotlib_converters\n",
    "register_matplotlib_converters()"
   ]
  },
  {
   "cell_type": "markdown",
   "metadata": {
    "id": "ugN8k7IIc_d0"
   },
   "source": [
    "## Загрузка и предобработка данных"
   ]
  },
  {
   "cell_type": "code",
   "execution_count": 57,
   "metadata": {
    "id": "-9-TgueMcsXC"
   },
   "outputs": [],
   "source": [
    "#В проекте использован датасет предоставленный Яндекс.Практикум\n",
    "hypothesis = pd.read_csv('/***/***.csv')"
   ]
  },
  {
   "cell_type": "code",
   "execution_count": 58,
   "metadata": {},
   "outputs": [],
   "source": [
    "pd.set_option('display.max_columns', None)\n",
    "pd.options.display.max_colwidth = 150 "
   ]
  },
  {
   "cell_type": "code",
   "execution_count": 59,
   "metadata": {
    "colab": {
     "base_uri": "https://localhost:8080/",
     "height": 331
    },
    "id": "ujZEa19Pc-Tn",
    "outputId": "8696d18d-56fa-43be-eebf-935383aa91d9"
   },
   "outputs": [
    {
     "data": {
      "text/html": [
       "<div>\n",
       "<style scoped>\n",
       "    .dataframe tbody tr th:only-of-type {\n",
       "        vertical-align: middle;\n",
       "    }\n",
       "\n",
       "    .dataframe tbody tr th {\n",
       "        vertical-align: top;\n",
       "    }\n",
       "\n",
       "    .dataframe thead th {\n",
       "        text-align: right;\n",
       "    }\n",
       "</style>\n",
       "<table border=\"1\" class=\"dataframe\">\n",
       "  <thead>\n",
       "    <tr style=\"text-align: right;\">\n",
       "      <th></th>\n",
       "      <th>Hypothesis</th>\n",
       "      <th>Reach</th>\n",
       "      <th>Impact</th>\n",
       "      <th>Confidence</th>\n",
       "      <th>Efforts</th>\n",
       "    </tr>\n",
       "  </thead>\n",
       "  <tbody>\n",
       "    <tr>\n",
       "      <td>0</td>\n",
       "      <td>Добавить два новых канала привлечения трафика, что позволит привлекать на 30% больше пользователей</td>\n",
       "      <td>3</td>\n",
       "      <td>10</td>\n",
       "      <td>8</td>\n",
       "      <td>6</td>\n",
       "    </tr>\n",
       "    <tr>\n",
       "      <td>1</td>\n",
       "      <td>Запустить собственную службу доставки, что сократит срок доставки заказов</td>\n",
       "      <td>2</td>\n",
       "      <td>5</td>\n",
       "      <td>4</td>\n",
       "      <td>10</td>\n",
       "    </tr>\n",
       "    <tr>\n",
       "      <td>2</td>\n",
       "      <td>Добавить блоки рекомендаций товаров на сайт интернет магазина, чтобы повысить конверсию и средний чек заказа</td>\n",
       "      <td>8</td>\n",
       "      <td>3</td>\n",
       "      <td>7</td>\n",
       "      <td>3</td>\n",
       "    </tr>\n",
       "    <tr>\n",
       "      <td>3</td>\n",
       "      <td>Изменить структура категорий, что увеличит конверсию, т.к. пользователи быстрее найдут нужный товар</td>\n",
       "      <td>8</td>\n",
       "      <td>3</td>\n",
       "      <td>3</td>\n",
       "      <td>8</td>\n",
       "    </tr>\n",
       "    <tr>\n",
       "      <td>4</td>\n",
       "      <td>Изменить цвет фона главной страницы, чтобы увеличить вовлеченность пользователей</td>\n",
       "      <td>3</td>\n",
       "      <td>1</td>\n",
       "      <td>1</td>\n",
       "      <td>1</td>\n",
       "    </tr>\n",
       "    <tr>\n",
       "      <td>5</td>\n",
       "      <td>Добавить страницу отзывов клиентов о магазине, что позволит увеличить количество заказов</td>\n",
       "      <td>3</td>\n",
       "      <td>2</td>\n",
       "      <td>2</td>\n",
       "      <td>3</td>\n",
       "    </tr>\n",
       "    <tr>\n",
       "      <td>6</td>\n",
       "      <td>Показать на главной странице баннеры с актуальными акциями и распродажами, чтобы увеличить конверсию</td>\n",
       "      <td>5</td>\n",
       "      <td>3</td>\n",
       "      <td>8</td>\n",
       "      <td>3</td>\n",
       "    </tr>\n",
       "    <tr>\n",
       "      <td>7</td>\n",
       "      <td>Добавить форму подписки на все основные страницы, чтобы собрать базу клиентов для email-рассылок</td>\n",
       "      <td>10</td>\n",
       "      <td>7</td>\n",
       "      <td>8</td>\n",
       "      <td>5</td>\n",
       "    </tr>\n",
       "    <tr>\n",
       "      <td>8</td>\n",
       "      <td>Запустить акцию, дающую скидку на товар в день рождения</td>\n",
       "      <td>1</td>\n",
       "      <td>9</td>\n",
       "      <td>9</td>\n",
       "      <td>5</td>\n",
       "    </tr>\n",
       "  </tbody>\n",
       "</table>\n",
       "</div>"
      ],
      "text/plain": [
       "                                                                                                     Hypothesis  \\\n",
       "0            Добавить два новых канала привлечения трафика, что позволит привлекать на 30% больше пользователей   \n",
       "1                                     Запустить собственную службу доставки, что сократит срок доставки заказов   \n",
       "2  Добавить блоки рекомендаций товаров на сайт интернет магазина, чтобы повысить конверсию и средний чек заказа   \n",
       "3           Изменить структура категорий, что увеличит конверсию, т.к. пользователи быстрее найдут нужный товар   \n",
       "4                              Изменить цвет фона главной страницы, чтобы увеличить вовлеченность пользователей   \n",
       "5                      Добавить страницу отзывов клиентов о магазине, что позволит увеличить количество заказов   \n",
       "6          Показать на главной странице баннеры с актуальными акциями и распродажами, чтобы увеличить конверсию   \n",
       "7              Добавить форму подписки на все основные страницы, чтобы собрать базу клиентов для email-рассылок   \n",
       "8                                                       Запустить акцию, дающую скидку на товар в день рождения   \n",
       "\n",
       "   Reach  Impact  Confidence  Efforts  \n",
       "0      3      10           8        6  \n",
       "1      2       5           4       10  \n",
       "2      8       3           7        3  \n",
       "3      8       3           3        8  \n",
       "4      3       1           1        1  \n",
       "5      3       2           2        3  \n",
       "6      5       3           8        3  \n",
       "7     10       7           8        5  \n",
       "8      1       9           9        5  "
      ]
     },
     "execution_count": 59,
     "metadata": {},
     "output_type": "execute_result"
    }
   ],
   "source": [
    "hypothesis"
   ]
  },
  {
   "cell_type": "markdown",
   "metadata": {
    "id": "HX3xLl4Gdx8n"
   },
   "source": [
    "Запишем названия колонок в нижнем регистре для удобства"
   ]
  },
  {
   "cell_type": "code",
   "execution_count": 60,
   "metadata": {
    "id": "tF8L9na3eGcy"
   },
   "outputs": [],
   "source": [
    "hypothesis.columns = hypothesis.columns.str.lower()"
   ]
  },
  {
   "cell_type": "code",
   "execution_count": 61,
   "metadata": {
    "colab": {
     "base_uri": "https://localhost:8080/"
    },
    "id": "3Z120Vf9eYQO",
    "outputId": "d4c36326-9314-4ad2-85bf-1012d5561037"
   },
   "outputs": [
    {
     "data": {
      "text/plain": [
       "Index(['hypothesis', 'reach', 'impact', 'confidence', 'efforts'], dtype='object')"
      ]
     },
     "execution_count": 61,
     "metadata": {},
     "output_type": "execute_result"
    }
   ],
   "source": [
    "hypothesis.columns"
   ]
  },
  {
   "cell_type": "code",
   "execution_count": 62,
   "metadata": {
    "id": "ZJaVsMERewgP"
   },
   "outputs": [],
   "source": [
    "#В проекте использован датасет предоставленный Яндекс.Практикум\n",
    "orders = pd.read_csv('/***/***.csv')"
   ]
  },
  {
   "cell_type": "code",
   "execution_count": 63,
   "metadata": {
    "colab": {
     "base_uri": "https://localhost:8080/",
     "height": 206
    },
    "id": "kp2jYZp7e6_x",
    "outputId": "2b56f332-8c98-4d97-eefd-cc9f3fce9741"
   },
   "outputs": [
    {
     "data": {
      "text/html": [
       "<div>\n",
       "<style scoped>\n",
       "    .dataframe tbody tr th:only-of-type {\n",
       "        vertical-align: middle;\n",
       "    }\n",
       "\n",
       "    .dataframe tbody tr th {\n",
       "        vertical-align: top;\n",
       "    }\n",
       "\n",
       "    .dataframe thead th {\n",
       "        text-align: right;\n",
       "    }\n",
       "</style>\n",
       "<table border=\"1\" class=\"dataframe\">\n",
       "  <thead>\n",
       "    <tr style=\"text-align: right;\">\n",
       "      <th></th>\n",
       "      <th>transactionId</th>\n",
       "      <th>visitorId</th>\n",
       "      <th>date</th>\n",
       "      <th>revenue</th>\n",
       "      <th>group</th>\n",
       "    </tr>\n",
       "  </thead>\n",
       "  <tbody>\n",
       "    <tr>\n",
       "      <td>0</td>\n",
       "      <td>3667963787</td>\n",
       "      <td>3312258926</td>\n",
       "      <td>2019-08-15</td>\n",
       "      <td>1650</td>\n",
       "      <td>B</td>\n",
       "    </tr>\n",
       "    <tr>\n",
       "      <td>1</td>\n",
       "      <td>2804400009</td>\n",
       "      <td>3642806036</td>\n",
       "      <td>2019-08-15</td>\n",
       "      <td>730</td>\n",
       "      <td>B</td>\n",
       "    </tr>\n",
       "    <tr>\n",
       "      <td>2</td>\n",
       "      <td>2961555356</td>\n",
       "      <td>4069496402</td>\n",
       "      <td>2019-08-15</td>\n",
       "      <td>400</td>\n",
       "      <td>A</td>\n",
       "    </tr>\n",
       "    <tr>\n",
       "      <td>3</td>\n",
       "      <td>3797467345</td>\n",
       "      <td>1196621759</td>\n",
       "      <td>2019-08-15</td>\n",
       "      <td>9759</td>\n",
       "      <td>B</td>\n",
       "    </tr>\n",
       "    <tr>\n",
       "      <td>4</td>\n",
       "      <td>2282983706</td>\n",
       "      <td>2322279887</td>\n",
       "      <td>2019-08-15</td>\n",
       "      <td>2308</td>\n",
       "      <td>B</td>\n",
       "    </tr>\n",
       "  </tbody>\n",
       "</table>\n",
       "</div>"
      ],
      "text/plain": [
       "   transactionId   visitorId        date  revenue group\n",
       "0     3667963787  3312258926  2019-08-15     1650     B\n",
       "1     2804400009  3642806036  2019-08-15      730     B\n",
       "2     2961555356  4069496402  2019-08-15      400     A\n",
       "3     3797467345  1196621759  2019-08-15     9759     B\n",
       "4     2282983706  2322279887  2019-08-15     2308     B"
      ]
     },
     "execution_count": 63,
     "metadata": {},
     "output_type": "execute_result"
    }
   ],
   "source": [
    "orders.head()"
   ]
  },
  {
   "cell_type": "code",
   "execution_count": 64,
   "metadata": {
    "id": "FSUYWIO7hBfF"
   },
   "outputs": [],
   "source": [
    "orders.columns = orders.columns.str.lower()"
   ]
  },
  {
   "cell_type": "code",
   "execution_count": 65,
   "metadata": {
    "colab": {
     "base_uri": "https://localhost:8080/"
    },
    "id": "svdklgb5f519",
    "outputId": "61a88838-6900-45bf-93fb-bae2eb6f04ed"
   },
   "outputs": [
    {
     "data": {
      "text/plain": [
       "1197"
      ]
     },
     "execution_count": 65,
     "metadata": {},
     "output_type": "execute_result"
    }
   ],
   "source": [
    "len(orders)"
   ]
  },
  {
   "cell_type": "code",
   "execution_count": 66,
   "metadata": {
    "colab": {
     "base_uri": "https://localhost:8080/"
    },
    "id": "kgu1m326gEIW",
    "outputId": "b2bfa12d-047d-4d09-96ec-6bf34ead2418"
   },
   "outputs": [
    {
     "data": {
      "text/plain": [
       "transactionid    0.0\n",
       "visitorid        0.0\n",
       "date             0.0\n",
       "revenue          0.0\n",
       "group            0.0\n",
       "dtype: float64"
      ]
     },
     "execution_count": 66,
     "metadata": {},
     "output_type": "execute_result"
    }
   ],
   "source": [
    "orders.isnull().mean()"
   ]
  },
  {
   "cell_type": "code",
   "execution_count": 67,
   "metadata": {
    "colab": {
     "base_uri": "https://localhost:8080/"
    },
    "id": "ny0X-XlUgJLr",
    "outputId": "4b1c562a-adad-44fa-c0aa-696f7bb1a7c4"
   },
   "outputs": [
    {
     "data": {
      "text/plain": [
       "0"
      ]
     },
     "execution_count": 67,
     "metadata": {},
     "output_type": "execute_result"
    }
   ],
   "source": [
    "orders.duplicated().sum()"
   ]
  },
  {
   "cell_type": "markdown",
   "metadata": {
    "id": "72l5-STegQsH"
   },
   "source": [
    "Пропусков и дубликатов нет"
   ]
  },
  {
   "cell_type": "code",
   "execution_count": 68,
   "metadata": {
    "colab": {
     "base_uri": "https://localhost:8080/"
    },
    "id": "WysJq_lgg90V",
    "outputId": "c353d01e-6cb8-4faa-990e-ba0de0e683c0"
   },
   "outputs": [
    {
     "name": "stdout",
     "output_type": "stream",
     "text": [
      "<class 'pandas.core.frame.DataFrame'>\n",
      "RangeIndex: 1197 entries, 0 to 1196\n",
      "Data columns (total 5 columns):\n",
      "transactionid    1197 non-null int64\n",
      "visitorid        1197 non-null int64\n",
      "date             1197 non-null object\n",
      "revenue          1197 non-null int64\n",
      "group            1197 non-null object\n",
      "dtypes: int64(3), object(2)\n",
      "memory usage: 46.9+ KB\n"
     ]
    }
   ],
   "source": [
    "orders.info()"
   ]
  },
  {
   "cell_type": "markdown",
   "metadata": {
    "id": "wXSyDexYhPU5"
   },
   "source": [
    "Дату нужно перевести в формат даты"
   ]
  },
  {
   "cell_type": "code",
   "execution_count": 69,
   "metadata": {
    "id": "8ezTtzIVhbnY"
   },
   "outputs": [],
   "source": [
    "orders['date'] = orders['date'].map(\n",
    "    lambda x: dt.datetime.strptime(x, '%Y-%m-%d')\n",
    ")"
   ]
  },
  {
   "cell_type": "code",
   "execution_count": 70,
   "metadata": {
    "id": "1LNJc7mR6MfM"
   },
   "outputs": [],
   "source": [
    "#В проекте использован датасет предоставленный Яндекс.Практикум\n",
    "visitors=pd.read_csv('/***/***.csv')"
   ]
  },
  {
   "cell_type": "code",
   "execution_count": 71,
   "metadata": {
    "colab": {
     "base_uri": "https://localhost:8080/"
    },
    "id": "qbeqHSQQiVVC",
    "outputId": "cf25b906-bf80-47b5-a760-748337f52f70"
   },
   "outputs": [
    {
     "name": "stdout",
     "output_type": "stream",
     "text": [
      "<class 'pandas.core.frame.DataFrame'>\n",
      "RangeIndex: 62 entries, 0 to 61\n",
      "Data columns (total 3 columns):\n",
      "date        62 non-null object\n",
      "group       62 non-null object\n",
      "visitors    62 non-null int64\n",
      "dtypes: int64(1), object(2)\n",
      "memory usage: 1.6+ KB\n"
     ]
    }
   ],
   "source": [
    "visitors.info()"
   ]
  },
  {
   "cell_type": "code",
   "execution_count": 72,
   "metadata": {
    "colab": {
     "base_uri": "https://localhost:8080/",
     "height": 206
    },
    "id": "FyxVhZaf6K0e",
    "outputId": "55b0177f-2a84-4911-9a0d-45c76224dd7b"
   },
   "outputs": [
    {
     "data": {
      "text/html": [
       "<div>\n",
       "<style scoped>\n",
       "    .dataframe tbody tr th:only-of-type {\n",
       "        vertical-align: middle;\n",
       "    }\n",
       "\n",
       "    .dataframe tbody tr th {\n",
       "        vertical-align: top;\n",
       "    }\n",
       "\n",
       "    .dataframe thead th {\n",
       "        text-align: right;\n",
       "    }\n",
       "</style>\n",
       "<table border=\"1\" class=\"dataframe\">\n",
       "  <thead>\n",
       "    <tr style=\"text-align: right;\">\n",
       "      <th></th>\n",
       "      <th>date</th>\n",
       "      <th>group</th>\n",
       "      <th>visitors</th>\n",
       "    </tr>\n",
       "  </thead>\n",
       "  <tbody>\n",
       "    <tr>\n",
       "      <td>0</td>\n",
       "      <td>2019-08-01</td>\n",
       "      <td>A</td>\n",
       "      <td>719</td>\n",
       "    </tr>\n",
       "    <tr>\n",
       "      <td>1</td>\n",
       "      <td>2019-08-02</td>\n",
       "      <td>A</td>\n",
       "      <td>619</td>\n",
       "    </tr>\n",
       "    <tr>\n",
       "      <td>2</td>\n",
       "      <td>2019-08-03</td>\n",
       "      <td>A</td>\n",
       "      <td>507</td>\n",
       "    </tr>\n",
       "    <tr>\n",
       "      <td>3</td>\n",
       "      <td>2019-08-04</td>\n",
       "      <td>A</td>\n",
       "      <td>717</td>\n",
       "    </tr>\n",
       "    <tr>\n",
       "      <td>4</td>\n",
       "      <td>2019-08-05</td>\n",
       "      <td>A</td>\n",
       "      <td>756</td>\n",
       "    </tr>\n",
       "  </tbody>\n",
       "</table>\n",
       "</div>"
      ],
      "text/plain": [
       "         date group  visitors\n",
       "0  2019-08-01     A       719\n",
       "1  2019-08-02     A       619\n",
       "2  2019-08-03     A       507\n",
       "3  2019-08-04     A       717\n",
       "4  2019-08-05     A       756"
      ]
     },
     "execution_count": 72,
     "metadata": {},
     "output_type": "execute_result"
    }
   ],
   "source": [
    "visitors.head()"
   ]
  },
  {
   "cell_type": "code",
   "execution_count": 73,
   "metadata": {
    "colab": {
     "base_uri": "https://localhost:8080/"
    },
    "id": "9hC6qPRV6eXq",
    "outputId": "88f4abbf-4637-43b3-e885-3a32e4478ac7"
   },
   "outputs": [
    {
     "data": {
      "text/plain": [
       "0"
      ]
     },
     "execution_count": 73,
     "metadata": {},
     "output_type": "execute_result"
    }
   ],
   "source": [
    "visitors.duplicated().sum()"
   ]
  },
  {
   "cell_type": "markdown",
   "metadata": {
    "id": "DaEK44t26j_y"
   },
   "source": [
    "пропусков и дубликатов нет, переведём дату в формат даты"
   ]
  },
  {
   "cell_type": "code",
   "execution_count": 74,
   "metadata": {
    "id": "-SgH39nS6tgQ"
   },
   "outputs": [],
   "source": [
    "visitors['date'] = visitors['date'].map(\n",
    "    lambda x: dt.datetime.strptime(x, '%Y-%m-%d')\n",
    ")"
   ]
  },
  {
   "cell_type": "markdown",
   "metadata": {},
   "source": [
    "Проверим есть ли пользователи, которые попали в обе группы"
   ]
  },
  {
   "cell_type": "code",
   "execution_count": 75,
   "metadata": {},
   "outputs": [],
   "source": [
    "visitorsA = orders.query('group==\"A\"')['visitorid'].unique()"
   ]
  },
  {
   "cell_type": "code",
   "execution_count": 76,
   "metadata": {},
   "outputs": [],
   "source": [
    "visitorsB = orders.query('group==\"B\"')['visitorid'].unique()"
   ]
  },
  {
   "cell_type": "code",
   "execution_count": 77,
   "metadata": {},
   "outputs": [
    {
     "data": {
      "text/plain": [
       "503"
      ]
     },
     "execution_count": 77,
     "metadata": {},
     "output_type": "execute_result"
    }
   ],
   "source": [
    "len(visitorsA)"
   ]
  },
  {
   "cell_type": "code",
   "execution_count": 78,
   "metadata": {},
   "outputs": [
    {
     "data": {
      "text/plain": [
       "586"
      ]
     },
     "execution_count": 78,
     "metadata": {},
     "output_type": "execute_result"
    }
   ],
   "source": [
    "len(visitorsB)"
   ]
  },
  {
   "cell_type": "code",
   "execution_count": 79,
   "metadata": {},
   "outputs": [],
   "source": [
    "ABvisitors = np.intersect1d(visitorsA,visitorsB)"
   ]
  },
  {
   "cell_type": "code",
   "execution_count": 80,
   "metadata": {},
   "outputs": [
    {
     "data": {
      "text/plain": [
       "array([   8300375,  199603092,  232979603,  237748145,  276558944,\n",
       "        351125977,  393266494,  457167155,  471551937,  477780734,\n",
       "        818047933,  963407295, 1230306981, 1294878855, 1316129916,\n",
       "       1333886533, 1404934699, 1602967004, 1614305549, 1648269707,\n",
       "       1668030113, 1738359350, 1801183820, 1959144690, 2038680547,\n",
       "       2044997962, 2378935119, 2458001652, 2579882178, 2587333274,\n",
       "       2600415354, 2654030115, 2686716486, 2712142231, 2716752286,\n",
       "       2780786433, 2927087541, 2949041841, 2954449915, 3062433592,\n",
       "       3202540741, 3234906277, 3656415546, 3717692402, 3766097110,\n",
       "       3803269165, 3891541246, 3941795274, 3951559397, 3957174400,\n",
       "       3963646447, 3972127743, 3984495233, 4069496402, 4120364173,\n",
       "       4186807279, 4256040402, 4266935830])"
      ]
     },
     "execution_count": 80,
     "metadata": {},
     "output_type": "execute_result"
    }
   ],
   "source": [
    "ABvisitors"
   ]
  },
  {
   "cell_type": "code",
   "execution_count": 81,
   "metadata": {},
   "outputs": [
    {
     "data": {
      "text/plain": [
       "58"
      ]
     },
     "execution_count": 81,
     "metadata": {},
     "output_type": "execute_result"
    }
   ],
   "source": [
    "len(ABvisitors)"
   ]
  },
  {
   "cell_type": "markdown",
   "metadata": {},
   "source": [
    "58 пользователей попали в обе группы. Поскольку на этих пользователях нельзя отследить влияние изменений, нужно удалить данные о их заказах из таблицы orders."
   ]
  },
  {
   "cell_type": "code",
   "execution_count": 82,
   "metadata": {},
   "outputs": [
    {
     "data": {
      "text/html": [
       "<div>\n",
       "<style scoped>\n",
       "    .dataframe tbody tr th:only-of-type {\n",
       "        vertical-align: middle;\n",
       "    }\n",
       "\n",
       "    .dataframe tbody tr th {\n",
       "        vertical-align: top;\n",
       "    }\n",
       "\n",
       "    .dataframe thead th {\n",
       "        text-align: right;\n",
       "    }\n",
       "</style>\n",
       "<table border=\"1\" class=\"dataframe\">\n",
       "  <thead>\n",
       "    <tr style=\"text-align: right;\">\n",
       "      <th></th>\n",
       "      <th>transactionid</th>\n",
       "      <th>visitorid</th>\n",
       "      <th>date</th>\n",
       "      <th>revenue</th>\n",
       "      <th>group</th>\n",
       "    </tr>\n",
       "  </thead>\n",
       "  <tbody>\n",
       "    <tr>\n",
       "      <td>2</td>\n",
       "      <td>2961555356</td>\n",
       "      <td>4069496402</td>\n",
       "      <td>2019-08-15</td>\n",
       "      <td>400</td>\n",
       "      <td>A</td>\n",
       "    </tr>\n",
       "    <tr>\n",
       "      <td>20</td>\n",
       "      <td>2904772834</td>\n",
       "      <td>963407295</td>\n",
       "      <td>2019-08-15</td>\n",
       "      <td>300</td>\n",
       "      <td>B</td>\n",
       "    </tr>\n",
       "    <tr>\n",
       "      <td>23</td>\n",
       "      <td>4252514150</td>\n",
       "      <td>351125977</td>\n",
       "      <td>2019-08-15</td>\n",
       "      <td>15185</td>\n",
       "      <td>B</td>\n",
       "    </tr>\n",
       "    <tr>\n",
       "      <td>24</td>\n",
       "      <td>1162046357</td>\n",
       "      <td>3234906277</td>\n",
       "      <td>2019-08-15</td>\n",
       "      <td>7555</td>\n",
       "      <td>B</td>\n",
       "    </tr>\n",
       "    <tr>\n",
       "      <td>26</td>\n",
       "      <td>2223239646</td>\n",
       "      <td>199603092</td>\n",
       "      <td>2019-08-15</td>\n",
       "      <td>3488</td>\n",
       "      <td>A</td>\n",
       "    </tr>\n",
       "    <tr>\n",
       "      <td>27</td>\n",
       "      <td>1630050528</td>\n",
       "      <td>237748145</td>\n",
       "      <td>2019-08-15</td>\n",
       "      <td>7620</td>\n",
       "      <td>B</td>\n",
       "    </tr>\n",
       "    <tr>\n",
       "      <td>29</td>\n",
       "      <td>2220299125</td>\n",
       "      <td>3803269165</td>\n",
       "      <td>2019-08-15</td>\n",
       "      <td>700</td>\n",
       "      <td>A</td>\n",
       "    </tr>\n",
       "    <tr>\n",
       "      <td>32</td>\n",
       "      <td>3666913472</td>\n",
       "      <td>2038680547</td>\n",
       "      <td>2019-08-15</td>\n",
       "      <td>1680</td>\n",
       "      <td>B</td>\n",
       "    </tr>\n",
       "    <tr>\n",
       "      <td>33</td>\n",
       "      <td>486237576</td>\n",
       "      <td>2378935119</td>\n",
       "      <td>2019-08-15</td>\n",
       "      <td>1650</td>\n",
       "      <td>A</td>\n",
       "    </tr>\n",
       "    <tr>\n",
       "      <td>41</td>\n",
       "      <td>2594268419</td>\n",
       "      <td>237748145</td>\n",
       "      <td>2019-08-15</td>\n",
       "      <td>1090</td>\n",
       "      <td>A</td>\n",
       "    </tr>\n",
       "  </tbody>\n",
       "</table>\n",
       "</div>"
      ],
      "text/plain": [
       "    transactionid   visitorid       date  revenue group\n",
       "2      2961555356  4069496402 2019-08-15      400     A\n",
       "20     2904772834   963407295 2019-08-15      300     B\n",
       "23     4252514150   351125977 2019-08-15    15185     B\n",
       "24     1162046357  3234906277 2019-08-15     7555     B\n",
       "26     2223239646   199603092 2019-08-15     3488     A\n",
       "27     1630050528   237748145 2019-08-15     7620     B\n",
       "29     2220299125  3803269165 2019-08-15      700     A\n",
       "32     3666913472  2038680547 2019-08-15     1680     B\n",
       "33      486237576  2378935119 2019-08-15     1650     A\n",
       "41     2594268419   237748145 2019-08-15     1090     A"
      ]
     },
     "execution_count": 82,
     "metadata": {},
     "output_type": "execute_result"
    }
   ],
   "source": [
    "orders.loc[orders['visitorid'].isin(ABvisitors)].head(10)"
   ]
  },
  {
   "cell_type": "code",
   "execution_count": 83,
   "metadata": {},
   "outputs": [
    {
     "data": {
      "text/plain": [
       "1197"
      ]
     },
     "execution_count": 83,
     "metadata": {},
     "output_type": "execute_result"
    }
   ],
   "source": [
    "len(orders)"
   ]
  },
  {
   "cell_type": "code",
   "execution_count": 84,
   "metadata": {},
   "outputs": [],
   "source": [
    "orders = orders.drop(orders.loc[orders['visitorid'].isin(ABvisitors)].index).reset_index()"
   ]
  },
  {
   "cell_type": "code",
   "execution_count": 85,
   "metadata": {},
   "outputs": [
    {
     "data": {
      "text/html": [
       "<div>\n",
       "<style scoped>\n",
       "    .dataframe tbody tr th:only-of-type {\n",
       "        vertical-align: middle;\n",
       "    }\n",
       "\n",
       "    .dataframe tbody tr th {\n",
       "        vertical-align: top;\n",
       "    }\n",
       "\n",
       "    .dataframe thead th {\n",
       "        text-align: right;\n",
       "    }\n",
       "</style>\n",
       "<table border=\"1\" class=\"dataframe\">\n",
       "  <thead>\n",
       "    <tr style=\"text-align: right;\">\n",
       "      <th></th>\n",
       "      <th>index</th>\n",
       "      <th>transactionid</th>\n",
       "      <th>visitorid</th>\n",
       "      <th>date</th>\n",
       "      <th>revenue</th>\n",
       "      <th>group</th>\n",
       "    </tr>\n",
       "  </thead>\n",
       "  <tbody>\n",
       "    <tr>\n",
       "      <td>1011</td>\n",
       "      <td>1191</td>\n",
       "      <td>3592955527</td>\n",
       "      <td>608641596</td>\n",
       "      <td>2019-08-14</td>\n",
       "      <td>16490</td>\n",
       "      <td>B</td>\n",
       "    </tr>\n",
       "    <tr>\n",
       "      <td>1012</td>\n",
       "      <td>1192</td>\n",
       "      <td>2662137336</td>\n",
       "      <td>3733762160</td>\n",
       "      <td>2019-08-14</td>\n",
       "      <td>6490</td>\n",
       "      <td>B</td>\n",
       "    </tr>\n",
       "    <tr>\n",
       "      <td>1013</td>\n",
       "      <td>1193</td>\n",
       "      <td>2203539145</td>\n",
       "      <td>370388673</td>\n",
       "      <td>2019-08-14</td>\n",
       "      <td>3190</td>\n",
       "      <td>A</td>\n",
       "    </tr>\n",
       "    <tr>\n",
       "      <td>1014</td>\n",
       "      <td>1194</td>\n",
       "      <td>1807773912</td>\n",
       "      <td>573423106</td>\n",
       "      <td>2019-08-14</td>\n",
       "      <td>10550</td>\n",
       "      <td>A</td>\n",
       "    </tr>\n",
       "    <tr>\n",
       "      <td>1015</td>\n",
       "      <td>1196</td>\n",
       "      <td>3936777065</td>\n",
       "      <td>2108080724</td>\n",
       "      <td>2019-08-15</td>\n",
       "      <td>202740</td>\n",
       "      <td>B</td>\n",
       "    </tr>\n",
       "  </tbody>\n",
       "</table>\n",
       "</div>"
      ],
      "text/plain": [
       "      index  transactionid   visitorid       date  revenue group\n",
       "1011   1191     3592955527   608641596 2019-08-14    16490     B\n",
       "1012   1192     2662137336  3733762160 2019-08-14     6490     B\n",
       "1013   1193     2203539145   370388673 2019-08-14     3190     A\n",
       "1014   1194     1807773912   573423106 2019-08-14    10550     A\n",
       "1015   1196     3936777065  2108080724 2019-08-15   202740     B"
      ]
     },
     "execution_count": 85,
     "metadata": {},
     "output_type": "execute_result"
    }
   ],
   "source": [
    "orders.tail()"
   ]
  },
  {
   "cell_type": "markdown",
   "metadata": {},
   "source": [
    "В таблице orders осталось 1016 записей по сравнению с 1197 изначальных."
   ]
  },
  {
   "cell_type": "markdown",
   "metadata": {
    "id": "rZuoi2ff6vfb"
   },
   "source": [
    "## Приоритизация гипотез"
   ]
  },
  {
   "cell_type": "markdown",
   "metadata": {
    "id": "gDLEe2Us66gI"
   },
   "source": [
    "### Приоритизируем гипотезы с помощью фреймворка ICE"
   ]
  },
  {
   "cell_type": "code",
   "execution_count": 86,
   "metadata": {
    "id": "bx2Mv8BQBVst"
   },
   "outputs": [],
   "source": [
    "hypothesis['ICE']=((hypothesis['impact']*hypothesis['confidence'])/hypothesis['efforts']).round(1)"
   ]
  },
  {
   "cell_type": "code",
   "execution_count": 87,
   "metadata": {
    "colab": {
     "base_uri": "https://localhost:8080/"
    },
    "id": "A4-Pm0ULBVwI",
    "outputId": "23a59167-9d9c-4a97-f45f-2d7cc836110a"
   },
   "outputs": [
    {
     "data": {
      "text/html": [
       "<div>\n",
       "<style scoped>\n",
       "    .dataframe tbody tr th:only-of-type {\n",
       "        vertical-align: middle;\n",
       "    }\n",
       "\n",
       "    .dataframe tbody tr th {\n",
       "        vertical-align: top;\n",
       "    }\n",
       "\n",
       "    .dataframe thead th {\n",
       "        text-align: right;\n",
       "    }\n",
       "</style>\n",
       "<table border=\"1\" class=\"dataframe\">\n",
       "  <thead>\n",
       "    <tr style=\"text-align: right;\">\n",
       "      <th></th>\n",
       "      <th>hypothesis</th>\n",
       "      <th>ICE</th>\n",
       "    </tr>\n",
       "  </thead>\n",
       "  <tbody>\n",
       "    <tr>\n",
       "      <td>8</td>\n",
       "      <td>Запустить акцию, дающую скидку на товар в день рождения</td>\n",
       "      <td>16.2</td>\n",
       "    </tr>\n",
       "    <tr>\n",
       "      <td>0</td>\n",
       "      <td>Добавить два новых канала привлечения трафика, что позволит привлекать на 30% больше пользователей</td>\n",
       "      <td>13.3</td>\n",
       "    </tr>\n",
       "    <tr>\n",
       "      <td>7</td>\n",
       "      <td>Добавить форму подписки на все основные страницы, чтобы собрать базу клиентов для email-рассылок</td>\n",
       "      <td>11.2</td>\n",
       "    </tr>\n",
       "    <tr>\n",
       "      <td>6</td>\n",
       "      <td>Показать на главной странице баннеры с актуальными акциями и распродажами, чтобы увеличить конверсию</td>\n",
       "      <td>8.0</td>\n",
       "    </tr>\n",
       "    <tr>\n",
       "      <td>2</td>\n",
       "      <td>Добавить блоки рекомендаций товаров на сайт интернет магазина, чтобы повысить конверсию и средний чек заказа</td>\n",
       "      <td>7.0</td>\n",
       "    </tr>\n",
       "    <tr>\n",
       "      <td>1</td>\n",
       "      <td>Запустить собственную службу доставки, что сократит срок доставки заказов</td>\n",
       "      <td>2.0</td>\n",
       "    </tr>\n",
       "    <tr>\n",
       "      <td>5</td>\n",
       "      <td>Добавить страницу отзывов клиентов о магазине, что позволит увеличить количество заказов</td>\n",
       "      <td>1.3</td>\n",
       "    </tr>\n",
       "    <tr>\n",
       "      <td>3</td>\n",
       "      <td>Изменить структура категорий, что увеличит конверсию, т.к. пользователи быстрее найдут нужный товар</td>\n",
       "      <td>1.1</td>\n",
       "    </tr>\n",
       "    <tr>\n",
       "      <td>4</td>\n",
       "      <td>Изменить цвет фона главной страницы, чтобы увеличить вовлеченность пользователей</td>\n",
       "      <td>1.0</td>\n",
       "    </tr>\n",
       "  </tbody>\n",
       "</table>\n",
       "</div>"
      ],
      "text/plain": [
       "                                                                                                     hypothesis  \\\n",
       "8                                                       Запустить акцию, дающую скидку на товар в день рождения   \n",
       "0            Добавить два новых канала привлечения трафика, что позволит привлекать на 30% больше пользователей   \n",
       "7              Добавить форму подписки на все основные страницы, чтобы собрать базу клиентов для email-рассылок   \n",
       "6          Показать на главной странице баннеры с актуальными акциями и распродажами, чтобы увеличить конверсию   \n",
       "2  Добавить блоки рекомендаций товаров на сайт интернет магазина, чтобы повысить конверсию и средний чек заказа   \n",
       "1                                     Запустить собственную службу доставки, что сократит срок доставки заказов   \n",
       "5                      Добавить страницу отзывов клиентов о магазине, что позволит увеличить количество заказов   \n",
       "3           Изменить структура категорий, что увеличит конверсию, т.к. пользователи быстрее найдут нужный товар   \n",
       "4                              Изменить цвет фона главной страницы, чтобы увеличить вовлеченность пользователей   \n",
       "\n",
       "    ICE  \n",
       "8  16.2  \n",
       "0  13.3  \n",
       "7  11.2  \n",
       "6   8.0  \n",
       "2   7.0  \n",
       "1   2.0  \n",
       "5   1.3  \n",
       "3   1.1  \n",
       "4   1.0  "
      ]
     },
     "execution_count": 87,
     "metadata": {},
     "output_type": "execute_result"
    }
   ],
   "source": [
    "hypothesis[['hypothesis','ICE']].sort_values(by='ICE',ascending=False)"
   ]
  },
  {
   "cell_type": "markdown",
   "metadata": {
    "id": "XG9r35iMCJIf"
   },
   "source": [
    "Приоритизируем гипотезы с помощью фреймворка RICE"
   ]
  },
  {
   "cell_type": "code",
   "execution_count": 88,
   "metadata": {
    "id": "Rxnu83rB-Whs"
   },
   "outputs": [],
   "source": [
    "hypothesis['RICE']=(hypothesis['reach']*hypothesis['impact']*hypothesis['confidence'])/hypothesis['efforts']"
   ]
  },
  {
   "cell_type": "code",
   "execution_count": 89,
   "metadata": {
    "colab": {
     "base_uri": "https://localhost:8080/"
    },
    "id": "1XixUQUPBtLh",
    "outputId": "40b3125b-ac61-4df9-ea0f-826532136c96"
   },
   "outputs": [
    {
     "data": {
      "text/html": [
       "<div>\n",
       "<style scoped>\n",
       "    .dataframe tbody tr th:only-of-type {\n",
       "        vertical-align: middle;\n",
       "    }\n",
       "\n",
       "    .dataframe tbody tr th {\n",
       "        vertical-align: top;\n",
       "    }\n",
       "\n",
       "    .dataframe thead th {\n",
       "        text-align: right;\n",
       "    }\n",
       "</style>\n",
       "<table border=\"1\" class=\"dataframe\">\n",
       "  <thead>\n",
       "    <tr style=\"text-align: right;\">\n",
       "      <th></th>\n",
       "      <th>hypothesis</th>\n",
       "      <th>RICE</th>\n",
       "    </tr>\n",
       "  </thead>\n",
       "  <tbody>\n",
       "    <tr>\n",
       "      <td>7</td>\n",
       "      <td>Добавить форму подписки на все основные страницы, чтобы собрать базу клиентов для email-рассылок</td>\n",
       "      <td>112.0</td>\n",
       "    </tr>\n",
       "    <tr>\n",
       "      <td>2</td>\n",
       "      <td>Добавить блоки рекомендаций товаров на сайт интернет магазина, чтобы повысить конверсию и средний чек заказа</td>\n",
       "      <td>56.0</td>\n",
       "    </tr>\n",
       "    <tr>\n",
       "      <td>0</td>\n",
       "      <td>Добавить два новых канала привлечения трафика, что позволит привлекать на 30% больше пользователей</td>\n",
       "      <td>40.0</td>\n",
       "    </tr>\n",
       "    <tr>\n",
       "      <td>6</td>\n",
       "      <td>Показать на главной странице баннеры с актуальными акциями и распродажами, чтобы увеличить конверсию</td>\n",
       "      <td>40.0</td>\n",
       "    </tr>\n",
       "    <tr>\n",
       "      <td>8</td>\n",
       "      <td>Запустить акцию, дающую скидку на товар в день рождения</td>\n",
       "      <td>16.2</td>\n",
       "    </tr>\n",
       "    <tr>\n",
       "      <td>3</td>\n",
       "      <td>Изменить структура категорий, что увеличит конверсию, т.к. пользователи быстрее найдут нужный товар</td>\n",
       "      <td>9.0</td>\n",
       "    </tr>\n",
       "    <tr>\n",
       "      <td>1</td>\n",
       "      <td>Запустить собственную службу доставки, что сократит срок доставки заказов</td>\n",
       "      <td>4.0</td>\n",
       "    </tr>\n",
       "    <tr>\n",
       "      <td>5</td>\n",
       "      <td>Добавить страницу отзывов клиентов о магазине, что позволит увеличить количество заказов</td>\n",
       "      <td>4.0</td>\n",
       "    </tr>\n",
       "    <tr>\n",
       "      <td>4</td>\n",
       "      <td>Изменить цвет фона главной страницы, чтобы увеличить вовлеченность пользователей</td>\n",
       "      <td>3.0</td>\n",
       "    </tr>\n",
       "  </tbody>\n",
       "</table>\n",
       "</div>"
      ],
      "text/plain": [
       "                                                                                                     hypothesis  \\\n",
       "7              Добавить форму подписки на все основные страницы, чтобы собрать базу клиентов для email-рассылок   \n",
       "2  Добавить блоки рекомендаций товаров на сайт интернет магазина, чтобы повысить конверсию и средний чек заказа   \n",
       "0            Добавить два новых канала привлечения трафика, что позволит привлекать на 30% больше пользователей   \n",
       "6          Показать на главной странице баннеры с актуальными акциями и распродажами, чтобы увеличить конверсию   \n",
       "8                                                       Запустить акцию, дающую скидку на товар в день рождения   \n",
       "3           Изменить структура категорий, что увеличит конверсию, т.к. пользователи быстрее найдут нужный товар   \n",
       "1                                     Запустить собственную службу доставки, что сократит срок доставки заказов   \n",
       "5                      Добавить страницу отзывов клиентов о магазине, что позволит увеличить количество заказов   \n",
       "4                              Изменить цвет фона главной страницы, чтобы увеличить вовлеченность пользователей   \n",
       "\n",
       "    RICE  \n",
       "7  112.0  \n",
       "2   56.0  \n",
       "0   40.0  \n",
       "6   40.0  \n",
       "8   16.2  \n",
       "3    9.0  \n",
       "1    4.0  \n",
       "5    4.0  \n",
       "4    3.0  "
      ]
     },
     "execution_count": 89,
     "metadata": {},
     "output_type": "execute_result"
    }
   ],
   "source": [
    "hypothesis[['hypothesis','RICE']].sort_values(by='RICE',ascending=False)"
   ]
  },
  {
   "cell_type": "code",
   "execution_count": 90,
   "metadata": {
    "colab": {
     "base_uri": "https://localhost:8080/",
     "height": 331
    },
    "id": "LCoDbV96C_tV",
    "outputId": "373331d7-8150-4363-ac58-97e62be01656"
   },
   "outputs": [
    {
     "data": {
      "text/html": [
       "<style  type=\"text/css\" >\n",
       "    #T_645a5474_2ba0_11ec_a18f_02420a397170row0_col5 {\n",
       "            background-color:  #008000;\n",
       "            color:  #f1f1f1;\n",
       "        }    #T_645a5474_2ba0_11ec_a18f_02420a397170row0_col6 {\n",
       "            background-color:  #caf0ca;\n",
       "            color:  #000000;\n",
       "        }    #T_645a5474_2ba0_11ec_a18f_02420a397170row1_col5 {\n",
       "            background-color:  #2b982b;\n",
       "            color:  #000000;\n",
       "        }    #T_645a5474_2ba0_11ec_a18f_02420a397170row1_col6 {\n",
       "            background-color:  #98d498;\n",
       "            color:  #000000;\n",
       "        }    #T_645a5474_2ba0_11ec_a18f_02420a397170row2_col5 {\n",
       "            background-color:  #4caa4c;\n",
       "            color:  #000000;\n",
       "        }    #T_645a5474_2ba0_11ec_a18f_02420a397170row2_col6 {\n",
       "            background-color:  #008000;\n",
       "            color:  #f1f1f1;\n",
       "        }    #T_645a5474_2ba0_11ec_a18f_02420a397170row3_col5 {\n",
       "            background-color:  #7cc57c;\n",
       "            color:  #000000;\n",
       "        }    #T_645a5474_2ba0_11ec_a18f_02420a397170row3_col6 {\n",
       "            background-color:  #98d498;\n",
       "            color:  #000000;\n",
       "        }    #T_645a5474_2ba0_11ec_a18f_02420a397170row4_col5 {\n",
       "            background-color:  #8bcd8b;\n",
       "            color:  #000000;\n",
       "        }    #T_645a5474_2ba0_11ec_a18f_02420a397170row4_col6 {\n",
       "            background-color:  #76c176;\n",
       "            color:  #000000;\n",
       "        }    #T_645a5474_2ba0_11ec_a18f_02420a397170row5_col5 {\n",
       "            background-color:  #d7f7d7;\n",
       "            color:  #000000;\n",
       "        }    #T_645a5474_2ba0_11ec_a18f_02420a397170row5_col6 {\n",
       "            background-color:  #e4fee4;\n",
       "            color:  #000000;\n",
       "        }    #T_645a5474_2ba0_11ec_a18f_02420a397170row6_col5 {\n",
       "            background-color:  #e1fde1;\n",
       "            color:  #000000;\n",
       "        }    #T_645a5474_2ba0_11ec_a18f_02420a397170row6_col6 {\n",
       "            background-color:  #e4fee4;\n",
       "            color:  #000000;\n",
       "        }    #T_645a5474_2ba0_11ec_a18f_02420a397170row7_col5 {\n",
       "            background-color:  #e5ffe5;\n",
       "            color:  #000000;\n",
       "        }    #T_645a5474_2ba0_11ec_a18f_02420a397170row7_col6 {\n",
       "            background-color:  #d9f8d9;\n",
       "            color:  #000000;\n",
       "        }    #T_645a5474_2ba0_11ec_a18f_02420a397170row8_col5 {\n",
       "            background-color:  #e5ffe5;\n",
       "            color:  #000000;\n",
       "        }    #T_645a5474_2ba0_11ec_a18f_02420a397170row8_col6 {\n",
       "            background-color:  #e5ffe5;\n",
       "            color:  #000000;\n",
       "        }</style><table id=\"T_645a5474_2ba0_11ec_a18f_02420a397170\" ><thead>    <tr>        <th class=\"blank level0\" ></th>        <th class=\"col_heading level0 col0\" >hypothesis</th>        <th class=\"col_heading level0 col1\" >reach</th>        <th class=\"col_heading level0 col2\" >impact</th>        <th class=\"col_heading level0 col3\" >confidence</th>        <th class=\"col_heading level0 col4\" >efforts</th>        <th class=\"col_heading level0 col5\" >ICE</th>        <th class=\"col_heading level0 col6\" >RICE</th>    </tr></thead><tbody>\n",
       "                <tr>\n",
       "                        <th id=\"T_645a5474_2ba0_11ec_a18f_02420a397170level0_row0\" class=\"row_heading level0 row0\" >8</th>\n",
       "                        <td id=\"T_645a5474_2ba0_11ec_a18f_02420a397170row0_col0\" class=\"data row0 col0\" >Запустить акцию, дающую скидку на товар в день рождения</td>\n",
       "                        <td id=\"T_645a5474_2ba0_11ec_a18f_02420a397170row0_col1\" class=\"data row0 col1\" >1</td>\n",
       "                        <td id=\"T_645a5474_2ba0_11ec_a18f_02420a397170row0_col2\" class=\"data row0 col2\" >9</td>\n",
       "                        <td id=\"T_645a5474_2ba0_11ec_a18f_02420a397170row0_col3\" class=\"data row0 col3\" >9</td>\n",
       "                        <td id=\"T_645a5474_2ba0_11ec_a18f_02420a397170row0_col4\" class=\"data row0 col4\" >5</td>\n",
       "                        <td id=\"T_645a5474_2ba0_11ec_a18f_02420a397170row0_col5\" class=\"data row0 col5\" >16.2</td>\n",
       "                        <td id=\"T_645a5474_2ba0_11ec_a18f_02420a397170row0_col6\" class=\"data row0 col6\" >16.2</td>\n",
       "            </tr>\n",
       "            <tr>\n",
       "                        <th id=\"T_645a5474_2ba0_11ec_a18f_02420a397170level0_row1\" class=\"row_heading level0 row1\" >0</th>\n",
       "                        <td id=\"T_645a5474_2ba0_11ec_a18f_02420a397170row1_col0\" class=\"data row1 col0\" >Добавить два новых канала привлечения трафика, что позволит привлекать на 30% больше пользователей</td>\n",
       "                        <td id=\"T_645a5474_2ba0_11ec_a18f_02420a397170row1_col1\" class=\"data row1 col1\" >3</td>\n",
       "                        <td id=\"T_645a5474_2ba0_11ec_a18f_02420a397170row1_col2\" class=\"data row1 col2\" >10</td>\n",
       "                        <td id=\"T_645a5474_2ba0_11ec_a18f_02420a397170row1_col3\" class=\"data row1 col3\" >8</td>\n",
       "                        <td id=\"T_645a5474_2ba0_11ec_a18f_02420a397170row1_col4\" class=\"data row1 col4\" >6</td>\n",
       "                        <td id=\"T_645a5474_2ba0_11ec_a18f_02420a397170row1_col5\" class=\"data row1 col5\" >13.3</td>\n",
       "                        <td id=\"T_645a5474_2ba0_11ec_a18f_02420a397170row1_col6\" class=\"data row1 col6\" >40</td>\n",
       "            </tr>\n",
       "            <tr>\n",
       "                        <th id=\"T_645a5474_2ba0_11ec_a18f_02420a397170level0_row2\" class=\"row_heading level0 row2\" >7</th>\n",
       "                        <td id=\"T_645a5474_2ba0_11ec_a18f_02420a397170row2_col0\" class=\"data row2 col0\" >Добавить форму подписки на все основные страницы, чтобы собрать базу клиентов для email-рассылок</td>\n",
       "                        <td id=\"T_645a5474_2ba0_11ec_a18f_02420a397170row2_col1\" class=\"data row2 col1\" >10</td>\n",
       "                        <td id=\"T_645a5474_2ba0_11ec_a18f_02420a397170row2_col2\" class=\"data row2 col2\" >7</td>\n",
       "                        <td id=\"T_645a5474_2ba0_11ec_a18f_02420a397170row2_col3\" class=\"data row2 col3\" >8</td>\n",
       "                        <td id=\"T_645a5474_2ba0_11ec_a18f_02420a397170row2_col4\" class=\"data row2 col4\" >5</td>\n",
       "                        <td id=\"T_645a5474_2ba0_11ec_a18f_02420a397170row2_col5\" class=\"data row2 col5\" >11.2</td>\n",
       "                        <td id=\"T_645a5474_2ba0_11ec_a18f_02420a397170row2_col6\" class=\"data row2 col6\" >112</td>\n",
       "            </tr>\n",
       "            <tr>\n",
       "                        <th id=\"T_645a5474_2ba0_11ec_a18f_02420a397170level0_row3\" class=\"row_heading level0 row3\" >6</th>\n",
       "                        <td id=\"T_645a5474_2ba0_11ec_a18f_02420a397170row3_col0\" class=\"data row3 col0\" >Показать на главной странице баннеры с актуальными акциями и распродажами, чтобы увеличить конверсию</td>\n",
       "                        <td id=\"T_645a5474_2ba0_11ec_a18f_02420a397170row3_col1\" class=\"data row3 col1\" >5</td>\n",
       "                        <td id=\"T_645a5474_2ba0_11ec_a18f_02420a397170row3_col2\" class=\"data row3 col2\" >3</td>\n",
       "                        <td id=\"T_645a5474_2ba0_11ec_a18f_02420a397170row3_col3\" class=\"data row3 col3\" >8</td>\n",
       "                        <td id=\"T_645a5474_2ba0_11ec_a18f_02420a397170row3_col4\" class=\"data row3 col4\" >3</td>\n",
       "                        <td id=\"T_645a5474_2ba0_11ec_a18f_02420a397170row3_col5\" class=\"data row3 col5\" >8</td>\n",
       "                        <td id=\"T_645a5474_2ba0_11ec_a18f_02420a397170row3_col6\" class=\"data row3 col6\" >40</td>\n",
       "            </tr>\n",
       "            <tr>\n",
       "                        <th id=\"T_645a5474_2ba0_11ec_a18f_02420a397170level0_row4\" class=\"row_heading level0 row4\" >2</th>\n",
       "                        <td id=\"T_645a5474_2ba0_11ec_a18f_02420a397170row4_col0\" class=\"data row4 col0\" >Добавить блоки рекомендаций товаров на сайт интернет магазина, чтобы повысить конверсию и средний чек заказа</td>\n",
       "                        <td id=\"T_645a5474_2ba0_11ec_a18f_02420a397170row4_col1\" class=\"data row4 col1\" >8</td>\n",
       "                        <td id=\"T_645a5474_2ba0_11ec_a18f_02420a397170row4_col2\" class=\"data row4 col2\" >3</td>\n",
       "                        <td id=\"T_645a5474_2ba0_11ec_a18f_02420a397170row4_col3\" class=\"data row4 col3\" >7</td>\n",
       "                        <td id=\"T_645a5474_2ba0_11ec_a18f_02420a397170row4_col4\" class=\"data row4 col4\" >3</td>\n",
       "                        <td id=\"T_645a5474_2ba0_11ec_a18f_02420a397170row4_col5\" class=\"data row4 col5\" >7</td>\n",
       "                        <td id=\"T_645a5474_2ba0_11ec_a18f_02420a397170row4_col6\" class=\"data row4 col6\" >56</td>\n",
       "            </tr>\n",
       "            <tr>\n",
       "                        <th id=\"T_645a5474_2ba0_11ec_a18f_02420a397170level0_row5\" class=\"row_heading level0 row5\" >1</th>\n",
       "                        <td id=\"T_645a5474_2ba0_11ec_a18f_02420a397170row5_col0\" class=\"data row5 col0\" >Запустить собственную службу доставки, что сократит срок доставки заказов</td>\n",
       "                        <td id=\"T_645a5474_2ba0_11ec_a18f_02420a397170row5_col1\" class=\"data row5 col1\" >2</td>\n",
       "                        <td id=\"T_645a5474_2ba0_11ec_a18f_02420a397170row5_col2\" class=\"data row5 col2\" >5</td>\n",
       "                        <td id=\"T_645a5474_2ba0_11ec_a18f_02420a397170row5_col3\" class=\"data row5 col3\" >4</td>\n",
       "                        <td id=\"T_645a5474_2ba0_11ec_a18f_02420a397170row5_col4\" class=\"data row5 col4\" >10</td>\n",
       "                        <td id=\"T_645a5474_2ba0_11ec_a18f_02420a397170row5_col5\" class=\"data row5 col5\" >2</td>\n",
       "                        <td id=\"T_645a5474_2ba0_11ec_a18f_02420a397170row5_col6\" class=\"data row5 col6\" >4</td>\n",
       "            </tr>\n",
       "            <tr>\n",
       "                        <th id=\"T_645a5474_2ba0_11ec_a18f_02420a397170level0_row6\" class=\"row_heading level0 row6\" >5</th>\n",
       "                        <td id=\"T_645a5474_2ba0_11ec_a18f_02420a397170row6_col0\" class=\"data row6 col0\" >Добавить страницу отзывов клиентов о магазине, что позволит увеличить количество заказов</td>\n",
       "                        <td id=\"T_645a5474_2ba0_11ec_a18f_02420a397170row6_col1\" class=\"data row6 col1\" >3</td>\n",
       "                        <td id=\"T_645a5474_2ba0_11ec_a18f_02420a397170row6_col2\" class=\"data row6 col2\" >2</td>\n",
       "                        <td id=\"T_645a5474_2ba0_11ec_a18f_02420a397170row6_col3\" class=\"data row6 col3\" >2</td>\n",
       "                        <td id=\"T_645a5474_2ba0_11ec_a18f_02420a397170row6_col4\" class=\"data row6 col4\" >3</td>\n",
       "                        <td id=\"T_645a5474_2ba0_11ec_a18f_02420a397170row6_col5\" class=\"data row6 col5\" >1.3</td>\n",
       "                        <td id=\"T_645a5474_2ba0_11ec_a18f_02420a397170row6_col6\" class=\"data row6 col6\" >4</td>\n",
       "            </tr>\n",
       "            <tr>\n",
       "                        <th id=\"T_645a5474_2ba0_11ec_a18f_02420a397170level0_row7\" class=\"row_heading level0 row7\" >3</th>\n",
       "                        <td id=\"T_645a5474_2ba0_11ec_a18f_02420a397170row7_col0\" class=\"data row7 col0\" >Изменить структура категорий, что увеличит конверсию, т.к. пользователи быстрее найдут нужный товар</td>\n",
       "                        <td id=\"T_645a5474_2ba0_11ec_a18f_02420a397170row7_col1\" class=\"data row7 col1\" >8</td>\n",
       "                        <td id=\"T_645a5474_2ba0_11ec_a18f_02420a397170row7_col2\" class=\"data row7 col2\" >3</td>\n",
       "                        <td id=\"T_645a5474_2ba0_11ec_a18f_02420a397170row7_col3\" class=\"data row7 col3\" >3</td>\n",
       "                        <td id=\"T_645a5474_2ba0_11ec_a18f_02420a397170row7_col4\" class=\"data row7 col4\" >8</td>\n",
       "                        <td id=\"T_645a5474_2ba0_11ec_a18f_02420a397170row7_col5\" class=\"data row7 col5\" >1.1</td>\n",
       "                        <td id=\"T_645a5474_2ba0_11ec_a18f_02420a397170row7_col6\" class=\"data row7 col6\" >9</td>\n",
       "            </tr>\n",
       "            <tr>\n",
       "                        <th id=\"T_645a5474_2ba0_11ec_a18f_02420a397170level0_row8\" class=\"row_heading level0 row8\" >4</th>\n",
       "                        <td id=\"T_645a5474_2ba0_11ec_a18f_02420a397170row8_col0\" class=\"data row8 col0\" >Изменить цвет фона главной страницы, чтобы увеличить вовлеченность пользователей</td>\n",
       "                        <td id=\"T_645a5474_2ba0_11ec_a18f_02420a397170row8_col1\" class=\"data row8 col1\" >3</td>\n",
       "                        <td id=\"T_645a5474_2ba0_11ec_a18f_02420a397170row8_col2\" class=\"data row8 col2\" >1</td>\n",
       "                        <td id=\"T_645a5474_2ba0_11ec_a18f_02420a397170row8_col3\" class=\"data row8 col3\" >1</td>\n",
       "                        <td id=\"T_645a5474_2ba0_11ec_a18f_02420a397170row8_col4\" class=\"data row8 col4\" >1</td>\n",
       "                        <td id=\"T_645a5474_2ba0_11ec_a18f_02420a397170row8_col5\" class=\"data row8 col5\" >1</td>\n",
       "                        <td id=\"T_645a5474_2ba0_11ec_a18f_02420a397170row8_col6\" class=\"data row8 col6\" >3</td>\n",
       "            </tr>\n",
       "    </tbody></table>"
      ],
      "text/plain": [
       "<pandas.io.formats.style.Styler at 0x7fe41924b890>"
      ]
     },
     "execution_count": 90,
     "metadata": {},
     "output_type": "execute_result"
    }
   ],
   "source": [
    "cm = sns.light_palette(\"green\", as_cmap=True)\n",
    "hypothesis.sort_values(by = 'ICE',ascending=False).style.background_gradient(subset=['ICE', 'RICE'], cmap=cm)"
   ]
  },
  {
   "cell_type": "markdown",
   "metadata": {
    "id": "0yn25kPYBqxn"
   },
   "source": [
    "### Выводы\n",
    "По ICE три самые приоритетные гипотезы:  \n",
    "* Запустить акцию, дающую скидку на товар в день рождения  \n",
    "* Добавить два новых канала привлечения трафика, что позволит привлекать на 30% больше пользователей  \n",
    "* Добавить форму подписки на все основные страницы, чтобы собрать базу клиентов для email-рассылок  \n",
    "\n",
    "По RICE самые приоритетные гипотезы:  \n",
    "* Добавить форму подписки на все основные страницы, чтобы собрать базу клиентов для email-рассылок  \n",
    "* Добавить блоки рекомендаций товаров на сайт интернет магазина, чтобы повысить конверсию и средний чек заказа  \n",
    "* Добавить два новых канала привлечения трафика, что позволит привлекать на 30% больше пользователей  \n",
    "* Показать на главной странице баннеры с актуальными акциями и распродажами, чтобы увеличить конверсию  \n",
    "*последние две гипотезы разделили третье место *italicized text*  \n",
    "\n",
    "Добавление формы подписки в RICE вышло на первое место с большим отрывом за счет максимального охвата пользователей, в ICE у гипотезы было 3-е место. В то же время у гипотезы о добавлении скидки на день рождения в ICE было первое место, а в RICE  лишь 5-е, при этом отрыв от 4-х более приоритетных гипотез достаточно существенный -- скидка на день рождения имеет очень малый охват пользователей."
   ]
  },
  {
   "cell_type": "markdown",
   "metadata": {
    "id": "ekeev9COC69y"
   },
   "source": [
    "## Анализ A/B-теста"
   ]
  },
  {
   "cell_type": "markdown",
   "metadata": {
    "id": "WM03pSR7Gbjt"
   },
   "source": [
    "###  График кумулятивной выручки по группам"
   ]
  },
  {
   "cell_type": "markdown",
   "metadata": {
    "id": "d3Tl7Bahqm1a"
   },
   "source": [
    "Создадим массив уникальных пар значений дат и групп теста \n"
   ]
  },
  {
   "cell_type": "code",
   "execution_count": 91,
   "metadata": {
    "id": "qOvcqLgPsWMe"
   },
   "outputs": [],
   "source": [
    "datesGroups = orders[['date','group']].drop_duplicates() "
   ]
  },
  {
   "cell_type": "code",
   "execution_count": 92,
   "metadata": {
    "colab": {
     "base_uri": "https://localhost:8080/",
     "height": 206
    },
    "id": "ZkgkdkwvsyI-",
    "outputId": "55c89d07-ab8f-44fc-b1f1-d44ba0aeaf3e"
   },
   "outputs": [
    {
     "data": {
      "text/html": [
       "<div>\n",
       "<style scoped>\n",
       "    .dataframe tbody tr th:only-of-type {\n",
       "        vertical-align: middle;\n",
       "    }\n",
       "\n",
       "    .dataframe tbody tr th {\n",
       "        vertical-align: top;\n",
       "    }\n",
       "\n",
       "    .dataframe thead th {\n",
       "        text-align: right;\n",
       "    }\n",
       "</style>\n",
       "<table border=\"1\" class=\"dataframe\">\n",
       "  <thead>\n",
       "    <tr style=\"text-align: right;\">\n",
       "      <th></th>\n",
       "      <th>date</th>\n",
       "      <th>group</th>\n",
       "    </tr>\n",
       "  </thead>\n",
       "  <tbody>\n",
       "    <tr>\n",
       "      <td>0</td>\n",
       "      <td>2019-08-15</td>\n",
       "      <td>B</td>\n",
       "    </tr>\n",
       "    <tr>\n",
       "      <td>6</td>\n",
       "      <td>2019-08-15</td>\n",
       "      <td>A</td>\n",
       "    </tr>\n",
       "    <tr>\n",
       "      <td>35</td>\n",
       "      <td>2019-08-16</td>\n",
       "      <td>A</td>\n",
       "    </tr>\n",
       "    <tr>\n",
       "      <td>37</td>\n",
       "      <td>2019-08-16</td>\n",
       "      <td>B</td>\n",
       "    </tr>\n",
       "    <tr>\n",
       "      <td>45</td>\n",
       "      <td>2019-08-01</td>\n",
       "      <td>A</td>\n",
       "    </tr>\n",
       "  </tbody>\n",
       "</table>\n",
       "</div>"
      ],
      "text/plain": [
       "         date group\n",
       "0  2019-08-15     B\n",
       "6  2019-08-15     A\n",
       "35 2019-08-16     A\n",
       "37 2019-08-16     B\n",
       "45 2019-08-01     A"
      ]
     },
     "execution_count": 92,
     "metadata": {},
     "output_type": "execute_result"
    }
   ],
   "source": [
    "datesGroups.head()"
   ]
  },
  {
   "cell_type": "markdown",
   "metadata": {
    "id": "Oq_mTszZu1ni"
   },
   "source": [
    "Получим агрегированные кумулятивные по дням данные о заказах"
   ]
  },
  {
   "cell_type": "code",
   "execution_count": 93,
   "metadata": {
    "id": "J4qm6GX5szbI"
   },
   "outputs": [],
   "source": [
    "ordersAggregated = datesGroups.apply(lambda x: orders[np.logical_and(orders['date'] <= x['date'], orders['group'] == x['group'])]\\\n",
    ".agg({'date' : 'max', 'group' : 'max', 'transactionid' : pd.Series.nunique, 'visitorid' : pd.Series.nunique, 'revenue' : 'sum'}), axis=1).sort_values(by=['date','group'])"
   ]
  },
  {
   "cell_type": "code",
   "execution_count": 94,
   "metadata": {
    "colab": {
     "base_uri": "https://localhost:8080/",
     "height": 206
    },
    "id": "VD0_tNPoucdS",
    "outputId": "4db4be39-621c-49b6-8a8b-b4c0a2de5c05"
   },
   "outputs": [
    {
     "data": {
      "text/html": [
       "<div>\n",
       "<style scoped>\n",
       "    .dataframe tbody tr th:only-of-type {\n",
       "        vertical-align: middle;\n",
       "    }\n",
       "\n",
       "    .dataframe tbody tr th {\n",
       "        vertical-align: top;\n",
       "    }\n",
       "\n",
       "    .dataframe thead th {\n",
       "        text-align: right;\n",
       "    }\n",
       "</style>\n",
       "<table border=\"1\" class=\"dataframe\">\n",
       "  <thead>\n",
       "    <tr style=\"text-align: right;\">\n",
       "      <th></th>\n",
       "      <th>date</th>\n",
       "      <th>group</th>\n",
       "      <th>transactionid</th>\n",
       "      <th>visitorid</th>\n",
       "      <th>revenue</th>\n",
       "    </tr>\n",
       "  </thead>\n",
       "  <tbody>\n",
       "    <tr>\n",
       "      <td>45</td>\n",
       "      <td>2019-08-01</td>\n",
       "      <td>A</td>\n",
       "      <td>23</td>\n",
       "      <td>19</td>\n",
       "      <td>142779</td>\n",
       "    </tr>\n",
       "    <tr>\n",
       "      <td>54</td>\n",
       "      <td>2019-08-01</td>\n",
       "      <td>B</td>\n",
       "      <td>17</td>\n",
       "      <td>17</td>\n",
       "      <td>59758</td>\n",
       "    </tr>\n",
       "    <tr>\n",
       "      <td>149</td>\n",
       "      <td>2019-08-02</td>\n",
       "      <td>A</td>\n",
       "      <td>42</td>\n",
       "      <td>36</td>\n",
       "      <td>234381</td>\n",
       "    </tr>\n",
       "    <tr>\n",
       "      <td>147</td>\n",
       "      <td>2019-08-02</td>\n",
       "      <td>B</td>\n",
       "      <td>40</td>\n",
       "      <td>39</td>\n",
       "      <td>221801</td>\n",
       "    </tr>\n",
       "    <tr>\n",
       "      <td>245</td>\n",
       "      <td>2019-08-03</td>\n",
       "      <td>A</td>\n",
       "      <td>66</td>\n",
       "      <td>60</td>\n",
       "      <td>346854</td>\n",
       "    </tr>\n",
       "  </tbody>\n",
       "</table>\n",
       "</div>"
      ],
      "text/plain": [
       "          date group  transactionid  visitorid  revenue\n",
       "45  2019-08-01     A             23         19   142779\n",
       "54  2019-08-01     B             17         17    59758\n",
       "149 2019-08-02     A             42         36   234381\n",
       "147 2019-08-02     B             40         39   221801\n",
       "245 2019-08-03     A             66         60   346854"
      ]
     },
     "execution_count": 94,
     "metadata": {},
     "output_type": "execute_result"
    }
   ],
   "source": [
    "ordersAggregated.head()"
   ]
  },
  {
   "cell_type": "markdown",
   "metadata": {
    "id": "87h9cpajvYZf"
   },
   "source": [
    "Получим агрегированные кумулятивные по дням данные о посетителях интернет-магазина"
   ]
  },
  {
   "cell_type": "code",
   "execution_count": 95,
   "metadata": {
    "id": "xxanhNwXujR_"
   },
   "outputs": [],
   "source": [
    "visitorsAggregated = datesGroups.apply(lambda x: visitors[np.logical_and(visitors['date'] <= x['date'], visitors['group'] == x['group'])].agg({'date' : 'max', 'group' : 'max', 'visitors' : 'sum'}), axis=1).sort_values(by=['date','group'])"
   ]
  },
  {
   "cell_type": "code",
   "execution_count": 96,
   "metadata": {
    "colab": {
     "base_uri": "https://localhost:8080/",
     "height": 206
    },
    "id": "cwZFUoATvEjD",
    "outputId": "19e09cce-d641-4edc-d362-69cd1d53c243"
   },
   "outputs": [
    {
     "data": {
      "text/html": [
       "<div>\n",
       "<style scoped>\n",
       "    .dataframe tbody tr th:only-of-type {\n",
       "        vertical-align: middle;\n",
       "    }\n",
       "\n",
       "    .dataframe tbody tr th {\n",
       "        vertical-align: top;\n",
       "    }\n",
       "\n",
       "    .dataframe thead th {\n",
       "        text-align: right;\n",
       "    }\n",
       "</style>\n",
       "<table border=\"1\" class=\"dataframe\">\n",
       "  <thead>\n",
       "    <tr style=\"text-align: right;\">\n",
       "      <th></th>\n",
       "      <th>date</th>\n",
       "      <th>group</th>\n",
       "      <th>visitors</th>\n",
       "    </tr>\n",
       "  </thead>\n",
       "  <tbody>\n",
       "    <tr>\n",
       "      <td>45</td>\n",
       "      <td>2019-08-01</td>\n",
       "      <td>A</td>\n",
       "      <td>719</td>\n",
       "    </tr>\n",
       "    <tr>\n",
       "      <td>54</td>\n",
       "      <td>2019-08-01</td>\n",
       "      <td>B</td>\n",
       "      <td>713</td>\n",
       "    </tr>\n",
       "    <tr>\n",
       "      <td>149</td>\n",
       "      <td>2019-08-02</td>\n",
       "      <td>A</td>\n",
       "      <td>1338</td>\n",
       "    </tr>\n",
       "    <tr>\n",
       "      <td>147</td>\n",
       "      <td>2019-08-02</td>\n",
       "      <td>B</td>\n",
       "      <td>1294</td>\n",
       "    </tr>\n",
       "    <tr>\n",
       "      <td>245</td>\n",
       "      <td>2019-08-03</td>\n",
       "      <td>A</td>\n",
       "      <td>1845</td>\n",
       "    </tr>\n",
       "  </tbody>\n",
       "</table>\n",
       "</div>"
      ],
      "text/plain": [
       "          date group  visitors\n",
       "45  2019-08-01     A       719\n",
       "54  2019-08-01     B       713\n",
       "149 2019-08-02     A      1338\n",
       "147 2019-08-02     B      1294\n",
       "245 2019-08-03     A      1845"
      ]
     },
     "execution_count": 96,
     "metadata": {},
     "output_type": "execute_result"
    }
   ],
   "source": [
    "visitorsAggregated.head()"
   ]
  },
  {
   "cell_type": "markdown",
   "metadata": {
    "id": "Hb-WkGJkvKgW"
   },
   "source": [
    "Объединим полученные данные в одну таблицу"
   ]
  },
  {
   "cell_type": "code",
   "execution_count": 97,
   "metadata": {
    "id": "41scOIVcv-8T"
   },
   "outputs": [],
   "source": [
    "cumulativeData = ordersAggregated.merge(visitorsAggregated, left_on=['date', 'group'], right_on=['date', 'group'])\n",
    "cumulativeData.columns = ['date', 'group', 'orders', 'buyers', 'revenue', 'visitors']"
   ]
  },
  {
   "cell_type": "code",
   "execution_count": 98,
   "metadata": {
    "colab": {
     "base_uri": "https://localhost:8080/",
     "height": 206
    },
    "id": "UubLHBU-wEma",
    "outputId": "d07c76da-883e-4503-d160-a9762c986ca2"
   },
   "outputs": [
    {
     "data": {
      "text/html": [
       "<div>\n",
       "<style scoped>\n",
       "    .dataframe tbody tr th:only-of-type {\n",
       "        vertical-align: middle;\n",
       "    }\n",
       "\n",
       "    .dataframe tbody tr th {\n",
       "        vertical-align: top;\n",
       "    }\n",
       "\n",
       "    .dataframe thead th {\n",
       "        text-align: right;\n",
       "    }\n",
       "</style>\n",
       "<table border=\"1\" class=\"dataframe\">\n",
       "  <thead>\n",
       "    <tr style=\"text-align: right;\">\n",
       "      <th></th>\n",
       "      <th>date</th>\n",
       "      <th>group</th>\n",
       "      <th>orders</th>\n",
       "      <th>buyers</th>\n",
       "      <th>revenue</th>\n",
       "      <th>visitors</th>\n",
       "    </tr>\n",
       "  </thead>\n",
       "  <tbody>\n",
       "    <tr>\n",
       "      <td>0</td>\n",
       "      <td>2019-08-01</td>\n",
       "      <td>A</td>\n",
       "      <td>23</td>\n",
       "      <td>19</td>\n",
       "      <td>142779</td>\n",
       "      <td>719</td>\n",
       "    </tr>\n",
       "    <tr>\n",
       "      <td>1</td>\n",
       "      <td>2019-08-01</td>\n",
       "      <td>B</td>\n",
       "      <td>17</td>\n",
       "      <td>17</td>\n",
       "      <td>59758</td>\n",
       "      <td>713</td>\n",
       "    </tr>\n",
       "    <tr>\n",
       "      <td>2</td>\n",
       "      <td>2019-08-02</td>\n",
       "      <td>A</td>\n",
       "      <td>42</td>\n",
       "      <td>36</td>\n",
       "      <td>234381</td>\n",
       "      <td>1338</td>\n",
       "    </tr>\n",
       "    <tr>\n",
       "      <td>3</td>\n",
       "      <td>2019-08-02</td>\n",
       "      <td>B</td>\n",
       "      <td>40</td>\n",
       "      <td>39</td>\n",
       "      <td>221801</td>\n",
       "      <td>1294</td>\n",
       "    </tr>\n",
       "    <tr>\n",
       "      <td>4</td>\n",
       "      <td>2019-08-03</td>\n",
       "      <td>A</td>\n",
       "      <td>66</td>\n",
       "      <td>60</td>\n",
       "      <td>346854</td>\n",
       "      <td>1845</td>\n",
       "    </tr>\n",
       "  </tbody>\n",
       "</table>\n",
       "</div>"
      ],
      "text/plain": [
       "        date group  orders  buyers  revenue  visitors\n",
       "0 2019-08-01     A      23      19   142779       719\n",
       "1 2019-08-01     B      17      17    59758       713\n",
       "2 2019-08-02     A      42      36   234381      1338\n",
       "3 2019-08-02     B      40      39   221801      1294\n",
       "4 2019-08-03     A      66      60   346854      1845"
      ]
     },
     "execution_count": 98,
     "metadata": {},
     "output_type": "execute_result"
    }
   ],
   "source": [
    "cumulativeData.head(5)"
   ]
  },
  {
   "cell_type": "markdown",
   "metadata": {
    "id": "fm46ecBFwGTL"
   },
   "source": [
    "Построим графики кумулятивной выручки по дням и группам A/B-тестирования"
   ]
  },
  {
   "cell_type": "code",
   "execution_count": 99,
   "metadata": {
    "colab": {
     "base_uri": "https://localhost:8080/",
     "height": 281
    },
    "id": "5NoQihJqwLp5",
    "outputId": "1f445b08-1a50-43a3-80e3-feeebe6dd369"
   },
   "outputs": [
    {
     "data": {
      "image/png": "[encoded data removed]",
      "text/plain": [
       "<Figure size 432x288 with 1 Axes>"
      ]
     },
     "metadata": {
      "needs_background": "light"
     },
     "output_type": "display_data"
    }
   ],
   "source": [
    "# датафрейм с кумулятивным количеством заказов и кумулятивной выручкой по дням в группе А\n",
    "cumulativeRevenueA = cumulativeData[cumulativeData['group']=='A'][['date','revenue', 'orders']]\n",
    "\n",
    "# датафрейм с кумулятивным количеством заказов и кумулятивной выручкой по дням в группе B\n",
    "cumulativeRevenueB = cumulativeData[cumulativeData['group']=='B'][['date','revenue', 'orders']]\n",
    "\n",
    "# Строим график выручки группы А\n",
    "plt.plot(cumulativeRevenueA['date'], cumulativeRevenueA['revenue'], label='A')\n",
    "\n",
    "# Строим график выручки группы B\n",
    "plt.plot(cumulativeRevenueB['date'], cumulativeRevenueB['revenue'], label='B')\n",
    "plt.title('Кумулятивная выручка по группам')\n",
    "plt.xticks(rotation=60)\n",
    "plt.xlabel('Дата')\n",
    "plt.ylabel('Выручка')\n",
    "plt.legend()\n",
    "plt.annotate('скачок', xy=('2019-08-17', 2800000), xytext=('2019-08-10', 3500000),\n",
    "            arrowprops=dict(facecolor='g'))\n",
    "plt.annotate('отрыв', xy=('2019-08-05', 800000), xytext=('2019-08-05', 2000000),\n",
    "            arrowprops=dict(facecolor='g')) \n",
    "plt.show()"
   ]
  },
  {
   "cell_type": "markdown",
   "metadata": {
    "id": "XZ5QGi4Wwdkh"
   },
   "source": [
    "Наблюдается постоянный рост выручки. Выручка группы B превышает выручку группы А практически на всем периоде теста. Также в данных группы  B наблюдается резкий скачок выручки в один из дней - вероятно, это последствие очень крупного заказа."
   ]
  },
  {
   "cell_type": "markdown",
   "metadata": {
    "id": "UFI8uFgWxsMC"
   },
   "source": [
    "### График кумулятивного среднего чека по группам"
   ]
  },
  {
   "cell_type": "code",
   "execution_count": 100,
   "metadata": {
    "colab": {
     "base_uri": "https://localhost:8080/",
     "height": 281
    },
    "id": "MRfRw1FxxxL3",
    "outputId": "619df7f4-b304-46dd-df9a-4c54f93986c8"
   },
   "outputs": [
    {
     "data": {
      "image/png": "[encoded data removed]",
      "text/plain": [
       "<Figure size 432x288 with 1 Axes>"
      ]
     },
     "metadata": {
      "needs_background": "light"
     },
     "output_type": "display_data"
    }
   ],
   "source": [
    "plt.plot(cumulativeRevenueA['date'], cumulativeRevenueA['revenue']/cumulativeRevenueA['orders'], label='A')\n",
    "plt.plot(cumulativeRevenueB['date'], cumulativeRevenueB['revenue']/cumulativeRevenueB['orders'], label='B')\n",
    "plt.legend() \n",
    "plt.title('Кумулятивный средний  чек по группам')\n",
    "plt.xlabel('Дата')\n",
    "plt.ylabel('Кумулятивный средний чек')\n",
    "plt.xticks(rotation=60)\n",
    "plt.show()"
   ]
  },
  {
   "cell_type": "markdown",
   "metadata": {
    "id": "YPasa3GxyRkj"
   },
   "source": [
    "Исходя из графика нельзя с уверенностью сказать, в какой группе средний чек был больше -лидировала то одна, то другая группа. На последней трети графика лидирует группа B, однако это скорее последствие выброса - без него скорее всего средний чек был бы чуть выше у группы A. Для группы а в конце периода наблюдается рост, а у группы B - падение."
   ]
  },
  {
   "cell_type": "markdown",
   "metadata": {
    "id": "x3RS_Yluzuub"
   },
   "source": [
    "### График относительного изменения кумулятивного среднего чека группы B к группе A"
   ]
  },
  {
   "cell_type": "markdown",
   "metadata": {
    "id": "uHVEyjh6z0qp"
   },
   "source": [
    "Соберем данные по группам в одном датафрейме"
   ]
  },
  {
   "cell_type": "code",
   "execution_count": 101,
   "metadata": {
    "id": "WslZkGpe3ApN"
   },
   "outputs": [],
   "source": [
    "mergedCumulativeRevenue = cumulativeRevenueA.merge(cumulativeRevenueB, left_on='date', right_on='date', how='left', suffixes=['A', 'B'])"
   ]
  },
  {
   "cell_type": "code",
   "execution_count": 102,
   "metadata": {
    "colab": {
     "base_uri": "https://localhost:8080/",
     "height": 281
    },
    "id": "-5pTdSkb3KwU",
    "outputId": "b11c5293-79bb-4059-aa18-ec7db1810d85"
   },
   "outputs": [
    {
     "data": {
      "image/png": "[encoded data removed]",
      "text/plain": [
       "<Figure size 432x288 with 1 Axes>"
      ]
     },
     "metadata": {
      "needs_background": "light"
     },
     "output_type": "display_data"
    }
   ],
   "source": [
    "plt.plot(mergedCumulativeRevenue['date'], (mergedCumulativeRevenue['revenueB']/mergedCumulativeRevenue['ordersB'])/(mergedCumulativeRevenue['revenueA']/mergedCumulativeRevenue['ordersA'])-1)\n",
    "plt.axhline(y=0, color='black', linestyle='--') \n",
    "plt.title('Относительное изменение кумулятивного среднего чека группы B к группе A')\n",
    "plt.xlabel('Дата')\n",
    "plt.ylabel('Кумулятивный средний чек группы B к A')\n",
    "plt.xticks(rotation=60)\n",
    "plt.show()"
   ]
  },
  {
   "cell_type": "markdown",
   "metadata": {
    "id": "xAKhUoCA3NMe"
   },
   "source": [
    "На графике наблюдаются резкие скачки, вероятно в результате выбросов. "
   ]
  },
  {
   "cell_type": "markdown",
   "metadata": {
    "id": "V0IRob9O5Acn"
   },
   "source": [
    "### График кумулятивной конверсии по группам"
   ]
  },
  {
   "cell_type": "markdown",
   "metadata": {
    "id": "E6ze853x7EJ0"
   },
   "source": [
    "считаем кумулятивную конверсию"
   ]
  },
  {
   "cell_type": "code",
   "execution_count": 103,
   "metadata": {
    "id": "QqigENzK6kE8"
   },
   "outputs": [],
   "source": [
    "cumulativeData['conversion'] = cumulativeData['orders']/cumulativeData['visitors']"
   ]
  },
  {
   "cell_type": "code",
   "execution_count": 104,
   "metadata": {
    "id": "XWHWLCab8h2A"
   },
   "outputs": [],
   "source": [
    "cumulativeData['date'] = cumulativeData['date'].astype('str')"
   ]
  },
  {
   "cell_type": "markdown",
   "metadata": {
    "id": "KVeHNRl07I0t"
   },
   "source": [
    "отделяем данные по группам"
   ]
  },
  {
   "cell_type": "code",
   "execution_count": 105,
   "metadata": {
    "id": "vWCsR0hE7Ju8"
   },
   "outputs": [],
   "source": [
    "cumulativeDataA = cumulativeData[cumulativeData['group']=='A']\n",
    "\n",
    "cumulativeDataB = cumulativeData[cumulativeData['group']=='B']\n"
   ]
  },
  {
   "cell_type": "markdown",
   "metadata": {
    "id": "AaEIIzwz7TaW"
   },
   "source": [
    "строим графики"
   ]
  },
  {
   "cell_type": "code",
   "execution_count": 106,
   "metadata": {
    "colab": {
     "base_uri": "https://localhost:8080/",
     "height": 35
    },
    "id": "QJI4LsRl7eDc",
    "outputId": "8b29f6b2-79e9-4cd8-f266-666ccd07e1ca"
   },
   "outputs": [
    {
     "data": {
      "text/plain": [
       "'2019-08-01'"
      ]
     },
     "execution_count": 106,
     "metadata": {},
     "output_type": "execute_result"
    }
   ],
   "source": [
    "cumulativeData['date'].min()"
   ]
  },
  {
   "cell_type": "code",
   "execution_count": 107,
   "metadata": {
    "colab": {
     "base_uri": "https://localhost:8080/",
     "height": 35
    },
    "id": "QJsu8geT7iRj",
    "outputId": "1e637710-d480-49bd-82ba-a99693b9a849"
   },
   "outputs": [
    {
     "data": {
      "text/plain": [
       "'2019-08-31'"
      ]
     },
     "execution_count": 107,
     "metadata": {},
     "output_type": "execute_result"
    }
   ],
   "source": [
    "cumulativeData['date'].max()"
   ]
  },
  {
   "cell_type": "code",
   "execution_count": 108,
   "metadata": {
    "colab": {
     "base_uri": "https://localhost:8080/",
     "height": 299
    },
    "id": "F5axWEyA7SYI",
    "outputId": "f662c7a7-1611-4cd4-cb0f-622b278129f7"
   },
   "outputs": [
    {
     "data": {
      "image/png": "[encoded data removed]",
      "text/plain": [
       "<Figure size 432x288 with 1 Axes>"
      ]
     },
     "metadata": {
      "needs_background": "light"
     },
     "output_type": "display_data"
    }
   ],
   "source": [
    "plt.plot(cumulativeDataA['date'], cumulativeDataA['conversion'], label='A')\n",
    "plt.plot(cumulativeDataB['date'], cumulativeDataB['conversion'], label='B')\n",
    "plt.legend()\n",
    "plt.xticks(rotation=90)\n",
    "plt.title('Кумулятивная конверсия по группам')\n",
    "plt.xlabel('Дата')\n",
    "plt.ylabel('Кумулятивная конверсия')\n",
    "# задаем масштаб осей\n",
    "plt.axis(['2019-08-01', '2019-08-31', 0.02, 0.045]) \n",
    "plt.show()"
   ]
  },
  {
   "cell_type": "markdown",
   "metadata": {
    "id": "YHJUnZ9j8b5V"
   },
   "source": [
    "Показатели конверсии достаточно быстро установились для обеих групп, притом для группы B конверсия была стабильно выше."
   ]
  },
  {
   "cell_type": "markdown",
   "metadata": {
    "id": "J9Ss0Nne_TVH"
   },
   "source": [
    "### График относительного изменения кумулятивной конверсии группы B к группе A"
   ]
  },
  {
   "cell_type": "code",
   "execution_count": 109,
   "metadata": {
    "colab": {
     "base_uri": "https://localhost:8080/",
     "height": 287
    },
    "id": "rzYWL9it_aAK",
    "outputId": "9372a7ad-e58c-4b17-fb31-b527eacb8555"
   },
   "outputs": [
    {
     "data": {
      "image/png": "[encoded data removed]",
      "text/plain": [
       "<Figure size 432x288 with 1 Axes>"
      ]
     },
     "metadata": {
      "needs_background": "light"
     },
     "output_type": "display_data"
    }
   ],
   "source": [
    "mergedCumulativeConversions = cumulativeDataA[['date','conversion']].merge(cumulativeDataB[['date','conversion']], left_on='date', right_on='date', how='left', suffixes=['A', 'B'])\n",
    "\n",
    "plt.plot(mergedCumulativeConversions['date'], mergedCumulativeConversions['conversionB']/mergedCumulativeConversions['conversionA']-1)\n",
    "plt.title('Относительный прирост конверсии группы B относительно группы A')\n",
    "plt.xlabel('Дата')\n",
    "plt.ylabel('Относительный прирост конверсии')\n",
    "plt.xticks(rotation=90)\n",
    "plt.axhline(y=0, color='black', linestyle='--')\n",
    "plt.axhline(y=0.1, color='grey', linestyle='--')\n",
    "plt.axis(['2019-08-01', '2019-08-31', -0.2, 0.4]) \n",
    "plt.show()"
   ]
  },
  {
   "cell_type": "markdown",
   "metadata": {
    "id": "9RJXUeyP_vIM"
   },
   "source": [
    "В начале теста конверсия группы B была немного меньше чем в группе А, однако затем конверсия в группе B выросла и была стабильно больше, чем в группе A, приблизительно на 10%"
   ]
  },
  {
   "cell_type": "markdown",
   "metadata": {
    "id": "F71cj7yuCI83"
   },
   "source": [
    "### График количества заказов по пользователям"
   ]
  },
  {
   "cell_type": "code",
   "execution_count": 110,
   "metadata": {
    "id": "m5WgWpddHSiE"
   },
   "outputs": [],
   "source": [
    "ordersByUsers = (\n",
    "    orders.drop(['group', 'revenue', 'date'], axis=1)\n",
    "    .groupby('visitorid', as_index=False)\n",
    "    .agg({'transactionid': pd.Series.nunique})\n",
    ")\n",
    "ordersByUsers.columns = ['visitorid', 'orders']"
   ]
  },
  {
   "cell_type": "code",
   "execution_count": 111,
   "metadata": {
    "colab": {
     "base_uri": "https://localhost:8080/",
     "height": 363
    },
    "id": "a78jR79fIDKF",
    "outputId": "5762dac1-cbcb-4266-f58b-b2987437ac1b"
   },
   "outputs": [
    {
     "data": {
      "text/html": [
       "<div>\n",
       "<style scoped>\n",
       "    .dataframe tbody tr th:only-of-type {\n",
       "        vertical-align: middle;\n",
       "    }\n",
       "\n",
       "    .dataframe tbody tr th {\n",
       "        vertical-align: top;\n",
       "    }\n",
       "\n",
       "    .dataframe thead th {\n",
       "        text-align: right;\n",
       "    }\n",
       "</style>\n",
       "<table border=\"1\" class=\"dataframe\">\n",
       "  <thead>\n",
       "    <tr style=\"text-align: right;\">\n",
       "      <th></th>\n",
       "      <th>visitorid</th>\n",
       "      <th>orders</th>\n",
       "    </tr>\n",
       "  </thead>\n",
       "  <tbody>\n",
       "    <tr>\n",
       "      <td>908</td>\n",
       "      <td>3967698036</td>\n",
       "      <td>3</td>\n",
       "    </tr>\n",
       "    <tr>\n",
       "      <td>55</td>\n",
       "      <td>249864742</td>\n",
       "      <td>3</td>\n",
       "    </tr>\n",
       "    <tr>\n",
       "      <td>478</td>\n",
       "      <td>2108163459</td>\n",
       "      <td>3</td>\n",
       "    </tr>\n",
       "    <tr>\n",
       "      <td>687</td>\n",
       "      <td>2988190573</td>\n",
       "      <td>3</td>\n",
       "    </tr>\n",
       "    <tr>\n",
       "      <td>890</td>\n",
       "      <td>3908431265</td>\n",
       "      <td>3</td>\n",
       "    </tr>\n",
       "    <tr>\n",
       "      <td>138</td>\n",
       "      <td>611059232</td>\n",
       "      <td>3</td>\n",
       "    </tr>\n",
       "    <tr>\n",
       "      <td>632</td>\n",
       "      <td>2742574263</td>\n",
       "      <td>3</td>\n",
       "    </tr>\n",
       "    <tr>\n",
       "      <td>157</td>\n",
       "      <td>678354126</td>\n",
       "      <td>2</td>\n",
       "    </tr>\n",
       "    <tr>\n",
       "      <td>323</td>\n",
       "      <td>1404560065</td>\n",
       "      <td>2</td>\n",
       "    </tr>\n",
       "    <tr>\n",
       "      <td>452</td>\n",
       "      <td>1985475298</td>\n",
       "      <td>2</td>\n",
       "    </tr>\n",
       "  </tbody>\n",
       "</table>\n",
       "</div>"
      ],
      "text/plain": [
       "      visitorid  orders\n",
       "908  3967698036       3\n",
       "55    249864742       3\n",
       "478  2108163459       3\n",
       "687  2988190573       3\n",
       "890  3908431265       3\n",
       "138   611059232       3\n",
       "632  2742574263       3\n",
       "157   678354126       2\n",
       "323  1404560065       2\n",
       "452  1985475298       2"
      ]
     },
     "execution_count": 111,
     "metadata": {},
     "output_type": "execute_result"
    }
   ],
   "source": [
    "ordersByUsers.sort_values(by='orders', ascending=False).head(10)"
   ]
  },
  {
   "cell_type": "code",
   "execution_count": 112,
   "metadata": {
    "colab": {
     "base_uri": "https://localhost:8080/",
     "height": 265
    },
    "id": "HsPU7Q5JId2B",
    "outputId": "971df19a-ff8f-4b6e-f648-7dff5d2e10b9"
   },
   "outputs": [
    {
     "data": {
      "image/png": "[encoded data removed]",
      "text/plain": [
       "<Figure size 432x288 with 1 Axes>"
      ]
     },
     "metadata": {
      "needs_background": "light"
     },
     "output_type": "display_data"
    }
   ],
   "source": [
    "x_values = pd.Series(range(0,len(ordersByUsers)))\n",
    "\n",
    "plt.scatter(x_values, ordersByUsers['orders'])\n",
    "plt.title('Распределение количества заказов по пользователям')\n",
    "plt.xlabel('Пользователи')\n",
    "plt.ylabel('Количество заказов');"
   ]
  },
  {
   "cell_type": "markdown",
   "metadata": {
    "id": "8vNaVTWrIn3f"
   },
   "source": [
    "Судя по графику пользователи редко делали больше 2-х заказов"
   ]
  },
  {
   "cell_type": "markdown",
   "metadata": {
    "id": "dMXbx4syJkPB"
   },
   "source": [
    "Посчитаем 95й и 99й процентили"
   ]
  },
  {
   "cell_type": "code",
   "execution_count": 113,
   "metadata": {
    "colab": {
     "base_uri": "https://localhost:8080/"
    },
    "id": "ut2UyQG5Jpt4",
    "outputId": "818cad64-de54-46e5-ec01-ec79306d1c6b"
   },
   "outputs": [
    {
     "data": {
      "text/plain": [
       "array([1., 2.])"
      ]
     },
     "execution_count": 113,
     "metadata": {},
     "output_type": "execute_result"
    }
   ],
   "source": [
    "np.percentile(ordersByUsers['orders'], [95, 99])"
   ]
  },
  {
   "cell_type": "markdown",
   "metadata": {
    "id": "mop-B3PRKAr_"
   },
   "source": [
    "Аномальными значениями можно считать 3 и более заказов"
   ]
  },
  {
   "cell_type": "markdown",
   "metadata": {
    "id": "jAulJIvOG3bm"
   },
   "source": [
    "### График стоимостей заказов"
   ]
  },
  {
   "cell_type": "code",
   "execution_count": 114,
   "metadata": {
    "id": "z93Z7Dr-D6JH"
   },
   "outputs": [],
   "source": [
    "pd.set_option('display.float_format', lambda x: '%.3f' % x)"
   ]
  },
  {
   "cell_type": "code",
   "execution_count": 115,
   "metadata": {
    "colab": {
     "base_uri": "https://localhost:8080/",
     "height": 276
    },
    "id": "z-sf3yDZCdwb",
    "outputId": "34abfebd-927b-439b-c318-2ccf450fa663"
   },
   "outputs": [
    {
     "data": {
      "image/png": "[encoded data removed]",
      "text/plain": [
       "<Figure size 432x288 with 1 Axes>"
      ]
     },
     "metadata": {
      "needs_background": "light"
     },
     "output_type": "display_data"
    }
   ],
   "source": [
    "x_values = pd.Series(range(0,len(orders['revenue'])))\n",
    "plt.scatter(x_values, orders['revenue']) ;\n",
    "plt.title('Распределение стоимости заказов по пользователям')\n",
    "plt.xlabel('Пользователи')\n",
    "plt.ylabel('Стоимость заказа');"
   ]
  },
  {
   "cell_type": "markdown",
   "metadata": {
    "id": "PeQIpFlRFMvv"
   },
   "source": [
    "На графике виден один заказ с суммой более 1,2 млн, также есть один явный выброс в районе 200 тысяч"
   ]
  },
  {
   "cell_type": "markdown",
   "metadata": {
    "id": "Gw4NanGgGirk"
   },
   "source": [
    "Посчитаем 95й и 99й процентили\n"
   ]
  },
  {
   "cell_type": "code",
   "execution_count": 116,
   "metadata": {
    "colab": {
     "base_uri": "https://localhost:8080/"
    },
    "id": "FTw5MaYCDpn7",
    "outputId": "52d3d9c2-3d4e-4487-e88f-85ad2415457e"
   },
   "outputs": [
    {
     "data": {
      "text/plain": [
       "array([26785., 53904.])"
      ]
     },
     "execution_count": 116,
     "metadata": {},
     "output_type": "execute_result"
    }
   ],
   "source": [
    "np.percentile(orders['revenue'], [95, 99])"
   ]
  },
  {
   "cell_type": "markdown",
   "metadata": {
    "id": "PVCyxbtqGMvR"
   },
   "source": [
    "В качестве границы аномальных значений целесообразно принять 28000"
   ]
  },
  {
   "cell_type": "markdown",
   "metadata": {
    "id": "lA1aAhRwHAdh"
   },
   "source": [
    "### Cчитаем статистическую значимость различий в конверсии между группами по «сырым» данным"
   ]
  },
  {
   "cell_type": "markdown",
   "metadata": {},
   "source": [
    "Посчитаем кумулятивное количество пользователей по дням"
   ]
  },
  {
   "cell_type": "code",
   "execution_count": 117,
   "metadata": {
    "id": "kKaR2e_1I8UR"
   },
   "outputs": [],
   "source": [
    "visitorsADaily = visitors[visitors['group'] == 'A'][['date', 'visitors']]\n",
    "visitorsADaily.columns = ['date', 'visitorsPerDateA']\n",
    "\n",
    "visitorsACummulative = visitorsADaily.apply(\n",
    "    lambda x: visitorsADaily[visitorsADaily['date'] <= x['date']].agg(\n",
    "        {'date': 'max', 'visitorsPerDateA': 'sum'}\n",
    "    ),\n",
    "    axis=1,\n",
    ")\n",
    "visitorsACummulative.columns = ['date', 'visitorsCummulativeA']"
   ]
  },
  {
   "cell_type": "code",
   "execution_count": 118,
   "metadata": {
    "id": "RlH2mFu_MhWy"
   },
   "outputs": [],
   "source": [
    "visitorsBDaily = visitors[visitors['group'] == 'B'][['date', 'visitors']]\n",
    "visitorsBDaily.columns = ['date', 'visitorsPerDateB']\n",
    "\n",
    "visitorsBCummulative = visitorsBDaily.apply(\n",
    "    lambda x: visitorsBDaily[visitorsBDaily['date'] <= x['date']].agg(\n",
    "        {'date': 'max', 'visitorsPerDateB': 'sum'}\n",
    "    ),\n",
    "    axis=1,\n",
    ")\n",
    "visitorsBCummulative.columns = ['date', 'visitorsCummulativeB']"
   ]
  },
  {
   "cell_type": "markdown",
   "metadata": {},
   "source": [
    "Посчитае кумулятивное количество и сумму заказов по дням"
   ]
  },
  {
   "cell_type": "code",
   "execution_count": 119,
   "metadata": {
    "id": "m0ylUy6BMtYK"
   },
   "outputs": [],
   "source": [
    "ordersADaily = (\n",
    "    orders[orders['group'] == 'A'][['date', 'transactionid', 'visitorid', 'revenue']]\n",
    "    .groupby('date', as_index=False)\n",
    "    .agg({'transactionid': pd.Series.nunique, 'revenue': 'sum'})\n",
    ")\n",
    "ordersADaily.columns = ['date', 'ordersPerDateA', 'revenuePerDateA']"
   ]
  },
  {
   "cell_type": "code",
   "execution_count": 120,
   "metadata": {
    "id": "nEBvquu3M1uR"
   },
   "outputs": [],
   "source": [
    "ordersACummulative = ordersADaily.apply(\n",
    "    lambda x: ordersADaily[ordersADaily['date'] <= x['date']].agg(\n",
    "        {'date': 'max', 'ordersPerDateA': 'sum', 'revenuePerDateA': 'sum'}\n",
    "    ),\n",
    "    axis=1,\n",
    ").sort_values(by=['date'])\n",
    "ordersACummulative.columns = [\n",
    "    'date',\n",
    "    'ordersCummulativeA',\n",
    "    'revenueCummulativeA',\n",
    "]"
   ]
  },
  {
   "cell_type": "code",
   "execution_count": 121,
   "metadata": {
    "id": "ETE4RkDAM4rr"
   },
   "outputs": [],
   "source": [
    "ordersBDaily = (\n",
    "    orders[orders['group'] == 'B'][['date', 'transactionid', 'visitorid', 'revenue']]\n",
    "    .groupby('date', as_index=False)\n",
    "    .agg({'transactionid': pd.Series.nunique, 'revenue': 'sum'})\n",
    ")\n",
    "ordersBDaily.columns = ['date', 'ordersPerDateB', 'revenuePerDateB']\n",
    "\n",
    "ordersBCummulative = ordersBDaily.apply(\n",
    "    lambda x: ordersBDaily[ordersBDaily['date'] <= x['date']].agg(\n",
    "        {'date': 'max', 'ordersPerDateB': 'sum', 'revenuePerDateB': 'sum'}\n",
    "    ),\n",
    "    axis=1,\n",
    ").sort_values(by=['date'])\n",
    "ordersBCummulative.columns = [\n",
    "    'date',\n",
    "    'ordersCummulativeB',\n",
    "    'revenueCummulativeB',\n",
    "]"
   ]
  },
  {
   "cell_type": "code",
   "execution_count": 122,
   "metadata": {
    "id": "Zi4RE94XPRyV"
   },
   "outputs": [],
   "source": [
    "data = (\n",
    "    ordersADaily.merge(\n",
    "        ordersBDaily, left_on='date', right_on='date', how='left'\n",
    "    )\n",
    "    .merge(ordersACummulative, left_on='date', right_on='date', how='left')\n",
    "    .merge(ordersBCummulative, left_on='date', right_on='date', how='left')\n",
    "    .merge(visitorsADaily, left_on='date', right_on='date', how='left')\n",
    "    .merge(visitorsBDaily, left_on='date', right_on='date', how='left')\n",
    "    .merge(visitorsACummulative, left_on='date', right_on='date', how='left')\n",
    "    .merge(visitorsBCummulative, left_on='date', right_on='date', how='left')\n",
    ")"
   ]
  },
  {
   "cell_type": "code",
   "execution_count": 123,
   "metadata": {
    "colab": {
     "base_uri": "https://localhost:8080/",
     "height": 313
    },
    "id": "K6TQZ2Q3PpGv",
    "outputId": "f93ffd79-1bc1-4365-c000-5791f18aafad"
   },
   "outputs": [
    {
     "data": {
      "text/html": [
       "<div>\n",
       "<style scoped>\n",
       "    .dataframe tbody tr th:only-of-type {\n",
       "        vertical-align: middle;\n",
       "    }\n",
       "\n",
       "    .dataframe tbody tr th {\n",
       "        vertical-align: top;\n",
       "    }\n",
       "\n",
       "    .dataframe thead th {\n",
       "        text-align: right;\n",
       "    }\n",
       "</style>\n",
       "<table border=\"1\" class=\"dataframe\">\n",
       "  <thead>\n",
       "    <tr style=\"text-align: right;\">\n",
       "      <th></th>\n",
       "      <th>date</th>\n",
       "      <th>ordersPerDateA</th>\n",
       "      <th>revenuePerDateA</th>\n",
       "      <th>ordersPerDateB</th>\n",
       "      <th>revenuePerDateB</th>\n",
       "      <th>ordersCummulativeA</th>\n",
       "      <th>revenueCummulativeA</th>\n",
       "      <th>ordersCummulativeB</th>\n",
       "      <th>revenueCummulativeB</th>\n",
       "      <th>visitorsPerDateA</th>\n",
       "      <th>visitorsPerDateB</th>\n",
       "      <th>visitorsCummulativeA</th>\n",
       "      <th>visitorsCummulativeB</th>\n",
       "    </tr>\n",
       "  </thead>\n",
       "  <tbody>\n",
       "    <tr>\n",
       "      <td>0</td>\n",
       "      <td>2019-08-01</td>\n",
       "      <td>23</td>\n",
       "      <td>142779</td>\n",
       "      <td>17</td>\n",
       "      <td>59758</td>\n",
       "      <td>23</td>\n",
       "      <td>142779</td>\n",
       "      <td>17</td>\n",
       "      <td>59758</td>\n",
       "      <td>719</td>\n",
       "      <td>713</td>\n",
       "      <td>719</td>\n",
       "      <td>713</td>\n",
       "    </tr>\n",
       "    <tr>\n",
       "      <td>1</td>\n",
       "      <td>2019-08-02</td>\n",
       "      <td>19</td>\n",
       "      <td>91602</td>\n",
       "      <td>23</td>\n",
       "      <td>162043</td>\n",
       "      <td>42</td>\n",
       "      <td>234381</td>\n",
       "      <td>40</td>\n",
       "      <td>221801</td>\n",
       "      <td>619</td>\n",
       "      <td>581</td>\n",
       "      <td>1338</td>\n",
       "      <td>1294</td>\n",
       "    </tr>\n",
       "    <tr>\n",
       "      <td>2</td>\n",
       "      <td>2019-08-03</td>\n",
       "      <td>24</td>\n",
       "      <td>112473</td>\n",
       "      <td>14</td>\n",
       "      <td>67049</td>\n",
       "      <td>66</td>\n",
       "      <td>346854</td>\n",
       "      <td>54</td>\n",
       "      <td>288850</td>\n",
       "      <td>507</td>\n",
       "      <td>509</td>\n",
       "      <td>1845</td>\n",
       "      <td>1803</td>\n",
       "    </tr>\n",
       "    <tr>\n",
       "      <td>3</td>\n",
       "      <td>2019-08-04</td>\n",
       "      <td>11</td>\n",
       "      <td>41176</td>\n",
       "      <td>14</td>\n",
       "      <td>96890</td>\n",
       "      <td>77</td>\n",
       "      <td>388030</td>\n",
       "      <td>68</td>\n",
       "      <td>385740</td>\n",
       "      <td>717</td>\n",
       "      <td>770</td>\n",
       "      <td>2562</td>\n",
       "      <td>2573</td>\n",
       "    </tr>\n",
       "    <tr>\n",
       "      <td>4</td>\n",
       "      <td>2019-08-05</td>\n",
       "      <td>22</td>\n",
       "      <td>86383</td>\n",
       "      <td>21</td>\n",
       "      <td>89908</td>\n",
       "      <td>99</td>\n",
       "      <td>474413</td>\n",
       "      <td>89</td>\n",
       "      <td>475648</td>\n",
       "      <td>756</td>\n",
       "      <td>707</td>\n",
       "      <td>3318</td>\n",
       "      <td>3280</td>\n",
       "    </tr>\n",
       "  </tbody>\n",
       "</table>\n",
       "</div>"
      ],
      "text/plain": [
       "        date  ordersPerDateA  revenuePerDateA  ordersPerDateB  \\\n",
       "0 2019-08-01              23           142779              17   \n",
       "1 2019-08-02              19            91602              23   \n",
       "2 2019-08-03              24           112473              14   \n",
       "3 2019-08-04              11            41176              14   \n",
       "4 2019-08-05              22            86383              21   \n",
       "\n",
       "   revenuePerDateB  ordersCummulativeA  revenueCummulativeA  \\\n",
       "0            59758                  23               142779   \n",
       "1           162043                  42               234381   \n",
       "2            67049                  66               346854   \n",
       "3            96890                  77               388030   \n",
       "4            89908                  99               474413   \n",
       "\n",
       "   ordersCummulativeB  revenueCummulativeB  visitorsPerDateA  \\\n",
       "0                  17                59758               719   \n",
       "1                  40               221801               619   \n",
       "2                  54               288850               507   \n",
       "3                  68               385740               717   \n",
       "4                  89               475648               756   \n",
       "\n",
       "   visitorsPerDateB  visitorsCummulativeA  visitorsCummulativeB  \n",
       "0               713                   719                   713  \n",
       "1               581                  1338                  1294  \n",
       "2               509                  1845                  1803  \n",
       "3               770                  2562                  2573  \n",
       "4               707                  3318                  3280  "
      ]
     },
     "execution_count": 123,
     "metadata": {},
     "output_type": "execute_result"
    }
   ],
   "source": [
    "data.head(5)"
   ]
  },
  {
   "cell_type": "markdown",
   "metadata": {
    "id": "2BeNNP2nP1Og"
   },
   "source": [
    "Посчитаем статистическую значимость различия в конверсии между группами"
   ]
  },
  {
   "cell_type": "markdown",
   "metadata": {
    "id": "Jil8k0AOQAyv"
   },
   "source": [
    "Создадим переменные ordersByUsersA и ordersByUsersB со столбцами ['userId', 'orders']. В них для пользователей, которые заказывали хотя бы 1 раз, укажем число совершённых заказов."
   ]
  },
  {
   "cell_type": "code",
   "execution_count": 124,
   "metadata": {
    "id": "2BbyHv10QHBu"
   },
   "outputs": [],
   "source": [
    "ordersByUsersA = (\n",
    "    orders[orders['group'] == 'A']\n",
    "    .groupby('visitorid', as_index=False)\n",
    "    .agg({'transactionid': pd.Series.nunique})\n",
    ")\n",
    "ordersByUsersA.columns = ['visitorid', 'orders']\n",
    "\n",
    "ordersByUsersB = (\n",
    "    orders[orders['group'] == 'B']\n",
    "    .groupby('visitorid', as_index=False)\n",
    "    .agg({'transactionid': pd.Series.nunique})\n",
    ")\n",
    "ordersByUsersB.columns = ['visitorid', 'orders'] "
   ]
  },
  {
   "cell_type": "markdown",
   "metadata": {
    "id": "jln0h5KcQb4n"
   },
   "source": [
    "Объявим переменные sampleA и sampleB, в которых пользователям из разных групп будет соответствовать количество заказов. Тем, кто ничего не заказал, будут соответствовать нули."
   ]
  },
  {
   "cell_type": "code",
   "execution_count": 125,
   "metadata": {
    "id": "B_1SW24yQftn"
   },
   "outputs": [],
   "source": [
    "sampleA = pd.concat([ordersByUsersA['orders'],pd.Series(0, index=np.arange(data['visitorsPerDateA'].sum() - len(ordersByUsersA['orders'])), name='orders')],axis=0)\n",
    "\n",
    "sampleB = pd.concat([ordersByUsersB['orders'],pd.Series(0, index=np.arange(data['visitorsPerDateB'].sum() - len(ordersByUsersB['orders'])), name='orders')],axis=0)\n",
    " "
   ]
  },
  {
   "cell_type": "markdown",
   "metadata": {},
   "source": [
    "Проверим гипотезу о равенстве конверсии в группах:  \n",
    "Нулевая гипотеза: Конверсии в группах A и B равны.  \n",
    "Альтернативная гипотеза: Конверсии в группах A и B различаются."
   ]
  },
  {
   "cell_type": "code",
   "execution_count": 126,
   "metadata": {
    "colab": {
     "base_uri": "https://localhost:8080/"
    },
    "id": "j0jiZ50dQj3G",
    "outputId": "7f5b1354-9dba-46af-8825-c7df0151d166"
   },
   "outputs": [
    {
     "name": "stdout",
     "output_type": "stream",
     "text": [
      "0.011\n",
      "0.160\n"
     ]
    }
   ],
   "source": [
    "sampleA = pd.concat(\n",
    "    [\n",
    "        ordersByUsersA['orders'],\n",
    "        pd.Series(\n",
    "            0,\n",
    "            index=np.arange(\n",
    "                data['visitorsPerDateA'].sum() - len(ordersByUsersA['orders'])\n",
    "            ),\n",
    "            name='orders',\n",
    "        ),\n",
    "    ],\n",
    "    axis=0,\n",
    ")\n",
    "\n",
    "sampleB = pd.concat(\n",
    "    [\n",
    "        ordersByUsersB['orders'],\n",
    "        pd.Series(\n",
    "            0,\n",
    "            index=np.arange(\n",
    "                data['visitorsPerDateB'].sum() - len(ordersByUsersB['orders'])\n",
    "            ),\n",
    "            name='orders',\n",
    "        ),\n",
    "    ],\n",
    "    axis=0,\n",
    ")\n",
    "\n",
    "print(\"{0:.3f}\".format(stats.mannwhitneyu(sampleA, sampleB, alternative='two-sided')[1]))\n",
    "\n",
    "print(\"{0:.3f}\".format(sampleB.mean() / sampleA.mean() - 1))\n"
   ]
  },
  {
   "cell_type": "markdown",
   "metadata": {
    "id": "L896Zz1oRJMU"
   },
   "source": [
    "Получили p-value 0.011, меньше чем 0.05 -- отвергаем нулевую гипотезу о равенстве конверсии в группах A и B.  \n",
    "Относительный выигрыш группы B равен 16%"
   ]
  },
  {
   "cell_type": "markdown",
   "metadata": {
    "id": "sDmuBdZySxwA"
   },
   "source": [
    "### Считаем статистическую значимость различий в среднем чеке заказа между группами по «сырым» данным"
   ]
  },
  {
   "cell_type": "markdown",
   "metadata": {},
   "source": [
    "Проверим гипотезу о равенстве среднего чека в группах:\n",
    "Нулевая гипотеза: Средний чек в группах A и B равны.\n",
    "Альтернативная гипотеза: Средний чек в группах A и B различаются."
   ]
  },
  {
   "cell_type": "code",
   "execution_count": 127,
   "metadata": {
    "colab": {
     "base_uri": "https://localhost:8080/"
    },
    "id": "TJbxA92sS6Ou",
    "outputId": "80292a33-020c-4e43-b99d-3b98d5eebbfc"
   },
   "outputs": [
    {
     "name": "stdout",
     "output_type": "stream",
     "text": [
      "0.829\n",
      "0.287\n"
     ]
    }
   ],
   "source": [
    "print('{0:.3f}'.format(stats.mannwhitneyu(orders[orders['group']=='A']['revenue'], orders[orders['group']=='B']['revenue'], alternative='two-sided')[1]))\n",
    "print('{0:.3f}'.format(orders[orders['group']=='B']['revenue'].mean()/orders[orders['group']=='A']['revenue'].mean()-1))"
   ]
  },
  {
   "cell_type": "markdown",
   "metadata": {
    "id": "Q-kxfO1I_Fal"
   },
   "source": [
    "P-value равен 0.829 и значительно превышает уровень статистической значимости в 0.05.  Мы не смогли отвергнуть нулевую гипотезу - нет причин полагать, что средний чек групп на самом деле различается. Хотя по результатам нашего теста средний чек группы B оказался выше на 28.7%"
   ]
  },
  {
   "cell_type": "markdown",
   "metadata": {
    "id": "IC5ttEUyALxm"
   },
   "source": [
    "### Считаем статистическую значимость различий в конверсии между группами по «очищенным» данным"
   ]
  },
  {
   "cell_type": "markdown",
   "metadata": {
    "id": "Znv2MiZWAdhy"
   },
   "source": [
    "Ранее для определения аномальных показателей, мы выбрали границу в 2 заказа и сумму чека в 28000 ед. Всё, что выше этих показателей, считаем аномалиями."
   ]
  },
  {
   "cell_type": "code",
   "execution_count": 128,
   "metadata": {
    "colab": {
     "base_uri": "https://localhost:8080/"
    },
    "id": "zMQX3_E0Edyu",
    "outputId": "fde711c0-622b-4241-dc2f-ecbef5396bdc"
   },
   "outputs": [
    {
     "name": "stdout",
     "output_type": "stream",
     "text": [
      "937    148427295\n",
      "792    204675465\n",
      "33     249864742\n",
      "586    358944393\n",
      "557    382846391\n",
      "Name: visitorid, dtype: int64\n",
      "(55,)\n"
     ]
    }
   ],
   "source": [
    "usersWithManyOrders = pd.concat(\n",
    "    [\n",
    "        ordersByUsersA[ordersByUsersA['orders'] > 2]['visitorid'],\n",
    "        ordersByUsersB[ordersByUsersB['orders'] > 2]['visitorid'],\n",
    "    ],\n",
    "    axis=0,\n",
    ")\n",
    "usersWithExpensiveOrders = orders[orders['revenue'] > 28000]['visitorid']\n",
    "abnormalUsers = (\n",
    "    pd.concat([usersWithManyOrders, usersWithExpensiveOrders], axis=0)\n",
    "    .drop_duplicates()\n",
    "    .sort_values()\n",
    ")\n",
    "print(abnormalUsers.head(5))\n",
    "print(abnormalUsers.shape)"
   ]
  },
  {
   "cell_type": "markdown",
   "metadata": {
    "id": "g2XTzloRFGDo"
   },
   "source": [
    "По выбранным критериям аномальных показателей определили 74 пользователя"
   ]
  },
  {
   "cell_type": "markdown",
   "metadata": {
    "id": "8S5HOPSXFJj9"
   },
   "source": [
    "Посчитаем статистическую значимость различий в конверсии между группами теста по очищенным данным. Сначала подготовим выборки количества заказов по пользователям по группам теста"
   ]
  },
  {
   "cell_type": "code",
   "execution_count": 129,
   "metadata": {
    "id": "TsH27aWlIy1E"
   },
   "outputs": [],
   "source": [
    "sampleAFiltered = pd.concat(\n",
    "    [\n",
    "        ordersByUsersA[\n",
    "            np.logical_not(ordersByUsersA['visitorid'].isin(abnormalUsers))\n",
    "        ]['orders'],\n",
    "        pd.Series(\n",
    "            0,\n",
    "            index=np.arange(\n",
    "                data['visitorsPerDateA'].sum() - len(ordersByUsersA['orders'])\n",
    "            ),\n",
    "            name='orders',\n",
    "        ),\n",
    "    ],\n",
    "    axis=0,\n",
    ")\n",
    "\n",
    "sampleBFiltered = pd.concat(\n",
    "    [\n",
    "        ordersByUsersB[\n",
    "            np.logical_not(ordersByUsersB['visitorid'].isin(abnormalUsers))\n",
    "        ]['orders'],\n",
    "        pd.Series(\n",
    "            0,\n",
    "            index=np.arange(\n",
    "                data['visitorsPerDateB'].sum() - len(ordersByUsersB['orders'])\n",
    "            ),\n",
    "            name='orders',\n",
    "        ),\n",
    "    ],\n",
    "    axis=0,\n",
    ")"
   ]
  },
  {
   "cell_type": "markdown",
   "metadata": {
    "id": "ZhhOK4OyJGxG"
   },
   "source": [
    "Проверим гипотезу о равенстве конверсии в группах:  \n",
    "Нулевая гипотеза: Конверсии в группах A и B равны.  \n",
    "Альтернативная гипотеза: Конверсии в группах A и B различаются.  \n",
    "Применим статистический критерий Манна-Уитни к полученным выборкам"
   ]
  },
  {
   "cell_type": "code",
   "execution_count": 130,
   "metadata": {
    "colab": {
     "base_uri": "https://localhost:8080/"
    },
    "id": "CX8mft2cJL8J",
    "outputId": "280a6c8e-db76-4668-a61b-da7ee0d1457d"
   },
   "outputs": [
    {
     "name": "stdout",
     "output_type": "stream",
     "text": [
      "0.009\n",
      "0.189\n"
     ]
    }
   ],
   "source": [
    "print('{0:.3f}'.format(stats.mannwhitneyu(sampleAFiltered, sampleBFiltered, alternative='two-sided')[1]))\n",
    "print('{0:.3f}'.format(sampleBFiltered.mean()/sampleAFiltered.mean()-1)) "
   ]
  },
  {
   "cell_type": "markdown",
   "metadata": {
    "id": "5NrkB-nQJN7i"
   },
   "source": [
    "Получили p-value 0.009 (было 0.011), конверсия в группе B на 18.9% больше чем в A (по \"сырым\" данным было 16%).  \n",
    "Отвергаем нулевую гипотезу в пользу альтернативной.  \n",
    "По \"очищенным\" данным разница в конверсии между группами стала еще большей."
   ]
  },
  {
   "cell_type": "markdown",
   "metadata": {
    "id": "0_T3WcgYKR52"
   },
   "source": [
    "### Считаем статистическую значимость различий в среднем чеке заказа между группами по «очищенным» данным"
   ]
  },
  {
   "cell_type": "markdown",
   "metadata": {},
   "source": [
    "Проверим гипотезу о равенстве среднего чека в группах:  \n",
    "Нулевая гипотеза: Средний чек в группах A и B равны.  \n",
    "Альтернативная гипотеза: Средний чек в группах A и B различаются."
   ]
  },
  {
   "cell_type": "code",
   "execution_count": 131,
   "metadata": {
    "colab": {
     "base_uri": "https://localhost:8080/"
    },
    "id": "OBWT8oxhKepq",
    "outputId": "a5349c4a-9b5e-44f8-ae9d-e0e9fa8a04b2"
   },
   "outputs": [
    {
     "name": "stdout",
     "output_type": "stream",
     "text": [
      "0.762\n",
      "-0.022\n"
     ]
    }
   ],
   "source": [
    "print(\n",
    "    '{0:.3f}'.format(\n",
    "        stats.mannwhitneyu(\n",
    "            orders[\n",
    "                np.logical_and(\n",
    "                    orders['group'] == 'A',\n",
    "                    np.logical_not(orders['visitorid'].isin(abnormalUsers)),\n",
    "                )\n",
    "            ]['revenue'],\n",
    "            orders[\n",
    "                np.logical_and(\n",
    "                    orders['group'] == 'B',\n",
    "                    np.logical_not(orders['visitorid'].isin(abnormalUsers)),\n",
    "                )\n",
    "            ]['revenue'],\n",
    "            alternative='two-sided'\n",
    "        )[1]\n",
    "    )\n",
    ")\n",
    "\n",
    "print(\n",
    "    \"{0:.3f}\".format(\n",
    "        orders[\n",
    "            np.logical_and(\n",
    "                orders['group'] == 'B',\n",
    "                np.logical_not(orders['visitorid'].isin(abnormalUsers)),\n",
    "            )\n",
    "        ]['revenue'].mean()\n",
    "        / orders[\n",
    "            np.logical_and(\n",
    "                orders['group'] == 'A',\n",
    "                np.logical_not(orders['visitorid'].isin(abnormalUsers)),\n",
    "            )\n",
    "        ]['revenue'].mean()\n",
    "        - 1\n",
    "    )\n",
    ")"
   ]
  },
  {
   "cell_type": "markdown",
   "metadata": {
    "id": "nU2GClqmKsmG"
   },
   "source": [
    "P-value по очищенным данным, как и по \"сырым\", оказался намного больше 0.05 (0.762 по \"очищенным\" против 0.829 по \"сырым\"), по-прежнему нет оснований полагать что в среднем чеке по группам есть разница. Это подтверждвет и показатель разницы между группами, по \"очищенным\" данным он составил всего -2% (по \"сырым\" был почти 29%). "
   ]
  },
  {
   "cell_type": "markdown",
   "metadata": {
    "id": "KbK9wb3nLogZ"
   },
   "source": [
    "### Выводы"
   ]
  },
  {
   "cell_type": "markdown",
   "metadata": {
    "id": "UNV15QPBL2UJ"
   },
   "source": [
    "\n",
    "Имеющиеся факты:  \n",
    "* Нам удалось зафиксировать статистически значимое различие в конверсии между группами A и B. У группы B этот показатель стабильно выше -- исходя из графика относительного прироста конверсии группы B относительно группы A можно сказать, что в ближайшее время такое положение дел сохранится. Наблюдения совпадают и по \"сырым\" и по \"очищенным\" данным.  \n",
    "* Нет статистически значимого различия по среднему чеку между группами ни по «сырым», ни по данным после фильтрации аномалий.\n",
    "\n",
    "\n",
    "С учетом этих фактов можно рекомендовать остановить тест, зафиксировать победу группы B.\n"
   ]
  },
  {
   "cell_type": "markdown",
   "metadata": {},
   "source": [
    "## Выводы\n",
    "Мы провели **приоритезацию гипотез** и получили следующие результаты:  \n",
    "По ICE три самые приоритетные гипотезы:  \n",
    "* Запустить акцию, дающую скидку на товар в день рождения  \n",
    "* Добавить два новых канала привлечения трафика, что позволит привлекать на 30% больше пользователей  \n",
    "* Добавить форму подписки на все основные страницы, чтобы собрать базу клиентов для email-рассылок  \n",
    "\n",
    "По RICE самые приоритетные гипотезы:  \n",
    "* Добавить форму подписки на все основные страницы, чтобы собрать базу клиентов для email-рассылок  \n",
    "* Добавить блоки рекомендаций товаров на сайт интернет магазина, чтобы повысить конверсию и средний чек заказа  \n",
    "* Добавить два новых канала привлечения трафика, что позволит привлекать на 30% больше пользователей  \n",
    "* Показать на главной странице баннеры с актуальными акциями и распродажами, чтобы увеличить конверсию  \n",
    "*последние две гипотезы разделили третье место *italicized text*  \n",
    "\n",
    "Добавление формы подписки в RICE вышло на первое место с большим отрывом за счет максимального охвата пользователей, в ICE у гипотезы было 3-е место. В то же время у гипотезы о добавлении скидки на день рождения в ICE было первое место, а в RICE  лишь 5-е, при этом отрыв от 4-х более приоритетных гипотез достаточно существенный -- скидка на день рождения имеет очень малый охват пользователей.  \n",
    "  \n",
    "  \n",
    "\n",
    "Также мы провели **анализ данных A/B теста**.  \n",
    "По результатам можно рекомендовать остановить тест, зафиксировать победу группы B.  \n",
    "\n",
    "В рамках анализа мы сравнили показатели конверсии посетителей в покупателей, а также показатели среднего чека по двум группам пользователей.\n",
    "Имеющиеся факты: \n",
    "\n",
    "Нам удалось зафиксировать статистически значимое различие в конверсии между группами A и B. У группы B этот показатель стабильно выше -- исходя из графика относительного прироста конверсии группы B относительно группы A можно сказать, что в ближайшее время такое положение дел сохранится. Наблюдения совпадают и по \"сырым\" и по \"очищенным\" данным.  \n",
    "Нет статистически значимого различия по среднему чеку между группами ни по «сырым», ни по данным после фильтрации аномалий.  \n"
   ]
  }
 ],
 "metadata": {
  "ExecuteTimeLog": [
   {
    "duration": 1455,
    "start_time": "2021-07-04T17:33:00.176Z"
   },
   {
    "duration": 19,
    "start_time": "2021-07-04T17:33:01.633Z"
   },
   {
    "duration": 20,
    "start_time": "2021-07-04T17:33:01.655Z"
   },
   {
    "duration": 4,
    "start_time": "2021-07-04T17:33:01.678Z"
   },
   {
    "duration": 21,
    "start_time": "2021-07-04T17:33:01.685Z"
   },
   {
    "duration": 74,
    "start_time": "2021-07-04T17:33:01.708Z"
   },
   {
    "duration": 12,
    "start_time": "2021-07-04T17:33:01.785Z"
   },
   {
    "duration": 7,
    "start_time": "2021-07-04T17:33:01.800Z"
   },
   {
    "duration": 20,
    "start_time": "2021-07-04T17:33:01.810Z"
   },
   {
    "duration": 21,
    "start_time": "2021-07-04T17:33:01.833Z"
   },
   {
    "duration": 16,
    "start_time": "2021-07-04T17:33:01.857Z"
   },
   {
    "duration": 11,
    "start_time": "2021-07-04T17:33:01.875Z"
   },
   {
    "duration": 32,
    "start_time": "2021-07-04T17:33:01.888Z"
   },
   {
    "duration": 2106,
    "start_time": "2021-07-04T17:33:01.923Z"
   },
   {
    "duration": -73,
    "start_time": "2021-07-04T17:33:04.110Z"
   },
   {
    "duration": -79,
    "start_time": "2021-07-04T17:33:04.118Z"
   },
   {
    "duration": -82,
    "start_time": "2021-07-04T17:33:04.123Z"
   },
   {
    "duration": -84,
    "start_time": "2021-07-04T17:33:04.127Z"
   },
   {
    "duration": -89,
    "start_time": "2021-07-04T17:33:04.134Z"
   },
   {
    "duration": -91,
    "start_time": "2021-07-04T17:33:04.138Z"
   },
   {
    "duration": -94,
    "start_time": "2021-07-04T17:33:04.143Z"
   },
   {
    "duration": -98,
    "start_time": "2021-07-04T17:33:04.149Z"
   },
   {
    "duration": -101,
    "start_time": "2021-07-04T17:33:04.154Z"
   },
   {
    "duration": -104,
    "start_time": "2021-07-04T17:33:04.159Z"
   },
   {
    "duration": -109,
    "start_time": "2021-07-04T17:33:04.166Z"
   },
   {
    "duration": -113,
    "start_time": "2021-07-04T17:33:04.171Z"
   },
   {
    "duration": -116,
    "start_time": "2021-07-04T17:33:04.176Z"
   },
   {
    "duration": -120,
    "start_time": "2021-07-04T17:33:04.182Z"
   },
   {
    "duration": -123,
    "start_time": "2021-07-04T17:33:04.187Z"
   },
   {
    "duration": -127,
    "start_time": "2021-07-04T17:33:04.192Z"
   },
   {
    "duration": -144,
    "start_time": "2021-07-04T17:33:04.211Z"
   },
   {
    "duration": -150,
    "start_time": "2021-07-04T17:33:04.219Z"
   },
   {
    "duration": -153,
    "start_time": "2021-07-04T17:33:04.224Z"
   },
   {
    "duration": -155,
    "start_time": "2021-07-04T17:33:04.228Z"
   },
   {
    "duration": -161,
    "start_time": "2021-07-04T17:33:04.235Z"
   },
   {
    "duration": -164,
    "start_time": "2021-07-04T17:33:04.240Z"
   },
   {
    "duration": -167,
    "start_time": "2021-07-04T17:33:04.245Z"
   },
   {
    "duration": -171,
    "start_time": "2021-07-04T17:33:04.251Z"
   },
   {
    "duration": -175,
    "start_time": "2021-07-04T17:33:04.257Z"
   },
   {
    "duration": -177,
    "start_time": "2021-07-04T17:33:04.261Z"
   },
   {
    "duration": -182,
    "start_time": "2021-07-04T17:33:04.268Z"
   },
   {
    "duration": -187,
    "start_time": "2021-07-04T17:33:04.274Z"
   },
   {
    "duration": -191,
    "start_time": "2021-07-04T17:33:04.279Z"
   },
   {
    "duration": -195,
    "start_time": "2021-07-04T17:33:04.285Z"
   },
   {
    "duration": -199,
    "start_time": "2021-07-04T17:33:04.290Z"
   },
   {
    "duration": -203,
    "start_time": "2021-07-04T17:33:04.295Z"
   },
   {
    "duration": -211,
    "start_time": "2021-07-04T17:33:04.305Z"
   },
   {
    "duration": -232,
    "start_time": "2021-07-04T17:33:04.327Z"
   },
   {
    "duration": -240,
    "start_time": "2021-07-04T17:33:04.336Z"
   },
   {
    "duration": -184,
    "start_time": "2021-07-04T17:33:04.342Z"
   },
   {
    "duration": -190,
    "start_time": "2021-07-04T17:33:04.349Z"
   },
   {
    "duration": -194,
    "start_time": "2021-07-04T17:33:04.355Z"
   },
   {
    "duration": -197,
    "start_time": "2021-07-04T17:33:04.360Z"
   },
   {
    "duration": -203,
    "start_time": "2021-07-04T17:33:04.367Z"
   },
   {
    "duration": -314,
    "start_time": "2021-07-04T17:33:04.479Z"
   },
   {
    "duration": -318,
    "start_time": "2021-07-04T17:33:04.485Z"
   },
   {
    "duration": -322,
    "start_time": "2021-07-04T17:33:04.490Z"
   },
   {
    "duration": -336,
    "start_time": "2021-07-04T17:33:04.506Z"
   },
   {
    "duration": -340,
    "start_time": "2021-07-04T17:33:04.511Z"
   },
   {
    "duration": -346,
    "start_time": "2021-07-04T17:33:04.518Z"
   },
   {
    "duration": -349,
    "start_time": "2021-07-04T17:33:04.523Z"
   },
   {
    "duration": -365,
    "start_time": "2021-07-04T17:33:04.540Z"
   },
   {
    "duration": -411,
    "start_time": "2021-07-04T17:33:04.587Z"
   },
   {
    "duration": -418,
    "start_time": "2021-07-04T17:33:04.596Z"
   },
   {
    "duration": -424,
    "start_time": "2021-07-04T17:33:04.603Z"
   },
   {
    "duration": -429,
    "start_time": "2021-07-04T17:33:04.610Z"
   },
   {
    "duration": 3,
    "start_time": "2021-07-04T17:33:56.469Z"
   },
   {
    "duration": 26,
    "start_time": "2021-07-04T17:33:56.475Z"
   },
   {
    "duration": 17,
    "start_time": "2021-07-04T17:33:56.504Z"
   },
   {
    "duration": 10,
    "start_time": "2021-07-04T17:33:56.523Z"
   },
   {
    "duration": 20,
    "start_time": "2021-07-04T17:33:56.535Z"
   },
   {
    "duration": 45,
    "start_time": "2021-07-04T17:33:56.558Z"
   },
   {
    "duration": 11,
    "start_time": "2021-07-04T17:33:56.609Z"
   },
   {
    "duration": 4,
    "start_time": "2021-07-04T17:33:56.623Z"
   },
   {
    "duration": 7,
    "start_time": "2021-07-04T17:33:56.629Z"
   },
   {
    "duration": 19,
    "start_time": "2021-07-04T17:33:56.639Z"
   },
   {
    "duration": 9,
    "start_time": "2021-07-04T17:33:56.660Z"
   },
   {
    "duration": 7,
    "start_time": "2021-07-04T17:33:56.672Z"
   },
   {
    "duration": 20,
    "start_time": "2021-07-04T17:33:56.682Z"
   },
   {
    "duration": 1844,
    "start_time": "2021-07-04T17:33:56.704Z"
   },
   {
    "duration": -88,
    "start_time": "2021-07-04T17:33:58.641Z"
   },
   {
    "duration": -96,
    "start_time": "2021-07-04T17:33:58.650Z"
   },
   {
    "duration": -102,
    "start_time": "2021-07-04T17:33:58.658Z"
   },
   {
    "duration": -109,
    "start_time": "2021-07-04T17:33:58.666Z"
   },
   {
    "duration": -115,
    "start_time": "2021-07-04T17:33:58.673Z"
   },
   {
    "duration": -120,
    "start_time": "2021-07-04T17:33:58.680Z"
   },
   {
    "duration": -128,
    "start_time": "2021-07-04T17:33:58.689Z"
   },
   {
    "duration": -135,
    "start_time": "2021-07-04T17:33:58.697Z"
   },
   {
    "duration": -141,
    "start_time": "2021-07-04T17:33:58.705Z"
   },
   {
    "duration": -147,
    "start_time": "2021-07-04T17:33:58.712Z"
   },
   {
    "duration": -153,
    "start_time": "2021-07-04T17:33:58.719Z"
   },
   {
    "duration": -158,
    "start_time": "2021-07-04T17:33:58.726Z"
   },
   {
    "duration": -179,
    "start_time": "2021-07-04T17:33:58.749Z"
   },
   {
    "duration": -185,
    "start_time": "2021-07-04T17:33:58.756Z"
   },
   {
    "duration": -190,
    "start_time": "2021-07-04T17:33:58.763Z"
   },
   {
    "duration": -198,
    "start_time": "2021-07-04T17:33:58.772Z"
   },
   {
    "duration": -204,
    "start_time": "2021-07-04T17:33:58.779Z"
   },
   {
    "duration": -211,
    "start_time": "2021-07-04T17:33:58.787Z"
   },
   {
    "duration": -217,
    "start_time": "2021-07-04T17:33:58.795Z"
   },
   {
    "duration": -223,
    "start_time": "2021-07-04T17:33:58.802Z"
   },
   {
    "duration": -228,
    "start_time": "2021-07-04T17:33:58.808Z"
   },
   {
    "duration": -234,
    "start_time": "2021-07-04T17:33:58.815Z"
   },
   {
    "duration": -239,
    "start_time": "2021-07-04T17:33:58.822Z"
   },
   {
    "duration": -244,
    "start_time": "2021-07-04T17:33:58.828Z"
   },
   {
    "duration": -252,
    "start_time": "2021-07-04T17:33:58.837Z"
   },
   {
    "duration": -256,
    "start_time": "2021-07-04T17:33:58.843Z"
   },
   {
    "duration": -277,
    "start_time": "2021-07-04T17:33:58.865Z"
   },
   {
    "duration": -282,
    "start_time": "2021-07-04T17:33:58.872Z"
   },
   {
    "duration": -287,
    "start_time": "2021-07-04T17:33:58.878Z"
   },
   {
    "duration": -294,
    "start_time": "2021-07-04T17:33:58.887Z"
   },
   {
    "duration": -299,
    "start_time": "2021-07-04T17:33:58.893Z"
   },
   {
    "duration": -305,
    "start_time": "2021-07-04T17:33:58.900Z"
   },
   {
    "duration": -311,
    "start_time": "2021-07-04T17:33:58.907Z"
   },
   {
    "duration": -316,
    "start_time": "2021-07-04T17:33:58.913Z"
   },
   {
    "duration": -266,
    "start_time": "2021-07-04T17:33:58.921Z"
   },
   {
    "duration": -271,
    "start_time": "2021-07-04T17:33:58.927Z"
   },
   {
    "duration": -277,
    "start_time": "2021-07-04T17:33:58.935Z"
   },
   {
    "duration": -282,
    "start_time": "2021-07-04T17:33:58.941Z"
   },
   {
    "duration": -289,
    "start_time": "2021-07-04T17:33:58.949Z"
   },
   {
    "duration": -294,
    "start_time": "2021-07-04T17:33:58.956Z"
   },
   {
    "duration": -438,
    "start_time": "2021-07-04T17:33:59.101Z"
   },
   {
    "duration": -448,
    "start_time": "2021-07-04T17:33:59.112Z"
   },
   {
    "duration": -452,
    "start_time": "2021-07-04T17:33:59.118Z"
   },
   {
    "duration": -461,
    "start_time": "2021-07-04T17:33:59.128Z"
   },
   {
    "duration": -465,
    "start_time": "2021-07-04T17:33:59.134Z"
   },
   {
    "duration": -467,
    "start_time": "2021-07-04T17:33:59.137Z"
   },
   {
    "duration": -471,
    "start_time": "2021-07-04T17:33:59.142Z"
   },
   {
    "duration": -479,
    "start_time": "2021-07-04T17:33:59.151Z"
   },
   {
    "duration": -481,
    "start_time": "2021-07-04T17:33:59.155Z"
   },
   {
    "duration": -483,
    "start_time": "2021-07-04T17:33:59.158Z"
   },
   {
    "duration": -490,
    "start_time": "2021-07-04T17:33:59.166Z"
   },
   {
    "duration": 691,
    "start_time": "2021-07-04T17:34:27.461Z"
   },
   {
    "duration": 18,
    "start_time": "2021-07-04T17:34:50.420Z"
   },
   {
    "duration": 14,
    "start_time": "2021-07-04T17:34:50.441Z"
   },
   {
    "duration": 11,
    "start_time": "2021-07-04T17:34:50.458Z"
   },
   {
    "duration": 15,
    "start_time": "2021-07-04T17:34:50.472Z"
   },
   {
    "duration": 8,
    "start_time": "2021-07-04T17:34:50.489Z"
   },
   {
    "duration": 13,
    "start_time": "2021-07-04T17:34:50.499Z"
   },
   {
    "duration": 42,
    "start_time": "2021-07-04T17:34:50.514Z"
   },
   {
    "duration": 10,
    "start_time": "2021-07-04T17:34:50.560Z"
   },
   {
    "duration": 12,
    "start_time": "2021-07-04T17:34:50.573Z"
   },
   {
    "duration": 14,
    "start_time": "2021-07-04T17:34:50.588Z"
   },
   {
    "duration": 52,
    "start_time": "2021-07-04T17:34:50.604Z"
   },
   {
    "duration": 10,
    "start_time": "2021-07-04T17:34:50.659Z"
   },
   {
    "duration": 349,
    "start_time": "2021-07-04T17:34:50.671Z"
   },
   {
    "duration": 11,
    "start_time": "2021-07-04T17:34:51.023Z"
   },
   {
    "duration": 275,
    "start_time": "2021-07-04T17:34:51.036Z"
   },
   {
    "duration": 12,
    "start_time": "2021-07-04T17:34:51.314Z"
   },
   {
    "duration": 30,
    "start_time": "2021-07-04T17:34:51.329Z"
   },
   {
    "duration": 18,
    "start_time": "2021-07-04T17:34:51.361Z"
   },
   {
    "duration": 337,
    "start_time": "2021-07-04T17:34:51.381Z"
   },
   {
    "duration": 331,
    "start_time": "2021-07-04T17:34:51.720Z"
   },
   {
    "duration": 8,
    "start_time": "2021-07-04T17:34:52.053Z"
   },
   {
    "duration": 413,
    "start_time": "2021-07-04T17:34:52.064Z"
   },
   {
    "duration": 4,
    "start_time": "2021-07-04T17:34:52.483Z"
   },
   {
    "duration": 12,
    "start_time": "2021-07-04T17:34:52.490Z"
   },
   {
    "duration": 21,
    "start_time": "2021-07-04T17:34:52.504Z"
   },
   {
    "duration": 8,
    "start_time": "2021-07-04T17:34:52.527Z"
   },
   {
    "duration": 21,
    "start_time": "2021-07-04T17:34:52.537Z"
   },
   {
    "duration": 444,
    "start_time": "2021-07-04T17:34:52.561Z"
   },
   {
    "duration": 573,
    "start_time": "2021-07-04T17:34:53.007Z"
   },
   {
    "duration": 18,
    "start_time": "2021-07-04T17:34:53.582Z"
   },
   {
    "duration": 199,
    "start_time": "2021-07-04T17:34:53.602Z"
   },
   {
    "duration": 11,
    "start_time": "2021-07-04T17:34:53.804Z"
   },
   {
    "duration": 387,
    "start_time": "2021-07-04T17:34:53.817Z"
   },
   {
    "duration": 7,
    "start_time": "2021-07-04T17:34:54.206Z"
   },
   {
    "duration": 8,
    "start_time": "2021-07-04T17:34:54.215Z"
   },
   {
    "duration": 398,
    "start_time": "2021-07-04T17:34:54.225Z"
   },
   {
    "duration": 7,
    "start_time": "2021-07-04T17:34:54.625Z"
   },
   {
    "duration": 105,
    "start_time": "2021-07-04T17:34:54.634Z"
   },
   {
    "duration": 115,
    "start_time": "2021-07-04T17:34:54.741Z"
   },
   {
    "duration": 26,
    "start_time": "2021-07-04T17:34:54.859Z"
   },
   {
    "duration": 107,
    "start_time": "2021-07-04T17:34:54.887Z"
   },
   {
    "duration": 126,
    "start_time": "2021-07-04T17:34:54.997Z"
   },
   {
    "duration": 46,
    "start_time": "2021-07-04T17:34:55.126Z"
   },
   {
    "duration": 22,
    "start_time": "2021-07-04T17:34:55.175Z"
   },
   {
    "duration": 247,
    "start_time": "2021-07-04T17:34:55.200Z"
   },
   {
    "duration": 9,
    "start_time": "2021-07-04T17:34:55.449Z"
   },
   {
    "duration": 15,
    "start_time": "2021-07-04T17:34:55.460Z"
   },
   {
    "duration": 12,
    "start_time": "2021-07-04T17:34:55.478Z"
   },
   {
    "duration": 15,
    "start_time": "2021-07-04T17:34:55.493Z"
   },
   {
    "duration": 52,
    "start_time": "2021-07-04T17:34:55.510Z"
   },
   {
    "duration": 10,
    "start_time": "2021-07-04T17:34:55.564Z"
   },
   {
    "duration": 20,
    "start_time": "2021-07-04T17:34:55.576Z"
   },
   {
    "duration": 511,
    "start_time": "2021-07-04T17:40:28.483Z"
   },
   {
    "duration": 518,
    "start_time": "2021-07-04T17:40:38.123Z"
   },
   {
    "duration": 594,
    "start_time": "2021-07-04T17:40:55.367Z"
   },
   {
    "duration": 626,
    "start_time": "2021-07-04T17:40:59.171Z"
   },
   {
    "duration": 702,
    "start_time": "2021-07-04T17:41:21.269Z"
   },
   {
    "duration": 531,
    "start_time": "2021-07-04T17:42:18.224Z"
   },
   {
    "duration": 671,
    "start_time": "2021-07-04T17:42:26.705Z"
   },
   {
    "duration": 631,
    "start_time": "2021-07-04T17:42:33.040Z"
   },
   {
    "duration": 537,
    "start_time": "2021-07-04T17:42:51.991Z"
   },
   {
    "duration": 553,
    "start_time": "2021-07-04T17:43:03.096Z"
   },
   {
    "duration": 535,
    "start_time": "2021-07-04T17:43:11.055Z"
   },
   {
    "duration": 627,
    "start_time": "2021-07-04T17:43:18.073Z"
   },
   {
    "duration": 661,
    "start_time": "2021-07-04T17:43:25.054Z"
   },
   {
    "duration": 4,
    "start_time": "2021-07-04T17:43:38.662Z"
   },
   {
    "duration": 22,
    "start_time": "2021-07-04T17:43:38.668Z"
   },
   {
    "duration": 14,
    "start_time": "2021-07-04T17:43:38.692Z"
   },
   {
    "duration": 17,
    "start_time": "2021-07-04T17:43:38.709Z"
   },
   {
    "duration": 15,
    "start_time": "2021-07-04T17:43:38.728Z"
   },
   {
    "duration": 56,
    "start_time": "2021-07-04T17:43:38.755Z"
   },
   {
    "duration": 12,
    "start_time": "2021-07-04T17:43:38.814Z"
   },
   {
    "duration": 5,
    "start_time": "2021-07-04T17:43:38.829Z"
   },
   {
    "duration": 8,
    "start_time": "2021-07-04T17:43:38.836Z"
   },
   {
    "duration": 14,
    "start_time": "2021-07-04T17:43:38.847Z"
   },
   {
    "duration": 14,
    "start_time": "2021-07-04T17:43:38.864Z"
   },
   {
    "duration": 9,
    "start_time": "2021-07-04T17:43:38.880Z"
   },
   {
    "duration": 21,
    "start_time": "2021-07-04T17:43:38.892Z"
   },
   {
    "duration": 55,
    "start_time": "2021-07-04T17:43:38.916Z"
   },
   {
    "duration": 11,
    "start_time": "2021-07-04T17:43:38.973Z"
   },
   {
    "duration": 11,
    "start_time": "2021-07-04T17:43:38.986Z"
   },
   {
    "duration": 11,
    "start_time": "2021-07-04T17:43:39.000Z"
   },
   {
    "duration": 5,
    "start_time": "2021-07-04T17:43:39.013Z"
   },
   {
    "duration": 6,
    "start_time": "2021-07-04T17:43:39.057Z"
   },
   {
    "duration": 10,
    "start_time": "2021-07-04T17:43:39.067Z"
   },
   {
    "duration": 6,
    "start_time": "2021-07-04T17:43:39.080Z"
   },
   {
    "duration": 12,
    "start_time": "2021-07-04T17:43:39.088Z"
   },
   {
    "duration": 52,
    "start_time": "2021-07-04T17:43:39.103Z"
   },
   {
    "duration": 8,
    "start_time": "2021-07-04T17:43:39.158Z"
   },
   {
    "duration": 11,
    "start_time": "2021-07-04T17:43:39.169Z"
   },
   {
    "duration": 384,
    "start_time": "2021-07-04T17:43:39.183Z"
   },
   {
    "duration": 13,
    "start_time": "2021-07-04T17:43:39.569Z"
   },
   {
    "duration": 278,
    "start_time": "2021-07-04T17:43:39.585Z"
   },
   {
    "duration": 13,
    "start_time": "2021-07-04T17:43:39.865Z"
   },
   {
    "duration": 17,
    "start_time": "2021-07-04T17:43:39.880Z"
   },
   {
    "duration": 28,
    "start_time": "2021-07-04T17:43:39.899Z"
   },
   {
    "duration": 481,
    "start_time": "2021-07-04T17:43:39.929Z"
   },
   {
    "duration": 464,
    "start_time": "2021-07-04T17:43:40.413Z"
   },
   {
    "duration": 12,
    "start_time": "2021-07-04T17:43:40.881Z"
   },
   {
    "duration": 529,
    "start_time": "2021-07-04T17:43:40.895Z"
   },
   {
    "duration": 7,
    "start_time": "2021-07-04T17:43:41.427Z"
   },
   {
    "duration": 20,
    "start_time": "2021-07-04T17:43:41.436Z"
   },
   {
    "duration": 13,
    "start_time": "2021-07-04T17:43:41.459Z"
   },
   {
    "duration": 20,
    "start_time": "2021-07-04T17:43:41.474Z"
   },
   {
    "duration": 12,
    "start_time": "2021-07-04T17:43:41.497Z"
   },
   {
    "duration": 571,
    "start_time": "2021-07-04T17:43:41.512Z"
   },
   {
    "duration": 692,
    "start_time": "2021-07-04T17:43:42.086Z"
   },
   {
    "duration": 19,
    "start_time": "2021-07-04T17:43:42.781Z"
   },
   {
    "duration": 201,
    "start_time": "2021-07-04T17:43:42.803Z"
   },
   {
    "duration": 13,
    "start_time": "2021-07-04T17:43:43.007Z"
   },
   {
    "duration": 510,
    "start_time": "2021-07-04T17:43:43.023Z"
   },
   {
    "duration": 8,
    "start_time": "2021-07-04T17:43:43.536Z"
   },
   {
    "duration": 22,
    "start_time": "2021-07-04T17:43:43.546Z"
   },
   {
    "duration": 522,
    "start_time": "2021-07-04T17:43:43.570Z"
   },
   {
    "duration": 7,
    "start_time": "2021-07-04T17:43:44.095Z"
   },
   {
    "duration": 109,
    "start_time": "2021-07-04T17:43:44.104Z"
   },
   {
    "duration": 128,
    "start_time": "2021-07-04T17:43:44.215Z"
   },
   {
    "duration": 44,
    "start_time": "2021-07-04T17:43:44.345Z"
   },
   {
    "duration": 103,
    "start_time": "2021-07-04T17:43:44.391Z"
   },
   {
    "duration": 126,
    "start_time": "2021-07-04T17:43:44.502Z"
   },
   {
    "duration": 50,
    "start_time": "2021-07-04T17:43:44.632Z"
   },
   {
    "duration": 33,
    "start_time": "2021-07-04T17:43:44.684Z"
   },
   {
    "duration": 231,
    "start_time": "2021-07-04T17:43:44.719Z"
   },
   {
    "duration": 8,
    "start_time": "2021-07-04T17:43:44.952Z"
   },
   {
    "duration": 29,
    "start_time": "2021-07-04T17:43:44.962Z"
   },
   {
    "duration": 30,
    "start_time": "2021-07-04T17:43:44.993Z"
   },
   {
    "duration": 38,
    "start_time": "2021-07-04T17:43:45.025Z"
   },
   {
    "duration": 26,
    "start_time": "2021-07-04T17:43:45.065Z"
   },
   {
    "duration": 24,
    "start_time": "2021-07-04T17:43:45.094Z"
   },
   {
    "duration": 27,
    "start_time": "2021-07-04T17:43:45.121Z"
   },
   {
    "duration": 5,
    "start_time": "2021-07-04T17:50:09.183Z"
   },
   {
    "duration": 24,
    "start_time": "2021-07-04T17:50:09.190Z"
   },
   {
    "duration": 17,
    "start_time": "2021-07-04T17:50:09.217Z"
   },
   {
    "duration": 8,
    "start_time": "2021-07-04T17:50:09.237Z"
   },
   {
    "duration": 19,
    "start_time": "2021-07-04T17:50:09.248Z"
   },
   {
    "duration": 53,
    "start_time": "2021-07-04T17:50:09.269Z"
   },
   {
    "duration": 16,
    "start_time": "2021-07-04T17:50:09.324Z"
   },
   {
    "duration": 11,
    "start_time": "2021-07-04T17:50:09.343Z"
   },
   {
    "duration": 6,
    "start_time": "2021-07-04T17:50:09.358Z"
   },
   {
    "duration": 20,
    "start_time": "2021-07-04T17:50:09.367Z"
   },
   {
    "duration": 11,
    "start_time": "2021-07-04T17:50:09.390Z"
   },
   {
    "duration": 9,
    "start_time": "2021-07-04T17:50:09.403Z"
   },
   {
    "duration": 54,
    "start_time": "2021-07-04T17:50:09.414Z"
   },
   {
    "duration": 19,
    "start_time": "2021-07-04T17:50:09.471Z"
   },
   {
    "duration": 10,
    "start_time": "2021-07-04T17:50:09.493Z"
   },
   {
    "duration": 13,
    "start_time": "2021-07-04T17:50:09.505Z"
   },
   {
    "duration": 35,
    "start_time": "2021-07-04T17:50:09.521Z"
   },
   {
    "duration": 6,
    "start_time": "2021-07-04T17:50:09.559Z"
   },
   {
    "duration": 7,
    "start_time": "2021-07-04T17:50:09.568Z"
   },
   {
    "duration": 11,
    "start_time": "2021-07-04T17:50:09.578Z"
   },
   {
    "duration": 7,
    "start_time": "2021-07-04T17:50:09.591Z"
   },
   {
    "duration": 60,
    "start_time": "2021-07-04T17:50:09.600Z"
   },
   {
    "duration": 16,
    "start_time": "2021-07-04T17:50:09.662Z"
   },
   {
    "duration": 15,
    "start_time": "2021-07-04T17:50:09.681Z"
   },
   {
    "duration": 16,
    "start_time": "2021-07-04T17:50:09.698Z"
   },
   {
    "duration": 377,
    "start_time": "2021-07-04T17:50:09.717Z"
   },
   {
    "duration": 12,
    "start_time": "2021-07-04T17:50:10.100Z"
   },
   {
    "duration": 298,
    "start_time": "2021-07-04T17:50:10.117Z"
   },
   {
    "duration": 13,
    "start_time": "2021-07-04T17:50:10.417Z"
   },
   {
    "duration": 30,
    "start_time": "2021-07-04T17:50:10.433Z"
   },
   {
    "duration": 20,
    "start_time": "2021-07-04T17:50:10.465Z"
   },
   {
    "duration": 672,
    "start_time": "2021-07-04T17:50:10.487Z"
   },
   {
    "duration": 598,
    "start_time": "2021-07-04T17:50:11.161Z"
   },
   {
    "duration": 10,
    "start_time": "2021-07-04T17:50:11.762Z"
   },
   {
    "duration": 605,
    "start_time": "2021-07-04T17:50:11.774Z"
   },
   {
    "duration": 6,
    "start_time": "2021-07-04T17:50:12.382Z"
   },
   {
    "duration": 14,
    "start_time": "2021-07-04T17:50:12.390Z"
   },
   {
    "duration": 10,
    "start_time": "2021-07-04T17:50:12.407Z"
   },
   {
    "duration": 13,
    "start_time": "2021-07-04T17:50:12.419Z"
   },
   {
    "duration": 6,
    "start_time": "2021-07-04T17:50:12.457Z"
   },
   {
    "duration": 690,
    "start_time": "2021-07-04T17:50:12.466Z"
   },
   {
    "duration": 703,
    "start_time": "2021-07-04T17:50:13.158Z"
   },
   {
    "duration": 224,
    "start_time": "2021-07-04T17:50:13.864Z"
   },
   {
    "duration": 11,
    "start_time": "2021-07-04T17:50:14.090Z"
   },
   {
    "duration": 576,
    "start_time": "2021-07-04T17:50:14.104Z"
   },
   {
    "duration": 8,
    "start_time": "2021-07-04T17:50:14.683Z"
   },
   {
    "duration": 7,
    "start_time": "2021-07-04T17:50:14.694Z"
   },
   {
    "duration": 725,
    "start_time": "2021-07-04T17:50:14.703Z"
   },
   {
    "duration": 8,
    "start_time": "2021-07-04T17:50:15.431Z"
   },
   {
    "duration": 111,
    "start_time": "2021-07-04T17:50:15.455Z"
   },
   {
    "duration": 103,
    "start_time": "2021-07-04T17:50:15.568Z"
   },
   {
    "duration": 28,
    "start_time": "2021-07-04T17:50:15.673Z"
   },
   {
    "duration": 118,
    "start_time": "2021-07-04T17:50:15.704Z"
   },
   {
    "duration": 126,
    "start_time": "2021-07-04T17:50:15.825Z"
   },
   {
    "duration": 35,
    "start_time": "2021-07-04T17:50:15.957Z"
   },
   {
    "duration": 17,
    "start_time": "2021-07-04T17:50:15.994Z"
   },
   {
    "duration": 229,
    "start_time": "2021-07-04T17:50:16.014Z"
   },
   {
    "duration": 11,
    "start_time": "2021-07-04T17:50:16.246Z"
   },
   {
    "duration": 15,
    "start_time": "2021-07-04T17:50:16.259Z"
   },
   {
    "duration": 14,
    "start_time": "2021-07-04T17:50:16.276Z"
   },
   {
    "duration": 26,
    "start_time": "2021-07-04T17:50:16.292Z"
   },
   {
    "duration": 49,
    "start_time": "2021-07-04T17:50:16.321Z"
   },
   {
    "duration": 23,
    "start_time": "2021-07-04T17:50:16.373Z"
   },
   {
    "duration": 27,
    "start_time": "2021-07-04T17:50:16.398Z"
   },
   {
    "duration": 1007,
    "start_time": "2021-07-04T19:30:42.604Z"
   },
   {
    "duration": 16,
    "start_time": "2021-07-04T19:30:43.613Z"
   },
   {
    "duration": 18,
    "start_time": "2021-07-04T19:30:43.631Z"
   },
   {
    "duration": 6,
    "start_time": "2021-07-04T19:30:43.652Z"
   },
   {
    "duration": 11,
    "start_time": "2021-07-04T19:30:43.660Z"
   },
   {
    "duration": 53,
    "start_time": "2021-07-04T19:30:43.673Z"
   },
   {
    "duration": 9,
    "start_time": "2021-07-04T19:30:43.727Z"
   },
   {
    "duration": 5,
    "start_time": "2021-07-04T19:30:43.738Z"
   },
   {
    "duration": 8,
    "start_time": "2021-07-04T19:30:43.746Z"
   },
   {
    "duration": 10,
    "start_time": "2021-07-04T19:30:43.756Z"
   },
   {
    "duration": 14,
    "start_time": "2021-07-04T19:30:43.767Z"
   },
   {
    "duration": 6,
    "start_time": "2021-07-04T19:30:43.783Z"
   },
   {
    "duration": 16,
    "start_time": "2021-07-04T19:30:43.791Z"
   },
   {
    "duration": 20,
    "start_time": "2021-07-04T19:30:43.808Z"
   },
   {
    "duration": 9,
    "start_time": "2021-07-04T19:30:43.830Z"
   },
   {
    "duration": 15,
    "start_time": "2021-07-04T19:30:43.841Z"
   },
   {
    "duration": 9,
    "start_time": "2021-07-04T19:30:43.858Z"
   },
   {
    "duration": 6,
    "start_time": "2021-07-04T19:30:43.869Z"
   },
   {
    "duration": 12,
    "start_time": "2021-07-04T19:30:43.877Z"
   },
   {
    "duration": 8,
    "start_time": "2021-07-04T19:30:43.891Z"
   },
   {
    "duration": 10,
    "start_time": "2021-07-04T19:30:43.900Z"
   },
   {
    "duration": 13,
    "start_time": "2021-07-04T19:30:43.912Z"
   },
   {
    "duration": 21,
    "start_time": "2021-07-04T19:30:43.943Z"
   },
   {
    "duration": 9,
    "start_time": "2021-07-04T19:30:43.967Z"
   },
   {
    "duration": 12,
    "start_time": "2021-07-04T19:30:43.978Z"
   },
   {
    "duration": 227,
    "start_time": "2021-07-04T19:30:43.991Z"
   },
   {
    "duration": 8,
    "start_time": "2021-07-04T19:30:44.220Z"
   },
   {
    "duration": 166,
    "start_time": "2021-07-04T19:30:44.242Z"
   },
   {
    "duration": 8,
    "start_time": "2021-07-04T19:30:44.410Z"
   },
   {
    "duration": 26,
    "start_time": "2021-07-04T19:30:44.420Z"
   },
   {
    "duration": 12,
    "start_time": "2021-07-04T19:30:44.450Z"
   },
   {
    "duration": 229,
    "start_time": "2021-07-04T19:30:44.464Z"
   },
   {
    "duration": 221,
    "start_time": "2021-07-04T19:30:44.695Z"
   },
   {
    "duration": 6,
    "start_time": "2021-07-04T19:30:44.917Z"
   },
   {
    "duration": 368,
    "start_time": "2021-07-04T19:30:44.925Z"
   },
   {
    "duration": 4,
    "start_time": "2021-07-04T19:30:45.294Z"
   },
   {
    "duration": 14,
    "start_time": "2021-07-04T19:30:45.299Z"
   },
   {
    "duration": 8,
    "start_time": "2021-07-04T19:30:45.314Z"
   },
   {
    "duration": 17,
    "start_time": "2021-07-04T19:30:45.324Z"
   },
   {
    "duration": 40,
    "start_time": "2021-07-04T19:30:45.343Z"
   },
   {
    "duration": 297,
    "start_time": "2021-07-04T19:30:45.385Z"
   },
   {
    "duration": 391,
    "start_time": "2021-07-04T19:30:45.684Z"
   },
   {
    "duration": 132,
    "start_time": "2021-07-04T19:30:46.077Z"
   },
   {
    "duration": 8,
    "start_time": "2021-07-04T19:30:46.211Z"
   },
   {
    "duration": 303,
    "start_time": "2021-07-04T19:30:46.221Z"
   },
   {
    "duration": 17,
    "start_time": "2021-07-04T19:30:46.526Z"
   },
   {
    "duration": 18,
    "start_time": "2021-07-04T19:30:46.545Z"
   },
   {
    "duration": 304,
    "start_time": "2021-07-04T19:30:46.564Z"
   },
   {
    "duration": 4,
    "start_time": "2021-07-04T19:30:46.870Z"
   },
   {
    "duration": 67,
    "start_time": "2021-07-04T19:30:46.875Z"
   },
   {
    "duration": 62,
    "start_time": "2021-07-04T19:30:46.945Z"
   },
   {
    "duration": 19,
    "start_time": "2021-07-04T19:30:47.008Z"
   },
   {
    "duration": 69,
    "start_time": "2021-07-04T19:30:47.029Z"
   },
   {
    "duration": 82,
    "start_time": "2021-07-04T19:30:47.100Z"
   },
   {
    "duration": 21,
    "start_time": "2021-07-04T19:30:47.184Z"
   },
   {
    "duration": 11,
    "start_time": "2021-07-04T19:30:47.207Z"
   },
   {
    "duration": 132,
    "start_time": "2021-07-04T19:30:47.219Z"
   },
   {
    "duration": 6,
    "start_time": "2021-07-04T19:30:47.355Z"
   },
   {
    "duration": 14,
    "start_time": "2021-07-04T19:30:47.362Z"
   },
   {
    "duration": 13,
    "start_time": "2021-07-04T19:30:47.378Z"
   },
   {
    "duration": 9,
    "start_time": "2021-07-04T19:30:47.393Z"
   },
   {
    "duration": 16,
    "start_time": "2021-07-04T19:30:47.404Z"
   },
   {
    "duration": 24,
    "start_time": "2021-07-04T19:30:47.421Z"
   },
   {
    "duration": 18,
    "start_time": "2021-07-04T19:30:47.447Z"
   },
   {
    "duration": 1318,
    "start_time": "2021-07-05T05:20:08.550Z"
   },
   {
    "duration": 19,
    "start_time": "2021-07-05T05:20:09.870Z"
   },
   {
    "duration": 19,
    "start_time": "2021-07-05T05:20:19.986Z"
   },
   {
    "duration": 17,
    "start_time": "2021-07-05T05:20:21.079Z"
   },
   {
    "duration": 4,
    "start_time": "2021-07-05T05:20:30.150Z"
   },
   {
    "duration": 4,
    "start_time": "2021-07-05T05:20:42.692Z"
   },
   {
    "duration": 392,
    "start_time": "2021-07-05T05:20:58.226Z"
   },
   {
    "duration": 12,
    "start_time": "2021-07-05T05:22:12.667Z"
   },
   {
    "duration": 4,
    "start_time": "2021-07-05T05:22:23.002Z"
   },
   {
    "duration": 11,
    "start_time": "2021-07-05T05:22:24.090Z"
   },
   {
    "duration": 4,
    "start_time": "2021-07-05T05:22:37.223Z"
   },
   {
    "duration": 11,
    "start_time": "2021-07-05T05:22:38.382Z"
   },
   {
    "duration": 4,
    "start_time": "2021-07-05T05:26:42.649Z"
   },
   {
    "duration": 326,
    "start_time": "2021-07-05T05:29:01.941Z"
   },
   {
    "duration": 4,
    "start_time": "2021-07-05T05:29:10.076Z"
   },
   {
    "duration": 12,
    "start_time": "2021-07-05T05:29:10.083Z"
   },
   {
    "duration": 30,
    "start_time": "2021-07-05T05:29:10.097Z"
   },
   {
    "duration": 10,
    "start_time": "2021-07-05T05:29:10.130Z"
   },
   {
    "duration": 24,
    "start_time": "2021-07-05T05:29:10.142Z"
   },
   {
    "duration": 16,
    "start_time": "2021-07-05T05:29:10.168Z"
   },
   {
    "duration": 9,
    "start_time": "2021-07-05T05:29:10.188Z"
   },
   {
    "duration": 78,
    "start_time": "2021-07-05T05:29:10.201Z"
   },
   {
    "duration": 12,
    "start_time": "2021-07-05T05:29:10.281Z"
   },
   {
    "duration": 12,
    "start_time": "2021-07-05T05:29:10.295Z"
   },
   {
    "duration": 12,
    "start_time": "2021-07-05T05:29:10.310Z"
   },
   {
    "duration": 9,
    "start_time": "2021-07-05T05:29:10.325Z"
   },
   {
    "duration": 10,
    "start_time": "2021-07-05T05:29:10.336Z"
   },
   {
    "duration": 9,
    "start_time": "2021-07-05T05:29:10.349Z"
   },
   {
    "duration": 59,
    "start_time": "2021-07-05T05:29:10.361Z"
   },
   {
    "duration": 18,
    "start_time": "2021-07-05T05:29:10.423Z"
   },
   {
    "duration": 18,
    "start_time": "2021-07-05T05:29:10.443Z"
   },
   {
    "duration": 17,
    "start_time": "2021-07-05T05:29:10.463Z"
   },
   {
    "duration": 17,
    "start_time": "2021-07-05T05:29:10.485Z"
   },
   {
    "duration": 15,
    "start_time": "2021-07-05T05:29:10.505Z"
   },
   {
    "duration": 14,
    "start_time": "2021-07-05T05:29:10.523Z"
   },
   {
    "duration": 10,
    "start_time": "2021-07-05T05:29:10.540Z"
   },
   {
    "duration": 8,
    "start_time": "2021-07-05T05:29:10.553Z"
   },
   {
    "duration": 49,
    "start_time": "2021-07-05T05:29:10.564Z"
   },
   {
    "duration": 19,
    "start_time": "2021-07-05T05:29:10.616Z"
   },
   {
    "duration": 9,
    "start_time": "2021-07-05T05:29:10.638Z"
   },
   {
    "duration": 13,
    "start_time": "2021-07-05T05:29:10.650Z"
   },
   {
    "duration": 368,
    "start_time": "2021-07-05T05:29:10.665Z"
   },
   {
    "duration": 15,
    "start_time": "2021-07-05T05:29:11.036Z"
   },
   {
    "duration": 311,
    "start_time": "2021-07-05T05:29:11.054Z"
   },
   {
    "duration": 15,
    "start_time": "2021-07-05T05:29:11.367Z"
   },
   {
    "duration": 26,
    "start_time": "2021-07-05T05:29:11.384Z"
   },
   {
    "duration": 14,
    "start_time": "2021-07-05T05:29:11.415Z"
   },
   {
    "duration": 334,
    "start_time": "2021-07-05T05:29:14.742Z"
   },
   {
    "duration": 5,
    "start_time": "2021-07-05T05:30:37.069Z"
   },
   {
    "duration": 10,
    "start_time": "2021-07-05T05:30:38.085Z"
   },
   {
    "duration": 13,
    "start_time": "2021-07-05T05:31:01.315Z"
   },
   {
    "duration": 13,
    "start_time": "2021-07-05T05:31:19.474Z"
   },
   {
    "duration": 4,
    "start_time": "2021-07-05T05:36:47.414Z"
   },
   {
    "duration": 6,
    "start_time": "2021-07-05T05:36:47.422Z"
   },
   {
    "duration": 19,
    "start_time": "2021-07-05T05:36:47.432Z"
   },
   {
    "duration": 9,
    "start_time": "2021-07-05T05:36:47.454Z"
   },
   {
    "duration": 39,
    "start_time": "2021-07-05T05:36:47.466Z"
   },
   {
    "duration": 4,
    "start_time": "2021-07-05T05:36:47.507Z"
   },
   {
    "duration": 6,
    "start_time": "2021-07-05T05:36:47.515Z"
   },
   {
    "duration": 59,
    "start_time": "2021-07-05T05:36:47.525Z"
   },
   {
    "duration": 20,
    "start_time": "2021-07-05T05:36:47.587Z"
   },
   {
    "duration": 11,
    "start_time": "2021-07-05T05:36:47.610Z"
   },
   {
    "duration": 8,
    "start_time": "2021-07-05T05:36:47.623Z"
   },
   {
    "duration": 12,
    "start_time": "2021-07-05T05:36:47.633Z"
   },
   {
    "duration": 10,
    "start_time": "2021-07-05T05:36:47.648Z"
   },
   {
    "duration": 8,
    "start_time": "2021-07-05T05:36:47.660Z"
   },
   {
    "duration": 19,
    "start_time": "2021-07-05T05:36:47.710Z"
   },
   {
    "duration": 19,
    "start_time": "2021-07-05T05:36:47.732Z"
   },
   {
    "duration": 13,
    "start_time": "2021-07-05T05:36:47.754Z"
   },
   {
    "duration": 38,
    "start_time": "2021-07-05T05:36:47.772Z"
   },
   {
    "duration": 8,
    "start_time": "2021-07-05T05:36:47.817Z"
   },
   {
    "duration": 7,
    "start_time": "2021-07-05T05:36:47.828Z"
   },
   {
    "duration": 7,
    "start_time": "2021-07-05T05:36:47.839Z"
   },
   {
    "duration": 61,
    "start_time": "2021-07-05T05:36:47.849Z"
   },
   {
    "duration": 10,
    "start_time": "2021-07-05T05:36:47.913Z"
   },
   {
    "duration": 18,
    "start_time": "2021-07-05T05:36:47.925Z"
   },
   {
    "duration": 14,
    "start_time": "2021-07-05T05:36:47.945Z"
   },
   {
    "duration": 10,
    "start_time": "2021-07-05T05:36:47.962Z"
   },
   {
    "duration": 41,
    "start_time": "2021-07-05T05:36:47.974Z"
   },
   {
    "duration": 352,
    "start_time": "2021-07-05T05:36:48.017Z"
   },
   {
    "duration": 12,
    "start_time": "2021-07-05T05:36:48.371Z"
   },
   {
    "duration": 289,
    "start_time": "2021-07-05T05:36:48.385Z"
   },
   {
    "duration": 27,
    "start_time": "2021-07-05T05:36:48.676Z"
   },
   {
    "duration": 12,
    "start_time": "2021-07-05T05:36:48.705Z"
   },
   {
    "duration": 16,
    "start_time": "2021-07-05T05:36:48.719Z"
   },
   {
    "duration": 343,
    "start_time": "2021-07-05T05:36:48.738Z"
   },
   {
    "duration": 324,
    "start_time": "2021-07-05T05:36:49.084Z"
   },
   {
    "duration": 9,
    "start_time": "2021-07-05T05:36:49.413Z"
   },
   {
    "duration": 426,
    "start_time": "2021-07-05T05:36:49.425Z"
   },
   {
    "duration": 5,
    "start_time": "2021-07-05T05:36:49.853Z"
   },
   {
    "duration": 9,
    "start_time": "2021-07-05T05:36:49.860Z"
   },
   {
    "duration": 10,
    "start_time": "2021-07-05T05:36:49.872Z"
   },
   {
    "duration": 12,
    "start_time": "2021-07-05T05:36:49.900Z"
   },
   {
    "duration": 6,
    "start_time": "2021-07-05T05:36:49.915Z"
   },
   {
    "duration": 481,
    "start_time": "2021-07-05T05:36:49.923Z"
   },
   {
    "duration": 553,
    "start_time": "2021-07-05T05:36:50.407Z"
   },
   {
    "duration": 203,
    "start_time": "2021-07-05T05:36:50.962Z"
   },
   {
    "duration": 15,
    "start_time": "2021-07-05T05:36:51.168Z"
   },
   {
    "duration": 402,
    "start_time": "2021-07-05T05:36:51.186Z"
   },
   {
    "duration": 15,
    "start_time": "2021-07-05T05:36:51.591Z"
   },
   {
    "duration": 4,
    "start_time": "2021-07-05T05:36:51.613Z"
   },
   {
    "duration": 471,
    "start_time": "2021-07-05T05:36:51.619Z"
   },
   {
    "duration": 16,
    "start_time": "2021-07-05T05:36:52.100Z"
   },
   {
    "duration": 102,
    "start_time": "2021-07-05T05:36:52.119Z"
   },
   {
    "duration": 104,
    "start_time": "2021-07-05T05:36:52.224Z"
   },
   {
    "duration": 24,
    "start_time": "2021-07-05T05:36:52.331Z"
   },
   {
    "duration": 123,
    "start_time": "2021-07-05T05:36:52.357Z"
   },
   {
    "duration": 129,
    "start_time": "2021-07-05T05:36:52.482Z"
   },
   {
    "duration": 39,
    "start_time": "2021-07-05T05:36:52.614Z"
   },
   {
    "duration": 51,
    "start_time": "2021-07-05T05:36:52.656Z"
   },
   {
    "duration": 259,
    "start_time": "2021-07-05T05:36:52.710Z"
   },
   {
    "duration": 29,
    "start_time": "2021-07-05T05:36:52.971Z"
   },
   {
    "duration": 19,
    "start_time": "2021-07-05T05:36:53.002Z"
   },
   {
    "duration": 14,
    "start_time": "2021-07-05T05:36:53.023Z"
   },
   {
    "duration": 14,
    "start_time": "2021-07-05T05:36:53.040Z"
   },
   {
    "duration": 56,
    "start_time": "2021-07-05T05:36:53.056Z"
   },
   {
    "duration": 9,
    "start_time": "2021-07-05T05:36:53.115Z"
   },
   {
    "duration": 20,
    "start_time": "2021-07-05T05:36:53.127Z"
   },
   {
    "duration": 5,
    "start_time": "2021-07-05T05:37:34.388Z"
   },
   {
    "duration": 6,
    "start_time": "2021-07-05T05:37:44.655Z"
   },
   {
    "duration": 554,
    "start_time": "2021-07-05T05:41:03.862Z"
   },
   {
    "duration": 532,
    "start_time": "2021-07-05T05:41:20.797Z"
   },
   {
    "duration": 445,
    "start_time": "2021-07-05T05:41:34.118Z"
   },
   {
    "duration": 5,
    "start_time": "2021-07-05T05:42:57.763Z"
   },
   {
    "duration": 6,
    "start_time": "2021-07-05T05:43:29.339Z"
   },
   {
    "duration": 311,
    "start_time": "2021-07-05T05:55:19.074Z"
   },
   {
    "duration": 19,
    "start_time": "2021-07-05T05:55:39.094Z"
   },
   {
    "duration": 11,
    "start_time": "2021-07-05T05:55:56.924Z"
   },
   {
    "duration": 11,
    "start_time": "2021-07-05T05:56:28.701Z"
   },
   {
    "duration": 8,
    "start_time": "2021-07-05T05:56:40.759Z"
   },
   {
    "duration": 287,
    "start_time": "2021-07-05T05:57:50.637Z"
   },
   {
    "duration": 295,
    "start_time": "2021-07-05T06:00:38.773Z"
   },
   {
    "duration": 6,
    "start_time": "2021-07-05T06:01:27.280Z"
   },
   {
    "duration": 5,
    "start_time": "2021-07-05T06:02:03.026Z"
   },
   {
    "duration": 5,
    "start_time": "2021-07-05T06:02:06.492Z"
   },
   {
    "duration": 6,
    "start_time": "2021-07-05T06:02:18.523Z"
   },
   {
    "duration": 378,
    "start_time": "2021-07-05T06:02:47.165Z"
   },
   {
    "duration": 4,
    "start_time": "2021-07-05T06:03:50.816Z"
   },
   {
    "duration": 6,
    "start_time": "2021-07-05T06:03:56.410Z"
   },
   {
    "duration": 7,
    "start_time": "2021-07-05T06:05:49.517Z"
   },
   {
    "duration": 5,
    "start_time": "2021-07-05T06:06:09.152Z"
   },
   {
    "duration": 14,
    "start_time": "2021-07-05T06:18:39.047Z"
   },
   {
    "duration": 6,
    "start_time": "2021-07-05T06:20:26.071Z"
   },
   {
    "duration": 6,
    "start_time": "2021-07-05T06:20:46.924Z"
   },
   {
    "duration": 5,
    "start_time": "2021-07-05T06:23:53.732Z"
   },
   {
    "duration": 5,
    "start_time": "2021-07-05T06:24:04.022Z"
   },
   {
    "duration": 4,
    "start_time": "2021-07-05T06:25:53.928Z"
   },
   {
    "duration": 6,
    "start_time": "2021-07-05T06:26:02.244Z"
   },
   {
    "duration": 5,
    "start_time": "2021-07-05T06:26:08.030Z"
   },
   {
    "duration": 5,
    "start_time": "2021-07-05T06:26:11.148Z"
   },
   {
    "duration": 152,
    "start_time": "2021-07-05T06:27:26.024Z"
   },
   {
    "duration": 179,
    "start_time": "2021-07-05T06:27:29.954Z"
   },
   {
    "duration": 40,
    "start_time": "2021-07-05T06:32:42.165Z"
   },
   {
    "duration": 21,
    "start_time": "2021-07-05T06:32:50.500Z"
   },
   {
    "duration": 6,
    "start_time": "2021-07-05T06:34:11.960Z"
   },
   {
    "duration": 544,
    "start_time": "2021-07-05T06:34:58.420Z"
   },
   {
    "duration": 9,
    "start_time": "2021-07-05T06:35:57.217Z"
   },
   {
    "duration": 348,
    "start_time": "2021-07-05T06:36:06.720Z"
   },
   {
    "duration": 3,
    "start_time": "2021-07-05T06:36:55.071Z"
   },
   {
    "duration": 7,
    "start_time": "2021-07-05T06:37:02.112Z"
   },
   {
    "duration": 25,
    "start_time": "2021-07-05T06:37:02.123Z"
   },
   {
    "duration": 89,
    "start_time": "2021-07-05T06:37:02.152Z"
   },
   {
    "duration": 25,
    "start_time": "2021-07-05T06:37:02.244Z"
   },
   {
    "duration": 24,
    "start_time": "2021-07-05T06:37:02.272Z"
   },
   {
    "duration": 44,
    "start_time": "2021-07-05T06:37:02.299Z"
   },
   {
    "duration": 21,
    "start_time": "2021-07-05T06:37:02.345Z"
   },
   {
    "duration": 62,
    "start_time": "2021-07-05T06:37:02.370Z"
   },
   {
    "duration": 36,
    "start_time": "2021-07-05T06:37:02.435Z"
   },
   {
    "duration": 15,
    "start_time": "2021-07-05T06:37:02.475Z"
   },
   {
    "duration": 17,
    "start_time": "2021-07-05T06:37:02.493Z"
   },
   {
    "duration": 18,
    "start_time": "2021-07-05T06:37:02.513Z"
   },
   {
    "duration": 29,
    "start_time": "2021-07-05T06:37:02.533Z"
   },
   {
    "duration": 27,
    "start_time": "2021-07-05T06:37:02.565Z"
   },
   {
    "duration": 30,
    "start_time": "2021-07-05T06:37:02.594Z"
   },
   {
    "duration": 22,
    "start_time": "2021-07-05T06:37:02.626Z"
   },
   {
    "duration": 24,
    "start_time": "2021-07-05T06:37:02.650Z"
   },
   {
    "duration": 16,
    "start_time": "2021-07-05T06:37:02.677Z"
   },
   {
    "duration": 13,
    "start_time": "2021-07-05T06:37:02.696Z"
   },
   {
    "duration": 12,
    "start_time": "2021-07-05T06:37:02.712Z"
   },
   {
    "duration": 17,
    "start_time": "2021-07-05T06:37:02.727Z"
   },
   {
    "duration": 10,
    "start_time": "2021-07-05T06:37:02.747Z"
   },
   {
    "duration": 8,
    "start_time": "2021-07-05T06:37:02.761Z"
   },
   {
    "duration": 31,
    "start_time": "2021-07-05T06:37:02.772Z"
   },
   {
    "duration": 11,
    "start_time": "2021-07-05T06:37:02.806Z"
   },
   {
    "duration": 12,
    "start_time": "2021-07-05T06:37:02.820Z"
   },
   {
    "duration": 7,
    "start_time": "2021-07-05T06:37:02.834Z"
   },
   {
    "duration": 27,
    "start_time": "2021-07-05T06:37:02.844Z"
   },
   {
    "duration": 7,
    "start_time": "2021-07-05T06:37:02.901Z"
   },
   {
    "duration": 21,
    "start_time": "2021-07-05T06:37:06.104Z"
   },
   {
    "duration": 7,
    "start_time": "2021-07-05T06:37:16.666Z"
   },
   {
    "duration": 19,
    "start_time": "2021-07-05T06:37:18.454Z"
   },
   {
    "duration": 4,
    "start_time": "2021-07-05T06:38:07.585Z"
   },
   {
    "duration": 5,
    "start_time": "2021-07-05T06:38:07.593Z"
   },
   {
    "duration": 22,
    "start_time": "2021-07-05T06:38:07.602Z"
   },
   {
    "duration": 6,
    "start_time": "2021-07-05T06:38:07.627Z"
   },
   {
    "duration": 13,
    "start_time": "2021-07-05T06:38:07.636Z"
   },
   {
    "duration": 5,
    "start_time": "2021-07-05T06:38:07.652Z"
   },
   {
    "duration": 43,
    "start_time": "2021-07-05T06:38:07.661Z"
   },
   {
    "duration": 48,
    "start_time": "2021-07-05T06:38:07.708Z"
   },
   {
    "duration": 12,
    "start_time": "2021-07-05T06:38:07.759Z"
   },
   {
    "duration": 7,
    "start_time": "2021-07-05T06:38:07.773Z"
   },
   {
    "duration": 10,
    "start_time": "2021-07-05T06:38:07.782Z"
   },
   {
    "duration": 15,
    "start_time": "2021-07-05T06:38:07.794Z"
   },
   {
    "duration": 12,
    "start_time": "2021-07-05T06:38:07.812Z"
   },
   {
    "duration": 10,
    "start_time": "2021-07-05T06:38:07.827Z"
   },
   {
    "duration": 29,
    "start_time": "2021-07-05T06:38:07.839Z"
   },
   {
    "duration": 24,
    "start_time": "2021-07-05T06:38:07.900Z"
   },
   {
    "duration": 16,
    "start_time": "2021-07-05T06:38:07.927Z"
   },
   {
    "duration": 31,
    "start_time": "2021-07-05T06:38:07.947Z"
   },
   {
    "duration": 13,
    "start_time": "2021-07-05T06:38:07.981Z"
   },
   {
    "duration": 18,
    "start_time": "2021-07-05T06:38:07.997Z"
   },
   {
    "duration": 34,
    "start_time": "2021-07-05T06:38:08.018Z"
   },
   {
    "duration": 18,
    "start_time": "2021-07-05T06:38:08.054Z"
   },
   {
    "duration": 12,
    "start_time": "2021-07-05T06:38:08.075Z"
   },
   {
    "duration": 14,
    "start_time": "2021-07-05T06:38:08.090Z"
   },
   {
    "duration": 10,
    "start_time": "2021-07-05T06:38:08.107Z"
   },
   {
    "duration": 15,
    "start_time": "2021-07-05T06:38:08.120Z"
   },
   {
    "duration": 10,
    "start_time": "2021-07-05T06:38:08.137Z"
   },
   {
    "duration": 23,
    "start_time": "2021-07-05T06:38:08.149Z"
   },
   {
    "duration": 30,
    "start_time": "2021-07-05T06:38:08.174Z"
   },
   {
    "duration": 9,
    "start_time": "2021-07-05T06:38:15.683Z"
   },
   {
    "duration": 22,
    "start_time": "2021-07-05T06:38:18.384Z"
   },
   {
    "duration": 17,
    "start_time": "2021-07-05T06:38:35.969Z"
   },
   {
    "duration": 15,
    "start_time": "2021-07-05T06:39:52.304Z"
   },
   {
    "duration": 12,
    "start_time": "2021-07-05T06:40:04.411Z"
   },
   {
    "duration": 8,
    "start_time": "2021-07-05T06:40:04.427Z"
   },
   {
    "duration": 21,
    "start_time": "2021-07-05T06:40:04.437Z"
   },
   {
    "duration": 6,
    "start_time": "2021-07-05T06:40:04.461Z"
   },
   {
    "duration": 32,
    "start_time": "2021-07-05T06:40:04.470Z"
   },
   {
    "duration": 10,
    "start_time": "2021-07-05T06:40:04.506Z"
   },
   {
    "duration": 14,
    "start_time": "2021-07-05T06:40:04.519Z"
   },
   {
    "duration": 39,
    "start_time": "2021-07-05T06:40:04.538Z"
   },
   {
    "duration": 12,
    "start_time": "2021-07-05T06:40:04.581Z"
   },
   {
    "duration": 6,
    "start_time": "2021-07-05T06:40:04.596Z"
   },
   {
    "duration": 10,
    "start_time": "2021-07-05T06:40:04.606Z"
   },
   {
    "duration": 14,
    "start_time": "2021-07-05T06:40:04.619Z"
   },
   {
    "duration": 10,
    "start_time": "2021-07-05T06:40:04.636Z"
   },
   {
    "duration": 10,
    "start_time": "2021-07-05T06:40:04.648Z"
   },
   {
    "duration": 61,
    "start_time": "2021-07-05T06:40:04.661Z"
   },
   {
    "duration": 23,
    "start_time": "2021-07-05T06:40:04.725Z"
   },
   {
    "duration": 13,
    "start_time": "2021-07-05T06:40:04.750Z"
   },
   {
    "duration": 11,
    "start_time": "2021-07-05T06:40:04.766Z"
   },
   {
    "duration": 32,
    "start_time": "2021-07-05T06:40:04.780Z"
   },
   {
    "duration": 11,
    "start_time": "2021-07-05T06:40:04.814Z"
   },
   {
    "duration": 14,
    "start_time": "2021-07-05T06:40:04.828Z"
   },
   {
    "duration": 7,
    "start_time": "2021-07-05T06:40:04.845Z"
   },
   {
    "duration": 7,
    "start_time": "2021-07-05T06:40:04.857Z"
   },
   {
    "duration": 36,
    "start_time": "2021-07-05T06:40:04.867Z"
   },
   {
    "duration": 5,
    "start_time": "2021-07-05T06:40:04.907Z"
   },
   {
    "duration": 11,
    "start_time": "2021-07-05T06:40:04.915Z"
   },
   {
    "duration": 9,
    "start_time": "2021-07-05T06:40:04.928Z"
   },
   {
    "duration": 17,
    "start_time": "2021-07-05T06:40:14.904Z"
   },
   {
    "duration": 1437,
    "start_time": "2021-07-07T06:52:43.214Z"
   },
   {
    "duration": 4,
    "start_time": "2021-07-07T06:52:44.655Z"
   },
   {
    "duration": 36,
    "start_time": "2021-07-07T06:52:44.663Z"
   },
   {
    "duration": 22,
    "start_time": "2021-07-07T06:52:44.702Z"
   },
   {
    "duration": 25,
    "start_time": "2021-07-07T06:52:44.727Z"
   },
   {
    "duration": 8,
    "start_time": "2021-07-07T06:52:44.755Z"
   },
   {
    "duration": 20,
    "start_time": "2021-07-07T06:52:44.766Z"
   },
   {
    "duration": 57,
    "start_time": "2021-07-07T06:52:44.792Z"
   },
   {
    "duration": 31,
    "start_time": "2021-07-07T06:52:44.852Z"
   },
   {
    "duration": 20,
    "start_time": "2021-07-07T06:52:44.885Z"
   },
   {
    "duration": 22,
    "start_time": "2021-07-07T06:52:44.907Z"
   },
   {
    "duration": 26,
    "start_time": "2021-07-07T06:52:44.931Z"
   },
   {
    "duration": 19,
    "start_time": "2021-07-07T06:52:44.960Z"
   },
   {
    "duration": 39,
    "start_time": "2021-07-07T06:52:44.981Z"
   },
   {
    "duration": 52,
    "start_time": "2021-07-07T06:52:45.023Z"
   },
   {
    "duration": 41,
    "start_time": "2021-07-07T06:52:45.078Z"
   },
   {
    "duration": 25,
    "start_time": "2021-07-07T06:52:45.121Z"
   },
   {
    "duration": 24,
    "start_time": "2021-07-07T06:52:45.149Z"
   },
   {
    "duration": 21,
    "start_time": "2021-07-07T06:52:45.175Z"
   },
   {
    "duration": 34,
    "start_time": "2021-07-07T06:52:45.198Z"
   },
   {
    "duration": 29,
    "start_time": "2021-07-07T06:52:45.235Z"
   },
   {
    "duration": 24,
    "start_time": "2021-07-07T06:52:45.266Z"
   },
   {
    "duration": 20,
    "start_time": "2021-07-07T06:52:45.296Z"
   },
   {
    "duration": 28,
    "start_time": "2021-07-07T06:52:45.320Z"
   },
   {
    "duration": 18,
    "start_time": "2021-07-07T06:52:45.351Z"
   },
   {
    "duration": 32,
    "start_time": "2021-07-07T06:52:45.372Z"
   },
   {
    "duration": 22,
    "start_time": "2021-07-07T06:52:45.406Z"
   },
   {
    "duration": 29,
    "start_time": "2021-07-07T06:52:45.431Z"
   },
   {
    "duration": 31,
    "start_time": "2021-07-07T06:52:45.463Z"
   },
   {
    "duration": 22,
    "start_time": "2021-07-07T06:52:45.496Z"
   },
   {
    "duration": 45,
    "start_time": "2021-07-07T06:52:45.520Z"
   },
   {
    "duration": 114,
    "start_time": "2021-07-07T06:52:45.568Z"
   },
   {
    "duration": -514,
    "start_time": "2021-07-07T06:52:46.199Z"
   },
   {
    "duration": -534,
    "start_time": "2021-07-07T06:52:46.221Z"
   },
   {
    "duration": -544,
    "start_time": "2021-07-07T06:52:46.232Z"
   },
   {
    "duration": -553,
    "start_time": "2021-07-07T06:52:46.242Z"
   },
   {
    "duration": -561,
    "start_time": "2021-07-07T06:52:46.252Z"
   },
   {
    "duration": -568,
    "start_time": "2021-07-07T06:52:46.260Z"
   },
   {
    "duration": -576,
    "start_time": "2021-07-07T06:52:46.269Z"
   },
   {
    "duration": -583,
    "start_time": "2021-07-07T06:52:46.278Z"
   },
   {
    "duration": -734,
    "start_time": "2021-07-07T06:52:46.430Z"
   },
   {
    "duration": -744,
    "start_time": "2021-07-07T06:52:46.441Z"
   },
   {
    "duration": -751,
    "start_time": "2021-07-07T06:52:46.450Z"
   },
   {
    "duration": -757,
    "start_time": "2021-07-07T06:52:46.457Z"
   },
   {
    "duration": -769,
    "start_time": "2021-07-07T06:52:46.470Z"
   },
   {
    "duration": -777,
    "start_time": "2021-07-07T06:52:46.479Z"
   },
   {
    "duration": -779,
    "start_time": "2021-07-07T06:52:46.483Z"
   },
   {
    "duration": -786,
    "start_time": "2021-07-07T06:52:46.491Z"
   },
   {
    "duration": -790,
    "start_time": "2021-07-07T06:52:46.496Z"
   },
   {
    "duration": -943,
    "start_time": "2021-07-07T06:52:46.651Z"
   },
   {
    "duration": -962,
    "start_time": "2021-07-07T06:52:46.671Z"
   },
   {
    "duration": -969,
    "start_time": "2021-07-07T06:52:46.679Z"
   },
   {
    "duration": -976,
    "start_time": "2021-07-07T06:52:46.688Z"
   },
   {
    "duration": -982,
    "start_time": "2021-07-07T06:52:46.695Z"
   },
   {
    "duration": -988,
    "start_time": "2021-07-07T06:52:46.702Z"
   },
   {
    "duration": -991,
    "start_time": "2021-07-07T06:52:46.707Z"
   },
   {
    "duration": -996,
    "start_time": "2021-07-07T06:52:46.713Z"
   },
   {
    "duration": -1004,
    "start_time": "2021-07-07T06:52:46.722Z"
   },
   {
    "duration": -1007,
    "start_time": "2021-07-07T06:52:46.727Z"
   },
   {
    "duration": -1012,
    "start_time": "2021-07-07T06:52:46.733Z"
   },
   {
    "duration": -1016,
    "start_time": "2021-07-07T06:52:46.738Z"
   },
   {
    "duration": -1021,
    "start_time": "2021-07-07T06:52:46.744Z"
   },
   {
    "duration": -1025,
    "start_time": "2021-07-07T06:52:46.749Z"
   },
   {
    "duration": -1003,
    "start_time": "2021-07-07T06:52:46.757Z"
   },
   {
    "duration": -1007,
    "start_time": "2021-07-07T06:52:46.762Z"
   },
   {
    "duration": -1020,
    "start_time": "2021-07-07T06:52:46.776Z"
   },
   {
    "duration": -1022,
    "start_time": "2021-07-07T06:52:46.780Z"
   },
   {
    "duration": -1026,
    "start_time": "2021-07-07T06:52:46.785Z"
   },
   {
    "duration": -1030,
    "start_time": "2021-07-07T06:52:46.791Z"
   },
   {
    "duration": -1033,
    "start_time": "2021-07-07T06:52:46.795Z"
   },
   {
    "duration": -1037,
    "start_time": "2021-07-07T06:52:46.800Z"
   },
   {
    "duration": -1040,
    "start_time": "2021-07-07T06:52:46.805Z"
   },
   {
    "duration": -1044,
    "start_time": "2021-07-07T06:52:46.810Z"
   },
   {
    "duration": -1049,
    "start_time": "2021-07-07T06:52:46.816Z"
   },
   {
    "duration": -1052,
    "start_time": "2021-07-07T06:52:46.821Z"
   },
   {
    "duration": -1056,
    "start_time": "2021-07-07T06:52:46.826Z"
   },
   {
    "duration": -1060,
    "start_time": "2021-07-07T06:52:46.831Z"
   },
   {
    "duration": -1062,
    "start_time": "2021-07-07T06:52:46.835Z"
   },
   {
    "duration": 6,
    "start_time": "2021-07-07T06:53:02.616Z"
   },
   {
    "duration": 13,
    "start_time": "2021-07-07T06:53:06.605Z"
   },
   {
    "duration": 5,
    "start_time": "2021-07-07T06:53:56.438Z"
   },
   {
    "duration": 13,
    "start_time": "2021-07-07T06:53:58.735Z"
   },
   {
    "duration": 6,
    "start_time": "2021-07-07T06:55:15.075Z"
   },
   {
    "duration": 14,
    "start_time": "2021-07-07T06:55:15.362Z"
   },
   {
    "duration": 15,
    "start_time": "2021-07-07T06:55:15.557Z"
   },
   {
    "duration": 9,
    "start_time": "2021-07-07T06:55:19.217Z"
   },
   {
    "duration": 11,
    "start_time": "2021-07-07T06:55:19.736Z"
   },
   {
    "duration": 436,
    "start_time": "2021-07-07T06:55:20.571Z"
   },
   {
    "duration": 11,
    "start_time": "2021-07-07T06:55:21.010Z"
   },
   {
    "duration": 273,
    "start_time": "2021-07-07T06:55:21.424Z"
   },
   {
    "duration": 11,
    "start_time": "2021-07-07T06:55:21.699Z"
   },
   {
    "duration": 10,
    "start_time": "2021-07-07T06:55:22.208Z"
   },
   {
    "duration": 13,
    "start_time": "2021-07-07T06:55:22.604Z"
   },
   {
    "duration": 330,
    "start_time": "2021-07-07T06:55:23.551Z"
   },
   {
    "duration": 316,
    "start_time": "2021-07-07T06:55:50.876Z"
   },
   {
    "duration": 329,
    "start_time": "2021-07-07T06:56:03.191Z"
   },
   {
    "duration": 338,
    "start_time": "2021-07-07T06:56:09.099Z"
   },
   {
    "duration": 703,
    "start_time": "2021-07-07T06:57:02.642Z"
   },
   {
    "duration": 877,
    "start_time": "2021-07-07T06:58:18.098Z"
   },
   {
    "duration": 335,
    "start_time": "2021-07-07T06:59:00.990Z"
   },
   {
    "duration": 425,
    "start_time": "2021-07-07T06:59:42.574Z"
   },
   {
    "duration": 475,
    "start_time": "2021-07-07T07:02:48.035Z"
   },
   {
    "duration": 444,
    "start_time": "2021-07-07T07:02:52.754Z"
   },
   {
    "duration": 470,
    "start_time": "2021-07-07T07:04:49.831Z"
   },
   {
    "duration": 338,
    "start_time": "2021-07-07T07:04:50.304Z"
   },
   {
    "duration": 10,
    "start_time": "2021-07-07T07:04:50.645Z"
   },
   {
    "duration": 411,
    "start_time": "2021-07-07T07:04:50.658Z"
   },
   {
    "duration": 5,
    "start_time": "2021-07-07T07:04:51.071Z"
   },
   {
    "duration": 32,
    "start_time": "2021-07-07T07:04:51.078Z"
   },
   {
    "duration": 27,
    "start_time": "2021-07-07T07:04:51.112Z"
   },
   {
    "duration": 29,
    "start_time": "2021-07-07T07:04:51.143Z"
   },
   {
    "duration": 17,
    "start_time": "2021-07-07T07:04:51.175Z"
   },
   {
    "duration": 427,
    "start_time": "2021-07-07T07:04:51.194Z"
   },
   {
    "duration": 628,
    "start_time": "2021-07-07T07:04:51.623Z"
   },
   {
    "duration": 190,
    "start_time": "2021-07-07T07:04:52.254Z"
   },
   {
    "duration": 13,
    "start_time": "2021-07-07T07:04:52.446Z"
   },
   {
    "duration": 410,
    "start_time": "2021-07-07T07:04:52.461Z"
   },
   {
    "duration": 7,
    "start_time": "2021-07-07T07:04:52.873Z"
   },
   {
    "duration": 26,
    "start_time": "2021-07-07T07:04:52.882Z"
   },
   {
    "duration": 667,
    "start_time": "2021-07-07T07:04:52.910Z"
   },
   {
    "duration": 22,
    "start_time": "2021-07-07T07:04:53.580Z"
   },
   {
    "duration": 185,
    "start_time": "2021-07-07T07:04:53.626Z"
   },
   {
    "duration": 127,
    "start_time": "2021-07-07T07:04:53.822Z"
   },
   {
    "duration": 21,
    "start_time": "2021-07-07T07:04:53.955Z"
   },
   {
    "duration": 121,
    "start_time": "2021-07-07T07:04:53.978Z"
   },
   {
    "duration": 137,
    "start_time": "2021-07-07T07:04:54.103Z"
   },
   {
    "duration": 53,
    "start_time": "2021-07-07T07:04:54.243Z"
   },
   {
    "duration": 24,
    "start_time": "2021-07-07T07:04:54.299Z"
   },
   {
    "duration": 266,
    "start_time": "2021-07-07T07:04:54.326Z"
   },
   {
    "duration": 10,
    "start_time": "2021-07-07T07:04:54.595Z"
   },
   {
    "duration": 21,
    "start_time": "2021-07-07T07:04:54.607Z"
   },
   {
    "duration": 15,
    "start_time": "2021-07-07T07:04:54.653Z"
   },
   {
    "duration": 16,
    "start_time": "2021-07-07T07:04:54.671Z"
   },
   {
    "duration": 24,
    "start_time": "2021-07-07T07:04:54.690Z"
   },
   {
    "duration": 41,
    "start_time": "2021-07-07T07:04:54.717Z"
   },
   {
    "duration": 37,
    "start_time": "2021-07-07T07:04:54.760Z"
   },
   {
    "duration": 347,
    "start_time": "2021-07-07T07:05:11.771Z"
   },
   {
    "duration": 336,
    "start_time": "2021-07-07T07:05:44.304Z"
   },
   {
    "duration": 509,
    "start_time": "2021-07-07T07:07:04.691Z"
   },
   {
    "duration": 459,
    "start_time": "2021-07-07T07:07:33.228Z"
   },
   {
    "duration": 409,
    "start_time": "2021-07-07T07:07:49.975Z"
   },
   {
    "duration": 438,
    "start_time": "2021-07-07T07:07:58.725Z"
   },
   {
    "duration": 383,
    "start_time": "2021-07-07T07:08:07.496Z"
   },
   {
    "duration": 447,
    "start_time": "2021-07-07T07:09:28.346Z"
   },
   {
    "duration": 524,
    "start_time": "2021-07-07T07:10:07.527Z"
   },
   {
    "duration": 512,
    "start_time": "2021-07-07T07:11:26.061Z"
   },
   {
    "duration": 105,
    "start_time": "2021-07-07T07:11:31.257Z"
   },
   {
    "duration": 379,
    "start_time": "2021-07-07T07:11:34.701Z"
   },
   {
    "duration": 420,
    "start_time": "2021-07-07T07:12:50.736Z"
   },
   {
    "duration": 392,
    "start_time": "2021-07-07T07:12:57.712Z"
   },
   {
    "duration": 455,
    "start_time": "2021-07-07T07:15:54.325Z"
   },
   {
    "duration": 1321,
    "start_time": "2021-07-08T06:37:58.288Z"
   },
   {
    "duration": 3,
    "start_time": "2021-07-08T06:37:59.612Z"
   },
   {
    "duration": 22,
    "start_time": "2021-07-08T06:37:59.618Z"
   },
   {
    "duration": 9,
    "start_time": "2021-07-08T06:37:59.642Z"
   },
   {
    "duration": 16,
    "start_time": "2021-07-08T06:37:59.656Z"
   },
   {
    "duration": 4,
    "start_time": "2021-07-08T06:37:59.675Z"
   },
   {
    "duration": 10,
    "start_time": "2021-07-08T06:37:59.681Z"
   },
   {
    "duration": 56,
    "start_time": "2021-07-08T06:37:59.694Z"
   },
   {
    "duration": 11,
    "start_time": "2021-07-08T06:37:59.753Z"
   },
   {
    "duration": 9,
    "start_time": "2021-07-08T06:37:59.766Z"
   },
   {
    "duration": 13,
    "start_time": "2021-07-08T06:37:59.777Z"
   },
   {
    "duration": 11,
    "start_time": "2021-07-08T06:37:59.792Z"
   },
   {
    "duration": 9,
    "start_time": "2021-07-08T06:37:59.805Z"
   },
   {
    "duration": 40,
    "start_time": "2021-07-08T06:37:59.817Z"
   },
   {
    "duration": 26,
    "start_time": "2021-07-08T06:37:59.859Z"
   },
   {
    "duration": 23,
    "start_time": "2021-07-08T06:37:59.887Z"
   },
   {
    "duration": 10,
    "start_time": "2021-07-08T06:37:59.912Z"
   },
   {
    "duration": 12,
    "start_time": "2021-07-08T06:37:59.924Z"
   },
   {
    "duration": 19,
    "start_time": "2021-07-08T06:37:59.938Z"
   },
   {
    "duration": 5,
    "start_time": "2021-07-08T06:37:59.959Z"
   },
   {
    "duration": 10,
    "start_time": "2021-07-08T06:37:59.967Z"
   },
   {
    "duration": 7,
    "start_time": "2021-07-08T06:37:59.979Z"
   },
   {
    "duration": 5,
    "start_time": "2021-07-08T06:37:59.991Z"
   },
   {
    "duration": 6,
    "start_time": "2021-07-08T06:37:59.999Z"
   },
   {
    "duration": 60,
    "start_time": "2021-07-08T06:38:00.007Z"
   },
   {
    "duration": 12,
    "start_time": "2021-07-08T06:38:00.069Z"
   },
   {
    "duration": 19,
    "start_time": "2021-07-08T06:38:00.083Z"
   },
   {
    "duration": 32,
    "start_time": "2021-07-08T06:38:00.104Z"
   },
   {
    "duration": 13,
    "start_time": "2021-07-08T06:38:00.139Z"
   },
   {
    "duration": 15,
    "start_time": "2021-07-08T06:38:00.154Z"
   },
   {
    "duration": 19,
    "start_time": "2021-07-08T06:38:00.172Z"
   },
   {
    "duration": 109,
    "start_time": "2021-07-08T06:38:00.194Z"
   },
   {
    "duration": -1123,
    "start_time": "2021-07-08T06:38:01.429Z"
   },
   {
    "duration": -1137,
    "start_time": "2021-07-08T06:38:01.445Z"
   },
   {
    "duration": -1151,
    "start_time": "2021-07-08T06:38:01.460Z"
   },
   {
    "duration": -1167,
    "start_time": "2021-07-08T06:38:01.477Z"
   },
   {
    "duration": -1185,
    "start_time": "2021-07-08T06:38:01.496Z"
   },
   {
    "duration": -1203,
    "start_time": "2021-07-08T06:38:01.516Z"
   },
   {
    "duration": -1219,
    "start_time": "2021-07-08T06:38:01.533Z"
   },
   {
    "duration": -1233,
    "start_time": "2021-07-08T06:38:01.548Z"
   },
   {
    "duration": -1243,
    "start_time": "2021-07-08T06:38:01.560Z"
   },
   {
    "duration": -1247,
    "start_time": "2021-07-08T06:38:01.565Z"
   },
   {
    "duration": -1259,
    "start_time": "2021-07-08T06:38:01.578Z"
   },
   {
    "duration": -1265,
    "start_time": "2021-07-08T06:38:01.586Z"
   },
   {
    "duration": -1277,
    "start_time": "2021-07-08T06:38:01.599Z"
   },
   {
    "duration": -1289,
    "start_time": "2021-07-08T06:38:01.612Z"
   },
   {
    "duration": -1371,
    "start_time": "2021-07-08T06:38:01.696Z"
   },
   {
    "duration": -1383,
    "start_time": "2021-07-08T06:38:01.709Z"
   },
   {
    "duration": -1396,
    "start_time": "2021-07-08T06:38:01.724Z"
   },
   {
    "duration": -1412,
    "start_time": "2021-07-08T06:38:01.741Z"
   },
   {
    "duration": -1460,
    "start_time": "2021-07-08T06:38:01.791Z"
   },
   {
    "duration": -1465,
    "start_time": "2021-07-08T06:38:01.797Z"
   },
   {
    "duration": -1503,
    "start_time": "2021-07-08T06:38:01.837Z"
   },
   {
    "duration": -1512,
    "start_time": "2021-07-08T06:38:01.847Z"
   },
   {
    "duration": -1553,
    "start_time": "2021-07-08T06:38:01.890Z"
   },
   {
    "duration": -1560,
    "start_time": "2021-07-08T06:38:01.898Z"
   },
   {
    "duration": -1600,
    "start_time": "2021-07-08T06:38:01.940Z"
   },
   {
    "duration": -1606,
    "start_time": "2021-07-08T06:38:01.947Z"
   },
   {
    "duration": -1640,
    "start_time": "2021-07-08T06:38:01.982Z"
   },
   {
    "duration": -1653,
    "start_time": "2021-07-08T06:38:01.996Z"
   },
   {
    "duration": -1675,
    "start_time": "2021-07-08T06:38:02.033Z"
   },
   {
    "duration": -1705,
    "start_time": "2021-07-08T06:38:02.064Z"
   },
   {
    "duration": -1754,
    "start_time": "2021-07-08T06:38:02.115Z"
   },
   {
    "duration": -1767,
    "start_time": "2021-07-08T06:38:02.129Z"
   },
   {
    "duration": -1802,
    "start_time": "2021-07-08T06:38:02.166Z"
   },
   {
    "duration": -1826,
    "start_time": "2021-07-08T06:38:02.191Z"
   },
   {
    "duration": -1865,
    "start_time": "2021-07-08T06:38:02.232Z"
   },
   {
    "duration": -1878,
    "start_time": "2021-07-08T06:38:02.246Z"
   },
   {
    "duration": -1884,
    "start_time": "2021-07-08T06:38:02.253Z"
   },
   {
    "duration": -1888,
    "start_time": "2021-07-08T06:38:02.259Z"
   },
   {
    "duration": -1893,
    "start_time": "2021-07-08T06:38:02.265Z"
   },
   {
    "duration": -1898,
    "start_time": "2021-07-08T06:38:02.271Z"
   },
   {
    "duration": -1903,
    "start_time": "2021-07-08T06:38:02.277Z"
   },
   {
    "duration": -1907,
    "start_time": "2021-07-08T06:38:02.282Z"
   },
   {
    "duration": -1910,
    "start_time": "2021-07-08T06:38:02.287Z"
   },
   {
    "duration": -1914,
    "start_time": "2021-07-08T06:38:02.293Z"
   },
   {
    "duration": -1917,
    "start_time": "2021-07-08T06:38:02.298Z"
   },
   {
    "duration": -1922,
    "start_time": "2021-07-08T06:38:02.304Z"
   },
   {
    "duration": 4,
    "start_time": "2021-07-08T06:59:49.379Z"
   },
   {
    "duration": 8,
    "start_time": "2021-07-08T06:59:49.385Z"
   },
   {
    "duration": 22,
    "start_time": "2021-07-08T06:59:49.396Z"
   },
   {
    "duration": 5,
    "start_time": "2021-07-08T06:59:49.420Z"
   },
   {
    "duration": 14,
    "start_time": "2021-07-08T06:59:49.427Z"
   },
   {
    "duration": 8,
    "start_time": "2021-07-08T06:59:49.443Z"
   },
   {
    "duration": 5,
    "start_time": "2021-07-08T06:59:49.457Z"
   },
   {
    "duration": 69,
    "start_time": "2021-07-08T06:59:49.464Z"
   },
   {
    "duration": 12,
    "start_time": "2021-07-08T06:59:49.535Z"
   },
   {
    "duration": 8,
    "start_time": "2021-07-08T06:59:49.550Z"
   },
   {
    "duration": 12,
    "start_time": "2021-07-08T06:59:49.561Z"
   },
   {
    "duration": 11,
    "start_time": "2021-07-08T06:59:49.575Z"
   },
   {
    "duration": 9,
    "start_time": "2021-07-08T06:59:49.589Z"
   },
   {
    "duration": 9,
    "start_time": "2021-07-08T06:59:49.601Z"
   },
   {
    "duration": 57,
    "start_time": "2021-07-08T06:59:49.612Z"
   },
   {
    "duration": 22,
    "start_time": "2021-07-08T06:59:49.672Z"
   },
   {
    "duration": 11,
    "start_time": "2021-07-08T06:59:49.696Z"
   },
   {
    "duration": 10,
    "start_time": "2021-07-08T06:59:49.714Z"
   },
   {
    "duration": 8,
    "start_time": "2021-07-08T06:59:49.757Z"
   },
   {
    "duration": 6,
    "start_time": "2021-07-08T06:59:49.768Z"
   },
   {
    "duration": 10,
    "start_time": "2021-07-08T06:59:49.776Z"
   },
   {
    "duration": 9,
    "start_time": "2021-07-08T06:59:49.788Z"
   },
   {
    "duration": 7,
    "start_time": "2021-07-08T06:59:49.800Z"
   },
   {
    "duration": 47,
    "start_time": "2021-07-08T06:59:49.809Z"
   },
   {
    "duration": 4,
    "start_time": "2021-07-08T06:59:49.859Z"
   },
   {
    "duration": 10,
    "start_time": "2021-07-08T06:59:49.865Z"
   },
   {
    "duration": 7,
    "start_time": "2021-07-08T06:59:49.877Z"
   },
   {
    "duration": 17,
    "start_time": "2021-07-08T06:59:49.886Z"
   },
   {
    "duration": 5,
    "start_time": "2021-07-08T06:59:49.907Z"
   },
   {
    "duration": 48,
    "start_time": "2021-07-08T06:59:49.914Z"
   },
   {
    "duration": 14,
    "start_time": "2021-07-08T06:59:49.964Z"
   },
   {
    "duration": 98,
    "start_time": "2021-07-08T06:59:49.980Z"
   },
   {
    "duration": -956,
    "start_time": "2021-07-08T06:59:51.038Z"
   },
   {
    "duration": -960,
    "start_time": "2021-07-08T06:59:51.043Z"
   },
   {
    "duration": -968,
    "start_time": "2021-07-08T06:59:51.052Z"
   },
   {
    "duration": -972,
    "start_time": "2021-07-08T06:59:51.057Z"
   },
   {
    "duration": -977,
    "start_time": "2021-07-08T06:59:51.064Z"
   },
   {
    "duration": -981,
    "start_time": "2021-07-08T06:59:51.069Z"
   },
   {
    "duration": -985,
    "start_time": "2021-07-08T06:59:51.074Z"
   },
   {
    "duration": -988,
    "start_time": "2021-07-08T06:59:51.078Z"
   },
   {
    "duration": -993,
    "start_time": "2021-07-08T06:59:51.084Z"
   },
   {
    "duration": -996,
    "start_time": "2021-07-08T06:59:51.089Z"
   },
   {
    "duration": -1000,
    "start_time": "2021-07-08T06:59:51.094Z"
   },
   {
    "duration": -1004,
    "start_time": "2021-07-08T06:59:51.099Z"
   },
   {
    "duration": -1007,
    "start_time": "2021-07-08T06:59:51.104Z"
   },
   {
    "duration": -1010,
    "start_time": "2021-07-08T06:59:51.108Z"
   },
   {
    "duration": -1014,
    "start_time": "2021-07-08T06:59:51.114Z"
   },
   {
    "duration": -1018,
    "start_time": "2021-07-08T06:59:51.119Z"
   },
   {
    "duration": -1033,
    "start_time": "2021-07-08T06:59:51.136Z"
   },
   {
    "duration": -1039,
    "start_time": "2021-07-08T06:59:51.143Z"
   },
   {
    "duration": -1043,
    "start_time": "2021-07-08T06:59:51.149Z"
   },
   {
    "duration": -1046,
    "start_time": "2021-07-08T06:59:51.154Z"
   },
   {
    "duration": -1050,
    "start_time": "2021-07-08T06:59:51.159Z"
   },
   {
    "duration": -1052,
    "start_time": "2021-07-08T06:59:51.163Z"
   },
   {
    "duration": -1057,
    "start_time": "2021-07-08T06:59:51.169Z"
   },
   {
    "duration": -1060,
    "start_time": "2021-07-08T06:59:51.174Z"
   },
   {
    "duration": -1064,
    "start_time": "2021-07-08T06:59:51.179Z"
   },
   {
    "duration": -1068,
    "start_time": "2021-07-08T06:59:51.185Z"
   },
   {
    "duration": -1073,
    "start_time": "2021-07-08T06:59:51.191Z"
   },
   {
    "duration": -1040,
    "start_time": "2021-07-08T06:59:51.195Z"
   },
   {
    "duration": -1044,
    "start_time": "2021-07-08T06:59:51.201Z"
   },
   {
    "duration": -1046,
    "start_time": "2021-07-08T06:59:51.205Z"
   },
   {
    "duration": -1050,
    "start_time": "2021-07-08T06:59:51.210Z"
   },
   {
    "duration": -1053,
    "start_time": "2021-07-08T06:59:51.215Z"
   },
   {
    "duration": -1056,
    "start_time": "2021-07-08T06:59:51.220Z"
   },
   {
    "duration": -1060,
    "start_time": "2021-07-08T06:59:51.225Z"
   },
   {
    "duration": -1064,
    "start_time": "2021-07-08T06:59:51.230Z"
   },
   {
    "duration": -1077,
    "start_time": "2021-07-08T06:59:51.245Z"
   },
   {
    "duration": -1083,
    "start_time": "2021-07-08T06:59:51.252Z"
   },
   {
    "duration": -1086,
    "start_time": "2021-07-08T06:59:51.257Z"
   },
   {
    "duration": -1090,
    "start_time": "2021-07-08T06:59:51.262Z"
   },
   {
    "duration": -1095,
    "start_time": "2021-07-08T06:59:51.268Z"
   },
   {
    "duration": 432,
    "start_time": "2021-07-08T07:00:14.641Z"
   },
   {
    "duration": 4,
    "start_time": "2021-07-08T07:01:07.043Z"
   },
   {
    "duration": 12,
    "start_time": "2021-07-08T07:01:07.050Z"
   },
   {
    "duration": 21,
    "start_time": "2021-07-08T07:01:07.065Z"
   },
   {
    "duration": 6,
    "start_time": "2021-07-08T07:01:07.088Z"
   },
   {
    "duration": 15,
    "start_time": "2021-07-08T07:01:07.096Z"
   },
   {
    "duration": 8,
    "start_time": "2021-07-08T07:01:07.113Z"
   },
   {
    "duration": 39,
    "start_time": "2021-07-08T07:01:07.124Z"
   },
   {
    "duration": 54,
    "start_time": "2021-07-08T07:01:07.166Z"
   },
   {
    "duration": 11,
    "start_time": "2021-07-08T07:01:07.223Z"
   },
   {
    "duration": 7,
    "start_time": "2021-07-08T07:01:07.236Z"
   },
   {
    "duration": 8,
    "start_time": "2021-07-08T07:01:07.246Z"
   },
   {
    "duration": 15,
    "start_time": "2021-07-08T07:01:07.256Z"
   },
   {
    "duration": 11,
    "start_time": "2021-07-08T07:01:07.274Z"
   },
   {
    "duration": 8,
    "start_time": "2021-07-08T07:01:07.288Z"
   },
   {
    "duration": 69,
    "start_time": "2021-07-08T07:01:07.299Z"
   },
   {
    "duration": 20,
    "start_time": "2021-07-08T07:01:07.371Z"
   },
   {
    "duration": 11,
    "start_time": "2021-07-08T07:01:07.394Z"
   },
   {
    "duration": 52,
    "start_time": "2021-07-08T07:01:07.408Z"
   },
   {
    "duration": 9,
    "start_time": "2021-07-08T07:01:07.467Z"
   },
   {
    "duration": 10,
    "start_time": "2021-07-08T07:01:07.480Z"
   },
   {
    "duration": 17,
    "start_time": "2021-07-08T07:01:07.492Z"
   },
   {
    "duration": 10,
    "start_time": "2021-07-08T07:01:07.511Z"
   },
   {
    "duration": 5,
    "start_time": "2021-07-08T07:01:07.556Z"
   },
   {
    "duration": 7,
    "start_time": "2021-07-08T07:01:07.564Z"
   },
   {
    "duration": 7,
    "start_time": "2021-07-08T07:01:07.573Z"
   },
   {
    "duration": 7,
    "start_time": "2021-07-08T07:01:07.583Z"
   },
   {
    "duration": 7,
    "start_time": "2021-07-08T07:01:07.593Z"
   },
   {
    "duration": 62,
    "start_time": "2021-07-08T07:01:07.602Z"
   },
   {
    "duration": 8,
    "start_time": "2021-07-08T07:01:07.667Z"
   },
   {
    "duration": 11,
    "start_time": "2021-07-08T07:01:07.677Z"
   },
   {
    "duration": 19,
    "start_time": "2021-07-08T07:01:07.690Z"
   },
   {
    "duration": 46,
    "start_time": "2021-07-08T07:01:07.712Z"
   },
   {
    "duration": 17,
    "start_time": "2021-07-08T07:01:07.761Z"
   },
   {
    "duration": 6,
    "start_time": "2021-07-08T07:01:07.781Z"
   },
   {
    "duration": 17,
    "start_time": "2021-07-08T07:01:07.790Z"
   },
   {
    "duration": 46,
    "start_time": "2021-07-08T07:01:07.809Z"
   },
   {
    "duration": 9,
    "start_time": "2021-07-08T07:01:07.858Z"
   },
   {
    "duration": 10,
    "start_time": "2021-07-08T07:01:07.869Z"
   },
   {
    "duration": 341,
    "start_time": "2021-07-08T07:01:07.881Z"
   },
   {
    "duration": 12,
    "start_time": "2021-07-08T07:01:08.224Z"
   },
   {
    "duration": 274,
    "start_time": "2021-07-08T07:01:08.238Z"
   },
   {
    "duration": 13,
    "start_time": "2021-07-08T07:01:08.515Z"
   },
   {
    "duration": 30,
    "start_time": "2021-07-08T07:01:08.530Z"
   },
   {
    "duration": 15,
    "start_time": "2021-07-08T07:01:08.562Z"
   },
   {
    "duration": 416,
    "start_time": "2021-07-08T07:01:08.579Z"
   },
   {
    "duration": 331,
    "start_time": "2021-07-08T07:01:08.997Z"
   },
   {
    "duration": 8,
    "start_time": "2021-07-08T07:01:09.331Z"
   },
   {
    "duration": 420,
    "start_time": "2021-07-08T07:01:09.342Z"
   },
   {
    "duration": 4,
    "start_time": "2021-07-08T07:01:09.765Z"
   },
   {
    "duration": 19,
    "start_time": "2021-07-08T07:01:09.772Z"
   },
   {
    "duration": 22,
    "start_time": "2021-07-08T07:01:09.793Z"
   },
   {
    "duration": 22,
    "start_time": "2021-07-08T07:01:09.817Z"
   },
   {
    "duration": 7,
    "start_time": "2021-07-08T07:01:09.842Z"
   },
   {
    "duration": 436,
    "start_time": "2021-07-08T07:01:09.851Z"
   },
   {
    "duration": 578,
    "start_time": "2021-07-08T07:01:10.293Z"
   },
   {
    "duration": 178,
    "start_time": "2021-07-08T07:01:10.874Z"
   },
   {
    "duration": 10,
    "start_time": "2021-07-08T07:01:11.054Z"
   },
   {
    "duration": 391,
    "start_time": "2021-07-08T07:01:11.067Z"
   },
   {
    "duration": 6,
    "start_time": "2021-07-08T07:01:11.460Z"
   },
   {
    "duration": 11,
    "start_time": "2021-07-08T07:01:11.469Z"
   },
   {
    "duration": 372,
    "start_time": "2021-07-08T07:01:11.483Z"
   },
   {
    "duration": 6,
    "start_time": "2021-07-08T07:01:11.858Z"
   },
   {
    "duration": 166,
    "start_time": "2021-07-08T07:01:11.866Z"
   },
   {
    "duration": 106,
    "start_time": "2021-07-08T07:01:12.035Z"
   },
   {
    "duration": 36,
    "start_time": "2021-07-08T07:01:12.143Z"
   },
   {
    "duration": 115,
    "start_time": "2021-07-08T07:01:12.181Z"
   },
   {
    "duration": 127,
    "start_time": "2021-07-08T07:01:12.299Z"
   },
   {
    "duration": 43,
    "start_time": "2021-07-08T07:01:12.428Z"
   },
   {
    "duration": 32,
    "start_time": "2021-07-08T07:01:12.473Z"
   },
   {
    "duration": 174,
    "start_time": "2021-07-08T07:01:12.508Z"
   },
   {
    "duration": 8,
    "start_time": "2021-07-08T07:01:12.684Z"
   },
   {
    "duration": 14,
    "start_time": "2021-07-08T07:01:54.192Z"
   },
   {
    "duration": 14,
    "start_time": "2021-07-08T07:02:46.011Z"
   },
   {
    "duration": 14,
    "start_time": "2021-07-08T07:03:18.403Z"
   },
   {
    "duration": 14,
    "start_time": "2021-07-08T07:04:52.586Z"
   },
   {
    "duration": 79,
    "start_time": "2021-07-08T07:05:14.452Z"
   },
   {
    "duration": 13,
    "start_time": "2021-07-08T07:05:45.483Z"
   },
   {
    "duration": 14,
    "start_time": "2021-07-08T07:06:34.965Z"
   },
   {
    "duration": 16,
    "start_time": "2021-07-08T07:06:59.942Z"
   },
   {
    "duration": 12,
    "start_time": "2021-07-08T07:07:10.056Z"
   },
   {
    "duration": 9,
    "start_time": "2021-07-08T07:07:46.383Z"
   },
   {
    "duration": 21,
    "start_time": "2021-07-08T07:14:29.501Z"
   },
   {
    "duration": 29,
    "start_time": "2021-07-08T07:15:11.733Z"
   },
   {
    "duration": 20,
    "start_time": "2021-07-08T07:15:24.386Z"
   },
   {
    "duration": 21,
    "start_time": "2021-07-08T07:15:43.525Z"
   },
   {
    "duration": 4,
    "start_time": "2021-07-08T07:33:55.572Z"
   },
   {
    "duration": 13,
    "start_time": "2021-07-08T07:33:55.578Z"
   },
   {
    "duration": 23,
    "start_time": "2021-07-08T07:33:55.594Z"
   },
   {
    "duration": 10,
    "start_time": "2021-07-08T07:33:55.619Z"
   },
   {
    "duration": 19,
    "start_time": "2021-07-08T07:33:55.632Z"
   },
   {
    "duration": 10,
    "start_time": "2021-07-08T07:33:55.653Z"
   },
   {
    "duration": 13,
    "start_time": "2021-07-08T07:33:55.665Z"
   },
   {
    "duration": 75,
    "start_time": "2021-07-08T07:33:55.682Z"
   },
   {
    "duration": 16,
    "start_time": "2021-07-08T07:33:55.761Z"
   },
   {
    "duration": 13,
    "start_time": "2021-07-08T07:33:55.780Z"
   },
   {
    "duration": 17,
    "start_time": "2021-07-08T07:33:55.795Z"
   },
   {
    "duration": 14,
    "start_time": "2021-07-08T07:33:55.815Z"
   },
   {
    "duration": 27,
    "start_time": "2021-07-08T07:33:55.832Z"
   },
   {
    "duration": 11,
    "start_time": "2021-07-08T07:33:55.862Z"
   },
   {
    "duration": 22,
    "start_time": "2021-07-08T07:33:55.876Z"
   },
   {
    "duration": 29,
    "start_time": "2021-07-08T07:33:55.900Z"
   },
   {
    "duration": 26,
    "start_time": "2021-07-08T07:33:55.931Z"
   },
   {
    "duration": 15,
    "start_time": "2021-07-08T07:33:55.959Z"
   },
   {
    "duration": 9,
    "start_time": "2021-07-08T07:33:55.977Z"
   },
   {
    "duration": 13,
    "start_time": "2021-07-08T07:33:55.989Z"
   },
   {
    "duration": 17,
    "start_time": "2021-07-08T07:33:56.005Z"
   },
   {
    "duration": 8,
    "start_time": "2021-07-08T07:33:56.056Z"
   },
   {
    "duration": 16,
    "start_time": "2021-07-08T07:33:56.069Z"
   },
   {
    "duration": 17,
    "start_time": "2021-07-08T07:33:56.089Z"
   },
   {
    "duration": 9,
    "start_time": "2021-07-08T07:33:56.108Z"
   },
   {
    "duration": 12,
    "start_time": "2021-07-08T07:33:56.119Z"
   },
   {
    "duration": 23,
    "start_time": "2021-07-08T07:33:56.133Z"
   },
   {
    "duration": 20,
    "start_time": "2021-07-08T07:33:56.159Z"
   },
   {
    "duration": 13,
    "start_time": "2021-07-08T07:33:56.181Z"
   },
   {
    "duration": 13,
    "start_time": "2021-07-08T07:33:56.196Z"
   },
   {
    "duration": 18,
    "start_time": "2021-07-08T07:33:56.211Z"
   },
   {
    "duration": 12,
    "start_time": "2021-07-08T07:33:56.231Z"
   },
   {
    "duration": 23,
    "start_time": "2021-07-08T07:33:56.245Z"
   },
   {
    "duration": 10,
    "start_time": "2021-07-08T07:33:56.271Z"
   },
   {
    "duration": 29,
    "start_time": "2021-07-08T07:33:56.284Z"
   },
   {
    "duration": 15,
    "start_time": "2021-07-08T07:33:56.315Z"
   },
   {
    "duration": 28,
    "start_time": "2021-07-08T07:33:56.333Z"
   },
   {
    "duration": 24,
    "start_time": "2021-07-08T07:33:56.364Z"
   },
   {
    "duration": 342,
    "start_time": "2021-07-08T07:33:56.390Z"
   },
   {
    "duration": 12,
    "start_time": "2021-07-08T07:33:56.734Z"
   },
   {
    "duration": 273,
    "start_time": "2021-07-08T07:33:56.755Z"
   },
   {
    "duration": 10,
    "start_time": "2021-07-08T07:33:57.030Z"
   },
   {
    "duration": 8,
    "start_time": "2021-07-08T07:33:57.055Z"
   },
   {
    "duration": 21,
    "start_time": "2021-07-08T07:33:57.065Z"
   },
   {
    "duration": 443,
    "start_time": "2021-07-08T07:33:57.088Z"
   },
   {
    "duration": 336,
    "start_time": "2021-07-08T07:33:57.533Z"
   },
   {
    "duration": 8,
    "start_time": "2021-07-08T07:33:57.872Z"
   },
   {
    "duration": 403,
    "start_time": "2021-07-08T07:33:57.883Z"
   },
   {
    "duration": 5,
    "start_time": "2021-07-08T07:33:58.288Z"
   },
   {
    "duration": 11,
    "start_time": "2021-07-08T07:33:58.296Z"
   },
   {
    "duration": 18,
    "start_time": "2021-07-08T07:33:58.309Z"
   },
   {
    "duration": 18,
    "start_time": "2021-07-08T07:33:58.329Z"
   },
   {
    "duration": 6,
    "start_time": "2021-07-08T07:33:58.355Z"
   },
   {
    "duration": 447,
    "start_time": "2021-07-08T07:33:58.363Z"
   },
   {
    "duration": 559,
    "start_time": "2021-07-08T07:33:58.812Z"
   },
   {
    "duration": 188,
    "start_time": "2021-07-08T07:33:59.374Z"
   },
   {
    "duration": 11,
    "start_time": "2021-07-08T07:33:59.564Z"
   },
   {
    "duration": 395,
    "start_time": "2021-07-08T07:33:59.578Z"
   },
   {
    "duration": 6,
    "start_time": "2021-07-08T07:33:59.975Z"
   },
   {
    "duration": 7,
    "start_time": "2021-07-08T07:33:59.984Z"
   },
   {
    "duration": 389,
    "start_time": "2021-07-08T07:33:59.993Z"
   },
   {
    "duration": 7,
    "start_time": "2021-07-08T07:34:00.384Z"
   },
   {
    "duration": 112,
    "start_time": "2021-07-08T07:34:00.393Z"
   },
   {
    "duration": 129,
    "start_time": "2021-07-08T07:34:00.508Z"
   },
   {
    "duration": 44,
    "start_time": "2021-07-08T07:34:00.639Z"
   },
   {
    "duration": 107,
    "start_time": "2021-07-08T07:34:00.686Z"
   },
   {
    "duration": 126,
    "start_time": "2021-07-08T07:34:00.795Z"
   },
   {
    "duration": 44,
    "start_time": "2021-07-08T07:34:00.928Z"
   },
   {
    "duration": 25,
    "start_time": "2021-07-08T07:34:00.974Z"
   },
   {
    "duration": 195,
    "start_time": "2021-07-08T07:34:01.002Z"
   },
   {
    "duration": 8,
    "start_time": "2021-07-08T07:34:01.199Z"
   },
   {
    "duration": 28,
    "start_time": "2021-07-08T07:34:01.210Z"
   },
   {
    "duration": 23,
    "start_time": "2021-07-08T07:34:01.241Z"
   },
   {
    "duration": 32,
    "start_time": "2021-07-08T07:34:01.267Z"
   },
   {
    "duration": 30,
    "start_time": "2021-07-08T07:34:01.302Z"
   },
   {
    "duration": 26,
    "start_time": "2021-07-08T07:34:01.335Z"
   },
   {
    "duration": 28,
    "start_time": "2021-07-08T07:34:01.364Z"
   },
   {
    "duration": 304,
    "start_time": "2021-10-12T20:56:00.063Z"
   },
   {
    "duration": 1206,
    "start_time": "2021-10-12T20:56:07.222Z"
   },
   {
    "duration": 3,
    "start_time": "2021-10-12T20:56:08.430Z"
   },
   {
    "duration": 20,
    "start_time": "2021-10-12T20:56:08.436Z"
   },
   {
    "duration": 6,
    "start_time": "2021-10-12T20:56:08.458Z"
   },
   {
    "duration": 15,
    "start_time": "2021-10-12T20:56:08.466Z"
   },
   {
    "duration": 5,
    "start_time": "2021-10-12T20:56:08.482Z"
   },
   {
    "duration": 6,
    "start_time": "2021-10-12T20:56:08.489Z"
   },
   {
    "duration": 42,
    "start_time": "2021-10-12T20:56:08.496Z"
   },
   {
    "duration": 10,
    "start_time": "2021-10-12T20:56:08.543Z"
   },
   {
    "duration": 5,
    "start_time": "2021-10-12T20:56:08.556Z"
   },
   {
    "duration": 9,
    "start_time": "2021-10-12T20:56:08.563Z"
   },
   {
    "duration": 11,
    "start_time": "2021-10-12T20:56:08.574Z"
   },
   {
    "duration": 6,
    "start_time": "2021-10-12T20:56:08.587Z"
   },
   {
    "duration": 9,
    "start_time": "2021-10-12T20:56:08.595Z"
   },
   {
    "duration": 47,
    "start_time": "2021-10-12T20:56:08.607Z"
   },
   {
    "duration": 18,
    "start_time": "2021-10-12T20:56:08.656Z"
   },
   {
    "duration": 9,
    "start_time": "2021-10-12T20:56:08.676Z"
   },
   {
    "duration": 11,
    "start_time": "2021-10-12T20:56:08.687Z"
   },
   {
    "duration": 8,
    "start_time": "2021-10-12T20:56:08.700Z"
   },
   {
    "duration": 8,
    "start_time": "2021-10-12T20:56:08.710Z"
   },
   {
    "duration": 13,
    "start_time": "2021-10-12T20:56:08.719Z"
   },
   {
    "duration": 7,
    "start_time": "2021-10-12T20:56:08.751Z"
   },
   {
    "duration": 10,
    "start_time": "2021-10-12T20:56:08.760Z"
   },
   {
    "duration": 9,
    "start_time": "2021-10-12T20:56:08.772Z"
   },
   {
    "duration": 5,
    "start_time": "2021-10-12T20:56:08.784Z"
   },
   {
    "duration": 10,
    "start_time": "2021-10-12T20:56:08.791Z"
   },
   {
    "duration": 10,
    "start_time": "2021-10-12T20:56:08.804Z"
   },
   {
    "duration": 34,
    "start_time": "2021-10-12T20:56:08.816Z"
   },
   {
    "duration": 8,
    "start_time": "2021-10-12T20:56:08.853Z"
   },
   {
    "duration": 10,
    "start_time": "2021-10-12T20:56:08.863Z"
   },
   {
    "duration": 12,
    "start_time": "2021-10-12T20:56:08.875Z"
   },
   {
    "duration": 8,
    "start_time": "2021-10-12T20:56:08.889Z"
   },
   {
    "duration": 13,
    "start_time": "2021-10-12T20:56:08.898Z"
   },
   {
    "duration": 5,
    "start_time": "2021-10-12T20:56:08.949Z"
   },
   {
    "duration": 14,
    "start_time": "2021-10-12T20:56:08.956Z"
   },
   {
    "duration": 11,
    "start_time": "2021-10-12T20:56:12.100Z"
   },
   {
    "duration": 374,
    "start_time": "2021-10-12T20:56:30.521Z"
   },
   {
    "duration": 486,
    "start_time": "2021-10-12T20:56:36.132Z"
   },
   {
    "duration": 31,
    "start_time": "2021-10-12T20:57:37.687Z"
   },
   {
    "duration": 30,
    "start_time": "2021-10-12T20:58:59.598Z"
   },
   {
    "duration": 18,
    "start_time": "2021-10-12T20:59:10.596Z"
   },
   {
    "duration": 17,
    "start_time": "2021-10-12T20:59:31.863Z"
   },
   {
    "duration": 17,
    "start_time": "2021-10-12T20:59:49.230Z"
   },
   {
    "duration": 23,
    "start_time": "2021-10-12T20:59:59.809Z"
   },
   {
    "duration": 10,
    "start_time": "2021-10-12T21:00:10.170Z"
   },
   {
    "duration": 10,
    "start_time": "2021-10-12T21:00:14.068Z"
   },
   {
    "duration": 16,
    "start_time": "2021-10-12T21:00:23.385Z"
   },
   {
    "duration": 4,
    "start_time": "2021-10-12T21:00:46.534Z"
   },
   {
    "duration": 4,
    "start_time": "2021-10-12T21:00:51.366Z"
   },
   {
    "duration": 10,
    "start_time": "2021-10-12T21:00:55.565Z"
   },
   {
    "duration": 19,
    "start_time": "2021-10-12T21:01:31.827Z"
   },
   {
    "duration": 19,
    "start_time": "2021-10-12T21:01:52.561Z"
   },
   {
    "duration": 19,
    "start_time": "2021-10-12T21:02:33.598Z"
   },
   {
    "duration": 4,
    "start_time": "2021-10-12T21:07:21.509Z"
   },
   {
    "duration": 6,
    "start_time": "2021-10-12T21:07:21.514Z"
   },
   {
    "duration": 19,
    "start_time": "2021-10-12T21:07:21.522Z"
   },
   {
    "duration": 7,
    "start_time": "2021-10-12T21:07:21.543Z"
   },
   {
    "duration": 11,
    "start_time": "2021-10-12T21:07:21.552Z"
   },
   {
    "duration": 6,
    "start_time": "2021-10-12T21:07:21.565Z"
   },
   {
    "duration": 7,
    "start_time": "2021-10-12T21:07:21.572Z"
   },
   {
    "duration": 41,
    "start_time": "2021-10-12T21:07:21.580Z"
   },
   {
    "duration": 8,
    "start_time": "2021-10-12T21:07:21.624Z"
   },
   {
    "duration": 5,
    "start_time": "2021-10-12T21:07:21.634Z"
   },
   {
    "duration": 16,
    "start_time": "2021-10-12T21:07:21.640Z"
   },
   {
    "duration": 13,
    "start_time": "2021-10-12T21:07:21.657Z"
   },
   {
    "duration": 9,
    "start_time": "2021-10-12T21:07:21.672Z"
   },
   {
    "duration": 9,
    "start_time": "2021-10-12T21:07:21.683Z"
   },
   {
    "duration": 17,
    "start_time": "2021-10-12T21:07:21.693Z"
   },
   {
    "duration": 22,
    "start_time": "2021-10-12T21:07:21.712Z"
   },
   {
    "duration": 17,
    "start_time": "2021-10-12T21:07:21.736Z"
   },
   {
    "duration": 12,
    "start_time": "2021-10-12T21:07:21.755Z"
   },
   {
    "duration": 13,
    "start_time": "2021-10-12T21:07:21.769Z"
   },
   {
    "duration": 9,
    "start_time": "2021-10-12T21:07:21.784Z"
   },
   {
    "duration": 15,
    "start_time": "2021-10-12T21:07:21.795Z"
   },
   {
    "duration": 8,
    "start_time": "2021-10-12T21:07:21.812Z"
   },
   {
    "duration": 12,
    "start_time": "2021-10-12T21:07:21.821Z"
   },
   {
    "duration": 11,
    "start_time": "2021-10-12T21:07:21.834Z"
   },
   {
    "duration": 9,
    "start_time": "2021-10-12T21:07:21.849Z"
   },
   {
    "duration": 12,
    "start_time": "2021-10-12T21:07:21.860Z"
   },
   {
    "duration": 4,
    "start_time": "2021-10-12T21:07:21.877Z"
   },
   {
    "duration": 16,
    "start_time": "2021-10-12T21:07:21.884Z"
   },
   {
    "duration": 8,
    "start_time": "2021-10-12T21:07:21.902Z"
   },
   {
    "duration": 10,
    "start_time": "2021-10-12T21:07:21.912Z"
   },
   {
    "duration": 16,
    "start_time": "2021-10-12T21:07:21.924Z"
   },
   {
    "duration": 7,
    "start_time": "2021-10-12T21:07:21.942Z"
   },
   {
    "duration": 13,
    "start_time": "2021-10-12T21:07:21.951Z"
   },
   {
    "duration": 8,
    "start_time": "2021-10-12T21:07:21.966Z"
   },
   {
    "duration": 15,
    "start_time": "2021-10-12T21:07:21.976Z"
   },
   {
    "duration": 16,
    "start_time": "2021-10-12T21:07:21.993Z"
   },
   {
    "duration": 7,
    "start_time": "2021-10-12T21:07:22.011Z"
   },
   {
    "duration": 34,
    "start_time": "2021-10-12T21:07:22.019Z"
   },
   {
    "duration": 207,
    "start_time": "2021-10-12T21:07:22.054Z"
   },
   {
    "duration": 8,
    "start_time": "2021-10-12T21:07:22.263Z"
   },
   {
    "duration": 163,
    "start_time": "2021-10-12T21:07:22.272Z"
   },
   {
    "duration": 13,
    "start_time": "2021-10-12T21:07:22.437Z"
   },
   {
    "duration": 7,
    "start_time": "2021-10-12T21:07:22.452Z"
   },
   {
    "duration": 11,
    "start_time": "2021-10-12T21:07:22.460Z"
   },
   {
    "duration": 282,
    "start_time": "2021-10-12T21:07:22.473Z"
   },
   {
    "duration": 215,
    "start_time": "2021-10-12T21:07:22.757Z"
   },
   {
    "duration": 6,
    "start_time": "2021-10-12T21:07:22.974Z"
   },
   {
    "duration": 433,
    "start_time": "2021-10-12T21:07:22.981Z"
   },
   {
    "duration": 4,
    "start_time": "2021-10-12T21:07:23.417Z"
   },
   {
    "duration": 6,
    "start_time": "2021-10-12T21:07:23.424Z"
   },
   {
    "duration": 20,
    "start_time": "2021-10-12T21:07:23.432Z"
   },
   {
    "duration": 15,
    "start_time": "2021-10-12T21:07:23.453Z"
   },
   {
    "duration": 12,
    "start_time": "2021-10-12T21:07:23.470Z"
   },
   {
    "duration": 277,
    "start_time": "2021-10-12T21:07:23.484Z"
   },
   {
    "duration": 376,
    "start_time": "2021-10-12T21:07:23.764Z"
   },
   {
    "duration": 133,
    "start_time": "2021-10-12T21:07:24.143Z"
   },
   {
    "duration": 9,
    "start_time": "2021-10-12T21:07:24.278Z"
   },
   {
    "duration": 296,
    "start_time": "2021-10-12T21:07:24.288Z"
   },
   {
    "duration": 6,
    "start_time": "2021-10-12T21:07:24.586Z"
   },
   {
    "duration": 4,
    "start_time": "2021-10-12T21:07:24.594Z"
   },
   {
    "duration": 271,
    "start_time": "2021-10-12T21:07:24.599Z"
   },
   {
    "duration": 5,
    "start_time": "2021-10-12T21:07:24.873Z"
   },
   {
    "duration": 69,
    "start_time": "2021-10-12T21:07:24.880Z"
   },
   {
    "duration": 65,
    "start_time": "2021-10-12T21:07:24.951Z"
   },
   {
    "duration": 30,
    "start_time": "2021-10-12T21:07:25.018Z"
   },
   {
    "duration": 64,
    "start_time": "2021-10-12T21:07:25.050Z"
   },
   {
    "duration": 90,
    "start_time": "2021-10-12T21:07:25.116Z"
   },
   {
    "duration": 27,
    "start_time": "2021-10-12T21:07:25.207Z"
   },
   {
    "duration": 20,
    "start_time": "2021-10-12T21:07:25.236Z"
   },
   {
    "duration": 110,
    "start_time": "2021-10-12T21:07:25.258Z"
   },
   {
    "duration": 6,
    "start_time": "2021-10-12T21:07:25.370Z"
   },
   {
    "duration": 13,
    "start_time": "2021-10-12T21:07:25.377Z"
   },
   {
    "duration": 9,
    "start_time": "2021-10-12T21:07:25.392Z"
   },
   {
    "duration": 9,
    "start_time": "2021-10-12T21:07:25.403Z"
   },
   {
    "duration": 35,
    "start_time": "2021-10-12T21:07:25.414Z"
   },
   {
    "duration": 8,
    "start_time": "2021-10-12T21:07:25.451Z"
   },
   {
    "duration": 17,
    "start_time": "2021-10-12T21:07:25.461Z"
   }
  ],
  "kernelspec": {
   "display_name": "Python 3",
   "language": "python",
   "name": "python3"
  },
  "language_info": {
   "codemirror_mode": {
    "name": "ipython",
    "version": 3
   },
   "file_extension": ".py",
   "mimetype": "text/x-python",
   "name": "python",
   "nbconvert_exporter": "python",
   "pygments_lexer": "ipython3",
   "version": "3.7.8"
  },
  "toc": {
   "base_numbering": 1,
   "nav_menu": {},
   "number_sections": true,
   "sideBar": true,
   "skip_h1_title": true,
   "title_cell": "Table of Contents",
   "title_sidebar": "Contents",
   "toc_cell": false,
   "toc_position": {},
   "toc_section_display": true,
   "toc_window_display": false
  }
 },
 "nbformat": 4,
 "nbformat_minor": 2
}
